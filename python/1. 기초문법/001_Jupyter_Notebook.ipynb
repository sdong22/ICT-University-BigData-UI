{
 "cells": [
  {
   "cell_type": "markdown",
   "metadata": {
    "id": "GNfxzZxytiqZ"
   },
   "source": [
    "# 1. 시작하며\n",
    "- 이것은\n",
    "- 마크다운"
   ]
  },
  {
   "cell_type": "code",
   "execution_count": 7,
   "metadata": {
    "id": "CWbHm8wOtiqf",
    "outputId": "fe123314-3247-4b3f-849d-97300a21933e"
   },
   "outputs": [
    {
     "name": "stdout",
     "output_type": "stream",
     "text": [
      "Hello World\n",
      "Welcome!!\n"
     ]
    },
    {
     "data": {
      "text/plain": [
       "10"
      ]
     },
     "execution_count": 7,
     "metadata": {},
     "output_type": "execute_result"
    }
   ],
   "source": [
    "# 프로그래밍을 시작하면서 Hello World를 출력해야합니다.\n",
    "print(\"Hello World\")\n",
    "print(\"Welcome!!\")\n",
    "\n",
    "a=10\n",
    "a"
   ]
  },
  {
   "cell_type": "code",
   "execution_count": null,
   "metadata": {},
   "outputs": [],
   "source": []
  },
  {
   "cell_type": "markdown",
   "metadata": {
    "id": "O6DFWmP7tiqg"
   },
   "source": [
    "# 2. Jupyter Notebook 익혀보기 "
   ]
  },
  {
   "cell_type": "markdown",
   "metadata": {
    "id": "apZtLIIitiqh"
   },
   "source": [
    "- jupyter notebook은 web browser(Chrome, firefox 등)에서 작동하는 파이썬을 interactive하게 다룰 수 있는 툴\n",
    "- cell로 구성되어 있으며, cell은 크게 글이나 그림을 적을 수 있는 **markdown cell**과 파이썬 코드를 적을 수 있는 **code cell**로 나누어져 있습니다."
   ]
  },
  {
   "cell_type": "markdown",
   "metadata": {
    "id": "hN825wLstiqh"
   },
   "source": [
    "## 2.1 Markdown 이란?"
   ]
  },
  {
   "cell_type": "markdown",
   "metadata": {
    "id": "06o464rStiqh"
   },
   "source": [
    "- 코드와 함께 문서화를 하실 수 있습니다.\n",
    "- 문서화를 할 수 있는 문법입니다."
   ]
  },
  {
   "cell_type": "markdown",
   "metadata": {
    "id": "xEpEfypBtiqi"
   },
   "source": [
    "## 2.2 Jupyter Notebook 단축키 "
   ]
  },
  {
   "cell_type": "markdown",
   "metadata": {
    "id": "Ie_XBI28tiqi"
   },
   "source": [
    "- <kbd>enter</kbd> : 편집상태로 변환 <녹색>\n",
    "\n",
    "\n",
    "- <kbd>esc</kbd> <파란색> \n",
    "\n",
    "\n",
    "- <kbd>m</kbd>: 현재 cell을 markdown cell로 바꿉니다.\n",
    "\n",
    "\n",
    "- <kbd>y</kbd> : 현재 cell을 code cell로 바꿉니다.\n",
    "\n",
    "\n",
    "- <kbd>Ctrl</kbd> + <kbd>Enter</kbd> : 셀이 실행되고 커서가 그 셀에 유지\n",
    "\n",
    "\n",
    "- <kbd>Shift</kbd> + <kbd>Enter</kbd> : 셀이 실행이 되고 커서가 다음셀로 이동\n",
    "\n",
    "\n",
    "- <kbd>Alt</kbd> + <kbd>Enter</kbd> : 셀이 실행되고 그 다음에 새로운 셀이 생성되면서 커서가 그 셀에 유지\n",
    "\n",
    "\n",
    "- <kbd>a</kbd> : 위에 셀 한 개 추가\n",
    "\n",
    "\n",
    "- <kbd>b</kbd> : 아래 셀 한 개 추가\n",
    "\n",
    "\n",
    "- <kbd>dd</kbd> : 셀 삭제\n",
    "\n",
    "\n",
    "- <kbd>m</kbd> : 셀을 마크다운 셀로 변환\n",
    "\n",
    "\n",
    "- <kbd>h</kbd> : 다양한 주피터 노트북의 단축키를 확인\n",
    "\n",
    "\n",
    "- <kbd>D</kbd>+<kbd>D</kbd>: 현재 cell을 삭제합니다.\n",
    "\n",
    "\n",
    "- <kbd>Shift</kbd>+<kbd>Arrow up/Arrow down</kbd>: 화살표를 통해 현재 cell을 포함한 여러 cell을 선택합니다.\n",
    "\n",
    "\n",
    "- <kbd>Shift</kbd>+<kbd>Tab</kbd>: [press these two buttons at the same time, once] 함수에 대한 설명이 나옵니다."
   ]
  },
  {
   "cell_type": "code",
   "execution_count": null,
   "metadata": {
    "id": "sQOGjvcztiqj"
   },
   "outputs": [],
   "source": []
  },
  {
   "cell_type": "code",
   "execution_count": 9,
   "metadata": {},
   "outputs": [
    {
     "name": "stdout",
     "output_type": "stream",
     "text": [
      "Hello World\n"
     ]
    }
   ],
   "source": [
    "print('Hello World')"
   ]
  },
  {
   "cell_type": "code",
   "execution_count": null,
   "metadata": {},
   "outputs": [],
   "source": [
    "a='hello'\n",
    "a."
   ]
  },
  {
   "cell_type": "markdown",
   "metadata": {
    "id": "auaOlsNXtiqj"
   },
   "source": [
    "## 2.3 기타 기능\n",
    "- View -> Toggle Line Numbers : 라인 넘버를 확인"
   ]
  },
  {
   "cell_type": "code",
   "execution_count": null,
   "metadata": {},
   "outputs": [],
   "source": [
    "\n",
    "\n",
    "\n",
    "\n",
    "\n",
    "\n"
   ]
  },
  {
   "cell_type": "markdown",
   "metadata": {
    "id": "hxVCCPV1tiqj"
   },
   "source": [
    "#  사이즈 \n",
    "\n",
    "## 조절은\n",
    "\n",
    "###  #으로\n",
    "\n",
    "#### 합니다."
   ]
  },
  {
   "cell_type": "markdown",
   "metadata": {
    "id": "S7aD9AQxtiqk"
   },
   "source": [
    "# 1. 제일 큰 글씨\n",
    "## 2. 두번째\n",
    "### 3. 세번째\n",
    "#### 4. 네번째\n",
    "\n",
    "보통글씨 **찐하게**는 이렇게\n"
   ]
  },
  {
   "cell_type": "markdown",
   "metadata": {
    "id": "NJYcaJ-Xtiqk"
   },
   "source": [
    "> 실습:\n",
    "- markdown cell을 하나 만들어, 좋아하는 문구 하나씩 작성해 봅니다.\n"
   ]
  },
  {
   "cell_type": "markdown",
   "metadata": {},
   "source": [
    "print함수에는 기본으로 end='\\n'이 디폴트되어 있지만 \\t,** 등으로 바꿔서 사용 가능\n"
   ]
  },
  {
   "cell_type": "code",
   "execution_count": 14,
   "metadata": {},
   "outputs": [
    {
     "name": "stdout",
     "output_type": "stream",
     "text": [
      "Hello**World\n",
      "Hello\tWorld\n"
     ]
    }
   ],
   "source": [
    "print('Hello',end='**')\n",
    "print('World')\n",
    "print('Hello',end='\\t')\n",
    "print('World')"
   ]
  }
 ],
 "metadata": {
  "colab": {
   "name": "001. Jupyter Notebook.ipynb",
   "provenance": []
  },
  "kernelspec": {
   "display_name": "Python 3",
   "language": "python",
   "name": "python3"
  },
  "language_info": {
   "codemirror_mode": {
    "name": "ipython",
    "version": 3
   },
   "file_extension": ".py",
   "mimetype": "text/x-python",
   "name": "python",
   "nbconvert_exporter": "python",
   "pygments_lexer": "ipython3",
   "version": "3.8.5"
  },
  "toc": {
   "base_numbering": 1,
   "nav_menu": {},
   "number_sections": false,
   "sideBar": true,
   "skip_h1_title": false,
   "title_cell": "Table of Contents",
   "title_sidebar": "Contents",
   "toc_cell": false,
   "toc_position": {
    "height": "calc(100% - 180px)",
    "left": "10px",
    "top": "150px",
    "width": "361px"
   },
   "toc_section_display": true,
   "toc_window_display": true
  }
 },
 "nbformat": 4,
 "nbformat_minor": 1
}
