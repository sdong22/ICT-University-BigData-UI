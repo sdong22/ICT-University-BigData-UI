{
 "cells": [
  {
   "cell_type": "markdown",
   "metadata": {
    "id": "1fV0_Opx2v9Z"
   },
   "source": [
    "# 1. 파이썬 기본용어"
   ]
  },
  {
   "cell_type": "markdown",
   "metadata": {
    "id": "B4EWRr8b2v9f"
   },
   "source": [
    "## 1.1 변수\n",
    "\n",
    "- 값이 변하는 수를 저장하는 그릇. 모든 프로그래밍 언어가 데이터를 다루기 위해 필요한 약속.\n",
    "\n",
    "\n",
    "- 프로그래밍 언어마다 조금씩 다르며, 어떤 프로그래밍 언어에 대해 배울 때 제일 먼저 익혀야 하는 필수 관문.\n",
    "\n",
    "\n",
    "- 프로그래밍 언어에서는 변수(Variable)에서 데이터를 저장/관리 하며 변수에 대한 개념을 통해 데이터를 사용할 수 있다.\n",
    "\n",
    "\n",
    "- 변수라는 그릇에 정수를 담을 수도 있고, 긴 글을 담을 수도 있고, file을 담을 수도 있다. 우리가 재사용 하기 쉽게 **별명**을 지어준 것.\n",
    "\n",
    "\n",
    "- 변수에 데이터를 저장할 때는 <kbd>=</kbd>를 사용한다."
   ]
  },
  {
   "cell_type": "markdown",
   "metadata": {
    "id": "iRhD8K-42v9g"
   },
   "source": [
    "case1. 변수의 이름 : 알파벳(대소문자), 한글도 가능(비추)"
   ]
  },
  {
   "cell_type": "code",
   "execution_count": 1,
   "metadata": {
    "id": "oRV0WlFW2v9g"
   },
   "outputs": [
    {
     "data": {
      "text/plain": [
       "1"
      ]
     },
     "execution_count": 1,
     "metadata": {},
     "output_type": "execute_result"
    }
   ],
   "source": [
    "a=1\n",
    "a"
   ]
  },
  {
   "cell_type": "code",
   "execution_count": 2,
   "metadata": {},
   "outputs": [
    {
     "data": {
      "text/plain": [
       "1"
      ]
     },
     "execution_count": 2,
     "metadata": {},
     "output_type": "execute_result"
    }
   ],
   "source": [
    "A=1\n",
    "A"
   ]
  },
  {
   "cell_type": "code",
   "execution_count": 3,
   "metadata": {},
   "outputs": [
    {
     "data": {
      "text/plain": [
       "2"
      ]
     },
     "execution_count": 3,
     "metadata": {},
     "output_type": "execute_result"
    }
   ],
   "source": [
    "변수1=2\n",
    "변수1"
   ]
  },
  {
   "cell_type": "markdown",
   "metadata": {
    "id": "ZdKi6sGV2v9h"
   },
   "source": [
    "case2. 알파벳 + 숫자 (가능)"
   ]
  },
  {
   "cell_type": "code",
   "execution_count": 4,
   "metadata": {},
   "outputs": [
    {
     "data": {
      "text/plain": [
       "1"
      ]
     },
     "execution_count": 4,
     "metadata": {},
     "output_type": "execute_result"
    }
   ],
   "source": [
    "a1=1\n",
    "a1"
   ]
  },
  {
   "cell_type": "markdown",
   "metadata": {
    "id": "M3W5KUVG2v9h"
   },
   "source": [
    "case3. 알파벳 + 언더바_(가능)"
   ]
  },
  {
   "cell_type": "code",
   "execution_count": 5,
   "metadata": {
    "id": "m-LQoR8O2v9i"
   },
   "outputs": [
    {
     "data": {
      "text/plain": [
       "1"
      ]
     },
     "execution_count": 5,
     "metadata": {},
     "output_type": "execute_result"
    }
   ],
   "source": [
    "a_=1\n",
    "a_"
   ]
  },
  {
   "cell_type": "markdown",
   "metadata": {
    "id": "4T4H0neK2v9i"
   },
   "source": [
    "case4. 언더바_ + 알파벳 (가능)  "
   ]
  },
  {
   "cell_type": "code",
   "execution_count": 6,
   "metadata": {
    "id": "2FsAqoAj2v9i"
   },
   "outputs": [
    {
     "data": {
      "text/plain": [
       "3"
      ]
     },
     "execution_count": 6,
     "metadata": {},
     "output_type": "execute_result"
    }
   ],
   "source": [
    "_for=3\n",
    "_for"
   ]
  },
  {
   "cell_type": "markdown",
   "metadata": {
    "id": "03NSLoWk2v9i"
   },
   "source": [
    "case5. 숫자 + 알파벳 (불가능)"
   ]
  },
  {
   "cell_type": "code",
   "execution_count": 7,
   "metadata": {},
   "outputs": [
    {
     "ename": "SyntaxError",
     "evalue": "invalid syntax (<ipython-input-7-50c17d435fd7>, line 1)",
     "output_type": "error",
     "traceback": [
      "\u001b[1;36m  File \u001b[1;32m\"<ipython-input-7-50c17d435fd7>\"\u001b[1;36m, line \u001b[1;32m1\u001b[0m\n\u001b[1;33m    2a=3\u001b[0m\n\u001b[1;37m     ^\u001b[0m\n\u001b[1;31mSyntaxError\u001b[0m\u001b[1;31m:\u001b[0m invalid syntax\n"
     ]
    }
   ],
   "source": [
    "2a=3\n",
    "2a"
   ]
  },
  {
   "cell_type": "markdown",
   "metadata": {
    "id": "DW9tZ5192v9j"
   },
   "source": [
    "case6. 언더바를 제외한 특수문자(불가능)"
   ]
  },
  {
   "cell_type": "code",
   "execution_count": 8,
   "metadata": {
    "id": "YrNMBz_J2v9j"
   },
   "outputs": [
    {
     "ename": "SyntaxError",
     "evalue": "invalid syntax (<ipython-input-8-a520b53a272d>, line 1)",
     "output_type": "error",
     "traceback": [
      "\u001b[1;36m  File \u001b[1;32m\"<ipython-input-8-a520b53a272d>\"\u001b[1;36m, line \u001b[1;32m1\u001b[0m\n\u001b[1;33m    a! =1\u001b[0m\n\u001b[1;37m     ^\u001b[0m\n\u001b[1;31mSyntaxError\u001b[0m\u001b[1;31m:\u001b[0m invalid syntax\n"
     ]
    }
   ],
   "source": [
    "a! =1\n",
    "a!"
   ]
  },
  {
   "cell_type": "markdown",
   "metadata": {
    "id": "ZHdlJPTj2v9j"
   },
   "source": [
    " case7. 변수 이름 사이에 공백 (불가능)"
   ]
  },
  {
   "cell_type": "code",
   "execution_count": 9,
   "metadata": {
    "id": "W2QgrgQI2v9j"
   },
   "outputs": [
    {
     "ename": "SyntaxError",
     "evalue": "invalid syntax (<ipython-input-9-9ae5f00b9e8f>, line 1)",
     "output_type": "error",
     "traceback": [
      "\u001b[1;36m  File \u001b[1;32m\"<ipython-input-9-9ae5f00b9e8f>\"\u001b[1;36m, line \u001b[1;32m1\u001b[0m\n\u001b[1;33m    a b =1\u001b[0m\n\u001b[1;37m      ^\u001b[0m\n\u001b[1;31mSyntaxError\u001b[0m\u001b[1;31m:\u001b[0m invalid syntax\n"
     ]
    }
   ],
   "source": [
    "a b =1\n",
    "a b"
   ]
  },
  {
   "cell_type": "code",
   "execution_count": 11,
   "metadata": {},
   "outputs": [
    {
     "data": {
      "text/plain": [
       "1"
      ]
     },
     "execution_count": 11,
     "metadata": {},
     "output_type": "execute_result"
    }
   ],
   "source": [
    "a, b = 1, 0\n",
    "a, b\n",
    "a"
   ]
  },
  {
   "cell_type": "markdown",
   "metadata": {
    "id": "3RfX3LwM2v9j"
   },
   "source": [
    "주로 변수는 **소문자 알파벳으로 생성**하고, 필요시에 숫자를 붙히는 방식이 일반적"
   ]
  },
  {
   "cell_type": "markdown",
   "metadata": {
    "id": "ZkL3W1G22v9k"
   },
   "source": [
    "#### 띄어쓰기 필요하면 언더바 or 대문자 사용\n",
    "- abc_def_ghi\n",
    "- abcDefGhi"
   ]
  },
  {
   "cell_type": "code",
   "execution_count": 13,
   "metadata": {},
   "outputs": [
    {
     "data": {
      "text/plain": [
       "2"
      ]
     },
     "execution_count": 13,
     "metadata": {},
     "output_type": "execute_result"
    }
   ],
   "source": [
    "S_dong=2\n",
    "S_dong"
   ]
  },
  {
   "cell_type": "markdown",
   "metadata": {
    "id": "61qhSGk52v9k"
   },
   "source": [
    "## 1.2 comment(주석)\n",
    "\n",
    "  - 코드에서 #으로 시작하는 뒷 부분은 실행되지 않음\n",
    "  \n",
    "  \n",
    "  - python이 소스코드를 실행하면서 #를 만나면 무시\n",
    "  \n",
    "  \n",
    "  - 개발자(사람)가 보기 위한 용도로 사용"
   ]
  },
  {
   "cell_type": "code",
   "execution_count": 20,
   "metadata": {
    "id": "awVPn8uY2v9k"
   },
   "outputs": [
    {
     "name": "stdout",
     "output_type": "stream",
     "text": [
      "110\n"
     ]
    }
   ],
   "source": [
    "# 간단한 계산기\n",
    "\n",
    "a=10\n",
    "b=100\n",
    "\n",
    "print(a+b)"
   ]
  },
  {
   "cell_type": "markdown",
   "metadata": {
    "id": "82scB7172v9l"
   },
   "source": [
    "## 1.3 indent(들여쓰기)\n",
    "- indent(들여쓰기)는 파이썬에서 굉장히 중요합니다. 단순히, 코드를 깔끔히 정리하기 위해서 들여쓰기를 하는 것은 아닙니다\n",
    "- 본인이 맞게 코드를 짰다고 한다면, indent는 자동으로 해줄 것입니다.\n",
    "- [tab]키를 한 번 누르면 indent가 1번 한 효과입니다."
   ]
  },
  {
   "cell_type": "code",
   "execution_count": 28,
   "metadata": {
    "id": "yBPL-2iN2v9l"
   },
   "outputs": [
    {
     "name": "stdout",
     "output_type": "stream",
     "text": [
      "숫자: 4\n",
      "4 은 짝수\n",
      "파이썬은 들여쓰기가 중요합니다\n"
     ]
    }
   ],
   "source": [
    "# 홀짝 프로그램\n",
    "num=int(input('숫자: '))\n",
    "if num%2==1 :\n",
    "    print(num,'은 홀수')\n",
    "else :\n",
    "    print(num,'은 짝수')\n",
    "\n",
    "print('파이썬은 들여쓰기가 중요합니다')"
   ]
  },
  {
   "cell_type": "markdown",
   "metadata": {
    "id": "9GW2WCla2v9l"
   },
   "source": [
    "## 1.4 input(), print()\n",
    "\n",
    "-  **input()** \n",
    "    - 사용자 입력값을 받을 수 있다. 입력 받는 값은 문자열(str)이다.\n",
    "    - 정수로 사용하고 싶다면 int()사용\n",
    "    - int(intput())\n",
    "    \n",
    "\n",
    "- **print()**\n",
    "    - 각종 자료를 출력해주는 함수\n",
    "    - print() 구문 사이에 값을 넣으면, 바로 값이 출력\n",
    "    - print() 구문 사이에 변수이름을 넣으면, 변수 값이 출력\n",
    "    - print() : 빈줄 출력\n",
    "    - sep=’ ‘,  end = ‘\\n’ 이 기본으로 설정되어 있다. "
   ]
  },
  {
   "cell_type": "code",
   "execution_count": 27,
   "metadata": {
    "id": "Uo4gu0LB2v9l"
   },
   "outputs": [
    {
     "name": "stdout",
     "output_type": "stream",
     "text": [
      "첫번째 숫자 :5\n",
      "두번째 숫자 :4\n",
      "9\n"
     ]
    }
   ],
   "source": [
    "a= int(input('첫번째 숫자 :'))\n",
    "b= int(input('두번째 숫자 :'))\n",
    "\n",
    "print(a+b)"
   ]
  },
  {
   "cell_type": "markdown",
   "metadata": {
    "id": "b3-tA0ED2v9l"
   },
   "source": [
    "# 2. Python Data types"
   ]
  },
  {
   "cell_type": "markdown",
   "metadata": {
    "id": "OO4oRxLm2v9m"
   },
   "source": [
    "## 2.1 Data Type이란?\n",
    "\n",
    "- 모든 프로그래밍 언어가 데이터를 다루기 위해 필요한 약속.\n",
    "\n",
    "\n",
    "- 프로그래밍 언어마다 조금씩 다르며, 어떤 프로그래밍 언어에 대해 배울 때 제일 먼저 익혀야 하는 필수 관문.\n",
    "\n",
    "\n",
    "- 프로그래밍 언어에서는 변수(Variable)에서 데이터를 저장/관리 하며 변수에 대한 개념을 통해 데이터를 사용할 수 있다.\n",
    "\n",
    "\n",
    "- type() 함수를 통해 데이터의 타입을 알수 있다."
   ]
  },
  {
   "cell_type": "code",
   "execution_count": 30,
   "metadata": {
    "id": "ME9CW7ob2v9m"
   },
   "outputs": [
    {
     "data": {
      "text/plain": [
       "int"
      ]
     },
     "execution_count": 30,
     "metadata": {},
     "output_type": "execute_result"
    }
   ],
   "source": [
    "a=1\n",
    "type(a)"
   ]
  },
  {
   "cell_type": "code",
   "execution_count": 33,
   "metadata": {},
   "outputs": [
    {
     "data": {
      "text/plain": [
       "str"
      ]
     },
     "execution_count": 33,
     "metadata": {},
     "output_type": "execute_result"
    }
   ],
   "source": [
    "b='Hello World'\n",
    "type(b)"
   ]
  },
  {
   "cell_type": "markdown",
   "metadata": {},
   "source": [
    "변수가 무슨 타입인지 알아보고 싶을 때는 **type(변수)** 해보기 /\n",
    "출력되는 건 아님"
   ]
  },
  {
   "cell_type": "markdown",
   "metadata": {
    "id": "G7FcSMcy2v9m"
   },
   "source": [
    "## 2.2 숫자 데이터 (Numeric Data Types)"
   ]
  },
  {
   "cell_type": "markdown",
   "metadata": {
    "id": "VBoCQec52v9m"
   },
   "source": [
    "* 숫자형 데이터란, 정수/실수/복소수/2진수/8진수/16진수를 포함하며 가장 많이 사용하는 데이터 타입중에 하나다.\n",
    "\n",
    "\n",
    "* 파이썬은 숫자의 표현 범위가 무한대이다.\n",
    "\n",
    "\n",
    "* 숫자 데이터는 우리가 알고 있는 대부분의 연산을 그대로 지원한다. 사칙연산, 나머지 구하기, 몫 구하기, 거듭제곱 등"
   ]
  },
  {
   "cell_type": "markdown",
   "metadata": {
    "id": "xomdl22O2v9m"
   },
   "source": [
    "### 2.2.1 정수형 (Int) "
   ]
  },
  {
   "cell_type": "code",
   "execution_count": 40,
   "metadata": {
    "id": "MKx5Ex9K2v9n"
   },
   "outputs": [
    {
     "name": "stdout",
     "output_type": "stream",
     "text": [
      "a는 참\n"
     ]
    }
   ],
   "source": [
    "a=4\n",
    "\n",
    "if a :\n",
    "    print('a는 참')\n",
    "else :\n",
    "    print('a는 거짓')"
   ]
  },
  {
   "cell_type": "markdown",
   "metadata": {},
   "source": [
    "1 -> True , 0 -> False / 나머지 숫자들도 다 참으로 인식"
   ]
  },
  {
   "cell_type": "markdown",
   "metadata": {
    "id": "xyqiONVP2v9n"
   },
   "source": [
    "### 2.2.2 실수형 (float)"
   ]
  },
  {
   "cell_type": "code",
   "execution_count": 44,
   "metadata": {
    "id": "Zd6bw0GH2v9n"
   },
   "outputs": [
    {
     "name": "stdout",
     "output_type": "stream",
     "text": [
      "원의 둘레:  62.800000000000004\n",
      "원의 넓이:  314.0\n"
     ]
    }
   ],
   "source": [
    "c=3.14\n",
    "r=10\n",
    "\n",
    "#원의 둘레 : 2파이r\n",
    "#원의 넓이 : 파이r제곱\n",
    "\n",
    "print('원의 둘레: ',2*c*r)\n",
    "print('원의 넓이: ',c*r*r)"
   ]
  },
  {
   "cell_type": "markdown",
   "metadata": {
    "id": "ABnvvZUI2v9n"
   },
   "source": [
    "## 2.3 불형(bool)\n",
    "- 참(True)이나 거짓(False)만 저장, 논리형이라고 한다."
   ]
  },
  {
   "cell_type": "code",
   "execution_count": 48,
   "metadata": {},
   "outputs": [
    {
     "data": {
      "text/plain": [
       "bool"
      ]
     },
     "execution_count": 48,
     "metadata": {},
     "output_type": "execute_result"
    }
   ],
   "source": [
    "a=True\n",
    "type(a)"
   ]
  },
  {
   "cell_type": "markdown",
   "metadata": {
    "id": "71VZLety2v9n"
   },
   "source": [
    "**연습문제1) 구구단 역순으로 출력하기**"
   ]
  },
  {
   "cell_type": "code",
   "execution_count": 53,
   "metadata": {},
   "outputs": [
    {
     "name": "stdout",
     "output_type": "stream",
     "text": [
      "2 단\n",
      "2 * 0 = 0\n",
      "2 * 1 = 2\n",
      "2 * 2 = 4\n",
      "2 * 3 = 6\n",
      "2 * 4 = 8\n",
      "2 * 5 = 10\n",
      "2 * 6 = 12\n",
      "2 * 7 = 14\n",
      "2 * 8 = 16\n",
      "2 * 9 = 18\n",
      "3 단\n",
      "3 * 0 = 0\n",
      "3 * 1 = 3\n",
      "3 * 2 = 6\n",
      "3 * 3 = 9\n",
      "3 * 4 = 12\n",
      "3 * 5 = 15\n",
      "3 * 6 = 18\n",
      "3 * 7 = 21\n",
      "3 * 8 = 24\n",
      "3 * 9 = 27\n",
      "4 단\n",
      "4 * 0 = 0\n",
      "4 * 1 = 4\n",
      "4 * 2 = 8\n",
      "4 * 3 = 12\n",
      "4 * 4 = 16\n",
      "4 * 5 = 20\n",
      "4 * 6 = 24\n",
      "4 * 7 = 28\n",
      "4 * 8 = 32\n",
      "4 * 9 = 36\n",
      "5 단\n",
      "5 * 0 = 0\n",
      "5 * 1 = 5\n",
      "5 * 2 = 10\n",
      "5 * 3 = 15\n",
      "5 * 4 = 20\n",
      "5 * 5 = 25\n",
      "5 * 6 = 30\n",
      "5 * 7 = 35\n",
      "5 * 8 = 40\n",
      "5 * 9 = 45\n",
      "6 단\n",
      "6 * 0 = 0\n",
      "6 * 1 = 6\n",
      "6 * 2 = 12\n",
      "6 * 3 = 18\n",
      "6 * 4 = 24\n",
      "6 * 5 = 30\n",
      "6 * 6 = 36\n",
      "6 * 7 = 42\n",
      "6 * 8 = 48\n",
      "6 * 9 = 54\n",
      "7 단\n",
      "7 * 0 = 0\n",
      "7 * 1 = 7\n",
      "7 * 2 = 14\n",
      "7 * 3 = 21\n",
      "7 * 4 = 28\n",
      "7 * 5 = 35\n",
      "7 * 6 = 42\n",
      "7 * 7 = 49\n",
      "7 * 8 = 56\n",
      "7 * 9 = 63\n",
      "8 단\n",
      "8 * 0 = 0\n",
      "8 * 1 = 8\n",
      "8 * 2 = 16\n",
      "8 * 3 = 24\n",
      "8 * 4 = 32\n",
      "8 * 5 = 40\n",
      "8 * 6 = 48\n",
      "8 * 7 = 56\n",
      "8 * 8 = 64\n",
      "8 * 9 = 72\n",
      "9 단\n",
      "9 * 0 = 0\n",
      "9 * 1 = 9\n",
      "9 * 2 = 18\n",
      "9 * 3 = 27\n",
      "9 * 4 = 36\n",
      "9 * 5 = 45\n",
      "9 * 6 = 54\n",
      "9 * 7 = 63\n",
      "9 * 8 = 72\n",
      "9 * 9 = 81\n"
     ]
    }
   ],
   "source": [
    "for i in range(2,10) :\n",
    "    print(i,'단')\n",
    "    for j in range(10) :\n",
    "        print(i,'*',j,'=',i*j)"
   ]
  },
  {
   "cell_type": "code",
   "execution_count": 56,
   "metadata": {},
   "outputs": [
    {
     "name": "stdout",
     "output_type": "stream",
     "text": [
      "9 단\n",
      "9 * 9 = 81\n",
      "9 * 8 = 72\n",
      "9 * 7 = 63\n",
      "9 * 6 = 54\n",
      "9 * 5 = 45\n",
      "9 * 4 = 36\n",
      "9 * 3 = 27\n",
      "9 * 2 = 18\n",
      "9 * 1 = 9\n",
      "8 단\n",
      "8 * 9 = 72\n",
      "8 * 8 = 64\n",
      "8 * 7 = 56\n",
      "8 * 6 = 48\n",
      "8 * 5 = 40\n",
      "8 * 4 = 32\n",
      "8 * 3 = 24\n",
      "8 * 2 = 16\n",
      "8 * 1 = 8\n",
      "7 단\n",
      "7 * 9 = 63\n",
      "7 * 8 = 56\n",
      "7 * 7 = 49\n",
      "7 * 6 = 42\n",
      "7 * 5 = 35\n",
      "7 * 4 = 28\n",
      "7 * 3 = 21\n",
      "7 * 2 = 14\n",
      "7 * 1 = 7\n",
      "6 단\n",
      "6 * 9 = 54\n",
      "6 * 8 = 48\n",
      "6 * 7 = 42\n",
      "6 * 6 = 36\n",
      "6 * 5 = 30\n",
      "6 * 4 = 24\n",
      "6 * 3 = 18\n",
      "6 * 2 = 12\n",
      "6 * 1 = 6\n",
      "5 단\n",
      "5 * 9 = 45\n",
      "5 * 8 = 40\n",
      "5 * 7 = 35\n",
      "5 * 6 = 30\n",
      "5 * 5 = 25\n",
      "5 * 4 = 20\n",
      "5 * 3 = 15\n",
      "5 * 2 = 10\n",
      "5 * 1 = 5\n",
      "4 단\n",
      "4 * 9 = 36\n",
      "4 * 8 = 32\n",
      "4 * 7 = 28\n",
      "4 * 6 = 24\n",
      "4 * 5 = 20\n",
      "4 * 4 = 16\n",
      "4 * 3 = 12\n",
      "4 * 2 = 8\n",
      "4 * 1 = 4\n",
      "3 단\n",
      "3 * 9 = 27\n",
      "3 * 8 = 24\n",
      "3 * 7 = 21\n",
      "3 * 6 = 18\n",
      "3 * 5 = 15\n",
      "3 * 4 = 12\n",
      "3 * 3 = 9\n",
      "3 * 2 = 6\n",
      "3 * 1 = 3\n",
      "2 단\n",
      "2 * 9 = 18\n",
      "2 * 8 = 16\n",
      "2 * 7 = 14\n",
      "2 * 6 = 12\n",
      "2 * 5 = 10\n",
      "2 * 4 = 8\n",
      "2 * 3 = 6\n",
      "2 * 2 = 4\n",
      "2 * 1 = 2\n"
     ]
    }
   ],
   "source": [
    "#구구단 \n",
    "for i in range(9,1,-1) :\n",
    "    print(i,'단')\n",
    "    for j in range(9,0,-1) :\n",
    "        print(i,'*',j,'=',i*j)"
   ]
  },
  {
   "cell_type": "markdown",
   "metadata": {
    "id": "NvFbN2uU2v9o"
   },
   "source": [
    "**연습문제 2) 연도를 입력받아서 윤년인지 아닌지를 구분하는 프로그램**\n",
    "- 4로 나누어 떨어지는 해는 윤년으로 한다. (1988년, 1992년, 1996년, 2004년, 2008년, 2012년, 2016년, 2020년, 2024년, 2028년, 2032년, 2036년, 2040년, 2044년 ...)\n",
    "- 4, 100 으로 나누어 떨어지는 해는 평년으로 한다. (1900년, 2100년, 2200년, 2300년, 2500년...)\n",
    "- 4, 100, 400 으로 나누어 떨어지는 해는 윤년으로 둔다. (2000년, 2400년...)\n",
    "출처: 위키백과"
   ]
  },
  {
   "cell_type": "code",
   "execution_count": 67,
   "metadata": {},
   "outputs": [
    {
     "name": "stdout",
     "output_type": "stream",
     "text": [
      "년도: 400\n",
      "400 년은 윤년입니다\n"
     ]
    }
   ],
   "source": [
    "#윤년 ver1\n",
    "y=int(input('년도: '))\n",
    "if y%4==0 :\n",
    "    if y%100==0 :\n",
    "        if y%400==0 :\n",
    "            print(y,'년은 윤년입니다')\n",
    "        else :\n",
    "            print(y,'년은 평년입니다')\n",
    "    else :\n",
    "        print(y,'년은 윤년입니다')\n",
    "else :\n",
    "    print(y,'년은 평년입니다')"
   ]
  },
  {
   "cell_type": "code",
   "execution_count": 69,
   "metadata": {},
   "outputs": [
    {
     "name": "stdout",
     "output_type": "stream",
     "text": [
      "년도: 400\n",
      "400 년은 윤년입니다\n"
     ]
    }
   ],
   "source": [
    "#윤년 ver2\n",
    "y=int(input('년도: '))\n",
    "if y%400==0 :\n",
    "    print(y,'년은 윤년입니다')\n",
    "else :\n",
    "    if y%100==0 :\n",
    "        print(y,'년은 평년입니다')\n",
    "    else:\n",
    "        if y%4==0 :\n",
    "            print(y,'년은 윤년입니다')\n",
    "        else :\n",
    "            print(y,'년은 평년입니다')"
   ]
  },
  {
   "cell_type": "code",
   "execution_count": 75,
   "metadata": {},
   "outputs": [
    {
     "name": "stdout",
     "output_type": "stream",
     "text": [
      "년도: 400\n",
      "400 윤년\n"
     ]
    }
   ],
   "source": [
    "y=int(input('년도: '))\n",
    "if y%400==0 :\n",
    "    print(y,'년은 윤년입니다')\n",
    "elif y%100==0 :\n",
    "    print(y,'년은 평년입니다')\n",
    "elif y%4==0 :\n",
    "    print(y,'년은 윤년입니다')\n",
    "else :\n",
    "    print(y,'년은 평년입니다')"
   ]
  },
  {
   "cell_type": "markdown",
   "metadata": {},
   "source": [
    "#### elif 는  else 안에 if가 있는 거"
   ]
  },
  {
   "cell_type": "code",
   "execution_count": 76,
   "metadata": {},
   "outputs": [
    {
     "name": "stdout",
     "output_type": "stream",
     "text": [
      "년도: 2021\n",
      "2021 년은 평년입니다\n"
     ]
    }
   ],
   "source": [
    "#윤년 ver3\n",
    "y=int(input('년도: '))\n",
    "if y%400==0 :\n",
    "    print(y,'년은 윤년입니다')\n",
    "elif y%100==0 :\n",
    "    print(y,'년은 평년입니다')\n",
    "elif y%4==0 :\n",
    "    print(y,'년은 윤년입니다')\n",
    "else :\n",
    "    print(y,'년은 평년입니다')"
   ]
  },
  {
   "cell_type": "markdown",
   "metadata": {
    "id": "4GSXImAT2v9o"
   },
   "source": [
    "## 2.4 문자열(str)"
   ]
  },
  {
   "cell_type": "markdown",
   "metadata": {
    "id": "3p9Fpb1F2v9o"
   },
   "source": [
    "* 문자열 데이터란, 문자(character)의 나열을 의미한다. e.g. \"Hello world\"\n",
    "\n",
    "\n",
    "* 파이썬에 다룰 수 있는 문자열의 크기도 제한이 없다.\n",
    "\n",
    "\n",
    "* 파이썬에선 <kbd>'</kbd>와 <kbd>\"</kbd> 두 가지의 기호를 통해 문자열을 나타낸다. 즉 ' 부터 ' 까지 또는 \" 부터 \" 까지 하나의 문자열이다.\n",
    "e.g. 'Hello', \"World\"\n"
   ]
  },
  {
   "cell_type": "markdown",
   "metadata": {
    "id": "u-NvhpoW2v9o"
   },
   "source": [
    "### 2.4.1 문자열을 만드는 여러가지 방법"
   ]
  },
  {
   "cell_type": "markdown",
   "metadata": {
    "id": "IRgxe4d_2v9o"
   },
   "source": [
    "### 2.4.2 특수 문자 표현 (escape code) 익히기 \n",
    "- \\n, \\t, \\\", \\', \\b, \\\\"
   ]
  },
  {
   "cell_type": "markdown",
   "metadata": {},
   "source": [
    "파이썬뿐만 아니라 모든 언어에 해당"
   ]
  },
  {
   "cell_type": "code",
   "execution_count": 78,
   "metadata": {
    "id": "WASPPn2S2v9p"
   },
   "outputs": [
    {
     "name": "stdout",
     "output_type": "stream",
     "text": [
      "동해물과 백두산이 마르고\n",
      "닳도록 하느님이 보우하사\t우리나라 만세 무궁화 삼천리 화려강산 대한사람\b대한으로 길이 보전하세\n"
     ]
    }
   ],
   "source": [
    "print('동해물과 백두산이 마르고\\n닳도록 하느님이 보우하사\\t우리나라 만세 무궁화 삼천리 화려강산 대한사람\\b대한으로 길이 보전하세')"
   ]
  },
  {
   "cell_type": "code",
   "execution_count": 81,
   "metadata": {},
   "outputs": [
    {
     "name": "stdout",
     "output_type": "stream",
     "text": [
      "동해물과 백두산이 마르고 닳도록 \n",
      "      하느님이 보우하사 우리나라 만세 \n",
      "      무궁화 삼천리 화려강산 대한사람 대한으로 길이 보전하세\n"
     ]
    }
   ],
   "source": [
    "print('동해물과 백두산이 마르고 닳도록 \n",
    "      하느님이 보우하사 우리나라 만세 \n",
    "      무궁화 삼천리 화려강산 대한사람 대한으로 길이 보전하세')"
   ]
  },
  {
   "cell_type": "code",
   "execution_count": 82,
   "metadata": {},
   "outputs": [
    {
     "name": "stdout",
     "output_type": "stream",
     "text": [
      "I'm a boy\n",
      "\"Python is very easy\" he says.\n"
     ]
    }
   ],
   "source": [
    "s1 = \"I'm a boy\"\n",
    "s2 = '\"Python is very easy\" he says.'\n",
    "\n",
    "print(s1)\n",
    "print(s2)"
   ]
  },
  {
   "cell_type": "markdown",
   "metadata": {},
   "source": [
    "\" 출력하고 싶으면 '로 문장 싸고, ' 출력하고 싶으면 \"로 문장 싸기"
   ]
  },
  {
   "cell_type": "markdown",
   "metadata": {
    "id": "aNpLHYwG2v9p"
   },
   "source": [
    "### 2.4.3 문자열 연산하기 \n",
    "- 문자열 연결 연산자 : +\n",
    "- 문자열 반복 연산자 : *\n",
    "- **문자열 선택 연산자(인덱싱) : [ ]**\n",
    "\n",
    "\n",
    "| H | e | l | l | o |   | W | o | r | l | d |\n",
    "| ---- | ---- | ---- | ---- | ---- | ---- | ---- | ---- |---- | ---- | ---- |\n",
    "|  [0] |  [1] |  [2] |  [3] |  [4] |  [5] |  [6] |  [7] | [8] |  [9] | [10] |\n",
    "|  [-11] |  [-10] |  [-9] |  [-8] |  [-7] |  [-6] |  [-5] |  [-4] | [-3] |  [-2] | [-1] |"
   ]
  },
  {
   "cell_type": "code",
   "execution_count": 5,
   "metadata": {},
   "outputs": [
    {
     "data": {
      "text/plain": [
       "'hello hello hello '"
      ]
     },
     "execution_count": 5,
     "metadata": {},
     "output_type": "execute_result"
    }
   ],
   "source": [
    "s1 = 'hello'\n",
    "s2 = 'world'\n",
    "\n",
    "s1+' '+s2  #가운데 띄기\n",
    "\n",
    "(s1+' ')*3  #연속 세번 반복"
   ]
  },
  {
   "cell_type": "code",
   "execution_count": 3,
   "metadata": {},
   "outputs": [
    {
     "data": {
      "text/plain": [
       "'Welcome to Korea'"
      ]
     },
     "execution_count": 3,
     "metadata": {},
     "output_type": "execute_result"
    }
   ],
   "source": [
    "s1 = 'Welcome'\n",
    "s2 = 'to'\n",
    "s3 = 'Korea'\n",
    "s1+' '+s2+' '+s3"
   ]
  },
  {
   "cell_type": "code",
   "execution_count": 8,
   "metadata": {},
   "outputs": [
    {
     "data": {
      "text/plain": [
       "'d'"
      ]
     },
     "execution_count": 8,
     "metadata": {},
     "output_type": "execute_result"
    }
   ],
   "source": [
    "s3 = 'Hello World'\n",
    "s3[7]      #몇번째 문자인지\n",
    "len(s3)    #문자열 길이 \n",
    "s3[len(s3)-1]  #끝값구하기"
   ]
  },
  {
   "cell_type": "code",
   "execution_count": 9,
   "metadata": {},
   "outputs": [
    {
     "data": {
      "text/plain": [
       "'H'"
      ]
     },
     "execution_count": 9,
     "metadata": {},
     "output_type": "execute_result"
    }
   ],
   "source": [
    "s3[-1]\n",
    "s3[-5]\n",
    "s3[-len(s3)]"
   ]
  },
  {
   "cell_type": "markdown",
   "metadata": {},
   "source": [
    "**연습문제2) 문자열을 입력 받아서 거꾸로 출력하는 프로그램**"
   ]
  },
  {
   "cell_type": "code",
   "execution_count": 106,
   "metadata": {},
   "outputs": [
    {
     "name": "stdout",
     "output_type": "stream",
     "text": [
      "dlroW olleH"
     ]
    }
   ],
   "source": [
    "a='Hello World'\n",
    "b=len(a)\n",
    "\n",
    "for i in range(-1,-(b+1),-1) :   #다시보기***\n",
    "    print(a[i],end='')"
   ]
  },
  {
   "cell_type": "code",
   "execution_count": 1,
   "metadata": {},
   "outputs": [
    {
     "name": "stdout",
     "output_type": "stream",
     "text": [
      "dlroW olleH\n"
     ]
    }
   ],
   "source": [
    "a='Hello World'\n",
    "\n",
    "print(a[::-1])"
   ]
  },
  {
   "cell_type": "code",
   "execution_count": 11,
   "metadata": {},
   "outputs": [
    {
     "name": "stdout",
     "output_type": "stream",
     "text": [
      "dlroW olleH"
     ]
    }
   ],
   "source": [
    "for i in range(len(a)-1,-1,-1) :\n",
    "    print(a[i],end='')"
   ]
  },
  {
   "cell_type": "code",
   "execution_count": 17,
   "metadata": {},
   "outputs": [
    {
     "name": "stdout",
     "output_type": "stream",
     "text": [
      "Hello\n",
      "lo W\n",
      "o Wor\n",
      "lo World\n",
      "Hel\n"
     ]
    }
   ],
   "source": [
    "print(a[0:5])  #끝값 출력X\n",
    "print(a[3:7])\n",
    "print(a[4:9])\n",
    "print(a[3:])\n",
    "print(a[:3])"
   ]
  },
  {
   "cell_type": "markdown",
   "metadata": {
    "id": "cNjG51_A2v9p"
   },
   "source": [
    "### 2.4.4 문자열 숫자로 바꾸기\n",
    "- 문자열 -> 숫자형으로 변환해야 하는 경우는 많다. 캐스트(cast) 라고 한다.\n",
    "- type() : 자료형을 알아보는 함수\n",
    "- int(문자열) : 문자열 -> int\n",
    "- float(문자열) : 문자열 -> float"
   ]
  },
  {
   "cell_type": "code",
   "execution_count": 26,
   "metadata": {},
   "outputs": [
    {
     "name": "stdout",
     "output_type": "stream",
     "text": [
      "3.143.143.143.143.143.143.143.143.143.143.143.143.143.143.143.143.143.143.143.14\n",
      "62.800000000000004\n"
     ]
    }
   ],
   "source": [
    "a = 'hello'\n",
    "b = '10'\n",
    "c = '3.14'\n",
    "\n",
    "type(c)\n",
    "b*3\n",
    "\n",
    "int_b = int(b)\n",
    "type(int_b)\n",
    "\n",
    "float_c = float(c)\n",
    "print(2*c*10)\n",
    "print(2*float_c*10)\n",
    "\n",
    "#int_a=inr(a)   >> 출력 X"
   ]
  },
  {
   "cell_type": "markdown",
   "metadata": {
    "id": "yy6EwurD2v9p"
   },
   "source": [
    "### 2.4.5 문자열 Formatting "
   ]
  },
  {
   "cell_type": "markdown",
   "metadata": {
    "id": "bxYdN7nO2v9p"
   },
   "source": [
    "- 문자열을 출력할 때(print 함수를 이용하여) 특정 format을 지정하고 싶은 경우에는 어떻게 해야할까?\n",
    "\n",
    "e.g. OOO님의 주민등록번호는 XXXXXXX-XXXXXXX입니다."
   ]
  },
  {
   "cell_type": "markdown",
   "metadata": {
    "id": "UwIkuCk_2v9q"
   },
   "source": [
    "- 문자열 포맷에는 크게 3가지가 있다. (기호에 맞게 사용하면 됩니다)\n",
    "\n",
    "\n",
    "1) print format 사용( %s : 문자열, %d : 십진수)\n",
    "\n",
    "> print(\"%s는 %d개 있다.\" % (\"사과\", 4))\n",
    "\n",
    "2) str.format 함수 사용\n",
    "\n",
    "> print(\"{}는 {}개 있다.\".format(\"사과\", 4))\n",
    "\n",
    "3) f-string (**)\n",
    "\n",
    "> apple = \"사과\", count = 4\n",
    "\n",
    "> print(f\"{apple}는 {count}개 있다.\")"
   ]
  },
  {
   "cell_type": "code",
   "execution_count": 9,
   "metadata": {},
   "outputs": [
    {
     "name": "stdout",
     "output_type": "stream",
     "text": [
      "사과는 4개 있다.\n"
     ]
    }
   ],
   "source": [
    "print('{}는 {}개 있다.'.format('사과',4))"
   ]
  },
  {
   "cell_type": "code",
   "execution_count": 10,
   "metadata": {},
   "outputs": [
    {
     "name": "stdout",
     "output_type": "stream",
     "text": [
      "사과는 4개 있다.\n"
     ]
    }
   ],
   "source": [
    "print('%s는 %d개 있다.'%('사과',4))"
   ]
  },
  {
   "cell_type": "code",
   "execution_count": 17,
   "metadata": {},
   "outputs": [
    {
     "name": "stdout",
     "output_type": "stream",
     "text": [
      "사과는 4개 있다.\n",
      "사과는 4개 있다.\n"
     ]
    }
   ],
   "source": [
    "apple = '사과'\n",
    "count = 4\n",
    "\n",
    "print(\"%s는 %d개 있다.\"%(apple, count))\n",
    "\n",
    "print('{}는 {}개 있다.'.format(apple, count))"
   ]
  },
  {
   "cell_type": "code",
   "execution_count": 33,
   "metadata": {},
   "outputs": [
    {
     "name": "stdout",
     "output_type": "stream",
     "text": [
      "원숭이 엉덩이는 빨개\n"
     ]
    }
   ],
   "source": [
    "print('%s %s는 %s'%('원숭이', '엉덩이', '빨개'))"
   ]
  },
  {
   "cell_type": "code",
   "execution_count": null,
   "metadata": {},
   "outputs": [],
   "source": [
    "print('{} {}는 {}'.format('원숭이', '엉덩이', '빨개'))"
   ]
  },
  {
   "cell_type": "code",
   "execution_count": 16,
   "metadata": {},
   "outputs": [
    {
     "ename": "SyntaxError",
     "evalue": "cannot assign to literal (<ipython-input-16-805b815856de>, line 1)",
     "output_type": "error",
     "traceback": [
      "\u001b[1;36m  File \u001b[1;32m\"<ipython-input-16-805b815856de>\"\u001b[1;36m, line \u001b[1;32m1\u001b[0m\n\u001b[1;33m    a= '원숭이', b = '엉덩이', c ='빨개'\u001b[0m\n\u001b[1;37m       ^\u001b[0m\n\u001b[1;31mSyntaxError\u001b[0m\u001b[1;31m:\u001b[0m cannot assign to literal\n"
     ]
    }
   ],
   "source": [
    "a= '원숭이', b = '엉덩이', c ='빨개'\n",
    "print(f'{a} {b}는 {c}')"
   ]
  },
  {
   "cell_type": "markdown",
   "metadata": {
    "id": "U0sdXS4-2v9q"
   },
   "source": [
    "**연습문제3) 개인정보를 사용자로부터 입력받아, 주민등록등본을 출력해주는 키오스크(Kiosk)용 프로그램을 제작하려고 한다. 입력받은 이름을 name이라는 변수에, 주민번호 앞자리를 id라는 변수에 입력받았다면, 주민등록등본에 어떻게 출력해야 할까?**"
   ]
  },
  {
   "cell_type": "code",
   "execution_count": 5,
   "metadata": {},
   "outputs": [
    {
     "name": "stdout",
     "output_type": "stream",
     "text": [
      "이름 : Andy\n",
      "주민번호 앞자리 : 2\n",
      "이름 : Andy, 주민번호 : 2*******\n"
     ]
    }
   ],
   "source": [
    "name = input('이름 : ')\n",
    "id = input('주민번호 앞자리 : ')\n",
    "\n",
    "print('이름 : {}, 주민번호 : {}******'.format(name, id))"
   ]
  },
  {
   "cell_type": "markdown",
   "metadata": {
    "id": "LCNZ3vgN2v9q"
   },
   "source": [
    "### 2.4.6 문자열 관련 함수들  "
   ]
  },
  {
   "cell_type": "markdown",
   "metadata": {
    "id": "8l2AgLbz2v9q"
   },
   "source": [
    "#### (영어) 대소문자 바꾸기 upper(), lower()"
   ]
  },
  {
   "cell_type": "code",
   "execution_count": 7,
   "metadata": {
    "id": "KTwzfGrb2v9r"
   },
   "outputs": [
    {
     "data": {
      "text/plain": [
       "'HI'"
      ]
     },
     "execution_count": 7,
     "metadata": {},
     "output_type": "execute_result"
    }
   ],
   "source": [
    "s = 'hi'\n",
    "s.upper()"
   ]
  },
  {
   "cell_type": "code",
   "execution_count": 8,
   "metadata": {},
   "outputs": [
    {
     "data": {
      "text/plain": [
       "'hi'"
      ]
     },
     "execution_count": 8,
     "metadata": {},
     "output_type": "execute_result"
    }
   ],
   "source": [
    "s= 'HI'\n",
    "s.lower()"
   ]
  },
  {
   "cell_type": "markdown",
   "metadata": {
    "id": "HhfFyu_e2v9q"
   },
   "source": [
    "#### 문자 공백 지우기 strip() "
   ]
  },
  {
   "cell_type": "code",
   "execution_count": 13,
   "metadata": {},
   "outputs": [
    {
     "data": {
      "text/plain": [
       "'hi'"
      ]
     },
     "execution_count": 13,
     "metadata": {},
     "output_type": "execute_result"
    }
   ],
   "source": [
    "s = '    hi       '\n",
    "s.strip()"
   ]
  },
  {
   "cell_type": "markdown",
   "metadata": {
    "id": "Fk-wdNvP2v9r"
   },
   "source": [
    "#### 문자열 삽입 join()"
   ]
  },
  {
   "cell_type": "code",
   "execution_count": 17,
   "metadata": {
    "id": "zbXi-4632v9r"
   },
   "outputs": [
    {
     "name": "stdout",
     "output_type": "stream",
     "text": [
      "a**b**c**d\n",
      "ab**cd**ef\n",
      "ab\n",
      "cd\n",
      "ef\n"
     ]
    }
   ],
   "source": [
    "s = '**'\n",
    "print(s.join('abcd'))\n",
    "print(s.join(['ab','cd','ef']))\n",
    "print('\\n'.join(['ab','cd','ef']))"
   ]
  },
  {
   "cell_type": "markdown",
   "metadata": {
    "id": "uGZjzO_82v9r"
   },
   "source": [
    "#### 문자열  나누기 split()"
   ]
  },
  {
   "cell_type": "code",
   "execution_count": 18,
   "metadata": {
    "id": "ypX9r7-o2v9r"
   },
   "outputs": [
    {
     "data": {
      "text/plain": [
       "['Life', 'is', 'too', 'short']"
      ]
     },
     "execution_count": 18,
     "metadata": {},
     "output_type": "execute_result"
    }
   ],
   "source": [
    "s = 'Life is too short'\n",
    "s.split()"
   ]
  },
  {
   "cell_type": "code",
   "execution_count": 8,
   "metadata": {},
   "outputs": [
    {
     "name": "stdout",
     "output_type": "stream",
     "text": [
      "삼성전자/애플/샤오미\n",
      "['삼성전자', '애플', '샤오미']\n",
      "삼성전자 % 애플 % 샤오미\n"
     ]
    }
   ],
   "source": [
    "s1 = '삼성전자/애플/샤오미'\n",
    "print(s1)\n",
    "\n",
    "s2 = s1.split('/')\n",
    "\n",
    "print(s2)\n",
    "\n",
    "s3 = ' % '.join(s2)\n",
    "print(s3)"
   ]
  },
  {
   "cell_type": "markdown",
   "metadata": {
    "id": "PqhWTPsf2v9r"
   },
   "source": [
    "#### 문자열 바꾸기 replace() "
   ]
  },
  {
   "cell_type": "code",
   "execution_count": 26,
   "metadata": {
    "id": "SvMJDfkF2v9s"
   },
   "outputs": [
    {
     "data": {
      "text/plain": [
       "'This pencil is too short'"
      ]
     },
     "execution_count": 26,
     "metadata": {},
     "output_type": "execute_result"
    }
   ],
   "source": [
    "s = 'Life is too short'\n",
    "s.replace('Life','This pencil')"
   ]
  },
  {
   "cell_type": "markdown",
   "metadata": {
    "id": "KVW1hvm62v9s"
   },
   "source": [
    "#### format() 함수의 다양한 기능"
   ]
  },
  {
   "cell_type": "code",
   "execution_count": 27,
   "metadata": {
    "id": "q0HVhZTO2v9s"
   },
   "outputs": [
    {
     "name": "stdout",
     "output_type": "stream",
     "text": [
      "52\n"
     ]
    }
   ],
   "source": [
    "#a = '{} * {} = {}'.format(2,2,2*2)\n",
    "#print(a)\n",
    "\n",
    "b= '{:d}'.format(52)\n",
    "print(b)"
   ]
  },
  {
   "cell_type": "code",
   "execution_count": 29,
   "metadata": {},
   "outputs": [
    {
     "name": "stdout",
     "output_type": "stream",
     "text": [
      "   52\n",
      "        52\n",
      "00052\n",
      "-0052\n"
     ]
    }
   ],
   "source": [
    "#특정 칸에 출력  > 5칸 확보 후 52 출력 : ^^^52\n",
    "b= '{:5d}'.format(52)\n",
    "print(b)\n",
    "\n",
    "b = '{:10d}'.format(52)\n",
    "print(b)\n",
    "\n",
    "#빈칸을 0으로 채우기\n",
    "b = '{:05d}'.format(52)\n",
    "print(b)\n",
    "\n",
    "b = '{:05d}'.format(-52)\n",
    "print(b)"
   ]
  },
  {
   "cell_type": "code",
   "execution_count": 36,
   "metadata": {},
   "outputs": [
    {
     "name": "stdout",
     "output_type": "stream",
     "text": [
      "52\n",
      "+52\n",
      "-52\n",
      " 52\n",
      "-52\n"
     ]
    }
   ],
   "source": [
    "#부호\n",
    "\n",
    "d = '{:d}'.format(52)\n",
    "print(d)\n",
    "\n",
    "d = '{:+d}'.format(52)       # >> + 는 부호를 달겠다는 의미 (자리 확보해주면서)\n",
    "print(d) \n",
    "\n",
    "d = '{:+d}'.format(-52)\n",
    "print(d)\n",
    "\n",
    "d = '{: d}'.format(52)\n",
    "print(d)\n",
    "\n",
    "d = '{: d}'.format(-52)\n",
    "print(d)"
   ]
  },
  {
   "cell_type": "code",
   "execution_count": 46,
   "metadata": {},
   "outputs": [
    {
     "name": "stdout",
     "output_type": "stream",
     "text": [
      "52\n",
      "  +52\n",
      "  -52\n",
      "+  52\n",
      "-  52\n",
      "+0052\n",
      "-0052\n"
     ]
    }
   ],
   "source": [
    "#조합하기\n",
    "\n",
    "b = '{:d}'.format(52)\n",
    "print(b)\n",
    "\n",
    "# 부호를 뒤로 밀기\n",
    "b = '{:+5d}'.format(52)\n",
    "print(b)\n",
    "\n",
    "b = '{:+5d}'.format(-52)\n",
    "print(b)\n",
    "\n",
    "#부호를 앞으로 밀기\n",
    "b = '{:=+5d}'.format(52)\n",
    "print(b)\n",
    "\n",
    "b = '{:=+5d}'.format(-52)\n",
    "print(b)\n",
    "\n",
    "#빈칸 0으로 채우기\n",
    "b = '{:+05d}'.format(52)\n",
    "print(b)\n",
    "\n",
    "b = '{:+05d}'.format(-52)\n",
    "print(b)"
   ]
  },
  {
   "cell_type": "code",
   "execution_count": 50,
   "metadata": {},
   "outputs": [
    {
     "name": "stdout",
     "output_type": "stream",
     "text": [
      "52.334000\n",
      "      52.334000\n",
      "     +52.334000\n",
      "+0000052.334000\n"
     ]
    }
   ],
   "source": [
    "#실수\n",
    "a = '{:f}'.format(52.334)\n",
    "print(a)\n",
    "\n",
    "a = '{: 15f}'.format(52.334)\n",
    "print(a)\n",
    "\n",
    "a = '{:+15f}'.format(52.334)\n",
    "print(a)\n",
    "\n",
    "a = '{:+015f}'.format(52.334)\n",
    "print(a)"
   ]
  },
  {
   "cell_type": "code",
   "execution_count": 52,
   "metadata": {},
   "outputs": [
    {
     "name": "stdout",
     "output_type": "stream",
     "text": [
      "        +52.337\n",
      "         +52.34\n",
      "          +52.3\n"
     ]
    }
   ],
   "source": [
    "a = '{:+15.3f}'.format(52.337)   # >> 15자리 중에 소수점 3자리까지 표현하겠다.\n",
    "print(a)\n",
    "\n",
    "a = '{:+15.2f}'.format(52.337)\n",
    "print(a)\n",
    "\n",
    "a = '{:+15.1f}'.format(52.337)\n",
    "print(a)"
   ]
  },
  {
   "cell_type": "code",
   "execution_count": 53,
   "metadata": {},
   "outputs": [
    {
     "name": "stdout",
     "output_type": "stream",
     "text": [
      "52.0\n",
      "52\n"
     ]
    }
   ],
   "source": [
    "#의미없는 소숫점 제거하기\n",
    "\n",
    "a = 52.0\n",
    "b = '{:g}'.format(a)\n",
    "\n",
    "print(a)\n",
    "print(b)"
   ]
  },
  {
   "cell_type": "markdown",
   "metadata": {
    "id": "EXpjEJ-82v9s"
   },
   "source": [
    "# 3. 실전문제"
   ]
  },
  {
   "cell_type": "markdown",
   "metadata": {
    "id": "jOJXXqcf2v9s"
   },
   "source": [
    "**실전1. 학점계산기**\n",
    "- andy는 1학기 중간고사의 학점을 알고싶다.\n",
    "- and가 중간고사 때 수강한 과목과 학점은 다음과 같다.\n",
    "| 기초수학(3) | 프로그래밍(3) | 자료구조(2) | 글쓰기(3) |\n",
    "| --- | --- | --- | --- |\n",
    "| A | C | B+ | A+ |\n",
    "\n",
    "\n",
    "- 과목이름 옆 괄호에 있는 숫자는 학점 수이고, 4.5만점 기준으로 성적이 계산된다.\n",
    "> e.g. <b>A+ : 4.5,   A : 4.0,   B+ : 3.5,   B : 3.0,   C+ : 2.5,   C : 2.0,   F : 0</b>\n",
    "\n",
    "- 계산 공식은 다음과 같다.\n",
    "> (3 x A + 3 x C + 2 x B+ + 3 x A+) / (3+3+2+3) = (3 x 4.5 + 3 x 2.0 + 2 x 3.5 + 3 x 4.0) / 학점의 합계"
   ]
  },
  {
   "cell_type": "code",
   "execution_count": 56,
   "metadata": {},
   "outputs": [
    {
     "name": "stdout",
     "output_type": "stream",
     "text": [
      "3.5\n"
     ]
    }
   ],
   "source": [
    "#답\n",
    "\n",
    "Ap = 4.5\n",
    "A = 4.0\n",
    "Bp = 3.5\n",
    "C = 2.0\n",
    "\n",
    "score = (3*A + 3*C + 2*Bp + 3*Ap)/11\n",
    "print(score)"
   ]
  },
  {
   "cell_type": "markdown",
   "metadata": {
    "id": "tjt9pHEx2v9t"
   },
   "source": [
    "**실전2 : 십의 자리 구하기**\n",
    "- 숫자 하나를 입력 받는다.(숫자는 무조건 두 자리 이상의 자연수\n",
    "- 입력받은 숫자의 십의 자리수를 출력한다.\n",
    "- hint : str인덱스를 이용하여 구하는 방법, 숫자 연산을 통해 구하는 방법"
   ]
  },
  {
   "cell_type": "code",
   "execution_count": 58,
   "metadata": {
    "id": "TqAIOUF62v9t"
   },
   "outputs": [
    {
     "name": "stdout",
     "output_type": "stream",
     "text": [
      "숫자: 292929\n",
      "2\n",
      "숫자: 292929\n",
      "2\n"
     ]
    }
   ],
   "source": [
    "#ver1\n",
    "num=input('숫자: ')\n",
    "tens = str(num)[-2]\n",
    "print(tens)\n",
    "\n",
    "num=input('숫자: ')\n",
    "print(num[-2])"
   ]
  },
  {
   "cell_type": "code",
   "execution_count": 125,
   "metadata": {},
   "outputs": [
    {
     "name": "stdout",
     "output_type": "stream",
     "text": [
      "숫자: 2636742\n",
      "4\n"
     ]
    }
   ],
   "source": [
    "#ver2\n",
    "num=int(input('숫자: '))\n",
    "print(num%100//10)"
   ]
  },
  {
   "cell_type": "markdown",
   "metadata": {
    "id": "jwXw9xu82v9t"
   },
   "source": [
    "**실전3 : 주민등록번호 가리기**\n",
    "- 주민등록번호가 하나 주어집니다.\n",
    "- 뒤에 6자리를 *로 만들어서 소중한 정보를 지키세요"
   ]
  },
  {
   "cell_type": "code",
   "execution_count": 62,
   "metadata": {
    "id": "10JNd_1y2v9t"
   },
   "outputs": [
    {
     "name": "stdout",
     "output_type": "stream",
     "text": [
      "970624-2******\n",
      "901225-2******\n",
      "970624-2******\n"
     ]
    }
   ],
   "source": [
    "#여러가지 방법 생각해보기\n",
    "\n",
    "id1= '970624-2637483'\n",
    "id2= '901225-2849574'\n",
    "\n",
    "s_id = id1[:-6]+'*'*6\n",
    "print(s_id)\n",
    "\n",
    "s_id = id2[:8]+'******'\n",
    "print(s_id)\n",
    "\n",
    "s_id = id1[:8]+'******'\n",
    "print(id1[:8],'******',sep='')\n"
   ]
  },
  {
   "cell_type": "markdown",
   "metadata": {
    "id": "HI2YXadN2v9t"
   },
   "source": [
    " "
   ]
  },
  {
   "cell_type": "markdown",
   "metadata": {
    "id": "r9aEC2st2v9t"
   },
   "source": [
    " "
   ]
  }
 ],
 "metadata": {
  "colab": {
   "name": "002. 데이터타입(int, float,str)_before.ipynb",
   "provenance": []
  },
  "kernelspec": {
   "display_name": "Python 3",
   "language": "python",
   "name": "python3"
  },
  "language_info": {
   "codemirror_mode": {
    "name": "ipython",
    "version": 3
   },
   "file_extension": ".py",
   "mimetype": "text/x-python",
   "name": "python",
   "nbconvert_exporter": "python",
   "pygments_lexer": "ipython3",
   "version": "3.8.8"
  },
  "toc": {
   "base_numbering": 1,
   "nav_menu": {},
   "number_sections": false,
   "sideBar": true,
   "skip_h1_title": false,
   "title_cell": "Table of Contents",
   "title_sidebar": "Contents",
   "toc_cell": false,
   "toc_position": {
    "height": "calc(100% - 180px)",
    "left": "10px",
    "top": "150px",
    "width": "384px"
   },
   "toc_section_display": true,
   "toc_window_display": false
  }
 },
 "nbformat": 4,
 "nbformat_minor": 1
}
