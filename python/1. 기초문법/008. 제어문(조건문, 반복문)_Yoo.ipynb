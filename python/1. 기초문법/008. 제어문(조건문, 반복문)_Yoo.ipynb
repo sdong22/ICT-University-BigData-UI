{
 "cells": [
  {
   "cell_type": "markdown",
   "metadata": {},
   "source": [
    "## Control statement란?\n",
    "\n",
    "- 프로그램의 흐름을 제어하는 명령어를 말한다.\n",
    "> 프로그램의 흐름 = 컴퓨터가 어떤 일을 해야하는지에 대한 과정.\n",
    "\n",
    "- 조건과 반복에 따라서 프로그램의 진행 과정이 바뀌게 된다.\n",
    "> 프로그램은 조건과 반복의 나열이다.\n",
    "\n",
    "- 조건문(Conditional Statement)에는 if문이 있다.\n",
    "> if, elif, else\n",
    "\n",
    "\n",
    "- 반복문(Iterative Statement)에는 while, for문이 있다.\n",
    "> while, for\n",
    "\n",
    "- 사실상 프로그래밍이란 데이터를 사용자가 원하는대로 제어하여 원하는 결과를 내는 과정을 얘기한다."
   ]
  },
  {
   "cell_type": "markdown",
   "metadata": {},
   "source": [
    "# 1. If statement (조건문)"
   ]
  },
  {
   "cell_type": "markdown",
   "metadata": {},
   "source": [
    "- 프로그램에서 가장 중요한 조건 판단이다.\n",
    "\n",
    "\n",
    "- 모든 프로그램은 조건을 판단하여 다음 진행 과정을 결정한다.\n",
    "\n",
    "\n",
    "- 파이썬은 if, elif, else 구문을 이용하여 조건을 사용할 수 있다."
   ]
  },
  {
   "cell_type": "markdown",
   "metadata": {},
   "source": [
    "## 1.1 파이썬에서 if문을 사용하는 방법"
   ]
  },
  {
   "cell_type": "code",
   "execution_count": 2,
   "metadata": {},
   "outputs": [
    {
     "name": "stdout",
     "output_type": "stream",
     "text": [
      "True\n",
      "False\n"
     ]
    }
   ],
   "source": [
    "a = 5\n",
    "# a가 5인데, a가 5와 같으면, True를 출력하고 싶다.\n",
    "if a == 5:\n",
    "    print(\"True\")\n",
    "print(\"False\")"
   ]
  },
  {
   "cell_type": "code",
   "execution_count": 3,
   "metadata": {},
   "outputs": [
    {
     "name": "stdout",
     "output_type": "stream",
     "text": [
      "True\n"
     ]
    }
   ],
   "source": [
    "a = 5\n",
    "# a가 5인데, a가 5와 같으면, True를 출력하고 싶다.\n",
    "if a == 5 :\n",
    "    print(\"True\")\n",
    "else : \n",
    "    print('False')\n",
    "    "
   ]
  },
  {
   "cell_type": "code",
   "execution_count": 5,
   "metadata": {},
   "outputs": [
    {
     "name": "stdout",
     "output_type": "stream",
     "text": [
      "False\n"
     ]
    }
   ],
   "source": [
    "if 0 :\n",
    "    print(\"True\")\n",
    "else : \n",
    "    print('False')"
   ]
  },
  {
   "cell_type": "code",
   "execution_count": 6,
   "metadata": {},
   "outputs": [
    {
     "name": "stdout",
     "output_type": "stream",
     "text": [
      "True\n",
      "True\n"
     ]
    }
   ],
   "source": [
    "a==5\n",
    "if a >= 5 :\n",
    "    print(\"True\")\n",
    "if a<5 :\n",
    "    print('False')\n",
    "    \n",
    "    \n",
    "if a >= 5 :           # >> 더 효율적\n",
    "    print(\"True\")\n",
    "else :\n",
    "    print('False')"
   ]
  },
  {
   "cell_type": "markdown",
   "metadata": {},
   "source": [
    "## 1.2 조건문을 사용하기 위해선, 비교연산과 논리연산을 알아야 한다."
   ]
  },
  {
   "cell_type": "markdown",
   "metadata": {},
   "source": [
    "- 비교연산 : 같다, 다르다, 크다, 작다, 크거나 같다, 작거나 같다. \n",
    "- a == b, a != b, a > b, a < b, a >= b, a <= b \n",
    "\n",
    "- 논리연산 : \n",
    "    - a and b : a와 b가 둘다 만족\n",
    "    - a or b : a와 b 중에 하나 이상 만족\n",
    "    - not a : a가 아닌 것.\n",
    "    \n",
    "**- 비교연산과 논리연산의 공통점은 결과가 참(True) 또는 거짓(False)라는 것이다.**"
   ]
  },
  {
   "cell_type": "markdown",
   "metadata": {},
   "source": [
    "**커피 자판기 프로그램** \n",
    "- 300원보다 적은 경우엔 돈을 그냥 돌려주고,\n",
    "- 자판기에 입력된 돈이 300원이면 커피를 주고, \n",
    "- 300원보다 많은 경우에는 커피와 함께 거스름돈을 주어야 한다. 이를 어떻게 구현할 수 있을까?"
   ]
  },
  {
   "cell_type": "code",
   "execution_count": 17,
   "metadata": {},
   "outputs": [
    {
     "name": "stdout",
     "output_type": "stream",
     "text": [
      "잔액이 부족합니다. 200원을 돌려줍니다.\n"
     ]
    }
   ],
   "source": [
    "# 300원 보다 적은 경우\n",
    "\n",
    "money = 200\n",
    "\n",
    "if money < 300 :\n",
    "    print('잔액이 부족합니다. %d원을 돌려줍니다.'%money)\n"
   ]
  },
  {
   "cell_type": "code",
   "execution_count": 11,
   "metadata": {},
   "outputs": [
    {
     "name": "stdout",
     "output_type": "stream",
     "text": [
      "coffee\n"
     ]
    }
   ],
   "source": [
    "# 300원인 경우\n",
    "\n",
    "money = 300\n",
    "\n",
    "if money == 300 :\n",
    "    print('coffee')"
   ]
  },
  {
   "cell_type": "code",
   "execution_count": 22,
   "metadata": {},
   "outputs": [
    {
     "name": "stdout",
     "output_type": "stream",
     "text": [
      "coffee\n",
      "거스름 돈 700원을 돌려줍니다.\n"
     ]
    }
   ],
   "source": [
    "# 300원 보다 많은 경우\n",
    "money = 1000\n",
    "if money >300 :\n",
    "    print('coffee')\n",
    "    print('거스름 돈 %d원을 돌려줍니다.'%(money - 300))\n",
    "    "
   ]
  },
  {
   "cell_type": "code",
   "execution_count": 19,
   "metadata": {},
   "outputs": [
    {
     "name": "stdout",
     "output_type": "stream",
     "text": [
      "coffee\n",
      "거스름 돈 100원을 돌려줍니다\n"
     ]
    }
   ],
   "source": [
    "# if , else\n",
    "\n",
    "money = 400\n",
    "\n",
    "if money < 300 :\n",
    "    print('잔액이 부족합니다. %d원을 돌려줍니다.'%money)\n",
    "else : \n",
    "    if money == 300 :\n",
    "        print('coffee')\n",
    "    else :\n",
    "        print('coffee')\n",
    "        print('거스름 돈 %d원을 돌려줍니다'%(money-300))"
   ]
  },
  {
   "cell_type": "code",
   "execution_count": 20,
   "metadata": {},
   "outputs": [
    {
     "name": "stdout",
     "output_type": "stream",
     "text": [
      "잔액이 부족합니다. 200원을 돌려줍니다.\n"
     ]
    }
   ],
   "source": [
    "# if, elif\n",
    "\n",
    "money = 200\n",
    "\n",
    "if money < 300 :\n",
    "    print('잔액이 부족합니다. %d원을 돌려줍니다.'%money)\n",
    "elif money == 300 :\n",
    "    print('coffee')\n",
    "else :\n",
    "    print('coffee')\n",
    "    print('거스름 돈 %d원을 돌려줍니다'%(money-300))"
   ]
  },
  {
   "cell_type": "markdown",
   "metadata": {},
   "source": [
    "## 1.3 삼항연산자를 사용한 if\n",
    "- <참인경우 값> **if 조건 else** <거짓인경우 값>\n"
   ]
  },
  {
   "cell_type": "code",
   "execution_count": 23,
   "metadata": {},
   "outputs": [
    {
     "name": "stdout",
     "output_type": "stream",
     "text": [
      "합격입니다.\n"
     ]
    }
   ],
   "source": [
    "# 60 점 이상이면 합격, 아니면 불합격\n",
    "\n",
    "score = 80\n",
    "\n",
    "if score >=60 :\n",
    "    print('합격입니다.')\n",
    "else : \n",
    "    print('불합격입니다.')\n"
   ]
  },
  {
   "cell_type": "code",
   "execution_count": 25,
   "metadata": {},
   "outputs": [
    {
     "name": "stdout",
     "output_type": "stream",
     "text": [
      "불합격\n"
     ]
    }
   ],
   "source": [
    "\n",
    "score = 50\n",
    "result = '합격' if score >= 60 else '불합격'\n",
    "\n",
    "print(result)"
   ]
  },
  {
   "cell_type": "code",
   "execution_count": 28,
   "metadata": {},
   "outputs": [
    {
     "name": "stdout",
     "output_type": "stream",
     "text": [
      "6\n",
      "10\n"
     ]
    }
   ],
   "source": [
    "# 최대값 구하기\n",
    "a, b, c = 3, 6, 10\n",
    "\n",
    "max = a if a>b else b\n",
    "print(max)\n",
    "max = max if max>c else c\n",
    "print(max)"
   ]
  },
  {
   "cell_type": "code",
   "execution_count": null,
   "metadata": {},
   "outputs": [],
   "source": [
    "#  for문이나 while문 어떻게 돌아가는지 순서대로 하나씩 확인해보고 싶을 때 \n",
    "#      :  http://pythontutor.com/visualize.html#mode=edit"
   ]
  },
  {
   "cell_type": "markdown",
   "metadata": {},
   "source": [
    "## 1.4 기타"
   ]
  },
  {
   "cell_type": "markdown",
   "metadata": {},
   "source": [
    "**list의 in** 키워드"
   ]
  },
  {
   "cell_type": "code",
   "execution_count": 31,
   "metadata": {},
   "outputs": [
    {
     "name": "stdout",
     "output_type": "stream",
     "text": [
      "['사과', '배', '포도', '딸기']\n",
      "딸기가 있습니다\n"
     ]
    }
   ],
   "source": [
    "fruit = ['사과', '배', '포도', '딸기']\n",
    "print(fruit)\n",
    "\n",
    "if '딸기' in fruit : \n",
    "    print('딸기가 있습니다')"
   ]
  },
  {
   "cell_type": "markdown",
   "metadata": {},
   "source": [
    "**연습문제1) 점수를 입력받아서 점수에 따라 학점을 출력하는 프로그램**\n",
    "(score >= 90:A , >=80:B,  >=70:C, >=60:D, < 60:F)\n",
    "1. 중첩 (if-else) 구조로 프로그래밍\n",
    "2. if-elif-else 구조로 프로그래밍"
   ]
  },
  {
   "cell_type": "code",
   "execution_count": 32,
   "metadata": {},
   "outputs": [
    {
     "name": "stdout",
     "output_type": "stream",
     "text": [
      "학점 : C\n"
     ]
    }
   ],
   "source": [
    "score = 70\n",
    "\n",
    "if score >=90 :\n",
    "    print('학점 : A')\n",
    "else :\n",
    "    if score >= 80 :\n",
    "        print('학점 : B')\n",
    "    else :\n",
    "        if score >=70 :\n",
    "            print('학점 : C')\n",
    "        else :\n",
    "            if score >=60 :\n",
    "                print('학점 : D')\n",
    "            else :\n",
    "                print('학점 : F')"
   ]
  },
  {
   "cell_type": "code",
   "execution_count": 39,
   "metadata": {},
   "outputs": [
    {
     "name": "stdout",
     "output_type": "stream",
     "text": [
      "점수 : 80\n",
      "당신의 학점은 B학점 입니다.\n"
     ]
    }
   ],
   "source": [
    "score = int(input('점수 : '))\n",
    "grade = ''\n",
    "\n",
    "if score >=90 :\n",
    "    grade = 'A'\n",
    "else :\n",
    "    if score >= 80 :\n",
    "        grade = 'B'\n",
    "    else :\n",
    "        if score >=70 :\n",
    "            grade = 'C'\n",
    "        else :\n",
    "            if score >=60 :\n",
    "                grade = 'D'\n",
    "            else :\n",
    "                grade = 'F'\n",
    "print('당신의 학점은 %s학점 입니다.'%(grade))"
   ]
  },
  {
   "cell_type": "code",
   "execution_count": 33,
   "metadata": {},
   "outputs": [
    {
     "name": "stdout",
     "output_type": "stream",
     "text": [
      "학점 : B\n"
     ]
    }
   ],
   "source": [
    "score = 80\n",
    "\n",
    "if score >=90 :\n",
    "    print('학점 : A')\n",
    "elif score >= 80 :\n",
    "    print('학점 : B')\n",
    "elif score >=70 :\n",
    "    print('학점 : C')\n",
    "elif score >=60 :\n",
    "    print('학점 : D')\n",
    "else :\n",
    "    print('학점 : F')"
   ]
  },
  {
   "cell_type": "markdown",
   "metadata": {},
   "source": [
    "# 2. 반복문\n",
    "- 컴퓨터는 단순 작업의 반복에 최적화 된 기계 -> 반복문이 중요한 이유!!\n",
    "- while, for 2가지 형태를 제공"
   ]
  },
  {
   "cell_type": "markdown",
   "metadata": {},
   "source": [
    "## 2.1 while문\n",
    "### 2.1.1 기본구조\n",
    "- 조건을 만족하는 동안 반복 \n",
    "\n",
    "\n",
    "- **while 조건 :**\n",
    "        문장1\n",
    "        문장2...\n",
    "        \n",
    "- 조건이 만족하는 동안 문장1, 문장2를 반복한다."
   ]
  },
  {
   "cell_type": "code",
   "execution_count": 44,
   "metadata": {},
   "outputs": [
    {
     "name": "stdout",
     "output_type": "stream",
     "text": [
      "55\n"
     ]
    }
   ],
   "source": [
    "# 1~10까지의 합계 구하기\n",
    "i, hap = 1, 0\n",
    "for i in range(1,11,1) :\n",
    "    hap+=i\n",
    "    \n",
    "print(hap)\n"
   ]
  },
  {
   "cell_type": "code",
   "execution_count": 1,
   "metadata": {},
   "outputs": [
    {
     "name": "stdout",
     "output_type": "stream",
     "text": [
      "55\n"
     ]
    }
   ],
   "source": [
    "i, hap = 1, 0\n",
    "\n",
    "while i<11 :       # 범위\n",
    "    hap += i   # 식\n",
    "    i += 1         # 증가값\n",
    "    \n",
    "print(hap)"
   ]
  },
  {
   "cell_type": "code",
   "execution_count": 50,
   "metadata": {},
   "outputs": [
    {
     "name": "stdout",
     "output_type": "stream",
     "text": [
      "작은 수 : 5\n",
      "큰 수 : 8\n",
      "26\n"
     ]
    }
   ],
   "source": [
    "# 두 수를 입력해서 합계를 출력하는 프로그램\n",
    "\n",
    "a = int(input('작은 수 : '))\n",
    "b = int(input('큰 수 : '))\n",
    "sum = 0\n",
    "\n",
    "for i in range(a,(b+1),1) :\n",
    "    sum += i\n",
    "\n",
    "print(sum)\n"
   ]
  },
  {
   "cell_type": "code",
   "execution_count": 52,
   "metadata": {},
   "outputs": [
    {
     "name": "stdout",
     "output_type": "stream",
     "text": [
      "5+....+15 = 110\n"
     ]
    }
   ],
   "source": [
    "num1 = 5 # int(input('1st digit : '))\n",
    "num2 = 15 # int(input('2st digit : '))\n",
    "answer = 0\n",
    "\n",
    "for i in range(num1, num2+1) :\n",
    "    answer += i\n",
    "\n",
    "print('{}+....+{} = {}'.format(num1, num2, answer))"
   ]
  },
  {
   "cell_type": "code",
   "execution_count": 60,
   "metadata": {},
   "outputs": [
    {
     "name": "stdout",
     "output_type": "stream",
     "text": [
      "1st digit : 5\n",
      "2st digit : 8\n",
      "5+....+8 = 26\n"
     ]
    }
   ],
   "source": [
    "num1 = int(input('1st digit : '))\n",
    "num2 = int(input('2st digit : '))\n",
    "answer = 0\n",
    "\n",
    "for i in range(num1, num2+1) :\n",
    "    answer += i\n",
    "\n",
    "print('{}+....+{} = {}'.format(num1, num2, answer))"
   ]
  },
  {
   "cell_type": "code",
   "execution_count": 54,
   "metadata": {},
   "outputs": [
    {
     "name": "stdout",
     "output_type": "stream",
     "text": [
      "5+....+15 = 110\n"
     ]
    }
   ],
   "source": [
    "num1 = 5 # int(input('1st digit : '))\n",
    "num2 = 15 # int(input('2st digit : '))\n",
    "\n",
    "answer = 0\n",
    "i = num1\n",
    "\n",
    "while i<num2+1 : \n",
    "    answer += i\n",
    "    i +=1\n",
    "\n",
    "print('{}+....+{} = {}'.format(num1, num2, answer))"
   ]
  },
  {
   "cell_type": "code",
   "execution_count": 8,
   "metadata": {},
   "outputs": [
    {
     "name": "stdout",
     "output_type": "stream",
     "text": [
      "작은 수 : 2\n",
      "큰 수 : 5\n",
      "14\n",
      "2+....+5 = 14\n"
     ]
    }
   ],
   "source": [
    "a = int(input('작은 수 : '))\n",
    "b = int(input('큰 수 : '))\n",
    "\n",
    "i = a; sum = 0\n",
    "while i < b+1 :\n",
    "    sum += i\n",
    "    i += 1\n",
    "print(sum)\n",
    "\n",
    "print('{}+....+{} = {}'.format(a, b, sum))"
   ]
  },
  {
   "cell_type": "markdown",
   "metadata": {},
   "source": [
    "**커피 자판기** \n",
    "- 돈을 입력 받아서 커피를 주는 프로그램\n",
    "- 종료조건(작동이 안되는 경우) : 재료가 다 떨어졌을때"
   ]
  },
  {
   "cell_type": "code",
   "execution_count": 67,
   "metadata": {},
   "outputs": [
    {
     "name": "stdout",
     "output_type": "stream",
     "text": [
      "금액을 입력해 주세요 : 500\n",
      "☕\n",
      "거스름 돈 200원을 돌려줍니다\n",
      "금액을 입력해 주세요 : 700\n",
      "☕\n",
      "거스름 돈 400원을 돌려줍니다\n",
      "금액을 입력해 주세요 : 600\n",
      "☕\n",
      "거스름 돈 300원을 돌려줍니다\n",
      "금액을 입력해 주세요 : 300\n",
      "☕\n",
      "금액을 입력해 주세요 : 400\n",
      "☕\n",
      "거스름 돈 100원을 돌려줍니다\n",
      "커피가 모두 소진되었습니다. 관리자에게 문의해주세요.\n"
     ]
    }
   ],
   "source": [
    "# 커피 5잔 뽑고 종료하는 프로그램\n",
    "\n",
    "coffee = 5\n",
    "\n",
    "while coffee >  0 :\n",
    "    money = int(input('금액을 입력해 주세요 : '))\n",
    "    if money < 300 :\n",
    "        print('잔액이 부족합니다. %d원을 돌려줍니다.'%money)\n",
    "    elif money == 300 :\n",
    "        print('\\u2615')\n",
    "        coffee = coffee - 1\n",
    "    else :\n",
    "        print('\\u2615')\n",
    "        coffee = coffee - 1\n",
    "        print('거스름 돈 %d원을 돌려줍니다'%(money-300))\n",
    "    \n",
    "print('커피가 모두 소진되었습니다. 관리자에게 문의해주세요.')\n"
   ]
  },
  {
   "cell_type": "code",
   "execution_count": null,
   "metadata": {},
   "outputs": [],
   "source": [
    "###### 커피 자판기 _ 몇 잔씩 뽑는 거 만들어보기\n",
    "\n",
    "받을 값 : 금액, 커피 수\n",
    "    \n",
    "\n"
   ]
  },
  {
   "cell_type": "markdown",
   "metadata": {},
   "source": [
    "### 2.1.2 무한반복(무한루프)\n",
    "- 프로그램 상에서 무한루프가 도는건 좋지않다.\n",
    "- break를 이용해서 무한 루프를 빠져나올 수 있는 코드를 짜야 한다"
   ]
  },
  {
   "cell_type": "code",
   "execution_count": 73,
   "metadata": {},
   "outputs": [],
   "source": [
    "# 무한루프\n",
    "while True :\n",
    "    print('ㅋ', end = ' ')\n",
    "    \n",
    "    "
   ]
  },
  {
   "cell_type": "markdown",
   "metadata": {},
   "source": [
    "**연습문제2) 별모양 직각 삼각형 만들기**\n",
    "- 1~n행까지 각 행마다 행번호만큼 ★(\\u2605) 찍기"
   ]
  },
  {
   "cell_type": "code",
   "execution_count": 81,
   "metadata": {
    "scrolled": false
   },
   "outputs": [
    {
     "name": "stdout",
     "output_type": "stream",
     "text": [
      "**\n",
      "***\n",
      "****\n",
      "*****\n",
      "******\n"
     ]
    }
   ],
   "source": [
    "# 내 풀이\n",
    "a = 0\n",
    "while a < 5 :\n",
    "    a +=1\n",
    "    print('*'*a)"
   ]
  },
  {
   "cell_type": "code",
   "execution_count": 82,
   "metadata": {},
   "outputs": [
    {
     "name": "stdout",
     "output_type": "stream",
     "text": [
      "★\n",
      "★★\n",
      "★★★\n",
      "★★★★\n",
      "★★★★★\n"
     ]
    }
   ],
   "source": [
    "# 교수님 풀이\n",
    "\n",
    "i = 1\n",
    "while i < 6 :\n",
    "    print('\\u2605'*i)\n",
    "    i += 1"
   ]
  },
  {
   "cell_type": "code",
   "execution_count": 85,
   "metadata": {},
   "outputs": [
    {
     "name": "stdout",
     "output_type": "stream",
     "text": [
      "몇 행까지 실행하시겠습니까? : 5\n",
      "★\n",
      "★★\n",
      "★★★\n",
      "★★★★\n",
      "★★★★★\n"
     ]
    }
   ],
   "source": [
    "i = 1\n",
    "n = int(input('몇 행까지 실행하시겠습니까? : '))\n",
    "\n",
    "while i < n+1 :\n",
    "    print('\\u2605'*i)\n",
    "    i += 1"
   ]
  },
  {
   "cell_type": "markdown",
   "metadata": {},
   "source": [
    "**연습문제3)이등변 삼각형 만들기**\n"
   ]
  },
  {
   "cell_type": "code",
   "execution_count": 92,
   "metadata": {},
   "outputs": [],
   "source": [
    "# 내 풀이\n",
    "i = 1\n",
    "n = 5\n",
    "while n < 1 :\n",
    "    print(' '*n-1,'\\u2605'*i)\n",
    "    n-=1\n",
    "    i+=1\n",
    "    \n",
    "\n",
    "\n",
    "# 앞 공백 = n-1 부터 +1씩\n",
    "\n",
    "# 네칸 띄우고 하나"
   ]
  },
  {
   "cell_type": "code",
   "execution_count": 108,
   "metadata": {},
   "outputs": [
    {
     "name": "stdout",
     "output_type": "stream",
     "text": [
      "        ★\n",
      "      ★★★\n",
      "    ★★★★★\n",
      "  ★★★★★★★\n",
      "★★★★★★★★★\n"
     ]
    }
   ],
   "source": [
    "# 교수님 풀이\n",
    "i, k = 0, 0\n",
    "\n",
    "while i < 5 :\n",
    "    \n",
    "    k = 0     # k값 초기화\n",
    "    while k < 4 - i :\n",
    "        print('  ', end = '')\n",
    "        k += 1\n",
    "\n",
    "    k = 0\n",
    "    while k < (i * 2)+1 :\n",
    "        print('\\u2605',end='')\n",
    "        k += 1\n",
    "        \n",
    "        \n",
    "    print()\n",
    "    i+=1    # 행 카운트\n",
    "\n",
    "    "
   ]
  },
  {
   "cell_type": "code",
   "execution_count": 8,
   "metadata": {},
   "outputs": [
    {
     "name": "stdout",
     "output_type": "stream",
     "text": [
      "        ★\n",
      "      ★★★\n",
      "    ★★★★★\n",
      "  ★★★★★★★\n",
      "★★★★★★★★★\n"
     ]
    }
   ],
   "source": [
    "for i in range(5) :\n",
    "    for k in range(4-i) :\n",
    "        print('  ',end='')\n",
    "    \n",
    "    for k in range((i*2)+1) :\n",
    "        print('\\u2605',end='')\n",
    "    print()\n",
    "\n",
    "\n",
    "\n"
   ]
  },
  {
   "cell_type": "code",
   "execution_count": 13,
   "metadata": {},
   "outputs": [
    {
     "name": "stdout",
     "output_type": "stream",
     "text": [
      "        ★\n",
      "      ★★★\n",
      "    ★★★★★\n",
      "  ★★★★★★★\n",
      "★★★★★★★★★\n",
      "  ★★★★★★★\n",
      "    ★★★★★\n",
      "      ★★★\n",
      "        ★\n"
     ]
    }
   ],
   "source": [
    "i, k = 0, 0\n",
    "\n",
    "while i < 9 :\n",
    "    \n",
    "    if i < 5 :\n",
    "        k = 0  \n",
    "        while k < 4 - i :\n",
    "            print('  ', end = '')\n",
    "            k += 1\n",
    "\n",
    "        k = 0\n",
    "        while k < (i * 2)+1 :\n",
    "            print('\\u2605',end='')\n",
    "            k += 1\n",
    "    \n",
    "    else :\n",
    "        k = 0  \n",
    "        while k < i - 4 :\n",
    "            print('  ', end = '')\n",
    "            k += 1\n",
    "\n",
    "        k = 0\n",
    "        while k < (9-i)*2-1 :\n",
    "            print('\\u2605',end='')\n",
    "            k += 1\n",
    "        \n",
    "        \n",
    "    print()\n",
    "    i+=1   "
   ]
  },
  {
   "cell_type": "code",
   "execution_count": 178,
   "metadata": {
    "scrolled": true
   },
   "outputs": [
    {
     "name": "stdout",
     "output_type": "stream",
     "text": [
      "        ★\n",
      "      ★★★\n",
      "    ★★★★★\n",
      "  ★★★★★★★\n",
      "★★★★★★★★★\n",
      "  ★★★★★★★\n",
      "    ★★★★★\n",
      "      ★★★\n",
      "        ★\n"
     ]
    }
   ],
   "source": [
    "i, k = 0, 0\n",
    "\n",
    "while i < 5 :\n",
    "    \n",
    "    k = 0   \n",
    "    while k < 4 - i :\n",
    "        print('  ', end = '')\n",
    "        k += 1\n",
    "\n",
    "    k = 0\n",
    "    while k < (i * 2)+1 :\n",
    "        print('\\u2605',end='')\n",
    "        k += 1\n",
    "        \n",
    "        \n",
    "    print()\n",
    "    i+=1\n",
    "\n",
    "\n",
    "i, k = 0, 0\n",
    "\n",
    "while i < 4 :\n",
    "    \n",
    "    k = 0  \n",
    "    while k < i + 1 :\n",
    "        print('  ', end = '')\n",
    "        k += 1\n",
    "\n",
    "    k = 0\n",
    "    while k < 7 - (i * 2) :\n",
    "        print('\\u2605',end='')\n",
    "        k += 1\n",
    "        \n",
    "        \n",
    "    print()\n",
    "    i+=1 "
   ]
  },
  {
   "cell_type": "code",
   "execution_count": null,
   "metadata": {},
   "outputs": [],
   "source": [
    "###################\n",
    "     ###  하트"
   ]
  },
  {
   "cell_type": "markdown",
   "metadata": {},
   "source": [
    "## 2.2 for 문"
   ]
  },
  {
   "cell_type": "markdown",
   "metadata": {},
   "source": [
    "- 지정된 횟수동안 반복 수행\n",
    "- for 변수 in range(시작값, 끝값+1, 증가값) :"
   ]
  },
  {
   "cell_type": "markdown",
   "metadata": {},
   "source": [
    "### 2.2.1 range()\n",
    "- 지정된 범위의 값을 반환\n",
    "- range(시작값, 끝값+1, 증가값)\n",
    "- 끝값 +1 : +1의 의미는 끝나고자 하는 값에서 반복을 한번 더 해야 한다는 의미"
   ]
  },
  {
   "cell_type": "code",
   "execution_count": 112,
   "metadata": {},
   "outputs": [
    {
     "name": "stdout",
     "output_type": "stream",
     "text": [
      "0 1 2 3 4 \n",
      "0 1 2 3 4 \n",
      "0 1 2 3 4 "
     ]
    }
   ],
   "source": [
    "for i in range(0, 5, 1) :\n",
    "    print( i, end=' ')\n",
    "    \n",
    "print()  # >> enter치는 의미\n",
    "\n",
    "for i in range(0, 5) :\n",
    "    print( i, end=' ')\n",
    "    \n",
    "print()\n",
    "\n",
    "for i in range(5) :\n",
    "    print( i, end=' ')\n",
    "    "
   ]
  },
  {
   "cell_type": "code",
   "execution_count": 119,
   "metadata": {},
   "outputs": [
    {
     "name": "stdout",
     "output_type": "stream",
     "text": [
      "[0, 1, 2, 3, 4, 5, 6, 7, 8, 9]\n",
      "[1, 3, 5, 7, 9]\n",
      "[0, 1, 2, 3, 4]\n",
      "[0, 1, 2, 3, 4]\n"
     ]
    }
   ],
   "source": [
    "print(list(range(10)))\n",
    "print(list(range(1,10,2)))\n",
    "\n",
    "n = 10\n",
    "\n",
    "a = range(0, n//2)\n",
    "print(list(a))\n",
    "\n",
    "a = range(0,5)\n",
    "print(list(a))"
   ]
  },
  {
   "cell_type": "markdown",
   "metadata": {},
   "source": [
    "**연습문제4) 0과 100 사이에 있는 7의 배수 합계 구하기**"
   ]
  },
  {
   "cell_type": "code",
   "execution_count": 121,
   "metadata": {},
   "outputs": [
    {
     "name": "stdout",
     "output_type": "stream",
     "text": [
      "735\n"
     ]
    }
   ],
   "source": [
    "sum = 0\n",
    "for i in range(7,100,7) : \n",
    "    sum += i\n",
    "print(sum)"
   ]
  },
  {
   "cell_type": "markdown",
   "metadata": {},
   "source": [
    "**연습문제5) 두수 사이의 모든 수의 합 구하기** 예) 1, 10 -> 55 출력"
   ]
  },
  {
   "cell_type": "code",
   "execution_count": 125,
   "metadata": {},
   "outputs": [
    {
     "name": "stdout",
     "output_type": "stream",
     "text": [
      "숫자 1 : 5\n",
      "숫자 2 : 9\n",
      "5부터 9까지의 합은 35입니다.\n"
     ]
    }
   ],
   "source": [
    "a = int(input('숫자 1 : '))\n",
    "b = int(input('숫자 2 : '))\n",
    "sum = 0\n",
    "\n",
    "for i in range(a, b+1) :\n",
    "    sum+=i\n",
    "    \n",
    "print('{}부터 {}까지의 합은 {}입니다.'.format(a, b, sum))"
   ]
  },
  {
   "cell_type": "markdown",
   "metadata": {},
   "source": [
    "### 2.2.2 중첩 for 문"
   ]
  },
  {
   "cell_type": "code",
   "execution_count": 117,
   "metadata": {},
   "outputs": [
    {
     "name": "stdout",
     "output_type": "stream",
     "text": [
      " #2단#  #3단#  #4단#  #5단#  #6단#  #7단#  #8단#  #9단# \n",
      "2x0= 0 3x0= 0 4x0= 0 5x0= 0 6x0= 0 7x0= 0 8x0= 0 9x0= 0 \n",
      "2x1= 2 3x1= 3 4x1= 4 5x1= 5 6x1= 6 7x1= 7 8x1= 8 9x1= 9 \n",
      "2x2= 4 3x2= 6 4x2= 8 5x2=10 6x2=12 7x2=14 8x2=16 9x2=18 \n",
      "2x3= 6 3x3= 9 4x3=12 5x3=15 6x3=18 7x3=21 8x3=24 9x3=27 \n",
      "2x4= 8 3x4=12 4x4=16 5x4=20 6x4=24 7x4=28 8x4=32 9x4=36 \n",
      "2x5=10 3x5=15 4x5=20 5x5=25 6x5=30 7x5=35 8x5=40 9x5=45 \n",
      "2x6=12 3x6=18 4x6=24 5x6=30 6x6=36 7x6=42 8x6=48 9x6=54 \n",
      "2x7=14 3x7=21 4x7=28 5x7=35 6x7=42 7x7=49 8x7=56 9x7=63 \n",
      "2x8=16 3x8=24 4x8=32 5x8=40 6x8=48 7x8=56 8x8=64 9x8=72 \n",
      "2x9=18 3x9=27 4x9=36 5x9=45 6x9=54 7x9=63 8x9=72 9x9=81 \n"
     ]
    }
   ],
   "source": [
    "# 구구단 한 화면에 출력하기\n"
   ]
  },
  {
   "cell_type": "code",
   "execution_count": 30,
   "metadata": {},
   "outputs": [
    {
     "name": "stdout",
     "output_type": "stream",
     "text": [
      " #2단#   #3단#   #4단#   #5단#   #6단#   #7단#   #8단#   #9단#  \n",
      "2x1= 2  3x1= 3  4x1= 4  5x1= 5  6x1= 6  7x1= 7  8x1= 8  9x1= 9  \n",
      "2x2= 4  3x2= 6  4x2= 8  5x2=10  6x2=12  7x2=14  8x2=16  9x2=18  \n",
      "2x3= 6  3x3= 9  4x3=12  5x3=15  6x3=18  7x3=21  8x3=24  9x3=27  \n",
      "2x4= 8  3x4=12  4x4=16  5x4=20  6x4=24  7x4=28  8x4=32  9x4=36  \n",
      "2x5=10  3x5=15  4x5=20  5x5=25  6x5=30  7x5=35  8x5=40  9x5=45  \n",
      "2x6=12  3x6=18  4x6=24  5x6=30  6x6=36  7x6=42  8x6=48  9x6=54  \n",
      "2x7=14  3x7=21  4x7=28  5x7=35  6x7=42  7x7=49  8x7=56  9x7=63  \n",
      "2x8=16  3x8=24  4x8=32  5x8=40  6x8=48  7x8=56  8x8=64  9x8=72  \n",
      "2x9=18  3x9=27  4x9=36  5x9=45  6x9=54  7x9=63  8x9=72  9x9=81  \n"
     ]
    }
   ],
   "source": [
    "gugudan = ''\n",
    "\n",
    "for i in range(2,10) :\n",
    "    gugudan = gugudan + (' #%d단#  '%i)\n",
    "print(gugudan)\n",
    "\n",
    "for i in range(1,10) :\n",
    "    gugudan = ''\n",
    "    for dan in range(2,10) :\n",
    "        gugudan = gugudan + str('%dx%d=%2d'%(dan,i,dan*i)) + '  '\n",
    "        # gugudan = gugudan + str(dan*i) \n",
    "    print(gugudan)"
   ]
  },
  {
   "cell_type": "code",
   "execution_count": 32,
   "metadata": {},
   "outputs": [
    {
     "name": "stdout",
     "output_type": "stream",
     "text": [
      " #9단#   #8단#   #7단#   #6단#   #5단#   #4단#   #3단#   #2단#  \n",
      "9x9=81  8x9=72  7x9=63  6x9=54  5x9=45  4x9=36  3x9=27  2x9=18  \n",
      "9x8=72  8x8=64  7x8=56  6x8=48  5x8=40  4x8=32  3x8=24  2x8=16  \n",
      "9x7=63  8x7=56  7x7=49  6x7=42  5x7=35  4x7=28  3x7=21  2x7=14  \n",
      "9x6=54  8x6=48  7x6=42  6x6=36  5x6=30  4x6=24  3x6=18  2x6=12  \n",
      "9x5=45  8x5=40  7x5=35  6x5=30  5x5=25  4x5=20  3x5=15  2x5=10  \n",
      "9x4=36  8x4=32  7x4=28  6x4=24  5x4=20  4x4=16  3x4=12  2x4= 8  \n",
      "9x3=27  8x3=24  7x3=21  6x3=18  5x3=15  4x3=12  3x3= 9  2x3= 6  \n",
      "9x2=18  8x2=16  7x2=14  6x2=12  5x2=10  4x2= 8  3x2= 6  2x2= 4  \n",
      "9x1= 9  8x1= 8  7x1= 7  6x1= 6  5x1= 5  4x1= 4  3x1= 3  2x1= 2  \n"
     ]
    }
   ],
   "source": [
    "####### 구구단 역순\n",
    "gugudan = ''\n",
    "\n",
    "for i in range(9,1,-1) :\n",
    "    gugudan = gugudan + (' #%d단#  '%i)\n",
    "print(gugudan)\n",
    "\n",
    "for i in range(9,0,-1) :\n",
    "    gugudan = ''\n",
    "    for dan in range(9,1,-1) :\n",
    "        gugudan = gugudan + str('%dx%d=%2d'%(dan,i,dan*i)) + '  '\n",
    "    print(gugudan)"
   ]
  },
  {
   "cell_type": "code",
   "execution_count": 179,
   "metadata": {
    "scrolled": true
   },
   "outputs": [
    {
     "name": "stdout",
     "output_type": "stream",
     "text": [
      "2x1= 2  3x1= 3  4x1= 4  5x1= 5  6x1= 6  7x1= 7  8x1= 8  9x1= 9  \n",
      "2x2= 4  3x2= 6  4x2= 8  5x2=10  6x2=12  7x2=14  8x2=16  9x2=18  \n",
      "2x3= 6  3x3= 9  4x3=12  5x3=15  6x3=18  7x3=21  8x3=24  9x3=27  \n",
      "2x4= 8  3x4=12  4x4=16  5x4=20  6x4=24  7x4=28  8x4=32  9x4=36  \n",
      "2x5=10  3x5=15  4x5=20  5x5=25  6x5=30  7x5=35  8x5=40  9x5=45  \n",
      "2x6=12  3x6=18  4x6=24  5x6=30  6x6=36  7x6=42  8x6=48  9x6=54  \n",
      "2x7=14  3x7=21  4x7=28  5x7=35  6x7=42  7x7=49  8x7=56  9x7=63  \n",
      "2x8=16  3x8=24  4x8=32  5x8=40  6x8=48  7x8=56  8x8=64  9x8=72  \n",
      "2x9=18  3x9=27  4x9=36  5x9=45  6x9=54  7x9=63  8x9=72  9x9=81  \n"
     ]
    }
   ],
   "source": [
    "for i in range(1,10) :\n",
    "    gugudan = ''\n",
    "    for dan in range(2,10) :\n",
    "        gugudan = gugudan + str('%dx%d=%2d'%(dan,i,dan*i)) + '  '\n",
    "    print(gugudan)"
   ]
  },
  {
   "cell_type": "code",
   "execution_count": 23,
   "metadata": {},
   "outputs": [
    {
     "name": "stdout",
     "output_type": "stream",
     "text": [
      "2 X 1 =  2  3 X 1 =  3  4 X 1 =  4  5 X 1 =  5  6 X 1 =  6  7 X 1 =  7  8 X 1 =  8  9 X 1 =  9  \n",
      "2 X 2 =  4  3 X 2 =  6  4 X 2 =  8  5 X 2 = 10  6 X 2 = 12  7 X 2 = 14  8 X 2 = 16  9 X 2 = 18  \n",
      "2 X 3 =  6  3 X 3 =  9  4 X 3 = 12  5 X 3 = 15  6 X 3 = 18  7 X 3 = 21  8 X 3 = 24  9 X 3 = 27  \n",
      "2 X 4 =  8  3 X 4 = 12  4 X 4 = 16  5 X 4 = 20  6 X 4 = 24  7 X 4 = 28  8 X 4 = 32  9 X 4 = 36  \n",
      "2 X 5 = 10  3 X 5 = 15  4 X 5 = 20  5 X 5 = 25  6 X 5 = 30  7 X 5 = 35  8 X 5 = 40  9 X 5 = 45  \n",
      "2 X 6 = 12  3 X 6 = 18  4 X 6 = 24  5 X 6 = 30  6 X 6 = 36  7 X 6 = 42  8 X 6 = 48  9 X 6 = 54  \n",
      "2 X 7 = 14  3 X 7 = 21  4 X 7 = 28  5 X 7 = 35  6 X 7 = 42  7 X 7 = 49  8 X 7 = 56  9 X 7 = 63  \n",
      "2 X 8 = 16  3 X 8 = 24  4 X 8 = 32  5 X 8 = 40  6 X 8 = 48  7 X 8 = 56  8 X 8 = 64  9 X 8 = 72  \n",
      "2 X 9 = 18  3 X 9 = 27  4 X 9 = 36  5 X 9 = 45  6 X 9 = 54  7 X 9 = 63  8 X 9 = 72  9 X 9 = 81  \n"
     ]
    }
   ],
   "source": [
    "for i in range(1,10) :\n",
    "    gugudan = ''\n",
    "    for dan in range(2,10) :\n",
    "        print(dan,'X',i,'=','%2d'%(dan*i),end='')\n",
    "        print(end='  ')\n",
    "    print(gugudan)"
   ]
  },
  {
   "cell_type": "markdown",
   "metadata": {},
   "source": [
    "### 2.2.3 리스트와 range 조합하기"
   ]
  },
  {
   "cell_type": "code",
   "execution_count": 38,
   "metadata": {},
   "outputs": [
    {
     "name": "stdout",
     "output_type": "stream",
     "text": [
      "34\n",
      "234\n",
      "54\n",
      "2\n",
      "77\n",
      "H\n",
      "e\n",
      "l\n",
      "l\n",
      "o\n",
      "0번째 반복 : 34\n",
      "1번째 반복 : 234\n",
      "2번째 반복 : 54\n",
      "3번째 반복 : 2\n",
      "4번째 반복 : 77\n"
     ]
    }
   ],
   "source": [
    "a = [34, 234, 54, 2, 77]\n",
    "\n",
    "for i in a :\n",
    "   print(i)\n",
    "    \n",
    "for i in 'Hello' :\n",
    "    print(i)\n",
    "    \n",
    "for i in range(len(a)) :\n",
    "    print('{}번째 반복 : {}'.format(i,a[i]))"
   ]
  },
  {
   "cell_type": "markdown",
   "metadata": {},
   "source": [
    "### 2.2.4 dict items() 함수와 for문"
   ]
  },
  {
   "cell_type": "code",
   "execution_count": 40,
   "metadata": {},
   "outputs": [
    {
     "name": "stdout",
     "output_type": "stream",
     "text": [
      "name BTS\n",
      "member 7\n",
      "데뷔곡 데인저\n",
      "대표곡 ['IDOL', '봄날', '불타오르네', 'Dynamite']\n"
     ]
    }
   ],
   "source": [
    "singer = {\n",
    "    'name' : 'BTS',\n",
    "    'member' : 7,\n",
    "    '데뷔곡' : '데인저',\n",
    "    '대표곡' : ['IDOL','봄날','불타오르네','Dynamite']\n",
    "    \n",
    "}\n",
    "\n",
    "# print(singer.items())\n",
    "\n",
    "for i,j in singer.items() : \n",
    "    print(i, j)\n"
   ]
  },
  {
   "cell_type": "markdown",
   "metadata": {},
   "source": [
    "### 2.2.5 리스트 내포(list comprehension)\n",
    "- list 안에 for문을 포함하는 list 내포(list comprehension)를 사용하면 좀 더 편리하고 직관적인 프로그램을 만들 수 있다.\n",
    "- 리스트 이름 = [표현식 for 반복자 in 반복할 수 있는 것]"
   ]
  },
  {
   "cell_type": "code",
   "execution_count": 2,
   "metadata": {},
   "outputs": [
    {
     "name": "stdout",
     "output_type": "stream",
     "text": [
      "[3, 6, 9, 12]\n",
      "[3, 6, 9, 12]\n"
     ]
    }
   ],
   "source": [
    "a = [1, 2, 3, 4]\n",
    "result = []\n",
    "\n",
    "for num in a :\n",
    "    result.append(num*3)\n",
    "print(result)\n",
    "\n",
    "#########\n",
    "\n",
    "result = [num*3 for num in a]\n",
    "print(result)"
   ]
  },
  {
   "cell_type": "code",
   "execution_count": 4,
   "metadata": {},
   "outputs": [
    {
     "name": "stdout",
     "output_type": "stream",
     "text": [
      "[1, 4, 9, 16, 25, 36, 49, 64, 81, 100]\n",
      "[1, 4, 9, 16, 25, 36, 49, 64, 81, 100]\n"
     ]
    }
   ],
   "source": [
    "# 1~10까지 제곱으로 이루어진 list\n",
    "\n",
    "a = []\n",
    "for i in range(1, 11) :\n",
    "    a.append(i*i)\n",
    "print(a)\n",
    "\n",
    "########\n",
    "\n",
    "a = [i*i for i in range(1,11)]\n",
    "print(a)"
   ]
  },
  {
   "cell_type": "code",
   "execution_count": 10,
   "metadata": {},
   "outputs": [
    {
     "name": "stdout",
     "output_type": "stream",
     "text": [
      "['apple', 'banana', 'cherry']\n",
      "['apple', 'banana', 'cherry']\n"
     ]
    }
   ],
   "source": [
    "# candy가 아닌 fruit로 리스트 재조합\n",
    "c = ['apple', 'banana', 'cherry', 'candy']\n",
    "output = []\n",
    "\n",
    "for i in c : \n",
    "    if i != 'candy' : \n",
    "        output.append(i)\n",
    "print(output)\n",
    "\n",
    "############\n",
    "\n",
    "output = [i for i in c if i != 'candy']\n",
    "print(output)\n"
   ]
  },
  {
   "cell_type": "markdown",
   "metadata": {},
   "source": [
    "# 3. pass, break, countinue 키워드 \n",
    "## 3.1 pass\n",
    "- 프로그래밍 전체골격을 잡아 놓고 내부에서 처리할 내용은 차근차근 만들겠다는 의도.\n",
    "- 조건문, 반복문, 함수, 클래스 등...."
   ]
  },
  {
   "cell_type": "code",
   "execution_count": 12,
   "metadata": {},
   "outputs": [],
   "source": [
    "number =0\n",
    "\n",
    "if number > 0 :\n",
    "    pass\n",
    "else :\n",
    "    pass"
   ]
  },
  {
   "cell_type": "markdown",
   "metadata": {},
   "source": [
    "## 3.2 break\n",
    "- 반복문을 탈출시키는 키워드. \n",
    "- 반복문을 수행하다가 더 이상 반복이 필요없는 경우"
   ]
  },
  {
   "cell_type": "code",
   "execution_count": 20,
   "metadata": {},
   "outputs": [
    {
     "name": "stdout",
     "output_type": "stream",
     "text": [
      "1st : 5\n",
      "2st : 3\n",
      "5 + 3 = 8\n",
      "1st : 3\n",
      "2st : 0\n",
      "0을 입력해서 반복문을 탈출했습니다.\n"
     ]
    }
   ],
   "source": [
    "# 두수를 입력 받아서 더하기 출력하기, 0 입력하면 종료\n",
    "\n",
    "while True :\n",
    "    a = int(input('1st : '))\n",
    "    if a == 0 :\n",
    "        break\n",
    "    b = int(input('2st : '))\n",
    "    if b == 0 :\n",
    "        break\n",
    "    hap = a+b\n",
    "    print('{} + {} = {}'.format(a, b, hap))\n",
    "\n",
    "print('0을 입력해서 반복문을 탈출했습니다.')"
   ]
  },
  {
   "cell_type": "code",
   "execution_count": 26,
   "metadata": {},
   "outputs": [
    {
     "name": "stdout",
     "output_type": "stream",
     "text": [
      "1~100의 합계를 최초로 1000이 넘게 하는 숫자 :  45\n"
     ]
    }
   ],
   "source": [
    "# 누적 합계(hap)가 1000이상이 되는 시작 지점 알기\n",
    "hap = 0\n",
    "\n",
    "for i in range(1, 101) :\n",
    "    hap += i\n",
    "    if hap >= 1000 :\n",
    "        break\n",
    "print('1~100의 합계를 최초로 1000이 넘게 하는 숫자 : ',i)    "
   ]
  },
  {
   "cell_type": "code",
   "execution_count": 29,
   "metadata": {},
   "outputs": [
    {
     "name": "stdout",
     "output_type": "stream",
     "text": [
      "★\n",
      "★★\n",
      "★★★\n",
      "★★★★\n",
      "★★★★★\n"
     ]
    }
   ],
   "source": [
    "# ★(\\u2605)로 직각삼각형 출력하기\n",
    "\n",
    "i = 1\n",
    "while True :\n",
    "    print('\\u2605'*i)\n",
    "    i += 1\n",
    "    if i > 5 :\n",
    "        break\n"
   ]
  },
  {
   "cell_type": "markdown",
   "metadata": {},
   "source": [
    "**무한루프를 활용한 자판기**"
   ]
  },
  {
   "cell_type": "code",
   "execution_count": 33,
   "metadata": {},
   "outputs": [
    {
     "name": "stdout",
     "output_type": "stream",
     "text": [
      "금액을 입력해 주세요 : 600\n",
      "☕\n",
      "거스름 돈 300원을 돌려줍니다\n",
      "금액을 입력해 주세요 : 500\n",
      "☕\n",
      "거스름 돈 200원을 돌려줍니다\n",
      "금액을 입력해 주세요 : 400\n",
      "☕\n",
      "거스름 돈 100원을 돌려줍니다\n",
      "금액을 입력해 주세요 : 600\n",
      "☕\n",
      "거스름 돈 300원을 돌려줍니다\n",
      "금액을 입력해 주세요 : 7000\n",
      "☕\n",
      "거스름 돈 6700원을 돌려줍니다\n",
      "운영을 종료합니다.\n",
      "커피가 모두 소진되었습니다. 관리자에게 문의해주세요.\n"
     ]
    }
   ],
   "source": [
    "###### 무한루프 자판기\n",
    "\n",
    "coffee = 5\n",
    "\n",
    "while True :\n",
    "    money = int(input('금액을 입력해 주세요 : '))\n",
    "    if money < 300 :\n",
    "        print('잔액이 부족합니다. %d원을 돌려줍니다.'%money)\n",
    "    elif money == 300 :\n",
    "        print('\\u2615')\n",
    "        coffee = coffee - 1\n",
    "    else :\n",
    "        print('\\u2615')\n",
    "        coffee = coffee - 1\n",
    "        print('거스름 돈 %d원을 돌려줍니다'%(money-300))\n",
    "    \n",
    "    if coffee == 0 :\n",
    "        print('운영을 종료합니다.')\n",
    "        break\n",
    "    \n",
    "print('커피가 모두 소진되었습니다. 관리자에게 문의해주세요.')\n"
   ]
  },
  {
   "cell_type": "code",
   "execution_count": null,
   "metadata": {},
   "outputs": [],
   "source": []
  },
  {
   "cell_type": "markdown",
   "metadata": {},
   "source": [
    "## 3.3 countinue\n",
    "- 해당 블록의 남은 부분을 무조건 건너띈 채 반복문의 처음으로 되돌아 가는 키워드\n",
    "- 반복문을 수행하다가 특정 조건에만 건너뛰고 싶은 경우"
   ]
  },
  {
   "cell_type": "code",
   "execution_count": 43,
   "metadata": {},
   "outputs": [
    {
     "name": "stdout",
     "output_type": "stream",
     "text": [
      "3367\n"
     ]
    }
   ],
   "source": [
    "#1~100의 합계를 구하되 3의 배수는 제외하고 더하기 -> 정답 : 3367\n",
    "sum = 0\n",
    "\n",
    "for i in range(1,101) :\n",
    "    if i % 3 == 0 :\n",
    "        continue\n",
    "    sum += i \n",
    "    \n",
    "print(sum)"
   ]
  },
  {
   "cell_type": "markdown",
   "metadata": {},
   "source": [
    "**연습문제6) 음식궁합을 출력하는 프로그램을 만드시오.**\n",
    "- 아래 궁합 정보를 담고 있는 foods라는 변수를 만든다\n",
    "\n",
    "| 음식 | 궁합음식 |\n",
    "| ---- | ---- | \n",
    "| 떡볶이 |  튀김 |  \n",
    "| 짜장면| 단무지 | \n",
    "| 라면 | 김치 | \n",
    "| 피자 |  콜라 |\n",
    "| 치킨 |  맥주 |\n",
    "| 삼겹살 |  상추 |\n",
    "\n",
    "- 자신이 좋아하는 하는 음식을 입력하면 궁합음식을 출력한다.\n",
    "- foods에 없는 음식을 입력하면 '그런음식 없습니다. 확인해보세요'를 출력한다. \n",
    "- while을 이용한 무한반복문으로 만들고 'end'를 입력하면 프로그램이 종료되도록 한다.\n",
    "\n"
   ]
  },
  {
   "cell_type": "code",
   "execution_count": 50,
   "metadata": {},
   "outputs": [
    {
     "name": "stdout",
     "output_type": "stream",
     "text": [
      "좋아하는 음식 : 피자\n",
      "콜라\n",
      "좋아하는 음식 : 치킨\n",
      "맥주\n",
      "좋아하는 음식 : end\n"
     ]
    }
   ],
   "source": [
    "# 내 답\n",
    "\n",
    "foods = {'떡볶이' : '튀김', '짜장면' : '단무지', '라면' : '김치', '피자' : '콜라', '치킨' : '맥주', '삼겹살' : '상추'}\n",
    "\n",
    "while True :\n",
    "    food = input('좋아하는 음식 : ')\n",
    "    if food == 'end' :\n",
    "        break\n",
    "    if food in foods :\n",
    "        print(foods[food])\n",
    "    else :\n",
    "        print('그런 음식 없습니다. 확인해보세요')\n",
    "        "
   ]
  },
  {
   "cell_type": "code",
   "execution_count": 63,
   "metadata": {},
   "outputs": [
    {
     "name": "stdout",
     "output_type": "stream",
     "text": [
      "['떡볶이', '짜장면', '라면', '피자', '치킨', '삼겹살']중 당신이 좋아하는 음식은? : 치킨\n",
      "치킨의 궁합음식은 맥주입니다.\n",
      "['떡볶이', '짜장면', '라면', '피자', '치킨', '삼겹살']중 당신이 좋아하는 음식은? : 떡볶이\n",
      "떡볶이의 궁합음식은 튀김입니다.\n",
      "['떡볶이', '짜장면', '라면', '피자', '치킨', '삼겹살']중 당신이 좋아하는 음식은? : end\n"
     ]
    }
   ],
   "source": [
    "# 교수님 답\n",
    "\n",
    "foods = {'떡볶이' : '튀김', \n",
    "         '짜장면' : '단무지', \n",
    "         '라면' : '김치', \n",
    "         '피자' : '콜라', \n",
    "         '치킨' : '맥주', \n",
    "         '삼겹살' : '상추'\n",
    "}\n",
    "\n",
    "foodStr = list(foods.keys())\n",
    "\n",
    "while True :\n",
    "    myFood = input(str(foodStr)+'중 당신이 좋아하는 음식은? : ')    # >> str로 캐스팅******** , + 로 합쳐주기\n",
    "               \n",
    "    if myFood in foods :\n",
    "        print('{}의 궁합음식은 {}입니다.'.format(myFood, foods[myFood]))\n",
    "    elif myFood == 'end' :\n",
    "        break\n",
    "    else :\n",
    "        print('그런음식 없습니다. 확인해보세요')\n",
    "    \n"
   ]
  },
  {
   "cell_type": "markdown",
   "metadata": {},
   "source": [
    " "
   ]
  },
  {
   "cell_type": "markdown",
   "metadata": {},
   "source": [
    " "
   ]
  }
 ],
 "metadata": {
  "kernelspec": {
   "display_name": "Python 3",
   "language": "python",
   "name": "python3"
  },
  "language_info": {
   "codemirror_mode": {
    "name": "ipython",
    "version": 3
   },
   "file_extension": ".py",
   "mimetype": "text/x-python",
   "name": "python",
   "nbconvert_exporter": "python",
   "pygments_lexer": "ipython3",
   "version": "3.8.8"
  },
  "toc": {
   "base_numbering": 1,
   "nav_menu": {},
   "number_sections": false,
   "sideBar": true,
   "skip_h1_title": false,
   "title_cell": "Table of Contents",
   "title_sidebar": "Contents",
   "toc_cell": false,
   "toc_position": {
    "height": "calc(100% - 180px)",
    "left": "10px",
    "top": "150px",
    "width": "304.474px"
   },
   "toc_section_display": true,
   "toc_window_display": false
  }
 },
 "nbformat": 4,
 "nbformat_minor": 2
}
