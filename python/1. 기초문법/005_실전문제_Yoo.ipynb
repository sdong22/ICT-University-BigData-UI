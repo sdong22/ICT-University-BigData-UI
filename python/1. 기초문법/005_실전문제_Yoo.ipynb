{
 "cells": [
  {
   "cell_type": "markdown",
   "metadata": {
    "id": "_QvGO44Y_PPI"
   },
   "source": [
    "# 실전문제 \n",
    " - 문제를 해결하면서 리스트의 개념을 정리해 봅니다.\n",
    " - 결과물은 print()를 이용해서 출력합니다."
   ]
  },
  {
   "cell_type": "markdown",
   "metadata": {
    "id": "Cr2KubJO_PPO"
   },
   "source": [
    "### 1. 아래 문제를 읽고 적절한 코드를 프로그래밍 합니다.\n",
    "- 2021년 5월 첫째주 영화 예매 순위 기준 top3는 다음과 같습니다. \n",
    "\n",
    "1.1 영화 제목을 movie_rank 이름의 리스트에 저장해보세요. (순위 정보는 저장하지 않습니다.)\n",
    "\n",
    "| 순위 | 영화 |\n",
    "| ---- | ---- | \n",
    "|  1 |  크루즈 패밀리 |  \n",
    "|  2 |  더 스파이 | \n",
    "|  3 |  미나리 | "
   ]
  },
  {
   "cell_type": "code",
   "execution_count": 1,
   "metadata": {
    "id": "rZxeSv4d_PPP"
   },
   "outputs": [
    {
     "name": "stdout",
     "output_type": "stream",
     "text": [
      "['크루즈 패밀리', '더 스파이', '미나리']\n"
     ]
    }
   ],
   "source": [
    "movie_rank = ['크루즈 패밀리', '더 스파이', '미나리']\n",
    "print(movie_rank)"
   ]
  },
  {
   "cell_type": "markdown",
   "metadata": {
    "id": "sLwirF_L_PPP"
   },
   "source": [
    "1.2 movie_rank에 '비와 당신의 이야기'를 추가하세요."
   ]
  },
  {
   "cell_type": "code",
   "execution_count": 46,
   "metadata": {
    "id": "3sOkWp6-_PPQ"
   },
   "outputs": [
    {
     "name": "stdout",
     "output_type": "stream",
     "text": [
      "['크루즈 패밀리', '더 스파이', '미나리', '비와 당신의 이야기']\n"
     ]
    }
   ],
   "source": [
    "movie_rank = ['크루즈 패밀리', '더 스파이', '미나리']\n",
    "movie_rank.append('비와 당신의 이야기')\n",
    "print(movie_rank)"
   ]
  },
  {
   "cell_type": "code",
   "execution_count": 48,
   "metadata": {},
   "outputs": [
    {
     "name": "stdout",
     "output_type": "stream",
     "text": [
      "['크루즈 패밀리', '더 스파이', '미나리', '비와 당신의 이야기']\n"
     ]
    }
   ],
   "source": [
    "movie_rank = ['크루즈 패밀리', '더 스파이', '미나리']\n",
    "movie_rank.extend(['비와 당신의 이야기'])\n",
    "print(movie_rank)"
   ]
  },
  {
   "cell_type": "markdown",
   "metadata": {
    "id": "nTzWikca_PPQ"
   },
   "source": [
    "1.3 \"명탐정 코난\"을 \"더 스파이\"와 \"미나리\" 사이에 추가하세요"
   ]
  },
  {
   "cell_type": "code",
   "execution_count": 3,
   "metadata": {
    "id": "dLKkScS9_PPQ"
   },
   "outputs": [
    {
     "name": "stdout",
     "output_type": "stream",
     "text": [
      "['크루즈 패밀리', '더 스파이', '명탐정 코난', '미나리', '비와 당신의 이야기']\n"
     ]
    }
   ],
   "source": [
    "movie_rank.insert(2,'명탐정 코난')\n",
    "print(movie_rank)"
   ]
  },
  {
   "cell_type": "markdown",
   "metadata": {
    "id": "tQrpbCKh_PPQ"
   },
   "source": [
    "1.4 movie_rank 리스트에서 '크루즈 패밀리'를 삭제하세요."
   ]
  },
  {
   "cell_type": "code",
   "execution_count": 4,
   "metadata": {
    "id": "5Blfag-h_PPR"
   },
   "outputs": [
    {
     "name": "stdout",
     "output_type": "stream",
     "text": [
      "['더 스파이', '명탐정 코난', '미나리', '비와 당신의 이야기']\n"
     ]
    }
   ],
   "source": [
    "del(movie_rank[0])\n",
    "print(movie_rank)"
   ]
  },
  {
   "cell_type": "markdown",
   "metadata": {
    "id": "THQSdhPm_PPR"
   },
   "source": [
    "1.5 movie_rank에서 '미나리'를 삭제하세요."
   ]
  },
  {
   "cell_type": "code",
   "execution_count": 5,
   "metadata": {
    "id": "8WIAqVdA_PPR"
   },
   "outputs": [
    {
     "name": "stdout",
     "output_type": "stream",
     "text": [
      "['더 스파이', '명탐정 코난', '비와 당신의 이야기']\n"
     ]
    }
   ],
   "source": [
    "movie_rank.remove('미나리')\n",
    "print(movie_rank)"
   ]
  },
  {
   "cell_type": "code",
   "execution_count": 50,
   "metadata": {},
   "outputs": [
    {
     "name": "stdout",
     "output_type": "stream",
     "text": [
      "['더 스파이', '명탐정 코난', '비와 당신의 이야기']\n"
     ]
    }
   ],
   "source": [
    "movie_rank = ['더 스파이', '명탐정 코난', '미나리', '비와 당신의 이야기']\n",
    "movie_rank.pop(2)\n",
    "print(movie_rank)"
   ]
  },
  {
   "cell_type": "markdown",
   "metadata": {
    "id": "l1FesR_Z_PPR"
   },
   "source": [
    "### 2.  list_a = [1, 2, 3, 4], list_b = [5, 6, 7, 8] 일때 list_a 와 list_b 값을 모두 가지는 list_c를 생성하세요."
   ]
  },
  {
   "cell_type": "code",
   "execution_count": 6,
   "metadata": {
    "id": "HvHoM4Dk_PPS"
   },
   "outputs": [
    {
     "name": "stdout",
     "output_type": "stream",
     "text": [
      "[1, 2, 3, 4, 5, 6, 7, 8]\n"
     ]
    }
   ],
   "source": [
    "list_a = [1,2,3,4]\n",
    "list_b = [5,6,7,8]\n",
    "list_c = list_a + list_b\n",
    "print(list_c)"
   ]
  },
  {
   "cell_type": "markdown",
   "metadata": {
    "id": "mi7Iajho_PPS"
   },
   "source": [
    "### 3. 다음 리스트에 저장된 데이터의 개수를 화면에 구하시오.\n",
    "- cook = [\"피자\", \"김밥\", \"만두\", \"양념치킨\", \"족발\", \"피자\", \"김치만두\", \"쫄면\", \"쏘세지\", \"라면\", \"팥빙수\", \"김치전\"]"
   ]
  },
  {
   "cell_type": "code",
   "execution_count": 8,
   "metadata": {
    "id": "ltOPAuR8_PPS"
   },
   "outputs": [
    {
     "name": "stdout",
     "output_type": "stream",
     "text": [
      "12\n"
     ]
    }
   ],
   "source": [
    "cook = [\"피자\", \"김밥\", \"만두\", \"양념치킨\", \"족발\", \"피자\", \"김치만두\", \"쫄면\", \"쏘세지\", \"라면\", \"팥빙수\", \"김치전\"]\n",
    "print(len(cook))"
   ]
  },
  {
   "cell_type": "markdown",
   "metadata": {
    "id": "74lJFXy6_PPS"
   },
   "source": [
    "### 4. a = [1, 2, 3, 4, 5, 6, 7, 8, 9, 10] 일때 아래 질문에 맞는 코드를 프로그래밍 하세요."
   ]
  },
  {
   "cell_type": "markdown",
   "metadata": {
    "id": "s5kruNml_PPS"
   },
   "source": [
    "4.1 홀수만 추출하세요.(슬라이싱 사용)"
   ]
  },
  {
   "cell_type": "code",
   "execution_count": 9,
   "metadata": {
    "id": "plt24g3k_PPT"
   },
   "outputs": [
    {
     "name": "stdout",
     "output_type": "stream",
     "text": [
      "[1, 3, 5, 7, 9]\n"
     ]
    }
   ],
   "source": [
    "a = [1, 2, 3, 4, 5, 6, 7, 8, 9, 10]\n",
    "print(a[::2])"
   ]
  },
  {
   "cell_type": "markdown",
   "metadata": {
    "id": "ww96Y6MM_PPT"
   },
   "source": [
    "4.2 짝수만 추출하세요.(슬라이싱 사용)"
   ]
  },
  {
   "cell_type": "code",
   "execution_count": 12,
   "metadata": {
    "id": "px22Kfnt_PPT"
   },
   "outputs": [
    {
     "name": "stdout",
     "output_type": "stream",
     "text": [
      "[2, 4, 6, 8, 10]\n"
     ]
    }
   ],
   "source": [
    "print(a[1::2])"
   ]
  },
  {
   "cell_type": "markdown",
   "metadata": {
    "id": "IwmCi-5H_PPT"
   },
   "source": [
    "4.3 슬라이싱을 사용해서 리스트의 숫자를 역 방향으로 출력하라."
   ]
  },
  {
   "cell_type": "code",
   "execution_count": 13,
   "metadata": {
    "id": "U0MRXvq5_PPT"
   },
   "outputs": [
    {
     "name": "stdout",
     "output_type": "stream",
     "text": [
      "[10, 9, 8, 7, 6, 5, 4, 3, 2, 1]\n"
     ]
    }
   ],
   "source": [
    "print(a[::-1])"
   ]
  },
  {
   "cell_type": "markdown",
   "metadata": {
    "id": "AMKpnU6t_PPU"
   },
   "source": [
    "### 5. 3개의 숫자를 입력받아서 내림차순으로 정렬하세요."
   ]
  },
  {
   "cell_type": "code",
   "execution_count": 18,
   "metadata": {
    "id": "iKsK872n_PPU"
   },
   "outputs": [
    {
     "name": "stdout",
     "output_type": "stream",
     "text": [
      "1번째 숫자 : 4\n",
      "2번째 숫자 : 32\n",
      "3번째 숫자 : 6\n",
      "입력받은 숫자 :  [4, 32, 6]\n",
      "내림차순 정렬 :  [32, 6, 4]\n"
     ]
    }
   ],
   "source": [
    "a = []\n",
    "\n",
    "for i in range(1,4,1) :\n",
    "    a.append(int(input('{}번째 숫자 : '.format(i))))\n",
    "\n",
    "print('입력받은 숫자 : ', a)\n",
    "a.sort(reverse = True)\n",
    "print('내림차순 정렬 : ', a)"
   ]
  },
  {
   "cell_type": "markdown",
   "metadata": {
    "id": "fCQxIrC9_PPU"
   },
   "source": [
    "### 6. 변수 company 가 아래와 같을 때 적절한 코드를 프로그래밍 하세요.\n",
    "- company = 'Samsung/Naver/LG/Kakao/SK'"
   ]
  },
  {
   "cell_type": "markdown",
   "metadata": {
    "id": "Tn1L4clZ_PPU"
   },
   "source": [
    "6.1 company = ['Samsung', 'Naver', 'LG', 'Kakao', 'SK'] 의 형태로 출력하시오.(str함수이용)"
   ]
  },
  {
   "cell_type": "code",
   "execution_count": 30,
   "metadata": {
    "id": "4tQYhA4p_PPU"
   },
   "outputs": [
    {
     "name": "stdout",
     "output_type": "stream",
     "text": [
      "['Samsung', 'Naver', 'LG', 'Kakao', 'SK']\n"
     ]
    }
   ],
   "source": [
    "company = 'Samsung/Naver/LG/Kakao/SK'\n",
    "a = company.split('/')\n",
    "print(a)"
   ]
  },
  {
   "cell_type": "markdown",
   "metadata": {
    "id": "to_Adpqy_PPV"
   },
   "source": [
    "6.2 company = ['Samsung', 'Naver', 'LG', 'Kakao', 'SK'] 를 company = 'Samsung%Naver%LG%Kakao%SK' 형태로 출력하시오."
   ]
  },
  {
   "cell_type": "code",
   "execution_count": 31,
   "metadata": {
    "id": "P1wgHbku_PPV"
   },
   "outputs": [
    {
     "name": "stdout",
     "output_type": "stream",
     "text": [
      "Samsung%Naver%LG%Kakao%SK\n"
     ]
    }
   ],
   "source": [
    "b = '%'.join(a)\n",
    "print(b)"
   ]
  },
  {
   "cell_type": "markdown",
   "metadata": {
    "id": "9xtmXh1p_PPV"
   },
   "source": [
    "### 7. 다음 문제을 읽고 답을 완성하세요.\n",
    "7.1 숫자 1이 저장된 튜플을 생성합니다."
   ]
  },
  {
   "cell_type": "code",
   "execution_count": 34,
   "metadata": {
    "id": "NJ3b9k5M_PPV"
   },
   "outputs": [
    {
     "name": "stdout",
     "output_type": "stream",
     "text": [
      "(1,)\n"
     ]
    }
   ],
   "source": [
    "my_tuple = (1, )\n",
    "print(my_tuple)"
   ]
  },
  {
   "cell_type": "markdown",
   "metadata": {
    "id": "TrIrHDMM_PPW"
   },
   "source": [
    "7.2 다음코드를 실행해보고 오류가 발행하는 원인을 설명하세요\n",
    "- 오류원인 : tuple은 읽기 전용이기 때문에 요소를 바꿀 수 없다."
   ]
  },
  {
   "cell_type": "code",
   "execution_count": 35,
   "metadata": {
    "id": "4sFQZffH_PPW",
    "outputId": "3af621b5-44b8-45f5-c3fa-4fb3628ea225"
   },
   "outputs": [
    {
     "ename": "SyntaxError",
     "evalue": "invalid syntax (<ipython-input-35-bc7494d2e127>, line 1)",
     "output_type": "error",
     "traceback": [
      "\u001b[1;36m  File \u001b[1;32m\"<ipython-input-35-bc7494d2e127>\"\u001b[1;36m, line \u001b[1;32m1\u001b[0m\n\u001b[1;33m    >> t = (1, 2, 3)\u001b[0m\n\u001b[1;37m    ^\u001b[0m\n\u001b[1;31mSyntaxError\u001b[0m\u001b[1;31m:\u001b[0m invalid syntax\n"
     ]
    }
   ],
   "source": [
    ">> t = (1, 2, 3)\n",
    ">> t[0] = 'a'\n",
    "Traceback (most recent call last):\n",
    "  File \"<pyshell#46>\", line 1, in <module>\n",
    "    t[0] = 'a'\n",
    "TypeError: 'tuple' object does not support item assignment"
   ]
  },
  {
   "cell_type": "markdown",
   "metadata": {
    "id": "4SyU0pzz_PPX"
   },
   "source": [
    "7.3 아래 변수 t의 자료형은?\n",
    "- 답변 : tuple"
   ]
  },
  {
   "cell_type": "code",
   "execution_count": 1,
   "metadata": {
    "id": "X3PC41O2_PPX"
   },
   "outputs": [
    {
     "name": "stdout",
     "output_type": "stream",
     "text": [
      "<class 'tuple'>\n"
     ]
    }
   ],
   "source": [
    "t = 1, 2, 3, 4\n",
    "print(type(t))"
   ]
  },
  {
   "cell_type": "markdown",
   "metadata": {
    "id": "UGvkRZW7_PPX"
   },
   "source": [
    "7.4 다음 리스트를 튜플로 변경하시오(company 자체를 변경해도 되고, 새로운 변수를 만들어도 됩니다.)"
   ]
  },
  {
   "cell_type": "code",
   "execution_count": 3,
   "metadata": {
    "id": "5okdi9q8_PPX"
   },
   "outputs": [
    {
     "name": "stdout",
     "output_type": "stream",
     "text": [
      "('삼성', '애플', '샤오미')\n"
     ]
    }
   ],
   "source": [
    "company = ['삼성', '애플', '샤오미']\n",
    "company= tuple(company)\n",
    "print(company)"
   ]
  },
  {
   "cell_type": "code",
   "execution_count": 53,
   "metadata": {
    "id": "kUxmmsxn_PPY"
   },
   "outputs": [
    {
     "name": "stdout",
     "output_type": "stream",
     "text": [
      "<class 'tuple'>\n"
     ]
    }
   ],
   "source": [
    "company = ('삼성', '애플', '샤오미')\n",
    "print(type(company))"
   ]
  }
 ],
 "metadata": {
  "colab": {
   "name": "005. 실전문제_before.ipynb",
   "provenance": []
  },
  "kernelspec": {
   "display_name": "Python 3",
   "language": "python",
   "name": "python3"
  },
  "language_info": {
   "codemirror_mode": {
    "name": "ipython",
    "version": 3
   },
   "file_extension": ".py",
   "mimetype": "text/x-python",
   "name": "python",
   "nbconvert_exporter": "python",
   "pygments_lexer": "ipython3",
   "version": "3.8.8"
  },
  "toc": {
   "base_numbering": 1,
   "nav_menu": {},
   "number_sections": false,
   "sideBar": true,
   "skip_h1_title": false,
   "title_cell": "Table of Contents",
   "title_sidebar": "Contents",
   "toc_cell": false,
   "toc_position": {},
   "toc_section_display": true,
   "toc_window_display": false
  }
 },
 "nbformat": 4,
 "nbformat_minor": 1
}
