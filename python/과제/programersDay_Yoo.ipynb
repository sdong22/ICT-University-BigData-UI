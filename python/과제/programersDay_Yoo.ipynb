{
 "cells": [
  {
   "cell_type": "code",
   "execution_count": 10,
   "metadata": {},
   "outputs": [
    {
     "name": "stdout",
     "output_type": "stream",
     "text": [
      "년도를 입력하세요(1700~2700) : 2004\n",
      "2004-09-12\n"
     ]
    }
   ],
   "source": [
    "# 프로그래머의 날 출력\n",
    "\n",
    "# 변수\n",
    "cal=[31,28,31,30,31,30,31,31,30,31,30,31]\n",
    "year = int(input('년도를 입력하세요(1700~2700) : '))\n",
    "\n",
    "# 함수선언부\n",
    "def programersDay() :\n",
    "    sum=0\n",
    "    for i in range(len(cal)) :\n",
    "        sum += cal[i]\n",
    "        if sum > 256 :\n",
    "            print('{}-{:02d}-{:02d}'.format(year, i+1, cal[i]-(sum-256)))\n",
    "            break\n",
    "\n",
    "# 메인프로그램\n",
    "if year<1700 or year>2700 : \n",
    "    print('1700~2700 사이의 값을 입력해주세요')\n",
    "elif year == 1918 :\n",
    "    cal[1] -= 13\n",
    "    programersDay()\n",
    "elif (year<1918 and year%4 ==0) or (year>1918 and (year%400==0 or (year%4==0 and year%100 != 0))) :\n",
    "    cal[1] += 1\n",
    "    programersDay()\n",
    "else :\n",
    "    programersDay()"
   ]
  },
  {
   "cell_type": "code",
   "execution_count": 2,
   "metadata": {},
   "outputs": [
    {
     "name": "stdout",
     "output_type": "stream",
     "text": [
      "년도를 입력하세요(1700~2700) : 2021\n",
      "몇번째 날 : 30\n",
      "2021-01-30\n"
     ]
    }
   ],
   "source": [
    "# n번째 날을 입력하면 날짜 계산해주는 프로그램\n",
    "\n",
    "# 변수\n",
    "cal=[31,28,31,30,31,30,31,31,30,31,30,31]\n",
    "year = int(input('년도를 입력하세요(1700~2700) : '))\n",
    "day = int(input('몇번째 날 : '))\n",
    "\n",
    "# 함수선언부\n",
    "def whenDate() :\n",
    "    sum=0\n",
    "    for i in range(len(cal)) :\n",
    "        sum += cal[i]\n",
    "        if sum > day :\n",
    "            print('{}-{:02d}-{:02d}'.format(year, i+1, cal[i]-(sum-day)))\n",
    "            break\n",
    "\n",
    "# 메인프로그램\n",
    "if year<1700 or year>2700 : \n",
    "    print('1700~2700 사이의 값을 입력해주세요')\n",
    "elif year == 1918 :\n",
    "    cal[1] -= 13\n",
    "    whenDate()    \n",
    "elif (year<1918 and year%4 ==0) or (year>1918 and (year%400==0 or (year%4==0 and year%100 != 0))) :\n",
    "    cal[1] += 1\n",
    "    whenDate()\n",
    "else :\n",
    "    whenDate()"
   ]
  }
 ],
 "metadata": {
  "kernelspec": {
   "display_name": "Python 3",
   "language": "python",
   "name": "python3"
  },
  "language_info": {
   "codemirror_mode": {
    "name": "ipython",
    "version": 3
   },
   "file_extension": ".py",
   "mimetype": "text/x-python",
   "name": "python",
   "nbconvert_exporter": "python",
   "pygments_lexer": "ipython3",
   "version": "3.8.5"
  },
  "toc": {
   "base_numbering": 1,
   "nav_menu": {},
   "number_sections": true,
   "sideBar": true,
   "skip_h1_title": false,
   "title_cell": "Table of Contents",
   "title_sidebar": "Contents",
   "toc_cell": false,
   "toc_position": {},
   "toc_section_display": true,
   "toc_window_display": false
  }
 },
 "nbformat": 4,
 "nbformat_minor": 4
}
