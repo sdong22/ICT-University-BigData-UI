{
 "cells": [
  {
   "cell_type": "markdown",
   "metadata": {},
   "source": [
    "# 오류의 종류\n",
    "- 프로그램 실행전에 발생하는 오류 : 구문오류(SyntaxError)\n",
    "- 프로그램 실행 중에 발생하는 오류 : 예외(exception) or 런타임 오류(runtime error)\n"
   ]
  },
  {
   "cell_type": "markdown",
   "metadata": {},
   "source": [
    "## 1. 구문오류\n",
    "- 해결하지 않으면 프로그램 자체가 실행되지 않는다."
   ]
  },
  {
   "cell_type": "code",
   "execution_count": 1,
   "metadata": {},
   "outputs": [
    {
     "ename": "SyntaxError",
     "evalue": "EOL while scanning string literal (<ipython-input-1-9751ba237533>, line 2)",
     "output_type": "error",
     "traceback": [
      "\u001b[1;36m  File \u001b[1;32m\"<ipython-input-1-9751ba237533>\"\u001b[1;36m, line \u001b[1;32m2\u001b[0m\n\u001b[1;33m    print('예외를 발생시켜볼게요)\u001b[0m\n\u001b[1;37m                       ^\u001b[0m\n\u001b[1;31mSyntaxError\u001b[0m\u001b[1;31m:\u001b[0m EOL while scanning string literal\n"
     ]
    }
   ],
   "source": [
    "# 문법오류\n",
    "print('프로그램이 시작되었습니다')\n",
    "print('예외를 발생시켜볼게요)"
   ]
  },
  {
   "cell_type": "markdown",
   "metadata": {},
   "source": [
    "## 2. 예외\n",
    "- 프로그램이 실행된 다음, 실행중에 발생\n",
    "- 조건문을 사용하는 방법\n",
    "- try 구문을 사용하는 방법\n",
    "- try 구문이 if else 구문보다 속도 살짝 느림"
   ]
  },
  {
   "cell_type": "code",
   "execution_count": 4,
   "metadata": {},
   "outputs": [
    {
     "name": "stdout",
     "output_type": "stream",
     "text": [
      "프로그램이 시작되었습니다\n"
     ]
    },
    {
     "ename": "NameError",
     "evalue": "name 'lista' is not defined",
     "output_type": "error",
     "traceback": [
      "\u001b[1;31m---------------------------------------------------------------------------\u001b[0m",
      "\u001b[1;31mNameError\u001b[0m                                 Traceback (most recent call last)",
      "\u001b[1;32m<ipython-input-4-f76e2451e66c>\u001b[0m in \u001b[0;36m<module>\u001b[1;34m\u001b[0m\n\u001b[0;32m      1\u001b[0m \u001b[0mprint\u001b[0m\u001b[1;33m(\u001b[0m\u001b[1;34m'프로그램이 시작되었습니다'\u001b[0m\u001b[1;33m)\u001b[0m\u001b[1;33m\u001b[0m\u001b[1;33m\u001b[0m\u001b[0m\n\u001b[1;32m----> 2\u001b[1;33m \u001b[0mlista\u001b[0m\u001b[1;33m[\u001b[0m\u001b[1;36m0\u001b[0m\u001b[1;33m]\u001b[0m\u001b[1;33m\u001b[0m\u001b[1;33m\u001b[0m\u001b[0m\n\u001b[0m",
      "\u001b[1;31mNameError\u001b[0m: name 'lista' is not defined"
     ]
    }
   ],
   "source": [
    "print('프로그램이 시작되었습니다')\n",
    "lista[0]"
   ]
  },
  {
   "cell_type": "code",
   "execution_count": 6,
   "metadata": {},
   "outputs": [
    {
     "name": "stdout",
     "output_type": "stream",
     "text": [
      "정수 입력 :4\n",
      "원의 반지름 : 4\n",
      "원의 둘레 : 25.12\n",
      "원의 넓이 : 50.24\n"
     ]
    }
   ],
   "source": [
    "user = int(input('정수 입력 :'))\n",
    "\n",
    "print('원의 반지름 :',user)\n",
    "print('원의 둘레 :',2*3.14*user)\n",
    "print('원의 넓이 :',3.14*user*user)"
   ]
  },
  {
   "cell_type": "markdown",
   "metadata": {},
   "source": [
    "### 2.1 조건문으로 예외처리하기"
   ]
  },
  {
   "cell_type": "code",
   "execution_count": 13,
   "metadata": {},
   "outputs": [
    {
     "name": "stdout",
     "output_type": "stream",
     "text": [
      "정수 입력 :5.5\n",
      "정수를 입력하지 않았습니다.\n"
     ]
    }
   ],
   "source": [
    "user = input('정수 입력 :')\n",
    "\n",
    "if user.isdigit():                 # isdigit() : 정수가 아닌 실수나 문자를 입력할 경우 예외처리\n",
    "    num = int(user)\n",
    "    print('원의 반지름 :',num)\n",
    "    print('원의 둘레 :',2*3.14*num)\n",
    "    print('원의 넓이 :',3.14*num*num)\n",
    "else :\n",
    "    print('정수를 입력하지 않았습니다.')"
   ]
  },
  {
   "cell_type": "markdown",
   "metadata": {},
   "source": [
    "### 2.2 try except 구문\n",
    "\n",
    "try:\n",
    ">예외가 발생할 가능성이 있는 코드\n",
    "\n",
    "except :\n",
    ">예외가 발생했을 때 실행할 코드\n"
   ]
  },
  {
   "cell_type": "code",
   "execution_count": 15,
   "metadata": {},
   "outputs": [
    {
     "name": "stdout",
     "output_type": "stream",
     "text": [
      "정수 입력 :sdl\n",
      "무언가 잘못했습니다.\n"
     ]
    }
   ],
   "source": [
    "try:\n",
    "    user = int(input('정수 입력 :'))\n",
    "    print('원의 반지름 :',user)\n",
    "    print('원의 둘레 :',2*3.14*user)\n",
    "    print('원의 넓이 :',3.14*user*user)\n",
    "except :\n",
    "    print('무언가 잘못했습니다.')"
   ]
  },
  {
   "cell_type": "markdown",
   "metadata": {},
   "source": [
    "**try except 구문2**\n",
    "- 발생오류별로 처리를 달리하고 싶을 때 : except 발생오류\n",
    "- 오류 메시지 내용까지 알고 싶을 때 :  except 발생오류 as 오류 메시지 변수\n",
    "\n",
    "try:\n",
    ">예외가 발생할 가능성이 있는 코드\n",
    "\n",
    "except 발생오류 :\n",
    ">예외가 발생했을 때 실행할 코드\n",
    "\n",
    "except 발생오류 as 오류 메시지 변수 :\n",
    ">예외가 발생했을 때 실행할 코드\n",
    "...\n",
    "- ValueError, ZeroDivisionError, IndexError, Exception..."
   ]
  },
  {
   "cell_type": "code",
   "execution_count": 35,
   "metadata": {
    "scrolled": true
   },
   "outputs": [
    {
     "name": "stdout",
     "output_type": "stream",
     "text": [
      "정수 입력 :6\n"
     ]
    },
    {
     "ename": "IndexError",
     "evalue": "list index out of range",
     "output_type": "error",
     "traceback": [
      "\u001b[1;31m---------------------------------------------------------------------------\u001b[0m",
      "\u001b[1;31mIndexError\u001b[0m                                Traceback (most recent call last)",
      "\u001b[1;32m<ipython-input-35-91a25a3d918d>\u001b[0m in \u001b[0;36m<module>\u001b[1;34m\u001b[0m\n\u001b[0;32m      1\u001b[0m \u001b[0mnumber\u001b[0m \u001b[1;33m=\u001b[0m \u001b[1;33m[\u001b[0m\u001b[1;34m'243'\u001b[0m\u001b[1;33m,\u001b[0m \u001b[1;34m'234'\u001b[0m\u001b[1;33m,\u001b[0m \u001b[1;34m'스파이'\u001b[0m\u001b[1;33m,\u001b[0m \u001b[1;34m'33'\u001b[0m\u001b[1;33m,\u001b[0m \u001b[1;34m'123'\u001b[0m\u001b[1;33m]\u001b[0m\u001b[1;33m\u001b[0m\u001b[1;33m\u001b[0m\u001b[0m\n\u001b[0;32m      2\u001b[0m \u001b[0muser\u001b[0m \u001b[1;33m=\u001b[0m \u001b[0mint\u001b[0m\u001b[1;33m(\u001b[0m\u001b[0minput\u001b[0m\u001b[1;33m(\u001b[0m\u001b[1;34m'정수 입력 :'\u001b[0m\u001b[1;33m)\u001b[0m\u001b[1;33m)\u001b[0m\u001b[1;33m\u001b[0m\u001b[1;33m\u001b[0m\u001b[0m\n\u001b[1;32m----> 3\u001b[1;33m \u001b[0mprint\u001b[0m\u001b[1;33m(\u001b[0m\u001b[1;34m'{}번째 요소 {}'\u001b[0m\u001b[1;33m.\u001b[0m\u001b[0mformat\u001b[0m\u001b[1;33m(\u001b[0m\u001b[0muser\u001b[0m\u001b[1;33m,\u001b[0m \u001b[0mnumber\u001b[0m\u001b[1;33m[\u001b[0m\u001b[0muser\u001b[0m\u001b[1;33m]\u001b[0m\u001b[1;33m)\u001b[0m\u001b[1;33m)\u001b[0m\u001b[1;33m\u001b[0m\u001b[1;33m\u001b[0m\u001b[0m\n\u001b[0m",
      "\u001b[1;31mIndexError\u001b[0m: list index out of range"
     ]
    }
   ],
   "source": [
    "number = ['243', '234', '스파이', '33', '123']\n",
    "user = int(input('정수 입력 :'))\n",
    "print('{}번째 요소 {}'.format(user, number[user]))"
   ]
  },
  {
   "cell_type": "code",
   "execution_count": 41,
   "metadata": {},
   "outputs": [
    {
     "name": "stdout",
     "output_type": "stream",
     "text": [
      "정수 입력 :34\n",
      "인덱스를 벗어났어요 : list index out of range\n"
     ]
    }
   ],
   "source": [
    "number = ['243', '234', '스파이', '33', '123']\n",
    "\n",
    "try :\n",
    "    user = int(input('정수 입력 :'))\n",
    "    print('{}번째 요소 {}'.format(user, number[user]))\n",
    "except ValueError :\n",
    "    print('Value Error!!!!')\n",
    "\n",
    "except IndexError as err :\n",
    "    print('인덱스를 벗어났어요 :',err)\n",
    "\n",
    "except Exception :\n",
    "    print('미리 파악하지 못한 예외가 발생했습니다')"
   ]
  },
  {
   "cell_type": "markdown",
   "metadata": {},
   "source": [
    "**try except 와 pass 키워드 조합하기**\n",
    "\n",
    "try:\n",
    ">예외가 발생할 가능성이 있는 코드\n",
    "\n",
    "except :\n",
    ">pass\n",
    "\n",
    "\n",
    "- try except 구문은 if 구문에 비해 약간 느리다."
   ]
  },
  {
   "cell_type": "code",
   "execution_count": 46,
   "metadata": {},
   "outputs": [
    {
     "name": "stdout",
     "output_type": "stream",
     "text": [
      "['243', '234', '스파이', '33', '123']내부에 있는 숫자는 \n",
      "['243', '234', '33', '123']입니다\n"
     ]
    }
   ],
   "source": [
    "number = ['243', '234', '스파이', '33', '123']\n",
    "\n",
    "list_number= []\n",
    "for item in number :\n",
    "    try:\n",
    "        int(item)\n",
    "        list_number.append(item)\n",
    "    except :\n",
    "        pass\n",
    "    \n",
    "print('{}내부에 있는 숫자는 '.format(number))\n",
    "print('{}입니다'.format(list_number))"
   ]
  },
  {
   "cell_type": "markdown",
   "metadata": {},
   "source": [
    "**try except else 구문**\n",
    "\n",
    "try:\n",
    ">예외가 발생할 가능성이 있는 코드\n",
    "\n",
    "except :\n",
    ">예외가 발생했을 때 실행할 코드\n",
    "\n",
    "else :\n",
    ">예외가 발생하지 않았을 때 실행할 코드\n"
   ]
  },
  {
   "cell_type": "code",
   "execution_count": 49,
   "metadata": {},
   "outputs": [
    {
     "name": "stdout",
     "output_type": "stream",
     "text": [
      "정수 입력 :sdf\n",
      "무언가 잘못했습니다.\n"
     ]
    }
   ],
   "source": [
    "# try except else 구문으로 예외를 처리합니다.\n",
    "\n",
    "try:\n",
    "    user = int(input('정수 입력 :'))\n",
    "\n",
    "except :\n",
    "    print('무언가 잘못했습니다.')\n",
    "    \n",
    "else :\n",
    "    print('원의 반지름 :',user)\n",
    "    print('원의 둘레 :',2*3.14*user)\n",
    "    print('원의 넓이 :',3.14*user*user)"
   ]
  },
  {
   "cell_type": "markdown",
   "metadata": {},
   "source": [
    "**finally 구문**\n",
    "\n",
    "try:\n",
    ">예외가 발생할 가능성이 있는 코드\n",
    "\n",
    "except :\n",
    ">예외가 발생했을 때 실행할 코드\n",
    "\n",
    "else :\n",
    ">예외가 발생하지 않았을 때 실행할 코드\n",
    "\n",
    "finally :\n",
    ">무조건 실행할 코드\n"
   ]
  },
  {
   "cell_type": "code",
   "execution_count": 52,
   "metadata": {},
   "outputs": [
    {
     "name": "stdout",
     "output_type": "stream",
     "text": [
      "정수 입력 :7\n",
      "원의 반지름 : 7\n",
      "원의 둘레 : 43.96\n",
      "원의 넓이 : 153.86\n",
      "예외가 발생하지 않았습니다.\n",
      "일단 프로그램이 어떻게든 끝이 났습니다\n"
     ]
    }
   ],
   "source": [
    "# try except else 구문으로 예외를 처리합니다.\n",
    "\n",
    "try:\n",
    "    user = int(input('정수 입력 :'))\n",
    "    print('원의 반지름 :',user)\n",
    "    print('원의 둘레 :',2*3.14*user)\n",
    "    print('원의 넓이 :',3.14*user*user)\n",
    "\n",
    "except :\n",
    "    print('무언가 잘못했습니다.')\n",
    "    \n",
    "else :\n",
    "    print('예외가 발생하지 않았습니다.')\n",
    "    \n",
    "finally :\n",
    "    print('일단 프로그램이 어떻게든 끝이 났습니다')"
   ]
  },
  {
   "cell_type": "markdown",
   "metadata": {},
   "source": [
    "**try, except, finally 구문의 조합**\n",
    "- try는 단독으로 사용할 수 없으며, 반드시 except or finally와 함께 사용해야 한다.\n",
    "- else 구문은 except 구문뒤에 사용해야 한다.\n",
    "- try + except\n",
    "- try + except + else \n",
    "- try + except + finally\n",
    "- try + except+ else + finally\n",
    "- try + finally"
   ]
  },
  {
   "cell_type": "markdown",
   "metadata": {},
   "source": [
    "**raise**\n",
    "- 사용자가 강제로 예외를 발생시길때 사용"
   ]
  },
  {
   "cell_type": "code",
   "execution_count": 57,
   "metadata": {},
   "outputs": [
    {
     "name": "stdout",
     "output_type": "stream",
     "text": [
      "정수 입력 :0\n",
      "입력값에 문제가 있습니다.\n"
     ]
    }
   ],
   "source": [
    "try:\n",
    "    user = int(input('정수 입력 :'))\n",
    "    \n",
    "    if user <= 0 :\n",
    "        raise ValueError\n",
    "    \n",
    "    print('원의 반지름 :',user)\n",
    "    print('원의 둘레 :',2*3.14*user)\n",
    "    print('원의 넓이 :',3.14*user*user)\n",
    "\n",
    "except ValueError:\n",
    "    print('입력값에 문제가 있습니다.')\n",
    "    "
   ]
  },
  {
   "cell_type": "markdown",
   "metadata": {},
   "source": [
    "**연습문제1) 다음 코드는 숫자가 아닌 값이 들어오면 에러가 발생합니다. 예외처리를 통해 에러가 발생시에 적절한 메시지를 출력하시오**"
   ]
  },
  {
   "cell_type": "code",
   "execution_count": 4,
   "metadata": {},
   "outputs": [
    {
     "name": "stdout",
     "output_type": "stream",
     "text": [
      "첫 번째 숫자 : 2\n",
      "두 번째 숫자 : 3\n",
      "2/3=0\n"
     ]
    }
   ],
   "source": [
    "num1 = int(input('첫 번째 숫자 : '))\n",
    "num2 = int(input('두 번째 숫자 : '))\n",
    "print('{}/{}={}'.format(num1, num2, int(num1/num2)))"
   ]
  },
  {
   "cell_type": "code",
   "execution_count": 65,
   "metadata": {},
   "outputs": [
    {
     "name": "stdout",
     "output_type": "stream",
     "text": [
      "나누기 전용계산기\n",
      "첫 번째 숫자 : ㄹㄴ\n",
      "숫자만 입력하세요\n"
     ]
    }
   ],
   "source": [
    "try:\n",
    "    print('나누기 전용계산기')\n",
    "    num1 = int(input('첫 번째 숫자 : '))\n",
    "    num2 = int(input('두 번째 숫자 : '))\n",
    "    print('{}/{}={}'.format(num1, num2, int(num1/num2))) \n",
    "    \n",
    "except ValueError :\n",
    "    print('숫자만 입력하세요')\n",
    "except ZeroDivisionError as err :\n",
    "    print(err)\n",
    "except :\n",
    "    print('알수없는 오류가 발생했습니다.')\n"
   ]
  },
  {
   "cell_type": "markdown",
   "metadata": {},
   "source": [
    "**연습문제2)**\n",
    "- 동네에 항상 대기 손님이 있는 맛있는 치킨집이 있습니다.대기손님의 치킨요리 시간을 줄이고자 자동 주문 시스템을 제작하였습니다.  시스템 코드를 확인하고 적절한 예외처를 구문을 넣으시오.\n",
    "\n",
    "- 조건 1 : 대기 손님이 주문할 수 있는 총 치킨량은 10마리로 한정 치킨 소진시 '재료가 부족합니다'메시지 출력후 **프로그램 종료**.\n",
    "- 조건 2 : 1보다 작거나 숫자가 아닌 입력값이 들어올때는 ValueError로 처리\n",
    "- ValueError 메시지 : '잘못된 값을 입력하였습니다.'\n",
    "\n"
   ]
  },
  {
   "cell_type": "code",
   "execution_count": null,
   "metadata": {},
   "outputs": [],
   "source": [
    "chicken = 10\n",
    "waiting = 1\n",
    "while True :\n",
    "    print('[남은치킨:{}]'.format(chicken))\n",
    "    order = int(input('치킨 몇 마리 주문하시겠습니까?'))\n",
    "    print('[대기번호{}] {}마리 주문이 완료되었습니다.'.format(waiting, order))\n",
    "    waiting +=1\n",
    "    chicken -= order"
   ]
  },
  {
   "cell_type": "code",
   "execution_count": 86,
   "metadata": {},
   "outputs": [
    {
     "name": "stdout",
     "output_type": "stream",
     "text": [
      "[남은치킨:10]\n",
      "치킨 몇 마리 주문하시겠습니까?ewr\n",
      "잘못된 값을 입력하였습니다.\n",
      "[남은치킨:10]\n",
      "치킨 몇 마리 주문하시겠습니까?5\n",
      "[대기번호1] 5마리 주문이 완료되었습니다.\n",
      "[남은치킨:5]\n",
      "치킨 몇 마리 주문하시겠습니까?5\n",
      "[대기번호2] 5마리 주문이 완료되었습니다.\n",
      "[남은치킨:0]\n",
      "치킨 몇 마리 주문하시겠습니까?3\n",
      "재료가 부족합니다\n"
     ]
    }
   ],
   "source": [
    "chicken = 10\n",
    "waiting = 1\n",
    "while True :\n",
    "    try :\n",
    "        print('[남은치킨:{}]'.format(chicken))\n",
    "        order = int(input('치킨 몇 마리 주문하시겠습니까?'))\n",
    "              \n",
    "        if order > chicken :\n",
    "            print('재료가 부족합니다')\n",
    "            break    \n",
    "        elif order <=0 :\n",
    "              raise ValueError\n",
    "        else :\n",
    "            print('[대기번호{}] {}마리 주문이 완료되었습니다.'.format(waiting, order))\n",
    "            waiting +=1\n",
    "            chicken -= order\n",
    "    except ValueError :\n",
    "        print('잘못된 값을 입력하였습니다.')\n"
   ]
  },
  {
   "cell_type": "markdown",
   "metadata": {},
   "source": [
    "**연습문제3)**\n",
    "\n",
    "base 진법으로 표기된 숫자를 10진법 숫자 출력해보세요.\n",
    "\n",
    "- 입력 : 공백으로 구분된 숫자가 두 개 주어집니다. 첫 번째 숫자는 **num**을 나타내며, 두 번째 숫자는 **base**를 나타냅니다.\n",
    "- 출력 : **base** 진법으로 표기된 **num**을 10진법 숫자로 출력해보세요.\n",
    "- 제한 조건 : base는 10 이하인 자연수입니다.num은 3000 이하인 자연수입니다.\n",
    "- 입력 : 12 3 --> 출력 : 5\n",
    "- 입력 : 444 5 --> 출력 : 124\n"
   ]
  },
  {
   "cell_type": "markdown",
   "metadata": {},
   "source": [
    "enumerate()"
   ]
  },
  {
   "cell_type": "code",
   "execution_count": 127,
   "metadata": {
    "scrolled": true
   },
   "outputs": [
    {
     "name": "stdout",
     "output_type": "stream",
     "text": [
      "1010 2\n",
      "0 0\n",
      "1 1\n",
      "2 0\n",
      "3 1\n",
      "10\n"
     ]
    }
   ],
   "source": [
    "# 교수님 답\n",
    "num, base = input().split(' ')\n",
    "\n",
    "answer = 0\n",
    "for idx, number in enumerate(num[::-1]):\n",
    "    print(idx, number)\n",
    "    answer += int(number) * (int(base)**idx)\n",
    "    \n",
    "print(answer)"
   ]
  },
  {
   "cell_type": "code",
   "execution_count": 132,
   "metadata": {},
   "outputs": [
    {
     "name": "stdout",
     "output_type": "stream",
     "text": [
      "1010 2\n",
      "10\n"
     ]
    }
   ],
   "source": [
    "num, base = input().split(' ')\n",
    "\n",
    "print(int(num, int(base)))"
   ]
  },
  {
   "cell_type": "code",
   "execution_count": null,
   "metadata": {},
   "outputs": [],
   "source": [
    "\n",
    "nums = int(input('공백으로 구분된 숫자 두 개 :'))  # >> num, base\n",
    "\n",
    "for num, base in enumerate(str(nums)[::-1]) :\n",
    "    print(num, base)\n",
    "    answer\n",
    "\n",
    "\n",
    "\n",
    "\n",
    "#print(int('1010',2)) \n",
    "bin_num = 1010\n",
    "\n",
    "answer = 0\n",
    "\n",
    "for idx, number in enumerate(str(bin_num)[::-1]):\n",
    "    print(idx, number)\n",
    "    answer += int(number) * (2**idx)\n",
    "    \n",
    "print(answer)\n"
   ]
  },
  {
   "cell_type": "code",
   "execution_count": null,
   "metadata": {},
   "outputs": [],
   "source": []
  },
  {
   "cell_type": "code",
   "execution_count": 98,
   "metadata": {},
   "outputs": [
    {
     "name": "stdout",
     "output_type": "stream",
     "text": [
      "0번째 : 4\n",
      "1번째 : 5\n",
      "2번째 : 3\n",
      "3번째 : 2\n",
      "4번째 : 1\n",
      "--------------------\n",
      "(0, 4) <class 'tuple'>\n",
      "(1, 5) <class 'tuple'>\n",
      "(2, 3) <class 'tuple'>\n",
      "(3, 2) <class 'tuple'>\n",
      "(4, 1) <class 'tuple'>\n",
      "--------------------\n",
      "0 4 <class 'int'> <class 'int'>\n",
      "1 5 <class 'int'> <class 'int'>\n",
      "2 3 <class 'int'> <class 'int'>\n",
      "3 2 <class 'int'> <class 'int'>\n",
      "4 1 <class 'int'> <class 'int'>\n",
      "--------------------\n",
      "0 1 <class 'int'> <class 'int'>\n",
      "1 2 <class 'int'> <class 'int'>\n",
      "2 3 <class 'int'> <class 'int'>\n",
      "3 5 <class 'int'> <class 'int'>\n",
      "4 4 <class 'int'> <class 'int'>\n"
     ]
    }
   ],
   "source": [
    "list_a = [4,5,3,2,1]\n",
    "\n",
    "for i in range(len(list_a)) :\n",
    "    print('{}번째 : {}'.format(i, list_a[i]))\n",
    "    \n",
    "print('-'*20)\n",
    "for i in enumerate(list_a) :\n",
    "    print(i, type(i))\n",
    "\n",
    "print('-'*20)\n",
    "for idx, value in enumerate(list_a) : \n",
    "    print(idx, value, type(idx), type(value))\n",
    "    \n",
    "print('-'*20)\n",
    "for idx, value in enumerate(list_a[::-1]) :         # enumerate 는 리스트의 값에 접근하는 게 아니라 그냥 그 값을 넣어준 것 그래서 값을 바꿔줘도 실제로 리스트의 값이 변하는게 아님\n",
    "    print(idx, value, type(idx), type(value))"
   ]
  },
  {
   "cell_type": "code",
   "execution_count": 107,
   "metadata": {},
   "outputs": [
    {
     "name": "stdout",
     "output_type": "stream",
     "text": [
      "0\n",
      "5\n",
      "01\n",
      "2\n",
      "010\n",
      "1\n",
      "0101\n",
      "0\n",
      "[1, 0, 1, 0]\n"
     ]
    }
   ],
   "source": [
    "# 10진수를 2진수로 변환\n",
    "\n",
    "num = 10\n",
    "bin_num = ''\n",
    "\n",
    "while num != 0 :\n",
    "    bin_num = bin_num+str(num%2)\n",
    "    num = num//2\n",
    "    print(bin_num)\n",
    "    print(num)\n",
    "    \n",
    "int(bin_num[::-1])\n",
    "\n",
    "#_____________________________\n",
    "\n",
    "num = 10\n",
    "m = 0\n",
    "bin_num = []\n",
    "while True :\n",
    "    num, m = divmod(num, 2)\n",
    "    #bin_num.append(m)\n",
    "    bin_num.insert(0,m)\n",
    "    if num == 0 : break\n",
    "\n",
    "print(bin_num)\n"
   ]
  },
  {
   "cell_type": "code",
   "execution_count": 105,
   "metadata": {},
   "outputs": [
    {
     "name": "stdout",
     "output_type": "stream",
     "text": [
      "(5, 0)\n",
      "(2, 1)\n",
      "(1, 0)\n",
      "(0, 1)\n"
     ]
    }
   ],
   "source": [
    "# divmod : 몫과 나머지를 반환해주는 함수\n",
    "print(divmod(10,2))\n",
    "print(divmod(5,2))\n",
    "print(divmod(2,2))\n",
    "print(divmod(1,2))"
   ]
  },
  {
   "cell_type": "code",
   "execution_count": 111,
   "metadata": {},
   "outputs": [
    {
     "name": "stdout",
     "output_type": "stream",
     "text": [
      "0b1010\n",
      "0o12\n",
      "0xa\n"
     ]
    }
   ],
   "source": [
    "print(bin(10))  # 2진수\n",
    "print(oct(10))  # 8진수\n",
    "print(hex(10))  # 16진수"
   ]
  },
  {
   "cell_type": "code",
   "execution_count": 125,
   "metadata": {},
   "outputs": [
    {
     "name": "stdout",
     "output_type": "stream",
     "text": [
      "0 0\n",
      "1 1\n",
      "2 0\n",
      "3 1\n",
      "10\n",
      "10\n",
      "10\n"
     ]
    }
   ],
   "source": [
    "# 2진수를 10진수로\n",
    "\n",
    "bin_num = 1010\n",
    "\n",
    "answer = 0\n",
    "\n",
    "for idx, number in enumerate(str(bin_num)[::-1]):\n",
    "    print(idx, number)\n",
    "    answer += int(number) * (2**idx)\n",
    "    \n",
    "print(answer)\n",
    "\n",
    "print(int('1010',base=2)) # 2진수를 10진수로 바꿔준거\n",
    "print(int('1010',2))      #base= 은 생략가능(자리만 지켜주면)\n",
    "\n"
   ]
  },
  {
   "cell_type": "code",
   "execution_count": null,
   "metadata": {},
   "outputs": [],
   "source": []
  }
 ],
 "metadata": {
  "kernelspec": {
   "display_name": "Python 3",
   "language": "python",
   "name": "python3"
  },
  "language_info": {
   "codemirror_mode": {
    "name": "ipython",
    "version": 3
   },
   "file_extension": ".py",
   "mimetype": "text/x-python",
   "name": "python",
   "nbconvert_exporter": "python",
   "pygments_lexer": "ipython3",
   "version": "3.8.8"
  },
  "toc": {
   "base_numbering": 1,
   "nav_menu": {},
   "number_sections": false,
   "sideBar": true,
   "skip_h1_title": false,
   "title_cell": "Table of Contents",
   "title_sidebar": "Contents",
   "toc_cell": false,
   "toc_position": {},
   "toc_section_display": true,
   "toc_window_display": false
  }
 },
 "nbformat": 4,
 "nbformat_minor": 4
}
