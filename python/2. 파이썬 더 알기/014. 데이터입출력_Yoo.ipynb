{
 "cells": [
  {
   "cell_type": "markdown",
   "metadata": {
    "id": "7KaEFFwmaz9f"
   },
   "source": [
    "# I/O (Input / Output) "
   ]
  },
  {
   "cell_type": "markdown",
   "metadata": {
    "id": "WyMfCdGSaz9n"
   },
   "source": [
    "- 프로그램 입장에서 들어오는 모든 데이터를 input, 나가는 모든 데이터를 output이라고 한다.\n",
    "> 메인 메모리 입장에서 생각하는 들어오고 나가는 모든 데이터에 대해서 I/O 처리라고 부릅니다. (단, CPU와의 소통은 제외)\n",
    "\n",
    "\n",
    "- 사용자로 부터 키보드로 입력받는 것을 stdin이라고 하며, 사용자에게 다시 모니터로 출력되는 것을 stdout이라고 한다.\n",
    "\n",
    "> 통상적으로는 Unix 환경(터미널 환경)에서 부르던 용어인데, 프로그래밍에 자주 등장하기 때문에 소개한다.\n",
    "\n",
    "\n",
    "- 프로그램은 메인 메모리 상에 존재하기 때문에, 스토리지로부터 파일을 불러오는 것도 input이고, 프로그램의 결과를 스토리지에 저장하는 것도 output이다. 이러한 작업을 file I/O로 통칭한다.\n",
    "> 스토리지와 프로그램 사이의 I/O를 file I/O라고 합니다.\n",
    "\n",
    "\n",
    "- 파이썬에서 stdin/out을 사용하는 방법과 file I/O를 사용하는 방법에 대해 간단하게 알아본다."
   ]
  },
  {
   "cell_type": "markdown",
   "metadata": {
    "id": "Ob-m8XQbaz9o"
   },
   "source": [
    "## 1. STDIN / STDOUT (Standard IN, Standard OUT)"
   ]
  },
  {
   "cell_type": "markdown",
   "metadata": {
    "id": "I9B1Br_0az9o"
   },
   "source": [
    "- 파이썬은 input()을 통해서 stdin을 사용자로부터 입력받을 수 있다.\n",
    "- 파이썬에서는 stdin은 무조건 문자열 타입으로 들어온다. 이를 type casting을 통해서 다른 데이터 타입으로 바꾸어 사용해야 한다.\n",
    "\n",
    "- 파이썬은 print()를 통해서 stdout을 사용자에게 출력할 수 있다."
   ]
  },
  {
   "cell_type": "markdown",
   "metadata": {},
   "source": [
    "**Q. 만약에 stdin으로 여러 개의 숫자가 들어오는 경우, 입력의 format을 알고 있다고 가정했을 때, 이를 효과적으로 처리할 수 있을까?**"
   ]
  },
  {
   "cell_type": "code",
   "execution_count": 6,
   "metadata": {},
   "outputs": [
    {
     "name": "stdout",
     "output_type": "stream",
     "text": [
      "콤마를 기준으로 숫자를 여러개 입력해주세요 : 4,5,3,4,3\n",
      "['4', '5', '3', '4', '3']\n"
     ]
    }
   ],
   "source": [
    "list_b = input('콤마를 기준으로 숫자를 여러개 입력해주세요 : ').split(',')\n",
    "print(list_b)"
   ]
  },
  {
   "cell_type": "code",
   "execution_count": 9,
   "metadata": {},
   "outputs": [
    {
     "name": "stdout",
     "output_type": "stream",
     "text": [
      "콤마를 기준으로 숫자를 여러개 입력해주세요 : 3,4,2,3\n",
      "<class 'list'>\n",
      "[3, 4, 2, 3]\n"
     ]
    }
   ],
   "source": [
    "list_a = []\n",
    "list_b = input('콤마를 기준으로 숫자를 여러개 입력해주세요 : ').split(',')\n",
    "print(type(list_b))\n",
    "for i in list_b :\n",
    "    list_a.append(int(i))\n",
    "    \n",
    "print(list_a)"
   ]
  },
  {
   "cell_type": "code",
   "execution_count": 10,
   "metadata": {},
   "outputs": [
    {
     "name": "stdout",
     "output_type": "stream",
     "text": [
      "콤마를 기준으로 숫자를 여러개 입력해주세요 : 4,5,6,4\n",
      "[4, 5, 6, 4]\n"
     ]
    }
   ],
   "source": [
    "list_a = []\n",
    "\n",
    "for i in input('콤마를 기준으로 숫자를 여러개 입력해주세요 : ').split(',') :\n",
    "    list_a.append(int(i))\n",
    "    \n",
    "print(list_a)"
   ]
  },
  {
   "cell_type": "code",
   "execution_count": 11,
   "metadata": {},
   "outputs": [
    {
     "name": "stdout",
     "output_type": "stream",
     "text": [
      "콤마를 기준으로 숫자를 여러개 입력해주세요 : 4,3,5\n",
      "[4, 3, 5]\n"
     ]
    }
   ],
   "source": [
    "list_a = [int(i) for i in input('콤마를 기준으로 숫자를 여러개 입력해주세요 : ').split(',') ]\n",
    "print(list_a)"
   ]
  },
  {
   "cell_type": "markdown",
   "metadata": {
    "id": "DPYlwZhEaz9t"
   },
   "source": [
    "## 2. File I/O"
   ]
  },
  {
   "cell_type": "markdown",
   "metadata": {
    "id": "eVNcSf2iaz9t"
   },
   "source": [
    "- 파이썬에서는 open()을 이용해서 파일을 손쉽게 열 수 있다.\n",
    "- open()을 통해 파일을 열고 난뒤엔, close()를 통해서 닫아줘야 한다. ( close를 하지 않으면 jupyter가 계속해서 파일을 점유하고 있게 되어, 시스템 낭비가 일어난다. )\n",
    "- open() 함수는 다양한 옵션을 제공하지만 기본적으로는 txt파일을 여는 것을 기본으로 가정한다.\n",
    "- 다른 타입의 파일을 열기 위해선 다른 라이브러리들이 필요하다. (csv, excel : pandas, png, jpg : PIL, opencv...)"
   ]
  },
  {
   "cell_type": "markdown",
   "metadata": {
    "id": "BGNX1KElaz9t"
   },
   "source": [
    "> 텍스트 파일을 여는 방법에는 read(), readline(), readlines(), for문을 이용한 방법이 있다. 코드를 통해 각 방법의 차이를 알아보자."
   ]
  },
  {
   "cell_type": "markdown",
   "metadata": {},
   "source": [
    "\n",
    "- **open('파일경로', '모드')**\n",
    "- 모드 : w(wirte),a(append),r(read)\n",
    "- **파일객체.close()**"
   ]
  },
  {
   "cell_type": "code",
   "execution_count": 14,
   "metadata": {},
   "outputs": [],
   "source": [
    "file = open('data/basic.txt', 'w')\n",
    "\n",
    "file.write('Hello Python Programming\\n')\n",
    "file.write('Life is Short!!\\nYou need Python!!!\\n')\n",
    "\n",
    "file.close()"
   ]
  },
  {
   "cell_type": "code",
   "execution_count": null,
   "metadata": {},
   "outputs": [],
   "source": []
  },
  {
   "cell_type": "markdown",
   "metadata": {},
   "source": [
    "- **with open('파일경로', '모드') as 별명 :**"
   ]
  },
  {
   "cell_type": "code",
   "execution_count": 18,
   "metadata": {},
   "outputs": [],
   "source": [
    "with open('data/basic2.txt', 'w') as file : \n",
    "    file.write('Life is Short')"
   ]
  },
  {
   "cell_type": "code",
   "execution_count": 19,
   "metadata": {},
   "outputs": [],
   "source": [
    "with open('data/basic.txt', 'a') as file : \n",
    "    file.write('Life is Short')"
   ]
  },
  {
   "cell_type": "markdown",
   "metadata": {},
   "source": [
    "텍스트 읽기 **read(), readline(), readlines(), 반복문...**\n",
    "- read(): 파일에 있는 모든 글자를 가져와서 하나의 String으로 저장한다.\n",
    "- readline(): 파일에 있는 첫번째 줄만 가져온다.\n",
    "- readlines 함수는 txt 파일에 있는 모든 텍스트를 한줄 단위로 끊어서 리스트에 저장"
   ]
  },
  {
   "cell_type": "code",
   "execution_count": 1,
   "metadata": {},
   "outputs": [
    {
     "name": "stdout",
     "output_type": "stream",
     "text": [
      "Hello Python Programming\n",
      "Life is Short!!\n",
      "You need Python!!!\n",
      "Life is Short <class 'str'>\n"
     ]
    }
   ],
   "source": [
    "with open('data/basic.txt', 'r') as file :\n",
    "    contents = file.read()\n",
    "    \n",
    "print(contents, type(contents))"
   ]
  },
  {
   "cell_type": "code",
   "execution_count": 2,
   "metadata": {},
   "outputs": [
    {
     "name": "stdout",
     "output_type": "stream",
     "text": [
      "Hello Python Programming\n",
      " <class 'str'>\n"
     ]
    }
   ],
   "source": [
    "with open('data/basic.txt', 'r') as file :\n",
    "    contents = file.readline()\n",
    "    \n",
    "print(contents,type(contents))"
   ]
  },
  {
   "cell_type": "code",
   "execution_count": 3,
   "metadata": {},
   "outputs": [
    {
     "name": "stdout",
     "output_type": "stream",
     "text": [
      "['Hello Python Programming\\n', 'Life is Short!!\\n', 'You need Python!!!\\n', 'Life is Short'] <class 'list'>\n"
     ]
    }
   ],
   "source": [
    "with open('data/basic.txt', 'r') as file :\n",
    "    contents = file.readlines()\n",
    "    \n",
    "print(contents, type(contents))"
   ]
  },
  {
   "cell_type": "markdown",
   "metadata": {},
   "source": [
    "**연습문제1) 신체정보 파일(info.txt)를 열어서 BMI를 계산하여 info2.txt 생성하기**"
   ]
  },
  {
   "cell_type": "code",
   "execution_count": 28,
   "metadata": {},
   "outputs": [],
   "source": [
    "# 데이터 생성\n",
    "import random\n",
    "\n",
    "hanguls = '가나다라마바사아자차카타파하'\n",
    "\n",
    "with open('data/info.txt','w',encoding = 'UTF-8') as file : \n",
    "    for i in range(100) :\n",
    "        name = random.choice(hanguls) + random.choice(hanguls) + random.choice(hanguls)\n",
    "        weight = random.randrange(40, 100)\n",
    "        height = random.randrange(140, 200)\n",
    "        #file.write('{}.{}.{}.{}\\n'.format(i, name, weight, height))\n",
    "        file.write('{},{},{},{}\\n'.format(str(i).zfill(3), name, weight, height))"
   ]
  },
  {
   "cell_type": "code",
   "execution_count": 24,
   "metadata": {},
   "outputs": [
    {
     "name": "stdout",
     "output_type": "stream",
     "text": [
      "[7, 18, 40, 1, 41, 35]\n"
     ]
    }
   ],
   "source": [
    "import random\n",
    "a = random.sample(range(1,46), k=6)\n",
    "print(a)\n",
    "\n",
    "# sample은 중복 X"
   ]
  },
  {
   "cell_type": "code",
   "execution_count": 2,
   "metadata": {},
   "outputs": [
    {
     "name": "stdout",
     "output_type": "stream",
     "text": [
      "[34, 23, 33, 23, 6, 23]\n"
     ]
    }
   ],
   "source": [
    "import random\n",
    "a = random.choices(range(1,46), k=6)\n",
    "print(a)\n",
    "\n",
    "# choices는 중복 가능"
   ]
  },
  {
   "cell_type": "code",
   "execution_count": null,
   "metadata": {},
   "outputs": [],
   "source": []
  },
  {
   "cell_type": "code",
   "execution_count": 34,
   "metadata": {},
   "outputs": [],
   "source": [
    "# 데이터 업데이트\n",
    "with open('data/info.txt','a',encoding = 'UTF-8') as file : \n",
    "    for i in range(100) :\n",
    "        name = random.choice(hanguls) + random.choice(hanguls) + random.choice(hanguls)\n",
    "        weight = random.randrange(40, 100)\n",
    "        height = random.randrange(140, 200)\n",
    "        #file.write('{}.{}.{}.{}\\n'.format(i, name, weight, height))\n",
    "        file.write('{},{},{},{}\\n'.format(str(i+100).zfill(3), name, weight, height))\n"
   ]
  },
  {
   "cell_type": "code",
   "execution_count": 3,
   "metadata": {},
   "outputs": [],
   "source": [
    "# 파일 읽어오기\n",
    "# BMI지수= 몸무게(kg) ÷ (신장(m) × 신장(m))\n",
    "with open ('data/info.txt','r',encoding = 'UTF-8') as file :\n",
    "    new_vals = []\n",
    "    lines = file.readlines()\n",
    "    for val in lines :\n",
    "        new_val = val.split(',')\n",
    "        #print(new_val)\n",
    "        new_val[3] = new_val[3][:3]\n",
    "        #print(new_val)\n",
    "        \n",
    "        #BMI 계산\n",
    "        bmi = int(new_val[2]) / ((int(new_val[3])/100)**2)\n",
    "        new_val.append(str(bmi))\n",
    "        #print(new_val)\n",
    "        \n",
    "        if 25 <= float(new_val[4]) : new_val.append('과체중\\n')\n",
    "        elif 18.5<=float(new_val[4]) : new_val.append('정상체중\\n')\n",
    "        else : new_val.append('저체중\\n')\n",
    "        \n",
    "        new_vals.append(new_val)\n",
    "        #print(new_val)\n",
    "    #print(new_vals)\n",
    "\n",
    "# info2.txt에 새로운 파일 생성       \n",
    "with open ('data/info2.txt','w',encoding = 'UTF-8') as file2 :\n",
    "    for val in new_vals :\n",
    "        file2.write(','.join(val))\n",
    "\n",
    "        # , 로 구분해서 저장하면 확장자 csv로 저장할 경우 엑셀이랑 호환 가능"
   ]
  },
  {
   "cell_type": "markdown",
   "metadata": {},
   "source": [
    "**연습문제2) 파일 암호와 및 암호해독**\n",
    "- 일반파일을 열어서 암호화 시키기\n",
    "- 암호화 된 파일을 열어서 해독하기"
   ]
  },
  {
   "cell_type": "code",
   "execution_count": 5,
   "metadata": {},
   "outputs": [
    {
     "name": "stdout",
     "output_type": "stream",
     "text": [
      " 1. 암호화  2. 암호 해석 중 선택 : 1\n",
      "입력 파일명을 입력하세요 : a\n",
      "출력 파일명을 입력하세요 : b\n",
      "data/a.txt ---> data/b.txt  변환 완료\n"
     ]
    }
   ],
   "source": [
    "## 메인 코드 부분 ##\n",
    "secuYN = input(\" 1. 암호화  2. 암호 해석 중 선택 : \")\n",
    "inFname = 'data/'+input(\"입력 파일명을 입력하세요 : \")+'.txt'\n",
    "outFname = 'data/'+input(\"출력 파일명을 입력하세요 : \")+'.txt'\n",
    "\n",
    "if secuYN == \"1\" :\n",
    "    secu = 100\n",
    "elif secuYN == \"2\" :\n",
    "    secu = -100\n",
    "\n",
    "inFp = open(inFname,'r',encoding = 'UTF-8')\n",
    "outFp = open(outFname,'w',encoding = 'UTF-8')\n",
    "while True :\n",
    "    inStr = inFp.readline()\n",
    "    \n",
    "    if not inStr : break\n",
    "         \n",
    "    outStr = ''\n",
    "    \n",
    "    for i in range(len(inStr)):\n",
    "        ch = inStr[i]\n",
    "        chNum = ord(ch)              # ord : 코드를 유니코드값으로 반환해줌\n",
    "        chNum = chNum + secu\n",
    "        ch2 = chr(chNum)\n",
    "        outStr = outStr + ch2\n",
    "        \n",
    "    outFp.write(outStr)\n",
    "        \n",
    "        \n",
    "\n",
    "inFp.close()\n",
    "outFp.close()\n",
    "\n",
    "\n",
    "print('%s ---> %s  변환 완료'%(inFname, outFname))"
   ]
  },
  {
   "cell_type": "code",
   "execution_count": 30,
   "metadata": {},
   "outputs": [
    {
     "name": "stdout",
     "output_type": "stream",
     "text": [
      "50504\n"
     ]
    }
   ],
   "source": []
  },
  {
   "cell_type": "markdown",
   "metadata": {},
   "source": [
    "**연습문제3) 당신의 회사에서는 매주 1회 작성해야 하는 보고서가 있습니다.**\n",
    "**보고서는 항상 아래와 같은 형식으로 출력되어야 합니다.**\n",
    "\n",
    "\n",
    "-X 주차 주간보고-\n",
    "\n",
    "부서 :\n",
    "\n",
    "이름 :\n",
    "\n",
    "업무요약\n",
    "\n",
    "**1주차부터 10주차까지의** 보고서 파일을 만든는 프로그램을 작성하시오.\n",
    "\n",
    "- 조건 : 파일명은 '1주차.txt', '2주차.txt', ....와 같이 만듭니다"
   ]
  },
  {
   "cell_type": "code",
   "execution_count": 11,
   "metadata": {},
   "outputs": [],
   "source": [
    "for i in range(1,11) :\n",
    "    with open ('data/{}주차.txt'.format(i),'w',encoding = 'utf8') as report :\n",
    "        report.write('-{}주차 주간보고-\\n'.format(i))\n",
    "        report.write('부서:\\n')\n",
    "        report.write('이름:\\n')\n",
    "        report.write('업무요약:\\n')"
   ]
  }
 ],
 "metadata": {
  "kernelspec": {
   "display_name": "Python 3",
   "language": "python",
   "name": "python3"
  },
  "language_info": {
   "codemirror_mode": {
    "name": "ipython",
    "version": 3
   },
   "file_extension": ".py",
   "mimetype": "text/x-python",
   "name": "python",
   "nbconvert_exporter": "python",
   "pygments_lexer": "ipython3",
   "version": "3.8.8"
  },
  "toc": {
   "base_numbering": 1,
   "nav_menu": {},
   "number_sections": false,
   "sideBar": true,
   "skip_h1_title": false,
   "title_cell": "Table of Contents",
   "title_sidebar": "Contents",
   "toc_cell": false,
   "toc_position": {},
   "toc_section_display": true,
   "toc_window_display": false
  }
 },
 "nbformat": 4,
 "nbformat_minor": 4
}
