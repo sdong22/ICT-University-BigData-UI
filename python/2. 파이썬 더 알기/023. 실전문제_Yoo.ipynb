{
 "cells": [
  {
   "cell_type": "markdown",
   "metadata": {},
   "source": [
    "### 1. 정수 n을 입력하면  n행만큼 \\*을 아래와 같이 출력하는 프로그램을 작성하시오."
   ]
  },
  {
   "cell_type": "code",
   "execution_count": 4,
   "metadata": {},
   "outputs": [
    {
     "name": "stdout",
     "output_type": "stream",
     "text": [
      "5\n",
      "    *\n",
      "   ***\n",
      "  *****\n",
      " *******\n",
      "*********\n"
     ]
    }
   ],
   "source": [
    "#n = 5 라면"
   ]
  },
  {
   "cell_type": "code",
   "execution_count": 7,
   "metadata": {},
   "outputs": [
    {
     "name": "stdout",
     "output_type": "stream",
     "text": [
      "정수를 입력하세요 : 5\n",
      "      *\n",
      "     ***\n",
      "    *****\n",
      "   *******\n",
      "  *********\n"
     ]
    }
   ],
   "source": [
    "n = int(input('정수를 입력하세요 : '))\n",
    "\n",
    "for i in range(n) :\n",
    "    print(' '*(n-i),'*'*(2*i+1))"
   ]
  },
  {
   "cell_type": "markdown",
   "metadata": {},
   "source": [
    "### 2. 연도를 입력받아서 윤년인지 아닌지를 구분하는 프로그램을 작성하시오\n",
    "- 4로 나누어 떨어지는 해는 윤년으로 한다. (1988년, 1992년, 1996년, 2004년, 2008년, 2012년, 2016년, 2020년, 2024년, 2028년, 2032년, 2036년, 2040년, 2044년 ...)\n",
    "- 4, 100 으로 나누어 떨어지는 해는 평년으로 한다. (1900년, 2100년, 2200년, 2300년, 2500년...)\n",
    "- 4, 100, 400 으로 나누어 떨어지는 해는 윤년으로 둔다. (2000년, 2400년...)\n",
    "출처: 위키백과"
   ]
  },
  {
   "cell_type": "code",
   "execution_count": 2,
   "metadata": {},
   "outputs": [
    {
     "name": "stdout",
     "output_type": "stream",
     "text": [
      "2000\n",
      "2000년은 윤년입니다.\n"
     ]
    }
   ],
   "source": [
    "#출력예시"
   ]
  },
  {
   "cell_type": "code",
   "execution_count": 14,
   "metadata": {},
   "outputs": [
    {
     "name": "stdout",
     "output_type": "stream",
     "text": [
      "연도 : 2000\n",
      "2000년은 윤년입니다.\n"
     ]
    }
   ],
   "source": [
    "year = int(input('연도 : '))\n",
    "\n",
    "if year%400==0 or(year%4==0 and year%100!=0) : print('{}년은 윤년입니다.'.format(year))\n",
    "else : print('{}년은 윤년이 아닙니다.'.format(year))"
   ]
  },
  {
   "cell_type": "code",
   "execution_count": 1,
   "metadata": {},
   "outputs": [
    {
     "name": "stdout",
     "output_type": "stream",
     "text": [
      "1988\n",
      "1988년은 윤년입니다.\n"
     ]
    }
   ],
   "source": [
    "year = int(input())\n",
    "\n",
    "if year%4==0 and ((year%400== 0) or (year%100!=0)) :\n",
    "    print('{}년은 윤년입니다.'.format(year))\n",
    "else :\n",
    "    print('{}년은 평년입니다.'.format(year))"
   ]
  },
  {
   "cell_type": "markdown",
   "metadata": {},
   "source": [
    "### 3. 공백으로 구분된 두 정수 a, b가 주어지면 a의 b승을 구하는 프로그램을 작성하시요."
   ]
  },
  {
   "cell_type": "code",
   "execution_count": 2,
   "metadata": {},
   "outputs": [
    {
     "name": "stdout",
     "output_type": "stream",
     "text": [
      "공백으로 구분하여 두 정수를 입력하세요 : 2 3\n",
      "8\n"
     ]
    }
   ],
   "source": [
    "a,b = input('공백으로 구분하여 두 정수를 입력하세요 : ').split()\n",
    "\n",
    "print(int(a)**int(b))"
   ]
  },
  {
   "cell_type": "code",
   "execution_count": 3,
   "metadata": {},
   "outputs": [
    {
     "name": "stdout",
     "output_type": "stream",
     "text": [
      "2 3\n",
      "8\n"
     ]
    }
   ],
   "source": [
    "n = list(map(int, input().split()))\n",
    "\n",
    "print(n[0]**n[1])"
   ]
  },
  {
   "cell_type": "markdown",
   "metadata": {},
   "source": [
    "### 4. 영문이름(대, 소문자)이 입력되면  대문자로 출력되는 프로그램을 작성하시오"
   ]
  },
  {
   "cell_type": "code",
   "execution_count": 18,
   "metadata": {},
   "outputs": [
    {
     "name": "stdout",
     "output_type": "stream",
     "text": [
      "영문이름을 입력하세요 : Esther\n",
      "ESTHER\n"
     ]
    }
   ],
   "source": [
    "name = input('영문이름을 입력하세요 : ')\n",
    "print(name.upper())"
   ]
  },
  {
   "cell_type": "markdown",
   "metadata": {},
   "source": [
    "### 5. 사용자가 입력한 수만큼 하트를 출력하시오.\n",
    "- 사용자가 여러개의 숫자를 입력하면 입력한 숫자 만큼 *출력하기\n",
    "- 입력 값이 5342라면\n",
    "- \\*\\****\n",
    "- \\***\n",
    "- \\****\n",
    "- **"
   ]
  },
  {
   "cell_type": "code",
   "execution_count": 19,
   "metadata": {},
   "outputs": [
    {
     "name": "stdout",
     "output_type": "stream",
     "text": [
      "입력 값 : 5342\n",
      "*****\n",
      "***\n",
      "****\n",
      "**\n"
     ]
    }
   ],
   "source": [
    "user = input('입력 값 : ')\n",
    "\n",
    "for i in range(len(user)) :\n",
    "    print('*'*int(user[i]))"
   ]
  },
  {
   "cell_type": "markdown",
   "metadata": {},
   "source": [
    "### 6. 문자열 속 문자 찾기\n",
    "- 입력으로 첫줄에 문자열이 주어지고 둘째 줄에 찾을 문자가 주어지면 그 문자가 시작하는 index를 반환하는 프로그램 만들기"
   ]
  },
  {
   "cell_type": "code",
   "execution_count": 5,
   "metadata": {},
   "outputs": [
    {
     "name": "stdout",
     "output_type": "stream",
     "text": [
      "Hello World\n",
      "o\n",
      "4\n"
     ]
    }
   ],
   "source": []
  },
  {
   "cell_type": "code",
   "execution_count": 20,
   "metadata": {},
   "outputs": [
    {
     "name": "stdout",
     "output_type": "stream",
     "text": [
      "Hello World\n",
      "o\n",
      "4\n"
     ]
    }
   ],
   "source": [
    "str = input()\n",
    "char = input()\n",
    "print(str.find(char))"
   ]
  },
  {
   "cell_type": "code",
   "execution_count": 21,
   "metadata": {},
   "outputs": [
    {
     "name": "stdout",
     "output_type": "stream",
     "text": [
      "hello world\n",
      "o\n",
      "4\n"
     ]
    }
   ],
   "source": [
    "str = input()\n",
    "char = input()\n",
    "print(str.index(char))"
   ]
  },
  {
   "cell_type": "markdown",
   "metadata": {},
   "source": [
    "### 7. 문자열을 입력받으면 단어의 갯수를 출력하는 프로그램을 작성하시오"
   ]
  },
  {
   "cell_type": "code",
   "execution_count": 22,
   "metadata": {},
   "outputs": [
    {
     "name": "stdout",
     "output_type": "stream",
     "text": [
      "hello world and python\n",
      "입력한 문자열의 단어의 갯수 : 4\n"
     ]
    }
   ],
   "source": [
    "str = input().strip().split()\n",
    "\n",
    "print('입력한 문자열의 단어의 갯수 :',len(str))"
   ]
  },
  {
   "cell_type": "markdown",
   "metadata": {},
   "source": [
    "### 8. 1~9까지의 숫자 중 하나를 입력하면 그 단어의 구구단 결과를 한줄에 출력하는 프로그램을 작성하시오."
   ]
  },
  {
   "cell_type": "code",
   "execution_count": 2,
   "metadata": {},
   "outputs": [
    {
     "name": "stdout",
     "output_type": "stream",
     "text": [
      "1~9까지의 숫자 중 하나를 입력하세요 : 6\n",
      "6 12 18 24 30 36 42 48 54 "
     ]
    }
   ],
   "source": [
    "n = int(input('1~9까지의 숫자 중 하나를 입력하세요 : '))\n",
    "\n",
    "for i in range(1,10) :\n",
    "    print(n*i,end=' ')"
   ]
  },
  {
   "cell_type": "markdown",
   "metadata": {},
   "source": [
    "### 9. 다음 질문에 알맞는 프로그램을 작성하시오.\n",
    "- 새 학기를 맞아 반장선거를 하기로 했습니다. 그런데 표를 하나씩 개표하는 과정이 너무 번거롭게 느껴진 선생님은 **학생들이 뽑은 후보들을 입력받으면 뽑힌 학생의 이름과 받은 표 수를 출력하는 프로그램**을 작성하기로 하였습니다.\n",
    "- 입력 : 첫 줄에 학생들이 뽑은 후보들이 입력됩니다. 예) 석진 지민 정국 석진 정국 석진 남준 석진 남준\n",
    "- 출력 : 석진(이)가 4표로 반장이 되었습니다.\n"
   ]
  },
  {
   "cell_type": "code",
   "execution_count": 12,
   "metadata": {},
   "outputs": [
    {
     "name": "stdout",
     "output_type": "stream",
     "text": [
      "입력 :석진 지민 정국 석진 정국 석진 남준 석진 남준\n",
      "석진\n"
     ]
    }
   ],
   "source": [
    "# 동점자 처리 X\n",
    "data = input('입력 :').split()\n",
    "count = {}\n",
    "\n",
    "for i in data :\n",
    "    if i in count : count[i] += 1\n",
    "    else : count[i] = 1\n",
    "\n",
    "reverse_count = dict(map(reversed, count.items()))\n",
    "print(reverse_count[max(reverse_count.keys())])"
   ]
  },
  {
   "cell_type": "code",
   "execution_count": 5,
   "metadata": {},
   "outputs": [
    {
     "name": "stdout",
     "output_type": "stream",
     "text": [
      "입력 :아이유 석진 지민 정국 석진 정국 석진 남준 석진 남준 남준 남준\n",
      "석진,남준이가 4표로 동점이 나왔습니다.\n"
     ]
    }
   ],
   "source": [
    "# 동점자 처리\n",
    "\n",
    "data = input('입력 :').split()\n",
    "count = {}\n",
    "\n",
    "for i in data :\n",
    "    if i in count : count[i] += 1\n",
    "    else : count[i] = 1\n",
    "        \n",
    "name = list(count.keys())   # 후보 이름\n",
    "n = list(count.values())   # 받은 표 수\n",
    "\n",
    "max_data = [name[i] for i in range(len(n)) if n[i]==max(n)]\n",
    "        \n",
    "if len(max_data) > 1 :\n",
    "    result = ','.join(max_data)\n",
    "    print('{}이가 {}표로 동점이 나왔습니다.'.format(result,max(n)))\n",
    "else :\n",
    "    print('{}이가 {}표로 반장이 되었습니다.'.format(max_data[0],max(n)))"
   ]
  },
  {
   "cell_type": "markdown",
   "metadata": {},
   "source": [
    "### 10. 다음 질문에 알맞은 프로그램을 작성하시오.\n",
    "- python 모듈 중 하나인 time 모듈은 1970년 1월 1일 0시 0분 0초 이후로 지금까지 흐른 시간을 초단위로 반환합니다. \n",
    "- 이를 이용하여 현재 연도(2021)를 출력해보세요."
   ]
  },
  {
   "cell_type": "code",
   "execution_count": 19,
   "metadata": {},
   "outputs": [
    {
     "name": "stdout",
     "output_type": "stream",
     "text": [
      "<class 'float'>\n",
      "1624817851.8950176\n",
      "2021\n"
     ]
    }
   ],
   "source": [
    "# time.time()외에 함수, 속성 사용안하고 구하기\n",
    "import time\n",
    "t = time.time()\n",
    "print(type(t))\n",
    "\n",
    "t_year = int(t//(3600*24*365))+1970\n",
    "print(t_year)"
   ]
  },
  {
   "cell_type": "code",
   "execution_count": 6,
   "metadata": {},
   "outputs": [
    {
     "name": "stdout",
     "output_type": "stream",
     "text": [
      "2021\n"
     ]
    }
   ],
   "source": [
    "import time\n",
    "\n",
    "time.time()\n",
    "\n",
    "print(1970 + int(time.time()//(3600*24*365)))"
   ]
  },
  {
   "cell_type": "markdown",
   "metadata": {},
   "source": [
    "### 11. 10 진수를 2진수를 변환하는 함수를 작성하시오.\n",
    "- 사용자에게 숫자를 입력받고 이를 2진수로 바꾸고 그값을 출력하시오.\n",
    "- bin() 사용하지 말고 풀어주세요."
   ]
  },
  {
   "cell_type": "code",
   "execution_count": 7,
   "metadata": {},
   "outputs": [
    {
     "name": "stdout",
     "output_type": "stream",
     "text": [
      "255\n",
      "11111111\n"
     ]
    }
   ],
   "source": [
    "num = int(input())\n",
    "bin =[]\n",
    "\n",
    "while num :\n",
    "    bin.append(str(num%2))\n",
    "    num = num//2\n",
    "\n",
    "bin.reverse()\n",
    "print(''.join(bin))"
   ]
  },
  {
   "cell_type": "code",
   "execution_count": 7,
   "metadata": {},
   "outputs": [
    {
     "name": "stdout",
     "output_type": "stream",
     "text": [
      "128\n",
      "10000000\n"
     ]
    }
   ],
   "source": [
    "a = int(input())\n",
    "b = []\n",
    "\n",
    "while a:\n",
    "    b.append(str(a%2))\n",
    "    a = int(a/2)\n",
    "    \n",
    "b.reverse()\n",
    "print(''.join(b))"
   ]
  },
  {
   "cell_type": "markdown",
   "metadata": {},
   "source": [
    "### 12. 아래 질문에 알맞은 프로그램을 작성하시오.\n",
    "- 입력으로 0이 주어지면 영문 소문자 알파벳을, 입력으로 1이 주어지면 영문 대문자 알파벳을 사전 순으로 출력하는 프로그램"
   ]
  },
  {
   "cell_type": "code",
   "execution_count": 21,
   "metadata": {},
   "outputs": [
    {
     "name": "stdout",
     "output_type": "stream",
     "text": [
      "1\n",
      "ABCDEFGHIJKLMNOPQRSTUVWXYZ\n"
     ]
    }
   ],
   "source": [
    "import string\n",
    "num = int(input())\n",
    "\n",
    "if num == 0 : print(string.ascii_lowercase)\n",
    "elif num == 1 : print(string.ascii_uppercase)"
   ]
  },
  {
   "cell_type": "markdown",
   "metadata": {},
   "source": [
    "### 13. 아래 질문에 알맞은 프로그램을 작성하시오.\n",
    "- a = [1,2,3,4], b = ['a','b','c','d'] 를 가지고 c를 완성하시오.\n",
    "- c = [[1, 'a'], [2, 'b'], [3, 'c'], [4, 'd']]\n"
   ]
  },
  {
   "cell_type": "code",
   "execution_count": 2,
   "metadata": {},
   "outputs": [
    {
     "name": "stdout",
     "output_type": "stream",
     "text": [
      "[[1, 'a'], [2, 'b'], [3, 'c'], [4, 'd']]\n"
     ]
    }
   ],
   "source": [
    "a = [1,2,3,4]\n",
    "b = ['a','b','c','d']\n",
    "c = list(map(list,zip(a,b)))\n",
    "print(c)\n",
    "\n"
   ]
  },
  {
   "cell_type": "markdown",
   "metadata": {},
   "source": [
    "### 14.같은 숫자가 나올때 까지 주사위 6개를 동시에 무한반복해서 던져서 동시에 나온 수와 던진횟수를 구하는 프로그램을 작성하시오."
   ]
  },
  {
   "cell_type": "code",
   "execution_count": 3,
   "metadata": {},
   "outputs": [
    {
     "name": "stdout",
     "output_type": "stream",
     "text": [
      "6개의 주사위가 동일한 숫자가 나옴 :  1 1 1 1 1 1\n",
      "6개 동일한 숫자가 나올때 까지 던진 횟수 :  23719\n"
     ]
    }
   ],
   "source": []
  },
  {
   "cell_type": "code",
   "execution_count": 10,
   "metadata": {},
   "outputs": [
    {
     "name": "stdout",
     "output_type": "stream",
     "text": [
      "6개의 주사위가 동일한 숫자가 나옴 : 3 3 3 3 3 3\n",
      "6개의 동일한 숫자가 나올때까지 던진 횟수 : 2596\n"
     ]
    }
   ],
   "source": [
    "import random\n",
    "\n",
    "#변수선언\n",
    "dice = [0,0,0,0,0,0]\n",
    "count = 1\n",
    "\n",
    "while True :\n",
    "    \n",
    "    for i in range(6) :\n",
    "        dice[i] = random.randrange(1,7)\n",
    "        \n",
    "    if dice[0] == dice[1] == dice[2] == dice[3] == dice[4] == dice[5] :\n",
    "        print('6개의 주사위가 동일한 숫자가 나옴 :',dice[0], dice[1], dice[2], dice[3], dice[4], dice[5])\n",
    "        print('6개의 동일한 숫자가 나올때까지 던진 횟수 :',count)\n",
    "        break\n",
    "    count += 1"
   ]
  },
  {
   "cell_type": "markdown",
   "metadata": {},
   "source": [
    "### 15. 아래 요구사항에 맞게 프로그래밍 하시오.\n",
    "- 당신은 ICT마트의 위생점검단입니다. 매월 불시에 위생점검을 나가야 합니다.\n",
    "- 이번달 위생점검 날과 시간대를 정해주는 프로그램을 작성하시오.\n",
    "- 조건1 :  랜덤으로 날짜를 뽑아야 함.\n",
    "- 조건 2 : 월별 날짜는 다름을 감안하여 최소 일수인 28이내로 정함.\n",
    "- timeList = ['오전', '오후', '저녁']\n",
    "\n",
    "<출력결과>\n",
    "\n",
    "**이번 달 위생점검은 x일 y(으)로 선정되었습니다..**"
   ]
  },
  {
   "cell_type": "code",
   "execution_count": 11,
   "metadata": {},
   "outputs": [
    {
     "name": "stdout",
     "output_type": "stream",
     "text": [
      "이번 달 위생점검은 22일 오후(으)로 선정되었습니다.\n"
     ]
    }
   ],
   "source": [
    "date = random.randint(1,28)\n",
    "timeList = ['오전', '오후', '저녁']\n",
    "print('이번 달 위생점검은 {}일 {}(으)로 선정되었습니다.'.format(date, random.choice(timeList)))"
   ]
  },
  {
   "cell_type": "code",
   "execution_count": 28,
   "metadata": {},
   "outputs": [
    {
     "name": "stdout",
     "output_type": "stream",
     "text": [
      "이번 달 위생점검은 28일 저녁(으)로 선정되었습니다.\n"
     ]
    }
   ],
   "source": [
    "import random\n",
    "\n",
    "timeList = ['오전', '오후', '저녁']\n",
    "date = random.randint(1,28)\n",
    "time = random.choice(timeList)\n",
    "\n",
    "print('이번 달 위생점검은 {}일 {}(으)로 선정되었습니다.'.format(date, time))"
   ]
  }
 ],
 "metadata": {
  "kernelspec": {
   "display_name": "Python 3",
   "language": "python",
   "name": "python3"
  },
  "language_info": {
   "codemirror_mode": {
    "name": "ipython",
    "version": 3
   },
   "file_extension": ".py",
   "mimetype": "text/x-python",
   "name": "python",
   "nbconvert_exporter": "python",
   "pygments_lexer": "ipython3",
   "version": "3.8.8"
  },
  "toc": {
   "base_numbering": 1,
   "nav_menu": {},
   "number_sections": false,
   "sideBar": true,
   "skip_h1_title": false,
   "title_cell": "Table of Contents",
   "title_sidebar": "Contents",
   "toc_cell": false,
   "toc_position": {},
   "toc_section_display": true,
   "toc_window_display": false
  }
 },
 "nbformat": 4,
 "nbformat_minor": 4
}
