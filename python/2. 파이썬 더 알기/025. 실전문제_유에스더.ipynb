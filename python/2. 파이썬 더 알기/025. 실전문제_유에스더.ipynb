{
 "cells": [
  {
   "cell_type": "markdown",
   "metadata": {},
   "source": [
    "#### 1번"
   ]
  },
  {
   "cell_type": "code",
   "execution_count": 4,
   "metadata": {},
   "outputs": [
    {
     "name": "stdout",
     "output_type": "stream",
     "text": [
      "1경기 : 박찬호\n",
      "2경기 : 홍성흔\n",
      "3경기 : 김태균\n",
      "4경기 : 윤석민\n",
      "5경기 : 이종범\n"
     ]
    }
   ],
   "source": [
    "import random\n",
    "\n",
    "director = ['이승엽','박찬호','김태균','윤석민','이종범','이상훈','홍성흔']\n",
    "sample = random.sample(director,k=5)\n",
    "\n",
    "for i in range(5) :\n",
    "    print('{}경기 :'.format(i+1),sample[i])"
   ]
  },
  {
   "cell_type": "markdown",
   "metadata": {},
   "source": [
    "#### 2번"
   ]
  },
  {
   "cell_type": "code",
   "execution_count": 7,
   "metadata": {},
   "outputs": [
    {
     "name": "stdout",
     "output_type": "stream",
     "text": [
      "거슬러 줘야 할 동전의 개수 : 6\n"
     ]
    }
   ],
   "source": [
    "# 동전개수만\n",
    "\n",
    "N = 1260\n",
    "count = 0\n",
    "\n",
    "while True :\n",
    "    count += N//500\n",
    "    N = N%500\n",
    "    \n",
    "    count += N//100\n",
    "    N = N%100    \n",
    "\n",
    "    count += N//50\n",
    "    N = N%50\n",
    "    \n",
    "    count += N//10\n",
    "    N = N%10\n",
    "    \n",
    "    if N==0 : break\n",
    "    \n",
    "\n",
    "\n",
    "print('거슬러 줘야 할 동전의 개수 : {}'.format(count))"
   ]
  },
  {
   "cell_type": "markdown",
   "metadata": {},
   "source": [
    "#### 3. 다음 질문에 알맞는 프로그램을 작성하시오.\n",
    "- 새 학기를 맞아 반장선거를 하기로 했습니다. 그런데 표를 하나씩 개표하는 과정이 너무 번거롭게 느껴진 선생님은 **학생들이 뽑은 후보들을 입력받으면 뽑힌 학생의 이름과 받은 표 수를 출력하는 프로그램**을 작성하기로 하였습니다.\n",
    "- 입력 : 첫 줄에 학생들이 뽑은 후보들이 입력됩니다. \n",
    "- 예1) 아이유 석진 지민 정국 석진 정국 석진 남준 석진 남준 -> 출력 : 석진(이)가 4표로 반장이 되었습니다.\n",
    "- 예2) 아이유 석진 지민 정국 석진 정국 석진 남준 석진 남준 남준 남준 -> 출력 : 석진,남준이가 4표로 동점이 나왔습니다.\n",
    "- 아래 코드를 참고하여 pandas Module을 이용하여 구현하시오.\n"
   ]
  },
  {
   "cell_type": "code",
   "execution_count": 10,
   "metadata": {},
   "outputs": [
    {
     "name": "stdout",
     "output_type": "stream",
     "text": [
      "입력 :아이유 석진 지민 정국 석진 정국 석진 남준 석진 남준 남준 남준\n",
      "{'아이유': 1, '석진': 4, '지민': 1, '정국': 2, '남준': 4}\n",
      "석진,남준이가 4표로 동점이 나왔습니다.\n"
     ]
    }
   ],
   "source": [
    "data = input('입력 :').split()\n",
    "data_dict = {}\n",
    "\n",
    "for i in data :\n",
    "    if i in data_dict : data_dict[i] += 1\n",
    "    else : data_dict[i] = 1\n",
    "print(data_dict)\n",
    "       \n",
    "name = list(data_dict.keys())   # 후보 이름\n",
    "count = list(data_dict.values())   # 받은 표 수\n",
    "\n",
    "max_data = [name[i] for i in range(len(count)) if count[i]==max(count)]\n",
    "        \n",
    "if len(max_data) > 1 :\n",
    "    result = ','.join(max_data)\n",
    "    print('{}이가 {}표로 동점이 나왔습니다.'.format(result,max(count)))\n",
    "else :\n",
    "    print('{}이가 {}표로 반장이 되었습니다.'.format(max_data[0],max(count)))"
   ]
  },
  {
   "cell_type": "code",
   "execution_count": 33,
   "metadata": {},
   "outputs": [
    {
     "name": "stdout",
     "output_type": "stream",
     "text": [
      "입력 :아이유 석진 지민 정국 석진 정국 석진 남준 석진 남준 남준 남준\n",
      "석진,남준이가 4표로 동점이 나왔습니다.\n"
     ]
    }
   ],
   "source": [
    "import pandas as pd\n",
    "\n",
    "data = input('입력 :').split()\n",
    "data_dict = {'이름':[],'득표수':[]}\n",
    "\n",
    "for i in data :\n",
    "    if i in data_dict['이름'] : \n",
    "        data_dict['득표수'][data_dict['이름'].index(i)] += 1\n",
    "    else : \n",
    "        data_dict['이름'].append(i)\n",
    "        data_dict['득표수'].insert(len(data_dict['득표수']),1)\n",
    "\n",
    "        \n",
    "data_df = pd.DataFrame(data_dict)\n",
    "\n",
    "Name = list(data_df[data_df['득표수']==data_df['득표수'].max()]['이름'])\n",
    "N = list(data_df[data_df['득표수']==data_df['득표수'].max()]['득표수'])\n",
    "\n",
    "if len(Name)>1 :\n",
    "    result = ','.join(Name)\n",
    "    print('{}이가 {}표로 동점이 나왔습니다.'.format(result,N[0]))\n",
    "else : \n",
    "    print('{}이가 {}표로 반장이 되었습니다.'.format(Name[0],N[0]))\n"
   ]
  },
  {
   "cell_type": "code",
   "execution_count": 1,
   "metadata": {},
   "outputs": [
    {
     "name": "stdout",
     "output_type": "stream",
     "text": [
      "입력: 아이유 석진 지민 정국 석진 정국 석진 남준 석진 남준 남준 남준\n",
      "     득표수\n",
      "이름      \n",
      "남준     4\n",
      "석진     4\n",
      "아이유    1\n",
      "정국     2\n",
      "지민     1\n"
     ]
    }
   ],
   "source": [
    "import pandas as pd\n",
    "\n",
    "data = input('입력: ').split()\n",
    "df = pd.DataFrame(columns=['이름', '득표수'])\n",
    "\n",
    "for key in data :\n",
    "    df = df.append({'이름':key, '득표수':1},ignore_index=True)\n",
    "    \n",
    "df2 = df.groupby('이름').sum()\n",
    "print(df2)"
   ]
  },
  {
   "cell_type": "markdown",
   "metadata": {},
   "source": [
    "#### 4번"
   ]
  },
  {
   "cell_type": "markdown",
   "metadata": {},
   "source": [
    "ver1. numpy로 array만들기\n",
    "ver2. pandas로 Series"
   ]
  },
  {
   "cell_type": "code",
   "execution_count": 71,
   "metadata": {},
   "outputs": [
    {
     "name": "stdout",
     "output_type": "stream",
     "text": [
      "4 5 6\n",
      "입력된 값 : [4 5 6]\n",
      "합계 : 15\n",
      "평균 : 5.0\n",
      "표준편차 : 0.816496580927726\n"
     ]
    }
   ],
   "source": [
    "import numpy as np\n",
    "\n",
    "class Statistics:\n",
    "    def __init__(self):\n",
    "        self.select = input().strip().split()\n",
    "        self.select = np.array([int(x) for x in self.select])\n",
    "   \n",
    "    def sum(self):\n",
    "        return self.select.sum()\n",
    "    \n",
    "    def mean(self):\n",
    "        return self.select.mean()\n",
    "    \n",
    "    def std(self):\n",
    "        return self.select.std()\n",
    "    \n",
    "    \n",
    "data = Statistics()\n",
    "\n",
    "print('입력된 값 :',data.select)\n",
    "print('합계 :',data.sum())\n",
    "print('평균 :',data.mean())\n",
    "print('표준편차 :',data.std())"
   ]
  },
  {
   "cell_type": "markdown",
   "metadata": {},
   "source": [
    "**5-1)번**"
   ]
  },
  {
   "cell_type": "code",
   "execution_count": 1,
   "metadata": {
    "scrolled": true
   },
   "outputs": [
    {
     "name": "stdout",
     "output_type": "stream",
     "text": [
      "이름 : 이승엽\n",
      "잔액 : 100\n",
      "은행명 : ICT은행\n",
      "계좌번호 : 794-47-858483\n"
     ]
    }
   ],
   "source": [
    "import random\n",
    "\n",
    "class Account :\n",
    "    bank_name = 'ICT은행'\n",
    "    \n",
    "    def __init__(self, name, balance):\n",
    "        self.name = name\n",
    "        self.balance = balance\n",
    "        self.account_number = '{}-{}-{}'.format(random.randint(100,999),random.randint(10,99),random.randint(100000,999999))\n",
    "        \n",
    "\n",
    "lee = Account('이승엽',100)\n",
    "\n",
    "print('이름 :',lee.name)\n",
    "print('잔액 :',lee.balance)\n",
    "print('은행명 :',Account.bank_name)\n",
    "print('계좌번호 :',lee.account_number)\n"
   ]
  },
  {
   "cell_type": "markdown",
   "metadata": {},
   "source": [
    "**5-2)번**"
   ]
  },
  {
   "cell_type": "code",
   "execution_count": 2,
   "metadata": {},
   "outputs": [
    {
     "name": "stdout",
     "output_type": "stream",
     "text": [
      "ICT은행 계좌 수 : 3\n"
     ]
    }
   ],
   "source": [
    "# 생성된 계좌 객체의 개수 저장\n",
    "# 계좌 개수 출력하는 get_account_cnt() 메서드를 추가하시오\n",
    "\n",
    "import random\n",
    "\n",
    "class Account :\n",
    "    bank_name = 'ICT은행'\n",
    "    count = 0\n",
    "    \n",
    "    def __init__(self, name, balance):\n",
    "        self.name = name\n",
    "        self.balance = balance\n",
    "        self.account_number = '{}-{}-{}'.format(random.randint(100,999),random.randint(10,99),random.randint(100000,999999))\n",
    "        Account.count += 1\n",
    "\n",
    "\n",
    "    def get_account_cnt():\n",
    "        return print('ICT은행 계좌 수 :',Account.count)\n",
    "    \n",
    "\n",
    "lee = Account('이승엽',100)\n",
    "park = Account('박찬호',100)\n",
    "yoon = Account('윤석민',100)\n",
    "Account.get_account_cnt()"
   ]
  },
  {
   "cell_type": "markdown",
   "metadata": {},
   "source": [
    "**5-3)번** "
   ]
  },
  {
   "cell_type": "code",
   "execution_count": 3,
   "metadata": {},
   "outputs": [
    {
     "name": "stdout",
     "output_type": "stream",
     "text": [
      "이름 : 이승엽\n",
      "잔액 : 1100\n",
      "이름 : 이승엽\n",
      "잔액 : 1050\n"
     ]
    }
   ],
   "source": [
    "# 입/출금을 위한 plusminus 메서드를 추가하시오\n",
    "\n",
    "import random\n",
    "\n",
    "class Account :\n",
    "    bank_name = 'ICT은행'\n",
    "    count = 0\n",
    "    \n",
    "    def __init__(self, name, balance):\n",
    "        self.name = name\n",
    "        self.balance = balance\n",
    "        self.account_number = '{}-{}-{}'.format(random.randint(100,999),random.randint(10,99),random.randint(100000,999999))\n",
    "        Account.count += 1\n",
    "    \n",
    "    def get_account_cnt():\n",
    "        return print('ICT은행 계좌 수 :',Account.count)\n",
    "    \n",
    "    def plusminus(self, a, b):\n",
    "        if a==0 : self.balance -= b\n",
    "        elif a==1 : self.balance += b   \n",
    "   \n",
    "\n",
    "lee = Account('이승엽',1000)\n",
    "lee.plusminus(1,100)\n",
    "print('이름 :',lee.name)\n",
    "print('잔액 :',lee.balance)\n",
    "lee.plusminus(0,50)\n",
    "print('이름 :',lee.name)\n",
    "print('잔액 :',lee.balance)"
   ]
  },
  {
   "cell_type": "markdown",
   "metadata": {},
   "source": [
    "**5-4)번**"
   ]
  },
  {
   "cell_type": "code",
   "execution_count": 4,
   "metadata": {
    "scrolled": false
   },
   "outputs": [
    {
     "name": "stdout",
     "output_type": "stream",
     "text": [
      "은행이름 : ICT은행\n",
      "예금주 : 이승엽\n",
      "계좌번호 : 418-91-819551\n",
      "잔고 : 1,050\n"
     ]
    }
   ],
   "source": [
    "# Account 인스턴스에 저장된 정보를 출력하는 dsiplay_info() 메서드를 추가하시요.\n",
    "# 잔고는 세자리마다 쉼표를 출력\n",
    "\n",
    "import random\n",
    "\n",
    "class Account :\n",
    "    bank_name = 'ICT은행'\n",
    "    count = 0\n",
    "    \n",
    "    def __init__(self, name, balance):\n",
    "        self.name = name\n",
    "        self.balance = balance\n",
    "        self.account_number = '{}-{}-{}'.format(random.randint(100,999),random.randint(10,99),random.randint(100000,999999))\n",
    "        Account.count += 1\n",
    "\n",
    "    def get_account_cnt():\n",
    "        return print('ICT은행 계좌 수 :',Account.count)\n",
    "    \n",
    "    def plusminus(self, a, b):\n",
    "        if a==0 : self.balance -= b\n",
    "        elif a==1 : self.balance += b\n",
    "            \n",
    "    def display_info(self):\n",
    "        print('은행이름 :', Account.bank_name)\n",
    "        print('예금주 :',self.name)\n",
    "        print('계좌번호 :',self.account_number)\n",
    "        print('잔고 :',format(self.balance,','))\n",
    "           \n",
    "            \n",
    "lee = Account('이승엽',1000)\n",
    "lee.plusminus(1,100)\n",
    "lee.plusminus(0,50)\n",
    "lee.display_info()"
   ]
  },
  {
   "cell_type": "markdown",
   "metadata": {},
   "source": [
    "**5-5)번**"
   ]
  },
  {
   "cell_type": "code",
   "execution_count": 6,
   "metadata": {},
   "outputs": [
    {
     "name": "stdout",
     "output_type": "stream",
     "text": [
      "잔액 : 1,515원\n"
     ]
    }
   ],
   "source": [
    "# 입금 횟수가 5회 될 때 잔고 기준으로 1%의 이자가 잔고에 추가되도록 코드 변경\n",
    "\n",
    "import random\n",
    "\n",
    "class Account :\n",
    "    bank_name = 'ICT은행'\n",
    "    count = 0\n",
    "    plusminus_count = 0\n",
    "    \n",
    "    def __init__(self, name, balance):\n",
    "        self.name = name\n",
    "        self.balance = balance\n",
    "        self.account_number = '{}-{}-{}'.format(random.randint(100,999),random.randint(10,99),random.randint(100000,999999))\n",
    "        Account.count += 1\n",
    "\n",
    "    def get_account_cnt():\n",
    "        return print('ICT은행 계좌 수 :',Account.count)\n",
    "    \n",
    "    def plusminus(self, a, b):\n",
    "        if a==0 : self.balance -= b\n",
    "        elif a==1 : \n",
    "            self.balance += b\n",
    "            Account.plusminus_count += 1\n",
    "            \n",
    "        if Account.plusminus_count == 5 : \n",
    "            self.balance += self.balance//100\n",
    "            Account.plusminus_count = 0\n",
    "        \n",
    "            \n",
    "    def display_info(self):\n",
    "        print('은행이름 :', Account.bank_name)\n",
    "        print('예금주 :',self.name)\n",
    "        print('계좌번호 :',self.account_number)\n",
    "        print('잔고 :',format(self.balance,','))\n",
    "           \n",
    "            \n",
    "lee = Account('이승엽',1000)\n",
    "lee.plusminus(1,100)\n",
    "lee.plusminus(1,100)\n",
    "lee.plusminus(1,100)\n",
    "lee.plusminus(1,100)\n",
    "lee.plusminus(1,100)\n",
    "print('잔액 : {}원'.format(format(lee.balance,',')))"
   ]
  },
  {
   "cell_type": "markdown",
   "metadata": {},
   "source": [
    "#### 6번"
   ]
  },
  {
   "cell_type": "code",
   "execution_count": 2,
   "metadata": {},
   "outputs": [
    {
     "name": "stdout",
     "output_type": "stream",
     "text": [
      "1단계 게임인 베스킨라빈스 게임을 진행 합니다.\n",
      "게임 규칙은 각 플레이어가 1~3의 숫자를 입력하며 31이나 그 이상을 부르면 탈락입니다.\n",
      "단, 0 또는 4 이상의 숫자를 입력하면 턴을 넘깁니다.\n",
      "1~3 중 숫자를 입력하시오:3\n",
      "You: 3 / ai 5\n",
      "1~3 중 숫자를 입력하시오:3\n",
      "You: 8 / ai 10\n",
      "1~3 중 숫자를 입력하시오:5\n",
      "1~3 사이의 숫자를 입력하지 않아서 턴을 넘깁니다.\n",
      "ai 11\n",
      "1~3 중 숫자를 입력하시오:6\n",
      "1~3 사이의 숫자를 입력하지 않아서 턴을 넘깁니다.\n",
      "ai 12\n",
      "1~3 중 숫자를 입력하시오:3\n",
      "You: 15 / ai 16\n",
      "1~3 중 숫자를 입력하시오:3\n",
      "You: 19 / ai 20\n",
      "1~3 중 숫자를 입력하시오:3\n",
      "You: 23 / ai 24\n",
      "1~3 중 숫자를 입력하시오:3\n",
      "You: 27 / ai 29\n",
      "1~3 중 숫자를 입력하시오:7\n",
      "1~3 중 숫자를 입력하시오:7\n",
      "1~3 중 숫자를 입력하시오:4\n",
      "1~3 중 숫자를 입력하시오:3\n",
      "You: 31 / Game over\n"
     ]
    }
   ],
   "source": [
    "import random\n",
    "\n",
    "print('1단계 게임인 베스킨라빈스 게임을 진행 합니다.')\n",
    "print('게임 규칙은 각 플레이어가 1~3의 숫자를 입력하며 31이나 그 이상을 부르면 탈락입니다.')\n",
    "print('단, 0 또는 4 이상의 숫자를 입력하면 턴을 넘깁니다.')\n",
    "\n",
    "end = 0\n",
    "for i in range(1,4):\n",
    "    if end ==1 : break\n",
    "\n",
    "    result = 0\n",
    "    while True :\n",
    "        if result<31:\n",
    "            user= int(input('1~3 중 숫자를 입력하시오:'))\n",
    "        \n",
    "            if (user ==0 or user>3):\n",
    "                if result >= 28 : continue\n",
    "                else : print('1~3 사이의 숫자를 입력하지 않아서 턴을 넘깁니다.')\n",
    "                ai = random.randint(1,3)\n",
    "                result += ai\n",
    "                print('ai',result)\n",
    "        \n",
    "            else :\n",
    "                result += user\n",
    "                if result >=31 :  #사용자가 진 경우\n",
    "                    print('You: 31 / Game over')\n",
    "                    end +=1\n",
    "                    break\n",
    "                \n",
    "                ai = random.randint(1,3)\n",
    "                result += ai\n",
    "                if result >=31 : # ai가 진 경우\n",
    "                    print('You: {} / ai 31'.format(result-ai))\n",
    "                    \n",
    "                    if i<3 :\n",
    "                        print('{}단계 통과!! 다음 단계로 넘어갑니다.'.format(i))\n",
    "                        i +=1\n",
    "                        break\n",
    "                    elif i==3 :\n",
    "                        print('축하합니다! 모든 스테이지를 클리어 하셨습니다')\n",
    "                        break\n",
    "                        \n",
    "                print('You: {} / ai {}'.format(result-ai, result))\n",
    "        "
   ]
  }
 ],
 "metadata": {
  "kernelspec": {
   "display_name": "Python 3",
   "language": "python",
   "name": "python3"
  },
  "language_info": {
   "codemirror_mode": {
    "name": "ipython",
    "version": 3
   },
   "file_extension": ".py",
   "mimetype": "text/x-python",
   "name": "python",
   "nbconvert_exporter": "python",
   "pygments_lexer": "ipython3",
   "version": "3.8.8"
  },
  "toc": {
   "base_numbering": 1,
   "nav_menu": {},
   "number_sections": false,
   "sideBar": true,
   "skip_h1_title": false,
   "title_cell": "Table of Contents",
   "title_sidebar": "Contents",
   "toc_cell": false,
   "toc_position": {},
   "toc_section_display": true,
   "toc_window_display": false
  }
 },
 "nbformat": 4,
 "nbformat_minor": 4
}
