{
 "cells": [
  {
   "cell_type": "markdown",
   "metadata": {},
   "source": [
    "# 1. 알고리즘 기초"
   ]
  },
  {
   "cell_type": "markdown",
   "metadata": {},
   "source": [
    "## 1.1. 알고리즘\n",
    "- 어떤 문제를 풀기위한 절차나 방법\n",
    "- 주어진 입력을 출력으로 만드는 과정\n",
    "- 알고리즘의 중요포인트 : **문제, 입력, 출력**\n",
    "- 예) 1부터 n까지의 합을 구하는 알고리즘\n",
    "    - **문제** : 1부터 n까지 연속한 숫자의 합 구하기 \n",
    "    - **입력** : n\n",
    "    - **알고리즘** : 1부터 n까지의 합을 구하는 절차\n",
    "    - **출력** : 1부터 n 까지의 합\n",
    "   "
   ]
  },
  {
   "cell_type": "code",
   "execution_count": null,
   "metadata": {},
   "outputs": [],
   "source": [
    "# 문제 : 1부터 n까지 연속한 숫자의 합 구하기 \n",
    "\n",
    "# 입력 \n",
    "n = int(input())\n",
    "\n",
    "# 알고리즘 : 1부터 n까지의 합을 구하는 절차\n",
    "sum = 0\n",
    "for i in range(1, n+1): sum+=i\n",
    "    \n",
    "# 출력\n",
    "print(sum)   "
   ]
  },
  {
   "cell_type": "markdown",
   "metadata": {},
   "source": [
    "- 1부터 n까지 연속한 숫자의 합 구하기 알고리즘2 = $\\frac {n(n+1)}{2}$"
   ]
  },
  {
   "cell_type": "code",
   "execution_count": 3,
   "metadata": {},
   "outputs": [
    {
     "name": "stdout",
     "output_type": "stream",
     "text": [
      "100\n",
      "5050\n"
     ]
    }
   ],
   "source": [
    "# 문제 : 1부터 n까지 연속한 숫자의 합 구하기 \n",
    "\n",
    "# 입력 \n",
    "n = int(input())\n",
    "\n",
    "# 알고리즘 : 1부터 n까지의 합을 구하는 절차\n",
    "sum = n*(n+1)//2\n",
    "    \n",
    "# 출력\n",
    "print(sum)"
   ]
  },
  {
   "cell_type": "markdown",
   "metadata": {},
   "source": [
    "## 1.2. 계산 복잡도\n",
    "- 첫 번째 방법 : <kbd>0</kbd>+<kbd>1</kbd>+<kbd>2</kbd>+<kbd>3</kbd>+...+<kbd>n</kbd> -> **덧셈 n번**\n",
    "- 두번째 방법 : <kbd>n</kbd> x (<kbd>n</kbd>+<kbd>1</kbd>) /<kbd>2</kbd> -> **덧셈, 곱셈, 나눗셈 각 한번(세번)**\n",
    "- n이 커질이 수록 차이가 난다.예) 전국민의 평균나이....\n",
    "- **계산 복잡도** : 알고리즘이 문제를 풀기 위해 해야 하는 계산이 얼마나 복잡한지 나타내는 정도\n",
    "- 대문자 O표기법으로 사용\n",
    "- 첫 번째 알고리즘 : 필요한 계산횟수가 입력크기에 정비례 -> O(n)\n",
    "- 두 번째 알고리즘 : 입력크기 n과 무관하게 사칙연산 3번, 입력크기가 커져도 계산횟수가 무관 -> O(1)\n",
    "- 입력크기가 큰 문제를 풀때 O(n) Vs O(1) "
   ]
  },
  {
   "cell_type": "markdown",
   "metadata": {},
   "source": [
    "**연습문제)** 1부터 n까지의 연속한 숫자의 제곱의 합을 구하는 프로그램\n",
    "- 알고리즘1 : O(n)\n",
    "- 알고리즘2 : O(1) -> $\\frac {n(n+1)(2n+1)}{6}$"
   ]
  },
  {
   "cell_type": "code",
   "execution_count": 4,
   "metadata": {},
   "outputs": [
    {
     "name": "stdout",
     "output_type": "stream",
     "text": [
      "10\n",
      "385\n"
     ]
    }
   ],
   "source": [
    "# O(n)\n",
    "\n",
    "# 입력\n",
    "n = int(input())\n",
    "\n",
    "#알고리즘\n",
    "sum = 0\n",
    "for i in range(1,n+1):\n",
    "    sum += i*i\n",
    "\n",
    "#출력\n",
    "print(sum)\n"
   ]
  },
  {
   "cell_type": "code",
   "execution_count": 7,
   "metadata": {},
   "outputs": [
    {
     "name": "stdout",
     "output_type": "stream",
     "text": [
      "10\n",
      "385\n"
     ]
    }
   ],
   "source": [
    "# O(1)\n",
    "\n",
    "# 입력\n",
    "n = int(input())\n",
    "\n",
    "#알고리즘\n",
    "sum = (n*(n+1)*(2*n+1))//6\n",
    "\n",
    "#출력\n",
    "print(sum)"
   ]
  },
  {
   "cell_type": "markdown",
   "metadata": {},
   "source": [
    "**연습문제2**) 주어진 숫자 n개 중 가장 큰 숫자를 찾는 알고리즘을 구현하시오."
   ]
  },
  {
   "cell_type": "code",
   "execution_count": 11,
   "metadata": {},
   "outputs": [
    {
     "name": "stdout",
     "output_type": "stream",
     "text": [
      "92\n"
     ]
    }
   ],
   "source": [
    "#알고리즘\n",
    "def find_max(a):\n",
    "    a.sort()\n",
    "    return a[-1]\n",
    "    \n",
    "#입력\n",
    "data = [17, 92, 18, 33, 58, 7, 33, 42]\n",
    "\n",
    "#출력\n",
    "print(find_max(data))"
   ]
  },
  {
   "cell_type": "code",
   "execution_count": 19,
   "metadata": {},
   "outputs": [
    {
     "name": "stdout",
     "output_type": "stream",
     "text": [
      "92\n"
     ]
    }
   ],
   "source": [
    "#알고리즘\n",
    "def find_max(a):\n",
    "    n = len(a)\n",
    "    max_v = a[0]\n",
    "    \n",
    "    for i in range(1,n):\n",
    "        if max_v < a[i] :\n",
    "            max_v = a[i]\n",
    "    return max_v\n",
    "    \n",
    "#입력\n",
    "data = [17, 92, 18, 33, 58, 7, 33, 42]\n",
    "\n",
    "#출력\n",
    "print(find_max(data))"
   ]
  },
  {
   "cell_type": "markdown",
   "metadata": {},
   "source": [
    "**연습문제3)** 리스트에 숫자가 n개 있을 때 가장 큰 값이 있는 위치 번호를 돌려주는 알고리즘을 구현하시오.\n",
    "- 알고리즘 : 최댓값의 위치 구하기\n",
    "- 입력: 숫자가 n개 들어 있는 리스트\n",
    "- 출력: 숫자 n개 중에서 최댓값이 있는 위치(0부터 n-1까지의 값)"
   ]
  },
  {
   "cell_type": "code",
   "execution_count": 13,
   "metadata": {},
   "outputs": [
    {
     "name": "stdout",
     "output_type": "stream",
     "text": [
      "1\n"
     ]
    }
   ],
   "source": [
    "#알고리즘\n",
    "def find_max_idx(a):\n",
    "    return a.index(max(a))\n",
    "\n",
    "#입력\n",
    "data = [17, 92, 18, 33, 58, 7, 33, 42]\n",
    "\n",
    "#출력\n",
    "print(find_max_idx(data))\n"
   ]
  },
  {
   "cell_type": "code",
   "execution_count": 21,
   "metadata": {},
   "outputs": [
    {
     "name": "stdout",
     "output_type": "stream",
     "text": [
      "1\n"
     ]
    }
   ],
   "source": [
    "#알고리즘\n",
    "def find_max_idx(a):\n",
    "    n = len(a)\n",
    "    max_idx = 0\n",
    "    \n",
    "    for i in range(1,n):\n",
    "        if a[max_idx] < a[i] :\n",
    "            max_idx = i\n",
    "    return max_idx\n",
    "\n",
    "#입력\n",
    "data = [17, 92, 18, 33, 58, 7, 33, 42]\n",
    "\n",
    "#출력\n",
    "print(find_max_idx(data))\n"
   ]
  },
  {
   "cell_type": "markdown",
   "metadata": {},
   "source": [
    "**연습문제4)** 동명이인을 찾는 알고리즘을 구현하시오.\n",
    "- 두 번 이상 나온 이름 찾기\n",
    "- 입력: 이름이 n개 들어 있는 리스트\n",
    "- 출력: 이름 n개 중 반복되는 이름의 집합"
   ]
  },
  {
   "cell_type": "code",
   "execution_count": 18,
   "metadata": {},
   "outputs": [
    {
     "name": "stdout",
     "output_type": "stream",
     "text": [
      "Tom 2\n",
      "Jerry 1\n",
      "Mike 1\n",
      "Tom 2\n",
      "\n",
      "Tom 2\n",
      "Jerry 1\n",
      "Mike 2\n",
      "Tom 2\n",
      "Mike 2\n",
      "\n"
     ]
    }
   ],
   "source": [
    "# 방법1 : 딕셔너리를 사용하지 않고.\n",
    "\n",
    "def find_same_name(a):\n",
    "    result = ''\n",
    "    for i in a :\n",
    "        j = a.count(i)\n",
    "        print(i,j)\n",
    "        if j>1 : \n",
    "            result+i\n",
    "    return result\n",
    "\n",
    "#입력\n",
    "name = [\"Tom\", \"Jerry\", \"Mike\", \"Tom\"]  # 대소문자 유의: 파이썬은 대소문자를 구분함\n",
    "#출력\n",
    "print(find_same_name(name))\n",
    "\n",
    "#입력\n",
    "name2 = [\"Tom\", \"Jerry\", \"Mike\", \"Tom\", \"Mike\"]\n",
    "#출력\n",
    "print(find_same_name(name2))"
   ]
  },
  {
   "cell_type": "code",
   "execution_count": 24,
   "metadata": {},
   "outputs": [
    {
     "name": "stdout",
     "output_type": "stream",
     "text": [
      "{'Tom'}\n",
      "{'Mike', 'Tom'}\n"
     ]
    }
   ],
   "source": [
    "# 방법1 : 딕셔너리를 사용하지 않고.\n",
    "\n",
    "def find_same_name(a):\n",
    "    n = len(a)\n",
    "    result = set()\n",
    "    for i in range(n-1):\n",
    "        for j in range(i+1,n):\n",
    "            if a[i]==a[j]:result.add(a[i])\n",
    "    return result\n",
    "                \n",
    "\n",
    "name = [\"Tom\", \"Jerry\", \"Mike\", \"Tom\"]  # 대소문자 유의: 파이썬은 대소문자를 구분함\n",
    "print(find_same_name(name))\n",
    "\n",
    "name2 = [\"Tom\", \"Jerry\", \"Mike\", \"Tom\", \"Mike\"]\n",
    "print(find_same_name(name2))"
   ]
  },
  {
   "cell_type": "code",
   "execution_count": 23,
   "metadata": {},
   "outputs": [
    {
     "name": "stdout",
     "output_type": "stream",
     "text": [
      "{'Tom'}\n",
      "{'Mike', 'Tom'}\n"
     ]
    }
   ],
   "source": [
    "# 방법2 : 딕셔너리를 이용\n",
    "def find_same_name(a):\n",
    "    # 1단계: 각 이름의 등장 횟수를 딕셔너리로 만듦\n",
    "    name_dict = {}\n",
    "    for name in a:  # 리스트 a에 있는 자료들을 차례로 반복\n",
    "        if name in name_dict:     # 이름이 name_dict에 있으면\n",
    "            name_dict[name] += 1  # 등장 횟수를 1 증가\n",
    "        else:                     # 새 이름이면\n",
    "            name_dict[name] = 1   # 등장 횟수를 1로 저장\n",
    "\n",
    "    # 2단계: 만들어진 딕셔너리에서 등장 횟수가 2 이상인 것을 결과에 추가\n",
    "    result = set()  # 결괏값을 저장할 빈 집합\n",
    "    for name in name_dict:  # 딕셔너리 name_dict에 있는 자료들을 차례로 반복\n",
    "        if name_dict[name] >= 2:\n",
    "            result.add(name)\n",
    "\n",
    "    return result\n",
    "\n",
    "name = [\"Tom\", \"Jerry\", \"Mike\", \"Tom\"]  \n",
    "print(find_same_name(name))\n",
    "\n",
    "name2 = [\"Tom\", \"Jerry\", \"Mike\", \"Tom\", \"Mike\"]\n",
    "print(find_same_name(name2))\n"
   ]
  },
  {
   "cell_type": "markdown",
   "metadata": {},
   "source": [
    "**연습문제5)** n명중 두명을 뽑아 짝을 짓는다고 할 때 짝을 지을 수 있는 모든 조합을 출력하는 알고리즘을 구현하시오. \n",
    "- n명에서 두 명을 뽑아 짝을 만드는 모든 경우를 찾는 알고리즘\n",
    "- 입력: n명의 이름이 들어 있는 리스트\n",
    "- 출력: 두 명을 뽑아 만들 수 있는 모든 짝   \n",
    "- 예) name = [\"Tom\", \"Jerry\", \"Mike\"] 이라면 Tom-Jerry / Tom-Mike / Jerry-Mike"
   ]
  },
  {
   "cell_type": "code",
   "execution_count": 27,
   "metadata": {},
   "outputs": [
    {
     "name": "stdout",
     "output_type": "stream",
     "text": [
      "Tom - Jerry\n",
      "Tom - Mike\n",
      "Jerry - Mike\n",
      "\n",
      "Tom - Jerry\n",
      "Tom - Mike\n",
      "Tom - John\n",
      "Jerry - Mike\n",
      "Jerry - John\n",
      "Mike - John\n",
      "\n"
     ]
    }
   ],
   "source": [
    "#알고리즘\n",
    "def print_pairs(a):\n",
    "    n = len(a)\n",
    "    for i in range(n-1):\n",
    "        for j in range(i+1,n):\n",
    "            print('{} - {}'.format(a[i],a[j]))\n",
    "    print('')\n",
    "            \n",
    "#입력\n",
    "name = [\"Tom\", \"Jerry\", \"Mike\"]\n",
    "\n",
    "#출력\n",
    "print_pairs(name)\n",
    "\n",
    "name2 = [\"Tom\", \"Jerry\", \"Mike\", \"John\"]\n",
    "print_pairs(name2)\n"
   ]
  },
  {
   "cell_type": "markdown",
   "metadata": {},
   "source": [
    "# 2. 재귀호출"
   ]
  },
  {
   "cell_type": "markdown",
   "metadata": {},
   "source": [
    "- 함수안에서 자기자신을 호출하는 것. 예)러시아인형..."
   ]
  },
  {
   "cell_type": "markdown",
   "metadata": {},
   "source": [
    "## 2.1. 팩토리얼 구하기\n",
    "- 연속한 숫자의 곱을 구하는 알고리즘\n",
    "- 입력: n\n",
    "- 출력: 1부터 n까지 연속한 숫자를 곱한 값"
   ]
  },
  {
   "cell_type": "code",
   "execution_count": 28,
   "metadata": {},
   "outputs": [
    {
     "name": "stdout",
     "output_type": "stream",
     "text": [
      "1\n",
      "120\n",
      "3628800\n"
     ]
    }
   ],
   "source": [
    "# 방법1\n",
    "def fact(n):\n",
    "    f = 1\n",
    "    for i in range(1,n+1):\n",
    "        f = f*i\n",
    "    return f\n",
    "\n",
    "print(fact(1))   # 1! = 1\n",
    "print(fact(5))   # 5! = 120\n",
    "print(fact(10))  # 10! = 3628800"
   ]
  },
  {
   "cell_type": "code",
   "execution_count": 32,
   "metadata": {},
   "outputs": [
    {
     "name": "stdout",
     "output_type": "stream",
     "text": [
      "1\n",
      "120\n",
      "3628800\n"
     ]
    }
   ],
   "source": [
    "# 방법2\n",
    "\n",
    "def fact(n):\n",
    "    if n <= 1 :\n",
    "        return 1\n",
    "    return n*fact(n-1)\n",
    "\n",
    "print(fact(1))   # 1! = 1\n",
    "print(fact(5))   # 5! = 120\n",
    "print(fact(10))  # 10! = 3628800"
   ]
  },
  {
   "cell_type": "markdown",
   "metadata": {},
   "source": [
    "**연습문제6)** 1부터 n까지의 합 구하기를 재귀호출로 구현하시오.\n",
    "- 연속한 숫자의 합을 구하는 알고리즘\n",
    "- 입력: n\n",
    "- 출력: 1부터 n까지 연속한 숫자를 더한 합"
   ]
  },
  {
   "cell_type": "code",
   "execution_count": null,
   "metadata": {},
   "outputs": [],
   "source": [
    "# 알고리즘 : \n",
    "# 입력 : \n",
    "# 출력 : \n",
    "\n",
    "def sum_n(n):\n",
    "    if n == 0:\n",
    "        return 0\n",
    "    return sum_n(n - 1) + n\n",
    "\n",
    "print(sum_n(10))   # 1부터 10까지의 합(입력:10, 출력:55)\n",
    "print(sum_n(100))  # 1부터 100까지의 합(입력:100, 출력:5050)"
   ]
  },
  {
   "cell_type": "markdown",
   "metadata": {},
   "source": [
    "**연습문제7)** 숫자n개 중에서 최대값 찾기를 재귀호출로 구현하시오"
   ]
  },
  {
   "cell_type": "code",
   "execution_count": 33,
   "metadata": {},
   "outputs": [
    {
     "ename": "IndexError",
     "evalue": "list index out of range",
     "output_type": "error",
     "traceback": [
      "\u001b[1;31m---------------------------------------------------------------------------\u001b[0m",
      "\u001b[1;31mIndexError\u001b[0m                                Traceback (most recent call last)",
      "\u001b[1;32m<ipython-input-33-7de98c8954ce>\u001b[0m in \u001b[0;36m<module>\u001b[1;34m\u001b[0m\n\u001b[0;32m     12\u001b[0m \u001b[1;33m\u001b[0m\u001b[0m\n\u001b[0;32m     13\u001b[0m \u001b[0mdata\u001b[0m \u001b[1;33m=\u001b[0m \u001b[1;33m[\u001b[0m\u001b[1;36m17\u001b[0m\u001b[1;33m,\u001b[0m \u001b[1;36m92\u001b[0m\u001b[1;33m,\u001b[0m \u001b[1;36m18\u001b[0m\u001b[1;33m,\u001b[0m \u001b[1;36m33\u001b[0m\u001b[1;33m,\u001b[0m \u001b[1;36m58\u001b[0m\u001b[1;33m,\u001b[0m \u001b[1;36m7\u001b[0m\u001b[1;33m,\u001b[0m \u001b[1;36m33\u001b[0m\u001b[1;33m,\u001b[0m \u001b[1;36m42\u001b[0m\u001b[1;33m]\u001b[0m\u001b[1;33m\u001b[0m\u001b[1;33m\u001b[0m\u001b[0m\n\u001b[1;32m---> 14\u001b[1;33m \u001b[0mprint\u001b[0m\u001b[1;33m(\u001b[0m\u001b[0mfind_max\u001b[0m\u001b[1;33m(\u001b[0m\u001b[0mdata\u001b[0m\u001b[1;33m,\u001b[0m \u001b[0mlen\u001b[0m\u001b[1;33m(\u001b[0m\u001b[0mdata\u001b[0m\u001b[1;33m)\u001b[0m\u001b[1;33m)\u001b[0m\u001b[1;33m)\u001b[0m  \u001b[1;31m# 함수에 리스트의 자료 갯수를 인자로 추가하여 호출\u001b[0m\u001b[1;33m\u001b[0m\u001b[1;33m\u001b[0m\u001b[0m\n\u001b[0m",
      "\u001b[1;32m<ipython-input-33-7de98c8954ce>\u001b[0m in \u001b[0;36mfind_max\u001b[1;34m(a, n)\u001b[0m\n\u001b[0;32m      5\u001b[0m \u001b[1;32mdef\u001b[0m \u001b[0mfind_max\u001b[0m\u001b[1;33m(\u001b[0m\u001b[0ma\u001b[0m\u001b[1;33m,\u001b[0m \u001b[0mn\u001b[0m\u001b[1;33m)\u001b[0m\u001b[1;33m:\u001b[0m  \u001b[1;31m# 리스트 a의 앞부분 n개 중 최댓값을 구하는 재귀 함수\u001b[0m\u001b[1;33m\u001b[0m\u001b[1;33m\u001b[0m\u001b[0m\n\u001b[0;32m      6\u001b[0m     \u001b[0mresult\u001b[0m \u001b[1;33m=\u001b[0m \u001b[1;34m''\u001b[0m\u001b[1;33m\u001b[0m\u001b[1;33m\u001b[0m\u001b[0m\n\u001b[1;32m----> 7\u001b[1;33m     \u001b[1;32mif\u001b[0m \u001b[0ma\u001b[0m\u001b[1;33m[\u001b[0m\u001b[0mn\u001b[0m\u001b[1;33m]\u001b[0m \u001b[1;33m>\u001b[0m \u001b[0mfind_max\u001b[0m\u001b[1;33m(\u001b[0m\u001b[0ma\u001b[0m\u001b[1;33m,\u001b[0m\u001b[0mn\u001b[0m\u001b[1;33m-\u001b[0m\u001b[1;36m1\u001b[0m\u001b[1;33m)\u001b[0m\u001b[1;33m:\u001b[0m \u001b[0mresult\u001b[0m \u001b[1;33m+\u001b[0m \u001b[0mstr\u001b[0m\u001b[1;33m(\u001b[0m\u001b[0ma\u001b[0m\u001b[1;33m[\u001b[0m\u001b[0mn\u001b[0m\u001b[1;33m]\u001b[0m\u001b[1;33m)\u001b[0m\u001b[1;33m\u001b[0m\u001b[1;33m\u001b[0m\u001b[0m\n\u001b[0m\u001b[0;32m      8\u001b[0m     \u001b[1;32mreturn\u001b[0m \u001b[0mresult\u001b[0m\u001b[1;33m\u001b[0m\u001b[1;33m\u001b[0m\u001b[0m\n\u001b[0;32m      9\u001b[0m \u001b[1;33m\u001b[0m\u001b[0m\n",
      "\u001b[1;31mIndexError\u001b[0m: list index out of range"
     ]
    }
   ],
   "source": [
    "# 알고리즘 : 최댓값 구하기\n",
    "# 입력: 숫자가 n개 들어 있는 리스트\n",
    "# 출력: 숫자 n개 중 최댓값\n",
    "\n",
    "def find_max(a, n):  # 리스트 a의 앞부분 n개 중 최댓값을 구하는 재귀 함수\n",
    "    result = ''\n",
    "    if a[n] > find_max(a,n-1): result + str(a[n])\n",
    "    return result\n",
    "    \n",
    "    \n",
    "    \n",
    "    \n",
    "data = [17, 92, 18, 33, 58, 7, 33, 42]\n",
    "print(find_max(data, len(data)))  # 함수에 리스트의 자료 갯수를 인자로 추가하여 호출"
   ]
  },
  {
   "cell_type": "code",
   "execution_count": 34,
   "metadata": {},
   "outputs": [
    {
     "name": "stdout",
     "output_type": "stream",
     "text": [
      "92\n"
     ]
    }
   ],
   "source": [
    "# 알고리즘 : 최댓값 구하기\n",
    "# 입력: 숫자가 n개 들어 있는 리스트\n",
    "# 출력: 숫자 n개 중 최댓값\n",
    "\n",
    "def find_max(a, n):  # 리스트 a의 앞부분 n개 중 최댓값을 구하는 재귀 함수\n",
    "    if n == 1:\n",
    "        return a[0]\n",
    "    \n",
    "    max_v = find_max(a, n - 1) # n-1개 중 최댓값을 구함\n",
    "    if max_v > a[n - 1]:       # n-1개 중 최댓값과 n-1번 위치 값을 비교\n",
    "        return max_v\n",
    "    else:\n",
    "        return a[n - 1]\n",
    "\n",
    "data = [17, 92, 18, 33, 58, 7, 33, 42]\n",
    "print(find_max(data, len(data)))  # 함수에 리스트의 자료 갯수를 인자로 추가하여 호출"
   ]
  },
  {
   "cell_type": "markdown",
   "metadata": {},
   "source": [
    "## 2.2. 최대공약수(Greatest Common Divisor)구하기"
   ]
  },
  {
   "cell_type": "markdown",
   "metadata": {},
   "source": [
    "- 두수의 약수 중에서 공통된 것을 찾아 그 값 중 최대값을 구하는 것."
   ]
  },
  {
   "cell_type": "code",
   "execution_count": 35,
   "metadata": {},
   "outputs": [
    {
     "name": "stdout",
     "output_type": "stream",
     "text": [
      "1\n",
      "3\n",
      "12\n",
      "27\n"
     ]
    }
   ],
   "source": [
    "# 최대공약수 구하기\n",
    "# 입력: a, b\n",
    "# 출력: a와 b의 최대공약수\n",
    "\n",
    "def gcd(a, b):\n",
    "    i = min(a,b)\n",
    "    \n",
    "    while True :\n",
    "        if a % i ==0 and b % i == 0 :\n",
    "            return i\n",
    "        i -= 1\n",
    "\n",
    "print(gcd(1, 5))    # 1\n",
    "print(gcd(3, 6))    # 3\n",
    "print(gcd(60, 24))  # 12\n",
    "print(gcd(81, 27))  # 27"
   ]
  },
  {
   "cell_type": "markdown",
   "metadata": {},
   "source": [
    "**유클리드 알고리즘**\n",
    "- 유클리드가 발견한 최대공약수의 성질\n",
    "- a 와 b의 최대공약수 == b 와 a%b 의 최대공약수\n",
    "- 어떤 수와 0의 최대공약수는 자기자신\n",
    "- 예) gcd(60,24)==gcd(24, 60%24) == gcd(24, 12) == gcd(12, 24%12) == gcd(12,0)== 12"
   ]
  },
  {
   "cell_type": "code",
   "execution_count": 36,
   "metadata": {},
   "outputs": [
    {
     "name": "stdout",
     "output_type": "stream",
     "text": [
      "5\n",
      "1\n",
      "3\n",
      "12\n",
      "27\n"
     ]
    }
   ],
   "source": [
    "# 최대공약수 구하기\n",
    "# 입력: a, b\n",
    "# 출력: a와 b의 최대공약수\n",
    "\n",
    "def gcd(a, b):\n",
    "    if b == 0 : return a\n",
    "    return gcd(b, a%b)\n",
    "\n",
    "\n",
    "print(gcd(0, 5))\n",
    "print(gcd(1, 5))    # 1\n",
    "print(gcd(3, 6))    # 3\n",
    "print(gcd(60, 24))  # 12\n",
    "print(gcd(81, 27))  # 27"
   ]
  },
  {
   "cell_type": "markdown",
   "metadata": {},
   "source": [
    "## 2.3. 하노이의 탑 옮기기"
   ]
  },
  {
   "cell_type": "markdown",
   "metadata": {},
   "source": [
    "**하노이의 탑**\n",
    "- 크기가 다른 원반 n개를 출발점 기둥에서 도착점 기둥으로 전부 옮겨야 한다.\n",
    "- 원반은 한번에 한개씩만 옮길 수 있다.\n",
    "- 원반을 옮길 때는 한 기둥의 맨위 원반을 뽑아 다른 기둥의 맨 위로만 옮길 수 있다.(중간에서 빼고 넣고 할수 없다.)\n",
    "- 원반을 옮기는 과정에서 큰 원반을 작은 원반위로 올릴 수 없다."
   ]
  },
  {
   "cell_type": "code",
   "execution_count": 41,
   "metadata": {
    "scrolled": true
   },
   "outputs": [
    {
     "name": "stdout",
     "output_type": "stream",
     "text": [
      "n = 4\n",
      "A -> B\n",
      "A -> C\n",
      "B -> C\n",
      "A -> B\n",
      "C -> A\n",
      "C -> B\n",
      "A -> B\n",
      "A -> C\n",
      "B -> C\n",
      "B -> A\n",
      "C -> A\n",
      "B -> C\n",
      "A -> B\n",
      "A -> C\n",
      "B -> C\n"
     ]
    }
   ],
   "source": [
    "# 하노이의 탑\n",
    "# 입력: 옮기려는 원반의 갯수 n\n",
    "#      옮길 원반이 현재 있는 출발점 기둥 from_pos\n",
    "#      원반을 옮길 도착점 기둥 to_pos\n",
    "#      옮기는 과정에서 사용할 보조 기둥 aux_pos\n",
    "# 출력: 원반을 옮기는 순서 \n",
    "\n",
    "def hanoi(n, from_pos, to_pos, aux_pos):\n",
    "    if n == 1:  # 원반 한 개를 옮기는 문제면 그냥 옮기면 됨\n",
    "        print(from_pos, \"->\", to_pos)\n",
    "        return  #return : 함수 종료\n",
    "\n",
    "    # 원반 n - 1개를 aux_pos로 이동(to_pos를 보조 기둥으로)\n",
    "    hanoi(n - 1, from_pos, aux_pos, to_pos)\n",
    "    # 가장 큰 원반을 목적지로 이동\n",
    "    print(from_pos, \"->\", to_pos)\n",
    "    # aux_pos에 있는 원반 n-1개를 목적지로 이동(from_pos를 보조 기둥으로)\n",
    "    hanoi(n - 1, aux_pos, to_pos, from_pos)\n",
    "\n",
    "print(\"n = 4\")\n",
    "hanoi(4, 'A', 'C', 'B') # 원반 세 개를 1번 기둥에서 3번 기둥으로 이동(2번을 보조 기둥으로)"
   ]
  },
  {
   "cell_type": "markdown",
   "metadata": {},
   "source": [
    "**연습문제8)** 아래의 빈칸을 채워서 하노이의 탑 알고리즘을 완성하시오"
   ]
  },
  {
   "cell_type": "code",
   "execution_count": 39,
   "metadata": {},
   "outputs": [
    {
     "name": "stdout",
     "output_type": "stream",
     "text": [
      "4\n",
      "[['A', 'B'], ['A', 'C'], ['B', 'C'], ['A', 'B'], ['C', 'A'], ['C', 'B'], ['A', 'B'], ['A', 'C'], ['B', 'C'], ['B', 'A'], ['C', 'A'], ['B', 'C'], ['A', 'B'], ['A', 'C'], ['B', 'C']]\n",
      "원판의 이동경로 : 15\n"
     ]
    }
   ],
   "source": [
    "원판의이동경로 = []\n",
    "def 하노이(원반의수, 시작기둥, 목표기둥, 보조기둥):\n",
    "    #원판이 한개일 때에는 옮기면 됩니다.\n",
    "    if 원반의수 == 1:\n",
    "        원판의이동경로.append([시작기둥, 목표기둥]) \n",
    "        return None\n",
    "    #원반의 n-1개를 경유기둥으로 옮기고\n",
    "    하노이(원반의수-1, 시작기둥, 보조기둥, 목표기둥)\n",
    "    #가장 큰 원반은 목표기둥으로\n",
    "    원판의이동경로.append([시작기둥, 목표기둥])\n",
    "    #경유기둥과 시작기둥을 바꿉니다!\n",
    "    하노이(원반의수-1, 보조기둥, 목표기둥, 시작기둥)\n",
    "\n",
    "user_input = int(input())\n",
    "하노이(user_input,'A','C','B')\n",
    "print(원판의이동경로)\n",
    "print('원판의 이동경로 :',len(원판의이동경로))"
   ]
  },
  {
   "cell_type": "markdown",
   "metadata": {},
   "source": [
    "# 3. 탐색과 정렬"
   ]
  },
  {
   "cell_type": "markdown",
   "metadata": {},
   "source": [
    "## 3.1.순차탐색(sequential search)\n",
    "- 리스트에 있는 첫 번째 자료부터 하나씩 비교하면서 같은 값이 나오면 그 위치를 결과로 돌려주고, 리스트 끝까지 찾아도 같은 값이 나오지 않으면 -1 돌려줌.\n",
    "- 리스트 안에 원소를 하나씩 순차적으로 비교하면서 탐색한다 하여 순차탐색이라고 부른다.\n",
    "- n = [17, 92, 18, 33, 58, 5, 33, 42] 에서 특정 값(18,33,900)을 찾아서 해당 위치를 돌려주는 프로그램"
   ]
  },
  {
   "cell_type": "code",
   "execution_count": 49,
   "metadata": {},
   "outputs": [
    {
     "name": "stdout",
     "output_type": "stream",
     "text": [
      "2\n",
      "3\n",
      "-1\n"
     ]
    }
   ],
   "source": [
    "def search_list(a,x):\n",
    "    for i in range(len(a)) :\n",
    "        if x==a[i] : return i\n",
    "    return -1\n",
    "\n",
    "# 메인프로그램\n",
    "n = [17, 92, 18, 33, 58, 5, 33, 42]\n",
    "\n",
    "print(search_list(n, 18))\n",
    "print(search_list(n, 33))\n",
    "print(search_list(n, 900))"
   ]
  },
  {
   "cell_type": "markdown",
   "metadata": {},
   "source": [
    "**알고리즘 분석**\n",
    "- 순차탐색 알고리즘에서 원하는 값을 찾으려면 비교를 몇번 해야 할까?\n",
    "- 최악의 경로 : 비교가 최대 n번 필요함. 계산 복잡도 O(n)\n",
    "- 순차탐색으로 20개의 자료중에 어떤 값을 찾으려면 최대 20번 비교, 100개의 자료는 최대 100번, 주민등록번호로 찾기..최대 몇번??\n",
    "- 사전에서 yellow라는 단어를 찾는다면?\n"
   ]
  },
  {
   "cell_type": "markdown",
   "metadata": {},
   "source": [
    "## 3.2. 선택정렬(selection sort)"
   ]
  },
  {
   "cell_type": "markdown",
   "metadata": {},
   "source": [
    "- 정렬되지 않은 데이터들에 대해 가장 작은 데이터를 찾아 가장 앞의 데이터와 교환해나가는 방식\n",
    "- 이해하기 쉽고 간단하여 많이 이용된다. 하지만 비교횟수가 입력크기에 비례해서 입력크기가 커지면 커질수록 정렬하는데 시간이 굉장이 오래 걸림"
   ]
  },
  {
   "cell_type": "code",
   "execution_count": 52,
   "metadata": {},
   "outputs": [
    {
     "name": "stdout",
     "output_type": "stream",
     "text": [
      "before :  [8, 4, 6, 2, 9, 1, 3, 7, 5]\n",
      "[1, 4, 6, 2, 9, 8, 3, 7, 5]\n",
      "[1, 2, 6, 4, 9, 8, 3, 7, 5]\n",
      "[1, 2, 3, 4, 9, 8, 6, 7, 5]\n",
      "[1, 2, 3, 4, 9, 8, 6, 7, 5]\n",
      "[1, 2, 3, 4, 5, 8, 6, 7, 9]\n",
      "[1, 2, 3, 4, 5, 6, 8, 7, 9]\n",
      "[1, 2, 3, 4, 5, 6, 7, 8, 9]\n",
      "[1, 2, 3, 4, 5, 6, 7, 8, 9]\n",
      "after :  [1, 2, 3, 4, 5, 6, 7, 8, 9]\n"
     ]
    }
   ],
   "source": [
    "def sel_sort(a):\n",
    "    n = len(a)\n",
    "    for i in range(n-1):\n",
    "        min_idx = i\n",
    "        for j in range(i+1, n):\n",
    "            if a[j] <  a[min_idx] : \n",
    "                min_idx=j\n",
    "                    \n",
    "        a[i], a[min_idx]= a[min_idx], a[i]\n",
    "        print(list_a)\n",
    "    \n",
    "list_a = [8,4,6,2,9,1,3,7,5]\n",
    "print('before : ', list_a)\n",
    "sel_sort(list_a)\n",
    "print('after : ', list_a)"
   ]
  },
  {
   "cell_type": "code",
   "execution_count": 53,
   "metadata": {},
   "outputs": [
    {
     "name": "stdout",
     "output_type": "stream",
     "text": [
      "before :  [8, 4, 6, 2, 9, 1, 3, 7, 5]\n",
      "[9, 4, 6, 2, 8, 1, 3, 7, 5]\n",
      "[9, 8, 6, 2, 4, 1, 3, 7, 5]\n",
      "[9, 8, 7, 2, 4, 1, 3, 6, 5]\n",
      "[9, 8, 7, 6, 4, 1, 3, 2, 5]\n",
      "[9, 8, 7, 6, 5, 1, 3, 2, 4]\n",
      "[9, 8, 7, 6, 5, 4, 3, 2, 1]\n",
      "[9, 8, 7, 6, 5, 4, 3, 2, 1]\n",
      "[9, 8, 7, 6, 5, 4, 3, 2, 1]\n",
      "after :  [9, 8, 7, 6, 5, 4, 3, 2, 1]\n"
     ]
    }
   ],
   "source": [
    "#내림차순\n",
    "def sel_sort_desc(a):\n",
    "    n = len(a)\n",
    "    for i in range(n-1):\n",
    "        max_idx = i\n",
    "        for j in range(i+1, n):\n",
    "            if a[j] >  a[max_idx] : max_idx=j\n",
    "                \n",
    "        a[i], a[max_idx]= a[max_idx], a[i]\n",
    "        print(list_a)\n",
    "    \n",
    "list_a = [8,4,6,2,9,1,3,7,5]\n",
    "print('before : ', list_a)\n",
    "sel_sort_desc(list_a)\n",
    "print('after : ', list_a)"
   ]
  },
  {
   "cell_type": "markdown",
   "metadata": {},
   "source": [
    "## 3.3. 삽입정렬(insertion sort)"
   ]
  },
  {
   "cell_type": "markdown",
   "metadata": {},
   "source": [
    "- 아직 정렬되지 않은 임의의 데이터를 이미 정렬된 부분의 적절한 위치에 삽입해 가며 정렬하는 방식\n",
    "- 정렬하는데 시간이 굉장이 오래 걸린다.\n",
    "- 일반적인 입력일때 계산복잡도는 O(n$^2$)으로 정렬하는데 시간이 굉장이 오래 걸린다."
   ]
  },
  {
   "cell_type": "code",
   "execution_count": 5,
   "metadata": {},
   "outputs": [
    {
     "name": "stdout",
     "output_type": "stream",
     "text": [
      "before :  [8, 4, 6, 2, 9, 1, 3, 7, 5]\n",
      "[4, 8, 6, 2, 9, 1, 3, 7, 5]\n",
      "[4, 6, 8, 2, 9, 1, 3, 7, 5]\n",
      "[2, 4, 6, 8, 9, 1, 3, 7, 5]\n",
      "[2, 4, 6, 8, 9, 1, 3, 7, 5]\n",
      "[1, 2, 4, 6, 8, 9, 3, 7, 5]\n",
      "[1, 2, 3, 4, 6, 8, 9, 7, 5]\n",
      "[1, 2, 3, 4, 6, 7, 8, 9, 5]\n",
      "[1, 2, 3, 4, 5, 6, 7, 8, 9]\n",
      "after :  [1, 2, 3, 4, 5, 6, 7, 8, 9]\n"
     ]
    }
   ],
   "source": [
    "# 삽입 정렬\n",
    "# 입력: 리스트 a\n",
    "# 출력: 없음(입력으로 주어진 a가 정렬됨)\n",
    "\n",
    "def ins_sort(a):\n",
    "    n = len(a)\n",
    "    for i in range(1, n):  # 1부터 n-1까지\n",
    "        # i번 위치의 값을 key로 저장\n",
    "        key = a[i]\n",
    "        # j를 i 바로 왼쪽 위치로 저장\n",
    "        j = i - 1\n",
    "        # 리스트의 j번 위치에 있는 값과 key를 비교해 key가 삽입될 적절한 위치를 찾음\n",
    "        while j >= 0 and a[j] > key:\n",
    "            a[j + 1] = a[j]  # 삽입할 공간이 생기도록 값을 오른쪽으로 한 칸 이동\n",
    "            j -= 1\n",
    "        a[j + 1] = key  # 찾은 삽입 위치에 key를 저장\n",
    "        print(list_a)\n",
    "    \n",
    "list_a = [8,4,6,2,9,1,3,7,5]\n",
    "print('before : ', list_a)\n",
    "ins_sort(list_a)\n",
    "print('after : ', list_a)"
   ]
  },
  {
   "cell_type": "code",
   "execution_count": null,
   "metadata": {},
   "outputs": [],
   "source": [
    "# 내림차순 삽입 정렬\n",
    "# 입력: 리스트 a\n",
    "# 출력: 없음(입력으로 주어진 a가 정렬됨)\n",
    "\n",
    "def ins_sort_desc(a):\n",
    "    n = len(a)\n",
    "    for i in range(1, n):\n",
    "        key = a[i]\n",
    "        j = i - 1\n",
    "        while j >= 0 and a[j] < key:  # 부등호 방향 뒤집기\n",
    "            a[j + 1] = a[j]\n",
    "            j -= 1\n",
    "            a[j + 1] = key\n",
    "\n",
    "list_a = [8,4,6,2,9,1,3,7,5]\n",
    "print('before : ', list_a)\n",
    "ins_sort_desc(list_a)\n",
    "print('after : ', list_a)"
   ]
  },
  {
   "cell_type": "markdown",
   "metadata": {},
   "source": [
    "## 3.4. 병합정렬(merge sort)"
   ]
  },
  {
   "cell_type": "markdown",
   "metadata": {},
   "source": [
    "- 이미 정렬된 두 그룹을 맨 앞에서부터 비교하면서 하나로 합치는 정렬\n",
    "- 정렬해야 할 자료의 개수가 많을수록 선택, 삽입정렬보다 훨씬 더 빠른 정렬성능을 발휘한다."
   ]
  },
  {
   "cell_type": "code",
   "execution_count": 6,
   "metadata": {},
   "outputs": [
    {
     "name": "stdout",
     "output_type": "stream",
     "text": [
      "before :  [8, 4, 6, 2, 9, 1, 3, 7, 5]\n",
      "[4, 8]\n",
      "[2, 6]\n",
      "[2, 4, 6, 8]\n",
      "[1, 9]\n",
      "[5, 7]\n",
      "[3, 5, 7]\n",
      "[1, 3, 5, 7, 9]\n",
      "[1, 2, 3, 4, 5, 6, 7, 8, 9]\n",
      "after :  [1, 2, 3, 4, 5, 6, 7, 8, 9]\n"
     ]
    }
   ],
   "source": [
    "#병합 정렬\n",
    "# 입력: 리스트 a\n",
    "# 출력: 정렬된 리스트 result\n",
    "\n",
    "def merge_sort(a):\n",
    "    n = len(a)\n",
    "    if n <= 1:\n",
    "        return a\n",
    "    mid_v = n // 2\n",
    "    group1 = merge_sort(a[:mid_v])\n",
    "    group2 = merge_sort(a[mid_v:])\n",
    "    result = []\n",
    "\n",
    "    while group1 and group2:\n",
    "        if group1[0] < group2[0]:\n",
    "            result.append(group1.pop(0))  # pop로 0 삭제 후 result에 넣어줌\n",
    "        else:\n",
    "            result.append(group2.pop(0))\n",
    "\n",
    "    while group1:\n",
    "        result.append(group1.pop(0))\n",
    "    while group2:\n",
    "        result.append(group2.pop(0))\n",
    "    print(result)\n",
    "    return result\n",
    "\n",
    "list_a = [8,4,6,2,9,1,3,7,5]\n",
    "print('before : ', list_a)\n",
    "print('after : ', merge_sort(list_a))\n"
   ]
  },
  {
   "cell_type": "code",
   "execution_count": 54,
   "metadata": {},
   "outputs": [
    {
     "name": "stdout",
     "output_type": "stream",
     "text": [
      "before :  [8, 4, 6, 2, 9, 1, 3, 7, 5]\n",
      "[8, 4]\n",
      "[6, 2]\n",
      "[8, 6, 4, 2]\n",
      "[9, 1]\n",
      "[7, 5]\n",
      "[7, 5, 3]\n",
      "[9, 7, 5, 3, 1]\n",
      "[9, 8, 7, 6, 5, 4, 3, 2, 1]\n",
      "after :  [9, 8, 7, 6, 5, 4, 3, 2, 1]\n"
     ]
    }
   ],
   "source": [
    "#병합 정렬(내림차순)\n",
    "# 입력: 리스트 a\n",
    "# 출력: 정렬된 리스트 result\n",
    "\n",
    "def merge_sort_desc(a):\n",
    "    n = len(a)\n",
    "    if n <= 1:\n",
    "        return a\n",
    "    mid_v = n // 2\n",
    "    group1 = merge_sort_desc(a[:mid_v])\n",
    "    group2 = merge_sort_desc(a[mid_v:])\n",
    "    result = []\n",
    "\n",
    "    while group1 and group2:\n",
    "        if group1[0] > group2[0]:\n",
    "            result.append(group1.pop(0))\n",
    "        else:\n",
    "            result.append(group2.pop(0))\n",
    "\n",
    "    while group1:\n",
    "        result.append(group1.pop(0))\n",
    "    while group2:\n",
    "        result.append(group2.pop(0))\n",
    "    print(result)\n",
    "    return result\n",
    "\n",
    "list_a = [8,4,6,2,9,1,3,7,5]\n",
    "print('before : ', list_a)\n",
    "print('after : ', merge_sort_desc(list_a))"
   ]
  },
  {
   "cell_type": "markdown",
   "metadata": {},
   "source": [
    "## 3.5. 퀵정렬(quick sort)"
   ]
  },
  {
   "cell_type": "markdown",
   "metadata": {},
   "source": [
    "- 기준키를 기준으로 작거나 같은 값을 지닌 데이터는 앞으로, 큰 값을 지닌 데이터는 뒤로 가도록 하여 작은 값을 갖는 데이터와 큰 값을 갖는 데이터로 분리해가며 정렬하는 방법"
   ]
  },
  {
   "cell_type": "code",
   "execution_count": 1,
   "metadata": {
    "scrolled": true
   },
   "outputs": [
    {
     "name": "stdout",
     "output_type": "stream",
     "text": [
      "before :  [8, 4, 6, 2, 9, 1, 3, 7, 5]\n",
      "group1 : [8, 4, 6, 2, 1, 3, 7, 5] / group2 : []\n",
      "group1 : [] / group2 : [8, 4, 6, 2, 3, 7, 5]\n",
      "group1 : [] / group2 : [8, 4, 6, 3, 7, 5]\n",
      "group1 : [] / group2 : [8, 4, 6, 7, 5]\n",
      "group1 : [4, 5] / group2 : [8, 7]\n",
      "group1 : [4] / group2 : []\n",
      "[4, 5]\n",
      "group1 : [] / group2 : [8]\n",
      "[7, 8]\n",
      "[4, 5, 6, 7, 8]\n",
      "[3, 4, 5, 6, 7, 8]\n",
      "[2, 3, 4, 5, 6, 7, 8]\n",
      "[1, 2, 3, 4, 5, 6, 7, 8]\n",
      "[1, 2, 3, 4, 5, 6, 7, 8, 9]\n",
      "after :  [1, 2, 3, 4, 5, 6, 7, 8, 9]\n"
     ]
    }
   ],
   "source": [
    "# 퀵 정렬\n",
    "# 입력: 리스트 a\n",
    "# 출력: 정렬된 리스트 result\n",
    "\n",
    "def 퀵정렬(a) :\n",
    "    n = len(a)\n",
    "    if n <= 1:\n",
    "        return a\n",
    "    key = a.pop(n//2)\n",
    "    group1 = []\n",
    "    group2 = []\n",
    "    \n",
    "    for i in range(n-1):\n",
    "        if a[i] < key:\n",
    "            group1.append(a[i])\n",
    "        else:\n",
    "            group2.append(a[i])\n",
    "    print('group1 :', group1, '/ group2 :', group2)\n",
    "    result = 퀵정렬(group1) + [key] + 퀵정렬(group2) \n",
    "    print(result)\n",
    "    return result\n",
    "\n",
    "\n",
    "list_a = [8,4,6,2,9,1,3,7,5]\n",
    "print('before : ', list_a)\n",
    "print('after : ', 퀵정렬(list_a))\n"
   ]
  },
  {
   "cell_type": "markdown",
   "metadata": {},
   "source": [
    "## 3.6. 이진탐색(Binary Search)"
   ]
  },
  {
   "cell_type": "markdown",
   "metadata": {},
   "source": [
    "- 탐색할 자료를 둘로 나누어 찾는 값이 있을 법한 곳만 탐색하기 때문에 자료를 하나하나 찾아야 하는 순차탐색보다 빨리 검색 가능"
   ]
  },
  {
   "cell_type": "code",
   "execution_count": 2,
   "metadata": {},
   "outputs": [
    {
     "name": "stdout",
     "output_type": "stream",
     "text": [
      "5\n",
      "-1\n"
     ]
    }
   ],
   "source": [
    "# 리스트에서 특정 숫자 위치 찾기(이진 탐색)\n",
    "# 입력: 리스트 a, 찾는 값 x\n",
    "# 출력: 찾으면 그 값의 위치, 찾지 못하면 -1\n",
    "\n",
    "def binary_search(a, x):\n",
    "    # 탐색할 범위를 저장하는 변수 start, end\n",
    "    # 리스트 전체를 범위로 탐색 시작(0 ~ len(a)-1)\n",
    "    start = 0\n",
    "    end = len(a) - 1\n",
    "\n",
    "    while start <= end: # 탐색할 범위가 남아 있는 동안 반복\n",
    "        mid = (start + end) // 2  # 탐색 범위의 중간 위치\n",
    "        if x == a[mid]:   # 발견!\n",
    "            return mid\n",
    "        elif x > a[mid]:  # 찾는 값이 더 크면 오른쪽으로 범위를 좁혀 계속 탐색\n",
    "            start = mid + 1\n",
    "        else:             # 찾는 값이 더 작으면 왼쪽으로 범위를 좁혀 계속 탐색\n",
    "            end = mid - 1\n",
    "\n",
    "    return -1  # 찾지 못했을 때\n",
    "\n",
    "d = [1, 4, 9, 16, 25, 36, 49, 64, 81] # 9개\n",
    "print(binary_search(d, 36))\n",
    "print(binary_search(d, 50))\n"
   ]
  },
  {
   "cell_type": "code",
   "execution_count": null,
   "metadata": {},
   "outputs": [],
   "source": []
  },
  {
   "cell_type": "markdown",
   "metadata": {},
   "source": [
    "# 4. 자료구조"
   ]
  },
  {
   "cell_type": "markdown",
   "metadata": {},
   "source": [
    "## 4.1.큐(Queue) 와 스택(Stack)"
   ]
  },
  {
   "cell_type": "markdown",
   "metadata": {},
   "source": [
    "- 가장 기본적인 자료구조\n",
    "- 큐(Queue) : First in First Out\n",
    "- 스택(Stack) : List in First Out   \n",
    "\n",
    "| 자료구조 | 동작 | 코드 | 설명 |\n",
    "| :----: | :----: |:----|:----| \n",
    "|  큐 |  초기화 | q = [ ] |빈 리스트를 만듦 |\n",
    "|     |  자료넣기(enqueue) | q.append(x) |리스트의 맨 뒤에 자료를 추가|\n",
    "|     |  자료꺼내기(dequeue) | q.pop(0) |리스트의 맨 앞(0번)에서 자료를 꺼냄|\n",
    "| 스택|  초기화 | s = [ ] |빈 리스트를 만듦|\n",
    "|     |  자료넣기(push) | s.append(x) |리스트의 맨 뒤에 자료를 추가|\n",
    "|     |  자료꺼내기(pop) | s.pop() |리스트의 맨 뒤에tj  자료를 꺼냄|"
   ]
  },
  {
   "cell_type": "markdown",
   "metadata": {},
   "source": [
    "**회문찾기**\n",
    "- 순서대로 읽어도 거꾸로 읽어도 내용이 같은 낱말이나 문장\n",
    "- 역삼역, 기러기, 일요일, 다시 합창 합시다....\n",
    "- mom, wow, level...."
   ]
  },
  {
   "cell_type": "code",
   "execution_count": 3,
   "metadata": {},
   "outputs": [
    {
     "name": "stdout",
     "output_type": "stream",
     "text": [
      "True\n",
      "True\n",
      "False\n"
     ]
    }
   ],
   "source": [
    "# 주어진 문장이 회문인지 아닌지 찾기(큐와 스택의 특징을 이용)\n",
    "# 입력: 문자열 s\n",
    "# 출력: 회문이면 True, 아니면 False\n",
    "\n",
    "def palindrome(s):\n",
    "    # 큐와 스택을 리스트로 정의\n",
    "    qu = []\n",
    "    st = []\n",
    "    # 1단계: 문자열의 알파벳 문자를 각각 큐와 스택에 넣음\n",
    "    for x in s:\n",
    "        # 해당 문자가 알파벳이면(공백, 특수문자, 숫자가 아니면)\n",
    "        # 큐와 스택에 각각 그 문자를 추가\n",
    "        if x.isalpha():\n",
    "            qu.append(x.lower())\n",
    "            st.append(x.lower())\n",
    "    \n",
    "    # 2단계: 큐와 스택에 들어 있는 문자를 꺼내면서 비교\n",
    "    while qu:  # 큐에 문자가 남아 있는 동안 반복\n",
    "        if qu.pop(0) != st.pop():  # 큐와 스택에서 꺼낸 문자가 다르면 회문이 아님\n",
    "            return False\n",
    "\n",
    "    return True\n",
    "\n",
    "print(palindrome(\"Wow\"))\n",
    "print(palindrome(\"Madam, I’m Adam.\"))\n",
    "print(palindrome(\"Madam, I am Adam.\"))"
   ]
  },
  {
   "cell_type": "markdown",
   "metadata": {},
   "source": [
    "## 4.2. 친구의 친구 찾기\n",
    "- 친구리스트에서 자신의 모든 친구(내친구의 친구는 나의 친구)를 찾는 알고리즘"
   ]
  },
  {
   "cell_type": "code",
   "execution_count": 4,
   "metadata": {},
   "outputs": [
    {
     "name": "stdout",
     "output_type": "stream",
     "text": [
      "Summer John Justin Mike May Kim \n",
      "Jerry Tom "
     ]
    }
   ],
   "source": [
    "# 입력: 친구 관계 그래프 g, 모든 친구를 찾을 자신 start\n",
    "# 출력: 모든 친구의 이름\n",
    "\n",
    "def print_all_friends(friends, start):\n",
    "    qu = []       # 기억 장소1: 앞으로 처리해야 할 사람들을 큐에 저장\n",
    "    done = set()  # 기억 장소2: 이미 큐에 추가한 사람들을 집합에 기록(중복 방지)\n",
    "\n",
    "    qu.append(start)  # 자신을 큐에 넣고 시작\n",
    "    done.add(start)   # 집합에도 추가 \n",
    "\n",
    "    while qu:           # 큐에 처리할 사람이 남아 있는 동안\n",
    "        p = qu.pop(0)   # 큐에서 처리 대상을 한 명 꺼내\n",
    "        print(p, end=' ')        # 이름을 출력하고\n",
    "        for i in friends[p]:  # 그의 친구들 중에\n",
    "            if i not in done:  # 아직 큐에 추가된 적이 없는 사람을\n",
    "                qu.append(i)   # 큐에 추가하고\n",
    "                done.add(i)    # 집합에도 추가\n",
    "\n",
    "# 친구 관계 리스트\n",
    "# A와 B가 친구이면\n",
    "# A의 친구 리스트에도 B가 나오고, B의 친구 리스트에도 A가 나옴\n",
    "friends = {\n",
    "    'Summer': ['John', 'Justin', 'Mike'],\n",
    "    'John': ['Summer', 'Justin'],\n",
    "    'Justin': ['John', 'Summer', 'Mike', 'May'],\n",
    "    'Mike': ['Summer', 'Justin'],\n",
    "    'May': ['Justin', 'Kim'],\n",
    "    'Kim': ['May'],\n",
    "    'Tom': ['Jerry'],\n",
    "    'Jerry': ['Tom']\n",
    "}\n",
    "\n",
    "print_all_friends(friends, 'Summer')\n",
    "print()\n",
    "print_all_friends(friends, 'Jerry')"
   ]
  },
  {
   "cell_type": "code",
   "execution_count": 25,
   "metadata": {},
   "outputs": [
    {
     "name": "stdout",
     "output_type": "stream",
     "text": [
      "Summer: Mike, Justin, Kim, John, May\n",
      "\n",
      "Jerry: Tom\n"
     ]
    }
   ],
   "source": [
    "# 입력: 친구 관계 그래프 g, 모든 친구를 찾을 자신 start\n",
    "# 출력: 모든 친구의 이름\n",
    "\n",
    "def print_all_friends(friends, start):\n",
    "    qu = []       # 기억 장소1: 앞으로 처리해야 할 사람들을 큐에 저장\n",
    "    done = set()  # 기억 장소2: 이미 큐에 추가한 사람들을 집합에 기록(중복 방지)\n",
    "\n",
    "    qu.append(start)  # 자신을 큐에 넣고 시작\n",
    "    done.add(start)   # 집합에도 추가 \n",
    "\n",
    "    while qu:           # 큐에 처리할 사람이 남아 있는 동안\n",
    "        p = qu.pop(0)   # 큐에서 처리 대상을 한 명 꺼내\n",
    "        #print(p, end=' ')        # 이름을 출력하고\n",
    "        for i in friends[p]:  # 그의 친구들 중에\n",
    "            if i not in done:  # 아직 큐에 추가된 적이 없는 사람을\n",
    "                qu.append(i)   # 큐에 추가하고\n",
    "                done.add(i)    # 집합에도 추가\n",
    "    done.remove(start)\n",
    "    done2 = str(done).replace(\"'\",\"\").replace('{','').replace('}','')\n",
    "    print('{}: {}'.format(start,done2))\n",
    "    \n",
    "\n",
    "\n",
    "# 친구 관계 리스트\n",
    "# A와 B가 친구이면\n",
    "# A의 친구 리스트에도 B가 나오고, B의 친구 리스트에도 A가 나옴\n",
    "friends = {\n",
    "    'Summer': ['John', 'Justin', 'Mike'],\n",
    "    'John': ['Summer', 'Justin'],\n",
    "    'Justin': ['John', 'Summer', 'Mike', 'May'],\n",
    "    'Mike': ['Summer', 'Justin'],\n",
    "    'May': ['Justin', 'Kim'],\n",
    "    'Kim': ['May'],\n",
    "    'Tom': ['Jerry'],\n",
    "    'Jerry': ['Tom']\n",
    "}\n",
    "\n",
    "print_all_friends(friends, 'Summer')\n",
    "print()\n",
    "print_all_friends(friends, 'Jerry')"
   ]
  }
 ],
 "metadata": {
  "kernelspec": {
   "display_name": "Python 3",
   "language": "python",
   "name": "python3"
  },
  "language_info": {
   "codemirror_mode": {
    "name": "ipython",
    "version": 3
   },
   "file_extension": ".py",
   "mimetype": "text/x-python",
   "name": "python",
   "nbconvert_exporter": "python",
   "pygments_lexer": "ipython3",
   "version": "3.8.8"
  },
  "toc": {
   "base_numbering": 1,
   "nav_menu": {},
   "number_sections": false,
   "sideBar": true,
   "skip_h1_title": false,
   "title_cell": "Table of Contents",
   "title_sidebar": "Contents",
   "toc_cell": false,
   "toc_position": {
    "height": "calc(100% - 180px)",
    "left": "10px",
    "top": "150px",
    "width": "227.997px"
   },
   "toc_section_display": true,
   "toc_window_display": false
  }
 },
 "nbformat": 4,
 "nbformat_minor": 4
}
