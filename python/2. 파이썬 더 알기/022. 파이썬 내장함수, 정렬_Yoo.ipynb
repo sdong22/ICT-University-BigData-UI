{
 "cells": [
  {
   "cell_type": "markdown",
   "metadata": {},
   "source": [
    "## 1. find(), index()\n",
    "- 변수.find(찾을문자), 변수.index(찾을문자)\n",
    "- 변수에서 찾을 문자가 위치한 index를 출력"
   ]
  },
  {
   "cell_type": "code",
   "execution_count": 3,
   "metadata": {},
   "outputs": [
    {
     "name": "stdout",
     "output_type": "stream",
     "text": [
      "4\n",
      "4\n",
      "7\n",
      "7\n",
      "16\n",
      "16\n"
     ]
    }
   ],
   "source": [
    "data = 'Hello World Hello Python'\n",
    "\n",
    "print(data.find('o'))         # 왼쪽부터 제일 첫번째 'o' : 4번째 위치\n",
    "print(data.index('o'))  \n",
    "\n",
    "print(data.find('o',5))       # 5번부터 'o'를 찾았을때 : 7번\n",
    "print(data.index('o',5))\n",
    "\n",
    "print(data.find('o',8,20))    # 8~20번 사이에서의 'o'의 위치 : 16번째 인덱스\n",
    "print(data.index('o',8,20))"
   ]
  },
  {
   "cell_type": "markdown",
   "metadata": {},
   "source": [
    "#### 찾을 문자열이 없는경우\n",
    "- find() : -1 출력\n",
    "- index() : ValueError"
   ]
  },
  {
   "cell_type": "code",
   "execution_count": 4,
   "metadata": {},
   "outputs": [
    {
     "name": "stdout",
     "output_type": "stream",
     "text": [
      "-1\n"
     ]
    },
    {
     "ename": "ValueError",
     "evalue": "substring not found",
     "output_type": "error",
     "traceback": [
      "\u001b[1;31m---------------------------------------------------------------------------\u001b[0m",
      "\u001b[1;31mValueError\u001b[0m                                Traceback (most recent call last)",
      "\u001b[1;32m<ipython-input-4-69c1dbf95586>\u001b[0m in \u001b[0;36m<module>\u001b[1;34m\u001b[0m\n\u001b[0;32m      2\u001b[0m \u001b[1;33m\u001b[0m\u001b[0m\n\u001b[0;32m      3\u001b[0m \u001b[0mprint\u001b[0m\u001b[1;33m(\u001b[0m\u001b[0mdata\u001b[0m\u001b[1;33m.\u001b[0m\u001b[0mfind\u001b[0m\u001b[1;33m(\u001b[0m\u001b[1;34m'ab'\u001b[0m\u001b[1;33m)\u001b[0m\u001b[1;33m)\u001b[0m\u001b[1;33m\u001b[0m\u001b[1;33m\u001b[0m\u001b[0m\n\u001b[1;32m----> 4\u001b[1;33m \u001b[0mprint\u001b[0m\u001b[1;33m(\u001b[0m\u001b[0mdata\u001b[0m\u001b[1;33m.\u001b[0m\u001b[0mindex\u001b[0m\u001b[1;33m(\u001b[0m\u001b[1;34m'ab'\u001b[0m\u001b[1;33m)\u001b[0m\u001b[1;33m)\u001b[0m\u001b[1;33m\u001b[0m\u001b[1;33m\u001b[0m\u001b[0m\n\u001b[0m",
      "\u001b[1;31mValueError\u001b[0m: substring not found"
     ]
    }
   ],
   "source": [
    "data = 'Hello World Hello Python'\n",
    "\n",
    "print(data.find('ab'))\n",
    "print(data.index('ab'))\n",
    "\n",
    "# find를 많이 쓰긴함"
   ]
  },
  {
   "cell_type": "markdown",
   "metadata": {},
   "source": [
    "**연습문제1) data문자열에서 target 문자가 있는 인덱스를 모두 출력하시오.**"
   ]
  },
  {
   "cell_type": "code",
   "execution_count": 2,
   "metadata": {},
   "outputs": [
    {
     "name": "stdout",
     "output_type": "stream",
     "text": [
      "target 문자의 인덱스 : 1\n",
      "target 문자의 인덱스 : 4\n",
      "target 문자의 인덱스 : 7\n"
     ]
    }
   ],
   "source": [
    "data = 'abcabcabc'\n",
    "target = 'b'\n"
   ]
  },
  {
   "cell_type": "code",
   "execution_count": 8,
   "metadata": {},
   "outputs": [
    {
     "name": "stdout",
     "output_type": "stream",
     "text": [
      "target 문자의 인덱스 : 1\n",
      "target 문자의 인덱스 : 4\n",
      "target 문자의 인덱스 : 7\n"
     ]
    }
   ],
   "source": [
    "data = 'abcabcabc'\n",
    "target = 'b'\n",
    "\n",
    "a = data.find('b')\n",
    "print('target 문자의 인덱스 : {}'.format(a))\n",
    "b = data.find('b',3)\n",
    "print('target 문자의 인덱스 : {}'.format(b))\n",
    "c = data.find('b',6)\n",
    "print('target 문자의 인덱스 : {}'.format(c))"
   ]
  },
  {
   "cell_type": "code",
   "execution_count": 9,
   "metadata": {},
   "outputs": [
    {
     "name": "stdout",
     "output_type": "stream",
     "text": [
      "target 문자의 인덱스 : 1\n",
      "target 문자의 인덱스 : 4\n",
      "target 문자의 인덱스 : 7\n"
     ]
    }
   ],
   "source": [
    "data = 'abcabcabc'\n",
    "target = 'b'\n",
    "\n",
    "idx = 0\n",
    "\n",
    "while True :\n",
    "    idx = data.find(target, idx)\n",
    "    if idx == -1 : break\n",
    "    \n",
    "    print('target 문자의 인덱스 :',idx)\n",
    "    idx+=1\n"
   ]
  },
  {
   "cell_type": "markdown",
   "metadata": {},
   "source": [
    "## 2. count()\n",
    "- 검색요소가 몇번 포함 되어있는지를 카운팅 하여 반환하여 주는 함수.\n",
    "- **변수.count(검색요소)**"
   ]
  },
  {
   "cell_type": "code",
   "execution_count": 10,
   "metadata": {},
   "outputs": [
    {
     "name": "stdout",
     "output_type": "stream",
     "text": [
      "4\n",
      "2\n"
     ]
    }
   ],
   "source": [
    "# 문자열 카운팅\n",
    "data = 'Hello World Hello Python'\n",
    "\n",
    "print(data.count('o'))\n",
    "print(data.count('Hello'))"
   ]
  },
  {
   "cell_type": "code",
   "execution_count": 11,
   "metadata": {},
   "outputs": [
    {
     "name": "stdout",
     "output_type": "stream",
     "text": [
      "4\n",
      "3\n"
     ]
    }
   ],
   "source": [
    "# 리스트 카운팅\n",
    "\n",
    "list_a = [2,3,4,6,2,2,3,5,7,2,3]\n",
    "print(list_a.count(2))\n",
    "print(list_a.count(3))\n"
   ]
  },
  {
   "cell_type": "markdown",
   "metadata": {},
   "source": [
    "**연습문제2) 0~1000까지 1의 개수를 count하여 출력하시오.**\n",
    "- 예 : 0~ 20 -> 1, 10, 11, 12, 13, 14, 15, 16, 17, 18, 19 -> 총 12개\n"
   ]
  },
  {
   "cell_type": "code",
   "execution_count": 3,
   "metadata": {},
   "outputs": [
    {
     "name": "stdout",
     "output_type": "stream",
     "text": [
      "0~10000까지 1의 개수 : 301\n"
     ]
    }
   ],
   "source": [
    "# 내 답\n",
    "num = ''\n",
    "for i in range(1001) :\n",
    "    num += str(i)\n",
    "    \n",
    "print('0~10000까지 1의 개수 :',num.count('1'))\n"
   ]
  },
  {
   "cell_type": "code",
   "execution_count": null,
   "metadata": {},
   "outputs": [],
   "source": [
    "#교수님 풀이"
   ]
  },
  {
   "cell_type": "code",
   "execution_count": 3,
   "metadata": {},
   "outputs": [
    {
     "name": "stdout",
     "output_type": "stream",
     "text": [
      "[1, 2, 3, 4, 5]\n",
      "[1, 2, 3, 4, 5]\n",
      "[\n",
      "<class 'list'>\n",
      "<class 'str'>\n"
     ]
    }
   ],
   "source": [
    "list_b = [ 1, 2, 3, 4, 5]\n",
    "data2 = str(list_b)\n",
    "print(list_b)\n",
    "print(data2)\n",
    "print(data2[0])     # 통째로 문자열로 바뀌었기 때문에 인덱스0번이 '['가 됨\n",
    "print(type(list_b))\n",
    "print(type(data2))"
   ]
  },
  {
   "cell_type": "code",
   "execution_count": 5,
   "metadata": {},
   "outputs": [
    {
     "name": "stdout",
     "output_type": "stream",
     "text": [
      "0~1000사이의 1의 개수는 301개 입니다.\n"
     ]
    }
   ],
   "source": [
    "a = [i for i in range(1,1001,1)]\n",
    "a = str(a)\n",
    "b = a.count('1')\n",
    "print('0~1000사이의 1의 개수는 {}개 입니다.'.format(b))"
   ]
  },
  {
   "cell_type": "code",
   "execution_count": 6,
   "metadata": {},
   "outputs": [
    {
     "name": "stdout",
     "output_type": "stream",
     "text": [
      "0~1000사이의 1의 개수는 301개 입니다.\n"
     ]
    }
   ],
   "source": [
    "countN = str(list(range(1001))).count('1')\n",
    "print('0~1000사이의 1의 개수는 {}개 입니다.'.format(countN))\n",
    "\n",
    "# 짱 간단 ****"
   ]
  },
  {
   "cell_type": "markdown",
   "metadata": {},
   "source": [
    "**연습문제3) count()사용하여 20210620을 출력하시오**\n",
    "- 시간, 날짜 함수 사용금지\n",
    "- input() 사용금지\n",
    "- 코드 내에 숫자가 있으면 안됨\n"
   ]
  },
  {
   "cell_type": "code",
   "execution_count": 8,
   "metadata": {},
   "outputs": [
    {
     "name": "stdout",
     "output_type": "stream",
     "text": [
      "20210620\n"
     ]
    }
   ],
   "source": [
    "data = 'aacdddddd'\n",
    "a = data.count('a') # 2\n",
    "b = data.count('b') # 0\n",
    "c = data.count('c') # 1\n",
    "d = data.count('d') # 6\n",
    "\n",
    "print(str(a)+str(b)+str(a)+str(c)+str(b)+str(d)+str(a)+str(b))"
   ]
  },
  {
   "cell_type": "code",
   "execution_count": 7,
   "metadata": {},
   "outputs": [
    {
     "name": "stdout",
     "output_type": "stream",
     "text": [
      "20160620\n"
     ]
    }
   ],
   "source": [
    "data = 'aacdddddd'\n",
    "a = str(data.count('a'))  # 2\n",
    "b = str(data.count('b'))  # 0\n",
    "c = str(data.count('c'))  # 1\n",
    "d = str(data.count('d'))  # 6\n",
    "\n",
    "print(a+b+c+d+b+d+a+b)"
   ]
  },
  {
   "cell_type": "markdown",
   "metadata": {},
   "source": [
    "## 3. zip()\n",
    "- 동일한 갯수로 이루어진 자료형을 묶어주는 역할을 하는 함수\n",
    "- **zip(*iterable)**\n",
    "- *iterable :반복가능(iterable)한 자료형 여러개를 입력할 수 있다는 의미"
   ]
  },
  {
   "cell_type": "code",
   "execution_count": 9,
   "metadata": {},
   "outputs": [
    {
     "name": "stdout",
     "output_type": "stream",
     "text": [
      "[(1, 4), (2, 5), (3, 6)]\n",
      "[(1, 4, 7), (2, 5, 8), (3, 6, 9)]\n"
     ]
    }
   ],
   "source": [
    "a = list(zip([1,2,3],[4,5,6]))\n",
    "print(a)\n",
    "\n",
    "b = list(zip([1,2,3],[4,5,6],[7,8,9]))\n",
    "print(b)"
   ]
  },
  {
   "cell_type": "markdown",
   "metadata": {},
   "source": [
    "- 여러 개의 iterable 동시에 순회할 때 사용"
   ]
  },
  {
   "cell_type": "code",
   "execution_count": 10,
   "metadata": {},
   "outputs": [
    {
     "name": "stdout",
     "output_type": "stream",
     "text": [
      "3525\n",
      "234436\n",
      "234537\n",
      "342816\n"
     ]
    }
   ],
   "source": [
    "list1 = [1,2,3,4]\n",
    "list2 = [100,200,300,400]\n",
    "list3 = [3424,234234,234234,342412]\n",
    "\n",
    "for i,j,k in zip(list1,list2,list3) :\n",
    "    print(i+j+k)"
   ]
  },
  {
   "cell_type": "markdown",
   "metadata": {},
   "source": [
    "- Key 리스트와 Value 리스트로 딕셔너리 생성하기"
   ]
  },
  {
   "cell_type": "code",
   "execution_count": 12,
   "metadata": {},
   "outputs": [
    {
     "name": "stdout",
     "output_type": "stream",
     "text": [
      "반복문 :\n",
      "{'cat': 'meow', 'dog': 'woof', 'lion': 'roar'}\n",
      "zip함수 : \n",
      "{'cat': 'meow', 'dog': 'woof', 'lion': 'roar'}\n"
     ]
    }
   ],
   "source": [
    "animals = ['cat', 'dog', 'lion']\n",
    "sounds = ['meow', 'woof', 'roar']\n",
    "\n",
    "dict_animals = {}\n",
    "\n",
    "# 반복문\n",
    "print('반복문 :')\n",
    "for i in range(len(animals)) :\n",
    "    dict_animals[animals[i]] = sounds[i]\n",
    "print(dict_animals)\n",
    "\n",
    "# zip 함수\n",
    "print('zip함수 : ')\n",
    "dict_animals = dict(zip(animals, sounds))\n",
    "print(dict_animals)"
   ]
  },
  {
   "cell_type": "markdown",
   "metadata": {},
   "source": [
    "## 4. 문자열 관련 함수들\n",
    "### 4.1. ljust, center, rjust\n",
    "- 문자열 좌측/가운데/우측 정렬\n",
    "- **변수.함수(글자수)**"
   ]
  },
  {
   "cell_type": "code",
   "execution_count": 14,
   "metadata": {},
   "outputs": [
    {
     "name": "stdout",
     "output_type": "stream",
     "text": [
      "가나다라   \n",
      "   가나다라\n",
      "  가나다라 \n",
      "--------------------\n",
      "가나다라***\n",
      "***가나다라\n",
      "**가나다라*\n"
     ]
    }
   ],
   "source": [
    "s = '가나다라'\n",
    "n = 7\n",
    "print(s.ljust(n))        # 왼쪽 정렬\n",
    "print(s.rjust(n))       # 오른쪽 정렬\n",
    "print(s.center(n))       # 가운데 정렬\n",
    "print('-'*20)\n",
    "print(s.ljust(n,'*'))\n",
    "print(s.rjust(n,'*'))\n",
    "print(s.center(n,'*'))   # 공백을 '*'로 채워줌"
   ]
  },
  {
   "cell_type": "markdown",
   "metadata": {},
   "source": [
    "### 4.2. zfill()\n",
    "- 오른쪽 정렬을 하면서 0을 채워줌.\n",
    "- rjust()와 차이점은 +, - 기호를 포함해서 인식하는지 여부\n",
    "- 0을 채우는 zfill()는 기호가 맨 앞으로 오게 됩니다.\n",
    "- 금액 표시같은 경우에는 zfill()를 사용\n",
    "- 우편번호나 전화번호등 문자열 그대로 사용하고 싶은 경우에는 rjust()를 사용"
   ]
  },
  {
   "cell_type": "code",
   "execution_count": 15,
   "metadata": {},
   "outputs": [
    {
     "name": "stdout",
     "output_type": "stream",
     "text": [
      "000123\n",
      "000123\n",
      "00-123\n",
      "-00123\n"
     ]
    }
   ],
   "source": [
    "str = '123'\n",
    "\n",
    "print(str.rjust(6,'0'))\n",
    "print(str.zfill(6))\n",
    "\n",
    "str = '-123'\n",
    "\n",
    "print(str.rjust(6,'0'))\n",
    "print(str.zfill(6))\n",
    "# zfill은 '-'를 부호로 인식하지만 rjust는 전체를 문자열로 인식하여 순서대로 계산"
   ]
  },
  {
   "cell_type": "markdown",
   "metadata": {},
   "source": [
    "**연습문제3) 다음 질문에 맞는 프로그램을 완성하시오.**\n",
    "- 문자열 s와 자연수 n이 입력으로 주어집니다. 문자열 s를 좌측 / 가운데 / 우측 정렬한 길이 n인 문자열을 한 줄씩 프린트해보세요.\n",
    "- s의 길이는 n보다 작습니다.\n",
    "- (n - s의 길이)는 짝수입니다.\n",
    "- s는 알파벳과 숫자로만 이루어져 있으며, 공백 문자가 포함되어있지 않습니다."
   ]
  },
  {
   "cell_type": "code",
   "execution_count": 23,
   "metadata": {},
   "outputs": [
    {
     "name": "stdout",
     "output_type": "stream",
     "text": [
      "     akakak 8\n",
      "akakak\n",
      "akakak  \n",
      "  akakak\n",
      " akakak \n"
     ]
    }
   ],
   "source": [
    "s,n = input().strip().split()\n",
    "print(s)\n",
    "n = int(n)\n",
    "\n",
    "print(s.ljust(n))\n",
    "print(s.rjust(n))\n",
    "print(s.center(n))\n",
    "\n",
    "# s는 알파벳과 숫자로만 이루어져 있으며, 공백 문자가 포함되어있지 않습니다.\n",
    "# 요 조건 스트립 함수"
   ]
  },
  {
   "cell_type": "code",
   "execution_count": null,
   "metadata": {},
   "outputs": [],
   "source": []
  },
  {
   "cell_type": "markdown",
   "metadata": {},
   "source": [
    "### 4.3. string 모듈\n",
    "- 알파벳 대소문자 , 연속된 숫자등을 변수 선언없이 상수로 사용할 수 있도록 정의된 모듈\n",
    "- ascii_letters, ascii_lowercase, ascii_uppercase,digits "
   ]
  },
  {
   "cell_type": "code",
   "execution_count": 19,
   "metadata": {},
   "outputs": [
    {
     "name": "stdout",
     "output_type": "stream",
     "text": [
      "abcdefghijklmnopqrstuvwxyzABCDEFGHIJKLMNOPQRSTUVWXYZ\n",
      "abcdefghijklmnopqrstuvwxyz\n",
      "ABCDEFGHIJKLMNOPQRSTUVWXYZ\n",
      "0123456789\n"
     ]
    }
   ],
   "source": [
    "import string\n",
    "\n",
    "print(string.ascii_letters)\n",
    "print(string.ascii_lowercase)\n",
    "print(string.ascii_uppercase)\n",
    "print(string.digits)\n"
   ]
  },
  {
   "cell_type": "markdown",
   "metadata": {},
   "source": [
    "# 2. 정렬법"
   ]
  },
  {
   "cell_type": "markdown",
   "metadata": {},
   "source": [
    "## 2.1. Bubble Sort\n",
    "- 인접한 두 수를 비교하며 정렬해나가는 방법"
   ]
  },
  {
   "cell_type": "code",
   "execution_count": 30,
   "metadata": {},
   "outputs": [
    {
     "name": "stdout",
     "output_type": "stream",
     "text": [
      "before:  [8, 4, 6, 2, 9, 1, 3, 7, 5]\n",
      "[4, 6, 2, 8, 1, 3, 7, 5, 9]\n",
      "[4, 2, 6, 1, 3, 7, 5, 8, 9]\n",
      "[2, 4, 1, 3, 6, 5, 7, 8, 9]\n",
      "[2, 1, 3, 4, 5, 6, 7, 8, 9]\n",
      "[1, 2, 3, 4, 5, 6, 7, 8, 9]\n",
      "[1, 2, 3, 4, 5, 6, 7, 8, 9]\n",
      "[1, 2, 3, 4, 5, 6, 7, 8, 9]\n",
      "[1, 2, 3, 4, 5, 6, 7, 8, 9]\n",
      "after: [1, 2, 3, 4, 5, 6, 7, 8, 9]\n"
     ]
    }
   ],
   "source": [
    "array = [8,4,6,2,9,1,3,7,5]\n",
    "def bubble_sort(array):\n",
    "    n = len(array)\n",
    "    for i in range(n - 1):\n",
    "        for j in range(n - i - 1):\n",
    "            if array[j] > array[j + 1]:\n",
    "                array[j], array[j + 1] = array[j + 1], array[j]\n",
    "        print(array)\n",
    "\n",
    "print(\"before: \",array)\n",
    "bubble_sort(array)\n",
    "print(\"after:\", array)"
   ]
  },
  {
   "cell_type": "code",
   "execution_count": 26,
   "metadata": {},
   "outputs": [
    {
     "name": "stdout",
     "output_type": "stream",
     "text": [
      "before:  [8, 4, 6, 2, 9, 1, 3, 7, 5]\n",
      "[9, 8, 4, 6, 2, 7, 1, 3, 5]\n",
      "[9, 8, 7, 4, 6, 2, 5, 1, 3]\n",
      "[9, 8, 7, 6, 4, 5, 2, 3, 1]\n",
      "[9, 8, 7, 6, 5, 4, 3, 2, 1]\n",
      "[9, 8, 7, 6, 5, 4, 3, 2, 1]\n",
      "[9, 8, 7, 6, 5, 4, 3, 2, 1]\n",
      "[9, 8, 7, 6, 5, 4, 3, 2, 1]\n",
      "[9, 8, 7, 6, 5, 4, 3, 2, 1]\n",
      "after: [9, 8, 7, 6, 5, 4, 3, 2, 1]\n"
     ]
    }
   ],
   "source": [
    "# 내림차순\n",
    "array = [8,4,6,2,9,1,3,7,5]\n",
    "def bubble_sort_desc(array):\n",
    "    n = len(array)\n",
    "    for i in range(n - 1):\n",
    "        for j in range(n - 1, 0, -1):\n",
    "            if array[j] > array[j - 1]:\n",
    "                array[j], array[j - 1] = array[j - 1], array[j]\n",
    "        print(array)\n",
    "\n",
    "print(\"before: \",array)\n",
    "bubble_sort_desc(array)\n",
    "print(\"after:\", array)"
   ]
  },
  {
   "cell_type": "markdown",
   "metadata": {},
   "source": [
    "## 2.2 Selction Sort (선택정렬)\n",
    "- 가장 작은 값을 찾아 맨 앞과 교환하는 방식의 정렬."
   ]
  },
  {
   "cell_type": "code",
   "execution_count": 36,
   "metadata": {},
   "outputs": [
    {
     "name": "stdout",
     "output_type": "stream",
     "text": [
      "before:  [8, 4, 6, 2, 9, 1, 3, 7, 5]\n",
      "[1, 4, 6, 2, 9, 8, 3, 7, 5]\n",
      "[1, 2, 6, 4, 9, 8, 3, 7, 5]\n",
      "[1, 2, 3, 4, 9, 8, 6, 7, 5]\n",
      "[1, 2, 3, 4, 9, 8, 6, 7, 5]\n",
      "[1, 2, 3, 4, 5, 8, 6, 7, 9]\n",
      "[1, 2, 3, 4, 5, 6, 8, 7, 9]\n",
      "[1, 2, 3, 4, 5, 6, 7, 8, 9]\n",
      "[1, 2, 3, 4, 5, 6, 7, 8, 9]\n",
      "[1, 2, 3, 4, 5, 6, 7, 8, 9]\n",
      "after: [1, 2, 3, 4, 5, 6, 7, 8, 9]\n"
     ]
    }
   ],
   "source": [
    "array = [8,4,6,2,9,1,3,7,5]\n",
    "\n",
    "def selection_sort(array):\n",
    "    n = len(array)\n",
    "    for i in range(n):\n",
    "        min_index = i\n",
    "        for j in range(i + 1, n):\n",
    "            if array[j] < array[min_index]: min_index = j\n",
    "        \n",
    "        array[i], array[min_index] =  array[min_index], array[i]\n",
    "        print(array)\n",
    "\n",
    "print(\"before: \",array)\n",
    "selection_sort(array)\n",
    "print(\"after:\", array)"
   ]
  },
  {
   "cell_type": "code",
   "execution_count": 37,
   "metadata": {
    "scrolled": true
   },
   "outputs": [
    {
     "name": "stdout",
     "output_type": "stream",
     "text": [
      "before:  [8, 4, 6, 2, 9, 1, 3, 7, 5]\n",
      "[9, 4, 6, 2, 8, 1, 3, 7, 5]\n",
      "[9, 8, 6, 2, 4, 1, 3, 7, 5]\n",
      "[9, 8, 7, 2, 4, 1, 3, 6, 5]\n",
      "[9, 8, 7, 6, 4, 1, 3, 2, 5]\n",
      "[9, 8, 7, 6, 5, 1, 3, 2, 4]\n",
      "[9, 8, 7, 6, 5, 4, 3, 2, 1]\n",
      "[9, 8, 7, 6, 5, 4, 3, 2, 1]\n",
      "[9, 8, 7, 6, 5, 4, 3, 2, 1]\n",
      "[9, 8, 7, 6, 5, 4, 3, 2, 1]\n",
      "after: [9, 8, 7, 6, 5, 4, 3, 2, 1]\n"
     ]
    }
   ],
   "source": [
    "array = [8,4,6,2,9,1,3,7,5]\n",
    "\n",
    "def selection_sort_desc(array):\n",
    "    n = len(array)\n",
    "    for i in range(n):\n",
    "        max_index = i\n",
    "        for j in range(i + 1, n):\n",
    "            if array[j] > array[max_index]: max_index = j\n",
    "                \n",
    "        array[i], array[max_index] =  array[max_index], array[i]\n",
    "        print(array)\n",
    "\n",
    "print(\"before: \",array)\n",
    "selection_sort_desc(array)\n",
    "print(\"after:\", array)"
   ]
  },
  {
   "cell_type": "code",
   "execution_count": null,
   "metadata": {},
   "outputs": [],
   "source": []
  }
 ],
 "metadata": {
  "kernelspec": {
   "display_name": "Python 3",
   "language": "python",
   "name": "python3"
  },
  "language_info": {
   "codemirror_mode": {
    "name": "ipython",
    "version": 3
   },
   "file_extension": ".py",
   "mimetype": "text/x-python",
   "name": "python",
   "nbconvert_exporter": "python",
   "pygments_lexer": "ipython3",
   "version": "3.8.8"
  },
  "toc": {
   "base_numbering": 1,
   "nav_menu": {},
   "number_sections": false,
   "sideBar": true,
   "skip_h1_title": false,
   "title_cell": "Table of Contents",
   "title_sidebar": "Contents",
   "toc_cell": false,
   "toc_position": {
    "height": "calc(100% - 180px)",
    "left": "10px",
    "top": "150px",
    "width": "304.475px"
   },
   "toc_section_display": true,
   "toc_window_display": true
  }
 },
 "nbformat": 4,
 "nbformat_minor": 4
}
