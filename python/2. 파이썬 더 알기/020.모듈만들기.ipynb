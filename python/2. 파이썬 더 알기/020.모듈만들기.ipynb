{
 "cells": [
  {
   "cell_type": "code",
   "execution_count": 2,
   "metadata": {},
   "outputs": [
    {
     "name": "stdout",
     "output_type": "stream",
     "text": [
      "숫자입력 :5\n",
      "반지름 : 5.0\n",
      "원의 둘레 : 31.4\n",
      "원의 넓이 : 78.5\n"
     ]
    }
   ],
   "source": [
    "import circlemodule as cm\n",
    "\n",
    "radius = cm.numberInput()\n",
    "\n",
    "print('반지름 :',radius)\n",
    "print('원의 둘레 :',round(cm.getCircumference(radius),2))\n",
    "print('원의 넓이 :', cm.getCircleArea(radius))"
   ]
  },
  {
   "cell_type": "code",
   "execution_count": 2,
   "metadata": {
    "scrolled": true
   },
   "outputs": [
    {
     "name": "stdout",
     "output_type": "stream",
     "text": [
      "8 4\n",
      "12\n",
      "4\n",
      "32\n",
      "2.0\n"
     ]
    }
   ],
   "source": [
    "import calmodule as c\n",
    "\n",
    "a, b = c.inputData()\n",
    "print(c.add(a,b))\n",
    "print(c.sub(a,b))\n",
    "print(c.mul(a,b))\n",
    "print(c.div(a,b))"
   ]
  },
  {
   "cell_type": "raw",
   "metadata": {},
   "source": [
    "import cal1 \n",
    "\n",
    "a, b = input()\n",
    "print(cal1.add(a,b))"
   ]
  }
 ],
 "metadata": {
  "kernelspec": {
   "display_name": "Python 3",
   "language": "python",
   "name": "python3"
  },
  "language_info": {
   "codemirror_mode": {
    "name": "ipython",
    "version": 3
   },
   "file_extension": ".py",
   "mimetype": "text/x-python",
   "name": "python",
   "nbconvert_exporter": "python",
   "pygments_lexer": "ipython3",
   "version": "3.8.8"
  },
  "toc": {
   "base_numbering": 1,
   "nav_menu": {},
   "number_sections": false,
   "sideBar": true,
   "skip_h1_title": false,
   "title_cell": "Table of Contents",
   "title_sidebar": "Contents",
   "toc_cell": false,
   "toc_position": {},
   "toc_section_display": true,
   "toc_window_display": false
  }
 },
 "nbformat": 4,
 "nbformat_minor": 4
}
