{
 "cells": [
  {
   "cell_type": "markdown",
   "metadata": {},
   "source": [
    "# 함수\n"
   ]
  },
  {
   "cell_type": "markdown",
   "metadata": {},
   "source": [
    "### 1. 함수란?\n",
    "- 반복적으로 사용되는 부분을 묶어서, **재사용 가능하도록 만들어 주는 것**\n",
    "- 정해진 logic(규칙)에 따라, input -> output으로 효율적으로 바꿔주는 역할\n",
    "![function](https://drive.google.com/uc?id=1P1I19_Yft4ckZ52OULy6J0Sn0s18kAdZ)\n",
    "\n",
    "- range 함수는 정수를 입력으로 전달하면 [0, 정수) 로 이루어진 리스트를 생성하는 역할\n",
    "- sum 함수는 리스트, 튜플등을 입력으로 전달하면 전체 아이템의 합을 출력으로 전달\n",
    "- len 함수는 리스트, 튜플등을 입력으로 전달하면 아이템의 개수를 출력으로 전달\n",
    "- 위의 함수들은 모두 python 내부에 이미 정의(구현)이 되어 있다 ==> **내장함수(built-in function)**"
   ]
  },
  {
   "cell_type": "code",
   "execution_count": 15,
   "metadata": {},
   "outputs": [
    {
     "data": {
      "text/plain": [
       "5"
      ]
     },
     "execution_count": 15,
     "metadata": {},
     "output_type": "execute_result"
    }
   ],
   "source": [
    "str = 'hello'\n",
    "len(str)"
   ]
  },
  {
   "cell_type": "markdown",
   "metadata": {},
   "source": [
    "#### 1.1 함수 정의\n"
   ]
  },
  {
   "cell_type": "code",
   "execution_count": 3,
   "metadata": {},
   "outputs": [
    {
     "data": {
      "text/plain": [
       "15"
      ]
     },
     "execution_count": 3,
     "metadata": {},
     "output_type": "execute_result"
    }
   ],
   "source": [
    "# 입력받은 a, b를 더한 값을 돌려주는 함수\n",
    "\n",
    "def add(a,b) :  # > a,b : 매개변수(parameter)\n",
    "    c = a+b\n",
    "    return c\n",
    "\n",
    "# 함수가 먼저 정의 되고 호출되야 한다.\n",
    "\n",
    "c, d = 10, 5\n",
    "add(c, d)      # > c,d : 인수(arguments) or parameter 라고도 함\n"
   ]
  },
  {
   "cell_type": "markdown",
   "metadata": {},
   "source": [
    "**연습문제1) 두 수를 입력 받아서 사칙연산을 하는 함수를 각각(add, sub, mul, div) 만드시오.**"
   ]
  },
  {
   "cell_type": "code",
   "execution_count": 14,
   "metadata": {},
   "outputs": [],
   "source": [
    "def add(a,b) :\n",
    "    c = a+b\n",
    "    return c\n",
    "\n",
    "def sub(a,b) :\n",
    "    c = a-b\n",
    "    return c\n",
    "\n",
    "def mul(a,b) :\n",
    "    return a*b\n",
    "\n",
    "def div(a,b) :\n",
    "    if b==0:\n",
    "        return 0    # return은 함수를 빠져나오는 역할(break의 역할)도 함. 그래서 이 식이 가능\n",
    "    return a/b      "
   ]
  },
  {
   "cell_type": "code",
   "execution_count": 15,
   "metadata": {},
   "outputs": [
    {
     "name": "stdout",
     "output_type": "stream",
     "text": [
      "Add :  15\n",
      "Sub :  5\n",
      "Mul :  50\n",
      "Div :  2.0\n"
     ]
    }
   ],
   "source": [
    "c, d = 10, 5\n",
    "print('Add : ',add(c,d))\n",
    "print('Sub : ',sub(c,d))\n",
    "print('Mul : ',mul(c,d))\n",
    "print('Div : ',div(c,d))"
   ]
  },
  {
   "cell_type": "markdown",
   "metadata": {},
   "source": [
    "#### 참고1) 읽기 어려운 코드 예"
   ]
  },
  {
   "cell_type": "code",
   "execution_count": 20,
   "metadata": {},
   "outputs": [
    {
     "name": "stdout",
     "output_type": "stream",
     "text": [
      "A\n",
      "C\n",
      "B\n",
      "E\n",
      "D\n"
     ]
    }
   ],
   "source": [
    "print(\"A\")\n",
    "def message1() :\n",
    "    print(\"B\")\n",
    "print(\"C\")\n",
    "def message2() :\n",
    "    print(\"D\")\n",
    "message1()\n",
    "print(\"E\")\n",
    "message2()"
   ]
  },
  {
   "cell_type": "code",
   "execution_count": 17,
   "metadata": {},
   "outputs": [
    {
     "name": "stdout",
     "output_type": "stream",
     "text": [
      "A\n",
      "C\n",
      "B\n",
      "E\n",
      "D\n"
     ]
    }
   ],
   "source": [
    "# 함수선언부\n",
    "def message1() :\n",
    "    print('B')\n",
    "    \n",
    "def message2() :\n",
    "    print('D')\n",
    "    \n",
    "# 메인프로그램\n",
    "print('A')\n",
    "print('C')\n",
    "message1()\n",
    "print('E')\n",
    "message2()"
   ]
  },
  {
   "cell_type": "markdown",
   "metadata": {},
   "source": [
    "#### 1.2 parameter는 여러 개 만들 수 있지만, 함수에 넘겨 줄 때 순서가 중요!!"
   ]
  },
  {
   "cell_type": "code",
   "execution_count": 18,
   "metadata": {},
   "outputs": [
    {
     "name": "stdout",
     "output_type": "stream",
     "text": [
      "16\n",
      "21\n"
     ]
    }
   ],
   "source": [
    "def my_func(a, b, c) :\n",
    "    return (a+b)*c\n",
    "\n",
    "a, b, c = 3, 5, 2\n",
    "print((a+b)*c)\n",
    "print(my_func(c, b, a))"
   ]
  },
  {
   "cell_type": "markdown",
   "metadata": {},
   "source": [
    "#### 1.3 지역변수, 전역변수\n",
    "- 변수 : Local 변수 / Global 변수"
   ]
  },
  {
   "cell_type": "code",
   "execution_count": 24,
   "metadata": {},
   "outputs": [
    {
     "name": "stdout",
     "output_type": "stream",
     "text": [
      "num :  100\n",
      "func1 에서  num :  10\n",
      "func2 에서  num :  100\n",
      "func3 에서  num :  50\n",
      "num :  50\n"
     ]
    }
   ],
   "source": [
    "# 변수선언부\n",
    "num = 100\n",
    "\n",
    "# 함수선언부\n",
    "def func1() :\n",
    "    num = 10\n",
    "    print('func1 에서  num : ', num)\n",
    "    \n",
    "def func2() :\n",
    "    print('func2 에서  num : ', num)\n",
    "    \n",
    "def func3() :\n",
    "    global num\n",
    "    num = 50\n",
    "    print('func3 에서  num : ', num)\n",
    "    \n",
    "# 메인프로그램\n",
    "print('num : ',num)\n",
    "func1()\n",
    "func2()\n",
    "func3()\n",
    "print('num : ',num)   # 순차적으로 실행되기 때문에 함수가 실행되어야 global 값도 그때 바뀜"
   ]
  },
  {
   "cell_type": "code",
   "execution_count": null,
   "metadata": {},
   "outputs": [],
   "source": []
  },
  {
   "cell_type": "markdown",
   "metadata": {},
   "source": [
    "### 2. 함수 정의 다양한 형태\n",
    "#### 2.1 함수 parameter와 return이 모두 존재하는 경우"
   ]
  },
  {
   "cell_type": "code",
   "execution_count": 25,
   "metadata": {},
   "outputs": [
    {
     "data": {
      "text/plain": [
       "15"
      ]
     },
     "execution_count": 25,
     "metadata": {},
     "output_type": "execute_result"
    }
   ],
   "source": [
    "def add(a,b) :\n",
    "    c = a+b\n",
    "    return c\n",
    "\n",
    "add(10, 5)"
   ]
  },
  {
   "cell_type": "code",
   "execution_count": 35,
   "metadata": {},
   "outputs": [
    {
     "data": {
      "text/plain": [
       "(15, 5, 50, 2)"
      ]
     },
     "execution_count": 35,
     "metadata": {},
     "output_type": "execute_result"
    }
   ],
   "source": [
    "def cal(a,b) :\n",
    "    return a+b, a-b, a*b, a//b\n",
    "\n",
    "cal(10, 5)"
   ]
  },
  {
   "cell_type": "markdown",
   "metadata": {},
   "source": [
    "#### 2.2 함수 parameter는 없고 return이 존재하는 경우"
   ]
  },
  {
   "cell_type": "code",
   "execution_count": 34,
   "metadata": {},
   "outputs": [
    {
     "name": "stdout",
     "output_type": "stream",
     "text": [
      "Hello World\n"
     ]
    }
   ],
   "source": [
    "def say() :\n",
    "    return 'Hello'\n",
    "\n",
    "str1 = say() + ' World'\n",
    "print(str1)"
   ]
  },
  {
   "cell_type": "markdown",
   "metadata": {},
   "source": [
    "#### 2.3 함수 parameter는 있고 return이 없는 경우"
   ]
  },
  {
   "cell_type": "code",
   "execution_count": 33,
   "metadata": {},
   "outputs": [
    {
     "name": "stdout",
     "output_type": "stream",
     "text": [
      "Hello\n",
      "Hello\n",
      "Hello\n",
      "Hello\n",
      "Hello\n"
     ]
    }
   ],
   "source": [
    "def print_n(value, n) :\n",
    "    for i in range(n) :\n",
    "        print(value)\n",
    "\n",
    "print_n('Hello', 5)"
   ]
  },
  {
   "cell_type": "markdown",
   "metadata": {},
   "source": [
    "#### 2.4 함수 parameter, return 둘 다 없는 경우"
   ]
  },
  {
   "cell_type": "code",
   "execution_count": 32,
   "metadata": {},
   "outputs": [
    {
     "name": "stdout",
     "output_type": "stream",
     "text": [
      "Hello\n",
      "Hello\n",
      "Hello\n",
      "Hello\n"
     ]
    }
   ],
   "source": [
    "def say() :\n",
    "    print('Hello')\n",
    "    print('Hello')\n",
    "    print('Hello')\n",
    "    print('Hello')\n",
    "    \n",
    "say()"
   ]
  },
  {
   "cell_type": "markdown",
   "metadata": {},
   "source": [
    "### 3. 매개변수(parameter)"
   ]
  },
  {
   "cell_type": "markdown",
   "metadata": {},
   "source": [
    "#### 3.1 함수관련 Error"
   ]
  },
  {
   "cell_type": "code",
   "execution_count": 47,
   "metadata": {},
   "outputs": [
    {
     "ename": "TypeError",
     "evalue": "print_n() missing 1 required positional argument: 'n'",
     "output_type": "error",
     "traceback": [
      "\u001b[1;31m---------------------------------------------------------------------------\u001b[0m",
      "\u001b[1;31mTypeError\u001b[0m                                 Traceback (most recent call last)",
      "\u001b[1;32m<ipython-input-47-9f0d1a7ff149>\u001b[0m in \u001b[0;36m<module>\u001b[1;34m\u001b[0m\n\u001b[0;32m      3\u001b[0m         \u001b[0mprint\u001b[0m\u001b[1;33m(\u001b[0m\u001b[0mvalue\u001b[0m\u001b[1;33m)\u001b[0m\u001b[1;33m\u001b[0m\u001b[1;33m\u001b[0m\u001b[0m\n\u001b[0;32m      4\u001b[0m \u001b[1;33m\u001b[0m\u001b[0m\n\u001b[1;32m----> 5\u001b[1;33m \u001b[0mprint_n\u001b[0m\u001b[1;33m(\u001b[0m\u001b[1;34m'hello'\u001b[0m\u001b[1;33m)\u001b[0m\u001b[1;33m\u001b[0m\u001b[1;33m\u001b[0m\u001b[0m\n\u001b[0m",
      "\u001b[1;31mTypeError\u001b[0m: print_n() missing 1 required positional argument: 'n'"
     ]
    }
   ],
   "source": [
    "def print_n(value, n) :\n",
    "    for i in range(n) :\n",
    "        print(value)\n",
    "\n",
    "print_n('hello')"
   ]
  },
  {
   "cell_type": "code",
   "execution_count": 36,
   "metadata": {},
   "outputs": [
    {
     "name": "stdout",
     "output_type": "stream",
     "text": [
      "hello\n",
      "hello\n",
      "hello\n"
     ]
    }
   ],
   "source": [
    "def print_n(value, n) :\n",
    "    for i in range(n) :\n",
    "        print(value)\n",
    "\n",
    "print_n('hello',3)"
   ]
  },
  {
   "cell_type": "code",
   "execution_count": 48,
   "metadata": {},
   "outputs": [
    {
     "ename": "TypeError",
     "evalue": "print_n() takes 2 positional arguments but 3 were given",
     "output_type": "error",
     "traceback": [
      "\u001b[1;31m---------------------------------------------------------------------------\u001b[0m",
      "\u001b[1;31mTypeError\u001b[0m                                 Traceback (most recent call last)",
      "\u001b[1;32m<ipython-input-48-2f3179221862>\u001b[0m in \u001b[0;36m<module>\u001b[1;34m\u001b[0m\n\u001b[0;32m      3\u001b[0m         \u001b[0mprint\u001b[0m\u001b[1;33m(\u001b[0m\u001b[0mvalue\u001b[0m\u001b[1;33m)\u001b[0m\u001b[1;33m\u001b[0m\u001b[1;33m\u001b[0m\u001b[0m\n\u001b[0;32m      4\u001b[0m \u001b[1;33m\u001b[0m\u001b[0m\n\u001b[1;32m----> 5\u001b[1;33m \u001b[0mprint_n\u001b[0m\u001b[1;33m(\u001b[0m\u001b[1;34m'hello'\u001b[0m\u001b[1;33m,\u001b[0m\u001b[1;36m2\u001b[0m\u001b[1;33m,\u001b[0m\u001b[1;36m3\u001b[0m\u001b[1;33m)\u001b[0m\u001b[1;33m\u001b[0m\u001b[1;33m\u001b[0m\u001b[0m\n\u001b[0m",
      "\u001b[1;31mTypeError\u001b[0m: print_n() takes 2 positional arguments but 3 were given"
     ]
    }
   ],
   "source": [
    "def print_n(value, n) :\n",
    "    for i in range(n) :\n",
    "        print(value)\n",
    "\n",
    "print_n('hello',2,3)"
   ]
  },
  {
   "cell_type": "code",
   "execution_count": 37,
   "metadata": {},
   "outputs": [
    {
     "name": "stdout",
     "output_type": "stream",
     "text": [
      "hello\n",
      "hello\n"
     ]
    }
   ],
   "source": [
    "def print_n(value, n) :\n",
    "    for i in range(n) :\n",
    "        print(value)\n",
    "\n",
    "print_n('hello',2)"
   ]
  },
  {
   "cell_type": "markdown",
   "metadata": {},
   "source": [
    "#### 3.2 가변매개변수\n",
    "- parameter의 개수를 모르는 경우\n",
    "- def 함수명(매개변수1, 매개변수2,....,*가변매개변수)\n",
    "- *를 앞에 붙이는 것으로 여러개의 parameter를 받아서 tuple로 변환하여 준다.  \n",
    "- args : arguments의 약자이며 관례적으로 *args를 쓴다\n",
    "- print() : 매개변수를 원하는 만큼 받을 수 있다."
   ]
  },
  {
   "cell_type": "code",
   "execution_count": 41,
   "metadata": {},
   "outputs": [
    {
     "name": "stdout",
     "output_type": "stream",
     "text": [
      "(1, 2, 3) <class 'tuple'>\n",
      "6\n"
     ]
    }
   ],
   "source": [
    "def add_many(*args) :\n",
    "    print(args, type(args))\n",
    "    total = 0\n",
    "    \n",
    "    for num in args :\n",
    "        total += num\n",
    "        \n",
    "    return total\n",
    "    \n",
    "print(add_many(1, 2, 3))\n"
   ]
  },
  {
   "cell_type": "code",
   "execution_count": 48,
   "metadata": {},
   "outputs": [
    {
     "name": "stdout",
     "output_type": "stream",
     "text": [
      "3 (4, '안녕하세요', '즐거운', '파이썬')\n",
      "4\n",
      "안녕하세요\n",
      "즐거운\n",
      "파이썬\n",
      "\n",
      "4\n",
      "안녕하세요\n",
      "즐거운\n",
      "파이썬\n",
      "\n",
      "4\n",
      "안녕하세요\n",
      "즐거운\n",
      "파이썬\n",
      "\n"
     ]
    }
   ],
   "source": [
    "def print_n_times(n, *args) :\n",
    "    print(n, args)\n",
    "    for i in range(n) :\n",
    "        for value in args :\n",
    "            print(value)\n",
    "        print()\n",
    "        \n",
    "print_n_times(3, 4, '안녕하세요', '즐거운', '파이썬')"
   ]
  },
  {
   "cell_type": "code",
   "execution_count": 50,
   "metadata": {},
   "outputs": [
    {
     "ename": "TypeError",
     "evalue": "print_n_times() missing 1 required keyword-only argument: 'n'",
     "output_type": "error",
     "traceback": [
      "\u001b[1;31m---------------------------------------------------------------------------\u001b[0m",
      "\u001b[1;31mTypeError\u001b[0m                                 Traceback (most recent call last)",
      "\u001b[1;32m<ipython-input-50-b9a14d1a063c>\u001b[0m in \u001b[0;36m<module>\u001b[1;34m\u001b[0m\n\u001b[0;32m      6\u001b[0m         \u001b[0mprint\u001b[0m\u001b[1;33m(\u001b[0m\u001b[1;33m)\u001b[0m\u001b[1;33m\u001b[0m\u001b[1;33m\u001b[0m\u001b[0m\n\u001b[0;32m      7\u001b[0m \u001b[1;33m\u001b[0m\u001b[0m\n\u001b[1;32m----> 8\u001b[1;33m \u001b[0mprint_n_times\u001b[0m\u001b[1;33m(\u001b[0m\u001b[1;34m'안녕하세요'\u001b[0m\u001b[1;33m,\u001b[0m \u001b[1;34m'즐거운'\u001b[0m\u001b[1;33m,\u001b[0m \u001b[1;34m'파이썬'\u001b[0m\u001b[1;33m,\u001b[0m \u001b[1;36m3\u001b[0m\u001b[1;33m)\u001b[0m\u001b[1;33m\u001b[0m\u001b[1;33m\u001b[0m\u001b[0m\n\u001b[0m",
      "\u001b[1;31mTypeError\u001b[0m: print_n_times() missing 1 required keyword-only argument: 'n'"
     ]
    }
   ],
   "source": [
    "# error\n",
    "def print_n_times(*args, n) :\n",
    "    for i in range(n) :\n",
    "        for value in args :\n",
    "            print(value)\n",
    "        print()\n",
    "        \n",
    "print_n_times('안녕하세요', '즐거운', '파이썬', 3)"
   ]
  },
  {
   "cell_type": "code",
   "execution_count": 2,
   "metadata": {},
   "outputs": [
    {
     "name": "stdout",
     "output_type": "stream",
     "text": [
      "{'a': 1} <class 'dict'>\n",
      "{'라면': '김밥', '짜장면': '단무지', '피자': '피클'} <class 'dict'>\n"
     ]
    }
   ],
   "source": [
    "# ** 은 자료형을 dict로 반환해줌   (* 은 tuple)\n",
    "# ** 은 관례적으로 **kwargs 라고 적음 (keyword parameter 라고 하기도 함)\n",
    "\n",
    "def print_kwargs(**kwargs) :\n",
    "    print(kwargs, type(kwargs))\n",
    "    \n",
    "print_kwargs(a=1)  # key값음 문자형으로 자동변환 되지만, value값에 문자열을 넣고 싶으면 '' 해줘야 함\n",
    "\n",
    "print_kwargs(라면='김밥', 짜장면='단무지', 피자='피클')\n"
   ]
  },
  {
   "cell_type": "markdown",
   "metadata": {},
   "source": [
    "#### 3.3 기본값이 있는 매개변수\n",
    "- print('Hello', sep = ' ', end = '\\n') 에서 sep, end에 값을 입력하지 않아도 매개변수에 들어가는 기본값이 정해져있다.\n",
    "- 기본매개변수 뒤에는 일반 매개변수가 올수없다.\n",
    "- **매개변수 이름을 명시하여 전달 ->키워드 매개변수(파라미터)**"
   ]
  },
  {
   "cell_type": "code",
   "execution_count": 56,
   "metadata": {
    "scrolled": true
   },
   "outputs": [
    {
     "name": "stdout",
     "output_type": "stream",
     "text": [
      "안녕하세요\n",
      "안녕하세요\n",
      "\n",
      "안녕하세요\n",
      "안녕하세요\n",
      "안녕하세요\n",
      "안녕하세요\n",
      "안녕하세요\n",
      "안녕하세요\n"
     ]
    }
   ],
   "source": [
    "def print_n_times(value, n=2) : # > n=2 : 기본 매개변수\n",
    "    for i in range(n):\n",
    "        print(value)\n",
    "\n",
    "print_n_times('안녕하세요')        \n",
    "print()\n",
    "print_n_times('안녕하세요',n=6)  # > n=6 : 키워드 매개변수(파라미터)\n"
   ]
  },
  {
   "cell_type": "code",
   "execution_count": 9,
   "metadata": {},
   "outputs": [
    {
     "name": "stdout",
     "output_type": "stream",
     "text": [
      "22\n",
      "9\n",
      "16\n",
      "16\n",
      "5\n"
     ]
    }
   ],
   "source": [
    "def test(a, b = 10, c = 2) :\n",
    "    print((a+b)*c)\n",
    "    \n",
    "test(1)  # b, c 가 기본값이 있기 때문에 a만 입력해도 가능\n",
    "test(1, 2, 3)\n",
    "test(a=1, b=3, c=4)   # 키워드 매개변수는 > 값을 지정해주고 싶을 때 사용\n",
    "test(c=4, a=1, b=3)     # 자리 바꿔서 해도 자기 자리 찾아감\n",
    "test(c=1, b=2, a=3)"
   ]
  },
  {
   "cell_type": "code",
   "execution_count": 14,
   "metadata": {},
   "outputs": [
    {
     "name": "stdout",
     "output_type": "stream",
     "text": [
      "안녕하세요안녕\n",
      "안녕하세요안녕\n",
      "\n",
      "안녕하세요아아\n",
      "안녕하세요아아\n",
      "안녕하세요아아\n",
      "안녕하세요아아\n",
      "안녕하세요아아\n",
      "\n",
      "안녕하세요아아\n",
      "안녕하세요아아\n",
      "안녕하세요아아\n"
     ]
    }
   ],
   "source": [
    "def print_n_times(value1, value2, n = 2) :\n",
    "    for i in range(n) :\n",
    "        print(value1+value2)\n",
    "        \n",
    "print_n_times('안녕하세요', '안녕')\n",
    "print()\n",
    "print_n_times(value2='아아', value1='안녕하세요', n=5)\n",
    "print()\n",
    "print_n_times(value2='아아', n=3, value1='안녕하세요')"
   ]
  },
  {
   "cell_type": "markdown",
   "metadata": {},
   "source": [
    "#### 3.4 매개변수 순서"
   ]
  },
  {
   "cell_type": "markdown",
   "metadata": {},
   "source": [
    "- 기본 매개변수가 가변 매개변수보다 앞에 올 때"
   ]
  },
  {
   "cell_type": "code",
   "execution_count": 16,
   "metadata": {
    "scrolled": true
   },
   "outputs": [
    {
     "name": "stdout",
     "output_type": "stream",
     "text": [
      "안녕하세요\n",
      "즐거운\n",
      "파이썬\n",
      "\n",
      "즐거운\n",
      "파이썬\n",
      "\n",
      "즐거운\n",
      "파이썬\n",
      "\n",
      "즐거운\n",
      "파이썬\n",
      "\n",
      "즐거운\n",
      "파이썬\n",
      "\n"
     ]
    }
   ],
   "source": [
    "def print_n_times(n='Welcome', *args) :\n",
    "    print(n)\n",
    "    for i in n :              # '안녕하세요'가 n으로 들어갔기 때문에 n=5 가 되어 5번 돌리게 됨\n",
    "        for value in args :\n",
    "            print(value)\n",
    "        print()\n",
    "        \n",
    "print_n_times('안녕하세요', '즐거운', '파이썬')\n",
    "\n",
    "# 추천하지 않는 방법"
   ]
  },
  {
   "cell_type": "code",
   "execution_count": 19,
   "metadata": {},
   "outputs": [
    {
     "name": "stdout",
     "output_type": "stream",
     "text": [
      "3\n",
      "즐거운\n",
      "파이썬\n",
      "\n",
      "즐거운\n",
      "파이썬\n",
      "\n",
      "즐거운\n",
      "파이썬\n",
      "\n"
     ]
    }
   ],
   "source": [
    "def print_n_times(n=2, *args) :\n",
    "    print(n)\n",
    "    for i in range(n) :\n",
    "        for value in args :\n",
    "            print(value)\n",
    "        print()\n",
    "        \n",
    "print_n_times(3, '즐거운', '파이썬')\n"
   ]
  },
  {
   "cell_type": "markdown",
   "metadata": {},
   "source": [
    "- 가변 매개변수가 기본 매개변수 보다 앞에 올때"
   ]
  },
  {
   "cell_type": "code",
   "execution_count": 33,
   "metadata": {},
   "outputs": [
    {
     "name": "stdout",
     "output_type": "stream",
     "text": [
      "2\n",
      "안녕하세요\n",
      "즐거운\n",
      "파이썬\n",
      "\n",
      "안녕하세요\n",
      "즐거운\n",
      "파이썬\n",
      "\n",
      "--------------------\n",
      "2\n",
      "안녕하세요\n",
      "즐거운\n",
      "파이썬\n",
      "3\n",
      "\n",
      "안녕하세요\n",
      "즐거운\n",
      "파이썬\n",
      "3\n",
      "\n",
      "--------------------\n",
      "3\n",
      "안녕하세요\n",
      "즐거운\n",
      "파이썬\n",
      "\n",
      "안녕하세요\n",
      "즐거운\n",
      "파이썬\n",
      "\n",
      "안녕하세요\n",
      "즐거운\n",
      "파이썬\n",
      "\n"
     ]
    }
   ],
   "source": [
    "def print_n_times(*args, n=2) :\n",
    "    print(n)\n",
    "    for i in range(n) :\n",
    "        for value in args :\n",
    "            print(value)\n",
    "        print()\n",
    "        \n",
    "print_n_times('안녕하세요', '즐거운', '파이썬')\n",
    "print('-'*20)\n",
    "print_n_times('안녕하세요', '즐거운', '파이썬', 3)\n",
    "print('-'*20)\n",
    "print_n_times('안녕하세요', '즐거운', '파이썬', n = 3)"
   ]
  },
  {
   "cell_type": "markdown",
   "metadata": {},
   "source": [
    "### 순서\n",
    "-  (일반 매개변수, 가변 매개변수, 기본 매개변수)\n",
    "- 호출할때 기본 매개변수는 키워드 매개변수로 호출"
   ]
  },
  {
   "cell_type": "code",
   "execution_count": 41,
   "metadata": {},
   "outputs": [
    {
     "name": "stdout",
     "output_type": "stream",
     "text": [
      "초기값 n : 2\n",
      "안녕하세요 1\n",
      "즐거운 1\n",
      "파이썬 1\n",
      "\n",
      "안녕하세요 1\n",
      "즐거운 1\n",
      "파이썬 1\n",
      "\n",
      "--------------------\n",
      "초기값 n : 2\n",
      "안녕하세요 2\n",
      "즐거운 2\n",
      "파이썬 2\n",
      "3 2\n",
      "\n",
      "안녕하세요 2\n",
      "즐거운 2\n",
      "파이썬 2\n",
      "3 2\n",
      "\n",
      "--------------------\n",
      "초기값 n : 4\n",
      "안녕하세요 2\n",
      "즐거운 2\n",
      "파이썬 2\n",
      "\n",
      "안녕하세요 2\n",
      "즐거운 2\n",
      "파이썬 2\n",
      "\n",
      "안녕하세요 2\n",
      "즐거운 2\n",
      "파이썬 2\n",
      "\n",
      "안녕하세요 2\n",
      "즐거운 2\n",
      "파이썬 2\n",
      "\n",
      "--------------------\n",
      "초기값 n : 4\n",
      "안녕하세요 어렵다\n",
      "즐거운 어렵다\n",
      "파이썬 어렵다\n",
      "\n",
      "안녕하세요 어렵다\n",
      "즐거운 어렵다\n",
      "파이썬 어렵다\n",
      "\n",
      "안녕하세요 어렵다\n",
      "즐거운 어렵다\n",
      "파이썬 어렵다\n",
      "\n",
      "안녕하세요 어렵다\n",
      "즐거운 어렵다\n",
      "파이썬 어렵다\n",
      "\n"
     ]
    }
   ],
   "source": [
    "def print_n_times(para1, *args, n=2) :\n",
    "    print('초기값 n :', n)\n",
    "    for i in range(n) :\n",
    "        for value in args :\n",
    "            print(value, para1)\n",
    "        print()\n",
    "        \n",
    "print_n_times(1, '안녕하세요', '즐거운', '파이썬')\n",
    "print('-'*20)\n",
    "print_n_times(2, '안녕하세요', '즐거운', '파이썬', 3)\n",
    "print('-'*20)\n",
    "print_n_times(2, '안녕하세요', '즐거운', '파이썬', n=4)\n",
    "print('-'*20)\n",
    "print_n_times('어렵다', '안녕하세요', '즐거운', '파이썬', n=4)"
   ]
  },
  {
   "cell_type": "markdown",
   "metadata": {},
   "source": [
    "### 4.lambda\n",
    "- lambda : 함수를 생성할 때 사용하는 예약어로 def와 동일한 역할\n",
    "- 간단한 함수를 쉽게 선언하는 방법\n",
    "- **lambda 매개변수 : 리턴값**"
   ]
  },
  {
   "cell_type": "code",
   "execution_count": 42,
   "metadata": {
    "scrolled": true
   },
   "outputs": [
    {
     "name": "stdout",
     "output_type": "stream",
     "text": [
      "7\n"
     ]
    }
   ],
   "source": [
    "def add(a,b) :\n",
    "    return a+b\n",
    "\n",
    "print(add(3,4))"
   ]
  },
  {
   "cell_type": "code",
   "execution_count": 47,
   "metadata": {},
   "outputs": [
    {
     "name": "stdout",
     "output_type": "stream",
     "text": [
      "3\n",
      "12\n"
     ]
    }
   ],
   "source": [
    "add = lambda a,b : a+b\n",
    "print(add(1,2))\n",
    "\n",
    "d = (lambda a, b : a*b)(3,4)     # 값까지 바로 넣는 효과\n",
    "print(d)"
   ]
  },
  {
   "cell_type": "markdown",
   "metadata": {},
   "source": [
    "- **lambda 함수는 단독으로도 사용되지만 map()와 더 많이 사용된다.**\n",
    "- map()는 리스트의 요소를 지정된 함수로 처리해주는 함수\n",
    "- **map(함수, 순회가능한 데이터)**"
   ]
  },
  {
   "cell_type": "code",
   "execution_count": 48,
   "metadata": {},
   "outputs": [
    {
     "name": "stdout",
     "output_type": "stream",
     "text": [
      "[1, 2, 3, 4, 5]\n",
      "[11, 12, 13, 14, 15]\n"
     ]
    }
   ],
   "source": [
    "myList = [1,2,3,4,5]\n",
    "\n",
    "print(myList)\n",
    "\n",
    "def add10(num):\n",
    "    return num+10\n",
    "\n",
    "for i in range(len(myList)) :\n",
    "    myList[i]=add10(myList[i])\n",
    "    \n",
    "print(myList)"
   ]
  },
  {
   "cell_type": "code",
   "execution_count": 56,
   "metadata": {},
   "outputs": [
    {
     "name": "stdout",
     "output_type": "stream",
     "text": [
      "[1, 2, 3, 4, 5]\n",
      "[11, 12, 13, 14, 15]\n"
     ]
    }
   ],
   "source": [
    "myList = [1,2,3,4,5]\n",
    "print(myList)\n",
    "def add10(num):\n",
    "    return num+10\n",
    "\n",
    "myList2 = list(map(add10, myList))\n",
    "print(myList2)"
   ]
  },
  {
   "cell_type": "code",
   "execution_count": 55,
   "metadata": {},
   "outputs": [
    {
     "name": "stdout",
     "output_type": "stream",
     "text": [
      "[1, 2, 3, 4, 5]\n",
      "[11, 12, 13, 14, 15]\n"
     ]
    }
   ],
   "source": [
    "myList = [1,2,3,4,5]\n",
    "print(myList)\n",
    "\n",
    "myList2 = list(map(lambda num : num+10, myList))\n",
    "print(myList2)"
   ]
  },
  {
   "cell_type": "code",
   "execution_count": 64,
   "metadata": {
    "scrolled": true
   },
   "outputs": [
    {
     "name": "stdout",
     "output_type": "stream",
     "text": [
      "{'Fist': 'Brett', 'Last': 'Holland'}\n",
      "{'Fist': 'Madison', 'Last': 'Martinez'}\n",
      "{'Fist': 'Michael', 'Last': 'Jenkins'}\n",
      "{'Fist': 'Karen', 'Last': 'Rodriguez'}\n",
      "{'Fist': 'Amber', 'Last': 'Rhodes'}\n"
     ]
    }
   ],
   "source": [
    "# map()를 사용해서 각 유저의 이름과 성을 출력\n",
    "users = [{'mail': 'gregorythomas@gmail.com', 'name': 'Brett Holland', 'gender' : 'M'},\n",
    "         {'mail': 'hintoncynthia@hotmail.com', 'name': 'Madison Martinez', 'gender' : 'F'},\n",
    "         {'mail': 'wwagner@gmail.com', 'name': 'Michael Jenkins', 'gender' : 'M'},\n",
    "         {'mail': 'daniel79@gmail.com', 'name': 'Karen Rodriguez', 'gender' : 'F'},\n",
    "         {'mail': 'ujackson@gmail.com', 'name': 'Amber Rhodes', 'gender' : 'F'}]\n",
    "\n",
    "# dict를 매개변수로 받아서 이름과 성을 분리\n",
    "def converToName(user):\n",
    "    first, last = user['name'].split()\n",
    "    dictName = {'Fist':first, 'Last':last}\n",
    "    return dictName\n",
    "\n",
    "for name in map(converToName, users):\n",
    "    print(name)\n"
   ]
  },
  {
   "cell_type": "code",
   "execution_count": 73,
   "metadata": {},
   "outputs": [
    {
     "name": "stdout",
     "output_type": "stream",
     "text": [
      "['남', '여', '남', '여', '여']\n",
      "남\n",
      "여\n",
      "남\n",
      "여\n",
      "여\n"
     ]
    }
   ],
   "source": [
    "# user(dict)를 입력받아서 성별을 한국어로 반환하는 함수\n",
    "def gender(user):\n",
    "    if user['gender'] == 'M' : \n",
    "        return '남'\n",
    "    else :\n",
    "        return '여'\n",
    "print(list(map(gender, users)))\n",
    "for i in map(gender, users):\n",
    "    print(i)"
   ]
  },
  {
   "cell_type": "code",
   "execution_count": 5,
   "metadata": {},
   "outputs": [
    {
     "name": "stdout",
     "output_type": "stream",
     "text": [
      "['남', '여', '남', '여', '여']\n",
      "남\n",
      "여\n",
      "남\n",
      "여\n",
      "여\n"
     ]
    }
   ],
   "source": [
    "users = [{'mail': 'gregorythomas@gmail.com', 'name': 'Brett Holland', 'gender' : 'M'},\n",
    "         {'mail': 'hintoncynthia@hotmail.com', 'name': 'Madison Martinez', 'gender' : 'F'},\n",
    "         {'mail': 'wwagner@gmail.com', 'name': 'Michael Jenkins', 'gender' : 'M'},\n",
    "         {'mail': 'daniel79@gmail.com', 'name': 'Karen Rodriguez', 'gender' : 'F'},\n",
    "         {'mail': 'ujackson@gmail.com', 'name': 'Amber Rhodes', 'gender' : 'F'}]\n",
    "\n",
    "def gender(user) :\n",
    "    if user['gender'] == 'M' :\n",
    "        return '남'\n",
    "    else :\n",
    "        return '여'\n",
    "\n",
    "print(list(map(gender, users)))\n",
    "for i in map(gender, users) :\n",
    "    print(i)"
   ]
  },
  {
   "cell_type": "code",
   "execution_count": 2,
   "metadata": {},
   "outputs": [
    {
     "name": "stdout",
     "output_type": "stream",
     "text": [
      "남\n",
      "여\n",
      "남\n",
      "여\n",
      "여\n"
     ]
    }
   ],
   "source": [
    "def gender(user) :\n",
    "    return '남' if user['gender']=='M' else '여'\n",
    "\n",
    "for i in map(lambda user : '남' if user['gender']=='M' else '여', users) : print(i)\n",
    "    \n",
    "    \n",
    "    \n",
    "    "
   ]
  },
  {
   "cell_type": "code",
   "execution_count": null,
   "metadata": {},
   "outputs": [],
   "source": []
  },
  {
   "cell_type": "code",
   "execution_count": 1,
   "metadata": {},
   "outputs": [
    {
     "name": "stdout",
     "output_type": "stream",
     "text": [
      "남\n",
      "여\n",
      "남\n",
      "여\n",
      "여\n"
     ]
    }
   ],
   "source": [
    "# 삼항연산자 + lambda\n",
    "\n",
    "users = [{'mail': 'gregorythomas@gmail.com', 'name': 'Brett Holland', 'gender' : 'M'},\n",
    "         {'mail': 'hintoncynthia@hotmail.com', 'name': 'Madison Martinez', 'gender' : 'F'},\n",
    "         {'mail': 'wwagner@gmail.com', 'name': 'Michael Jenkins', 'gender' : 'M'},\n",
    "         {'mail': 'daniel79@gmail.com', 'name': 'Karen Rodriguez', 'gender' : 'F'},\n",
    "         {'mail': 'ujackson@gmail.com', 'name': 'Amber Rhodes', 'gender' : 'F'}]\n",
    "\n",
    "for i in map(lambda user : '남' if user['gender'] == 'M' else '여' , users): print(i)"
   ]
  },
  {
   "cell_type": "markdown",
   "metadata": {},
   "source": [
    "### 5. 재귀함수\n",
    "- 자기자신을 호출하는 함수\n",
    "- n! = n * (n-1) * (n-2) * .... * 1"
   ]
  },
  {
   "cell_type": "code",
   "execution_count": 74,
   "metadata": {},
   "outputs": [
    {
     "data": {
      "text/plain": [
       "6"
      ]
     },
     "execution_count": 74,
     "metadata": {},
     "output_type": "execute_result"
    }
   ],
   "source": [
    "# 반복문으로 팩토리얼 구하기\n",
    "def fact1(n):\n",
    "    result = 1\n",
    "    for i in range(1,n+1):\n",
    "        result *= i\n",
    "    return result\n",
    "\n",
    "fact1(3)"
   ]
  },
  {
   "cell_type": "code",
   "execution_count": 77,
   "metadata": {},
   "outputs": [
    {
     "data": {
      "text/plain": [
       "6"
      ]
     },
     "execution_count": 77,
     "metadata": {},
     "output_type": "execute_result"
    }
   ],
   "source": [
    "# 재귀함수로 팩토리얼 구하기\n",
    "def fact2(n):\n",
    "    if n == 0 :\n",
    "        return 1\n",
    "    else :\n",
    "        return n*fact2(n-1)\n",
    "\n",
    "fact2(3)"
   ]
  },
  {
   "cell_type": "markdown",
   "metadata": {},
   "source": [
    "### 6. 파이썬 내장 함수\n",
    "- 파이썬에서는 기본적으로 제공하는 다양한 내장함수가 있다.\n",
    "- 따로 설치할 필요없이, Python Interpreter를 설치하는 과정에서 함께 설치\n",
    "- abs,max, min,range, round, sum, type, len...등등 많은 내장 함수가 있다. 파이썬 라이브러리 참조!!\n"
   ]
  },
  {
   "cell_type": "markdown",
   "metadata": {},
   "source": [
    "#### **연습문제2) 아래코드가 에러가 나는 원인은?**\n"
   ]
  },
  {
   "cell_type": "markdown",
   "metadata": {},
   "source": [
    "인수(arguments)가 없다"
   ]
  },
  {
   "cell_type": "code",
   "execution_count": 34,
   "metadata": {},
   "outputs": [
    {
     "ename": "TypeError",
     "evalue": "hamsu() missing 1 required positional argument: 'data'",
     "output_type": "error",
     "traceback": [
      "\u001b[1;31m---------------------------------------------------------------------------\u001b[0m",
      "\u001b[1;31mTypeError\u001b[0m                                 Traceback (most recent call last)",
      "\u001b[1;32m<ipython-input-34-56ec2003702b>\u001b[0m in \u001b[0;36m<module>\u001b[1;34m\u001b[0m\n\u001b[0;32m      2\u001b[0m     \u001b[0mprint\u001b[0m\u001b[1;33m(\u001b[0m\u001b[0mdata\u001b[0m\u001b[1;33m)\u001b[0m\u001b[1;33m\u001b[0m\u001b[1;33m\u001b[0m\u001b[0m\n\u001b[0;32m      3\u001b[0m \u001b[1;33m\u001b[0m\u001b[0m\n\u001b[1;32m----> 4\u001b[1;33m \u001b[0mhamsu\u001b[0m\u001b[1;33m(\u001b[0m\u001b[1;33m)\u001b[0m\u001b[1;33m\u001b[0m\u001b[1;33m\u001b[0m\u001b[0m\n\u001b[0m",
      "\u001b[1;31mTypeError\u001b[0m: hamsu() missing 1 required positional argument: 'data'"
     ]
    }
   ],
   "source": [
    "def hamsu(data) :\n",
    "    print(data)\n",
    "\n",
    "hamsu()"
   ]
  },
  {
   "cell_type": "markdown",
   "metadata": {},
   "source": [
    "#### **연습문제3) 문자열을 입력하면 문자열 끝에 ★(\\u2605)을 출력하는 함수를 만들고 호출하시오**\n",
    "- 예시) 파라미터 : 'Hello' -> 'Hello'★ 출력"
   ]
  },
  {
   "cell_type": "code",
   "execution_count": 35,
   "metadata": {},
   "outputs": [
    {
     "name": "stdout",
     "output_type": "stream",
     "text": [
      "Hello★\n"
     ]
    }
   ],
   "source": []
  },
  {
   "cell_type": "code",
   "execution_count": 60,
   "metadata": {},
   "outputs": [
    {
     "name": "stdout",
     "output_type": "stream",
     "text": [
      "Hello★"
     ]
    }
   ],
   "source": [
    "def star(value) :\n",
    "    print(value,end='\\u2605')\n",
    "    \n",
    "star('Hello')"
   ]
  },
  {
   "cell_type": "code",
   "execution_count": 78,
   "metadata": {},
   "outputs": [
    {
     "name": "stdout",
     "output_type": "stream",
     "text": [
      "Hello★\n"
     ]
    }
   ],
   "source": [
    "def star(string) :\n",
    "    print(string + '\\u2605')\n",
    "    \n",
    "star('Hello')"
   ]
  },
  {
   "cell_type": "code",
   "execution_count": 80,
   "metadata": {},
   "outputs": [
    {
     "name": "stdout",
     "output_type": "stream",
     "text": [
      "Hello★\n"
     ]
    }
   ],
   "source": [
    "def star(string) :\n",
    "    return string + '\\u2605'\n",
    "    \n",
    "print(star('Hello'))"
   ]
  },
  {
   "cell_type": "markdown",
   "metadata": {},
   "source": [
    "**연습문제4) 주어진 자연수가 홀수인지 짝수 인지 판별해 주는 함수 is_odd를 작성해 보자**"
   ]
  },
  {
   "cell_type": "code",
   "execution_count": 36,
   "metadata": {},
   "outputs": [
    {
     "data": {
      "text/plain": [
       "True"
      ]
     },
     "execution_count": 36,
     "metadata": {},
     "output_type": "execute_result"
    }
   ],
   "source": []
  },
  {
   "cell_type": "code",
   "execution_count": 81,
   "metadata": {},
   "outputs": [
    {
     "data": {
      "text/plain": [
       "True"
      ]
     },
     "execution_count": 81,
     "metadata": {},
     "output_type": "execute_result"
    }
   ],
   "source": [
    "def is_odd(num) :\n",
    "    if num%2 != 0 :\n",
    "        return True\n",
    "    else :\n",
    "        return False\n",
    "    \n",
    "is_odd(3)"
   ]
  },
  {
   "cell_type": "markdown",
   "metadata": {},
   "source": [
    "#### **연습문제5) 세 개의 숫자를 입력받아 가장 큰수를 return하는 max 함수를 정의하라. 단 if 문을 사용해서 수를 비교하라.**"
   ]
  },
  {
   "cell_type": "code",
   "execution_count": 40,
   "metadata": {},
   "outputs": [
    {
     "data": {
      "text/plain": [
       "6"
      ]
     },
     "execution_count": 40,
     "metadata": {},
     "output_type": "execute_result"
    }
   ],
   "source": []
  },
  {
   "cell_type": "code",
   "execution_count": 42,
   "metadata": {},
   "outputs": [
    {
     "data": {
      "text/plain": [
       "7"
      ]
     },
     "execution_count": 42,
     "metadata": {},
     "output_type": "execute_result"
    }
   ],
   "source": [
    "\n"
   ]
  },
  {
   "cell_type": "code",
   "execution_count": 62,
   "metadata": {},
   "outputs": [
    {
     "data": {
      "text/plain": [
       "7"
      ]
     },
     "execution_count": 62,
     "metadata": {},
     "output_type": "execute_result"
    }
   ],
   "source": [
    "def max(a, b, c) :\n",
    "    if a>b and a>c : return a\n",
    "    elif b>c : return b\n",
    "    else : return c\n",
    "\n",
    "max(4, 6, 7)\n",
    "    "
   ]
  },
  {
   "cell_type": "code",
   "execution_count": 87,
   "metadata": {},
   "outputs": [
    {
     "data": {
      "text/plain": [
       "4"
      ]
     },
     "execution_count": 87,
     "metadata": {},
     "output_type": "execute_result"
    }
   ],
   "source": [
    "def max(a, b, c) :\n",
    "    maxVal = 0\n",
    "    maxVal = a if (a>b) else b\n",
    "    maxVal = c if (maxVal>c) else maxVal\n",
    "    return maxVal\n",
    "    \n",
    "max(3,4,6)"
   ]
  },
  {
   "cell_type": "markdown",
   "metadata": {},
   "source": [
    "#### 연습문제6) 입력으로 들어오는 모든 수의 평균값을 계산해 주는 함수를 작성해 보자. (단 입력으로 들어오는 수의 개수는 정해져 있지 않다.)"
   ]
  },
  {
   "cell_type": "code",
   "execution_count": 65,
   "metadata": {
    "scrolled": true
   },
   "outputs": [
    {
     "data": {
      "text/plain": [
       "3.0"
      ]
     },
     "execution_count": 65,
     "metadata": {},
     "output_type": "execute_result"
    }
   ],
   "source": []
  },
  {
   "cell_type": "code",
   "execution_count": 92,
   "metadata": {},
   "outputs": [
    {
     "name": "stdout",
     "output_type": "stream",
     "text": [
      "3.0\n",
      "2.0\n"
     ]
    }
   ],
   "source": [
    "def avg(*args) :\n",
    "    total = 0\n",
    "    for num in args :\n",
    "        total += num\n",
    "    \n",
    "    return total/len(args)\n",
    "    \n",
    "print(avg(1,2,3,4,5))\n",
    "print(avg(1,2,3))"
   ]
  },
  {
   "cell_type": "markdown",
   "metadata": {},
   "source": [
    "#### 연습문제7) 해당 숫자가 소수인지 아닌지 판별하는 함수"
   ]
  },
  {
   "cell_type": "code",
   "execution_count": 78,
   "metadata": {},
   "outputs": [
    {
     "name": "stdout",
     "output_type": "stream",
     "text": [
      "False\n",
      "True\n",
      "True\n",
      "False\n"
     ]
    }
   ],
   "source": [
    "# 소수 : 1과 자신으로만 나누어 지는 수\n",
    "# 입력 : 양의 정수 1개\n",
    "# 출력 : bool (소수 : True , 합성수 : False)\n",
    "\n",
    "def isPrime(num) :\n",
    "    if num ==1 : return False\n",
    "    for i in range(2,num) :\n",
    "        if num%i == 0 :\n",
    "            return False\n",
    "    return True\n",
    "    \n",
    "    \n",
    "print(isPrime(100))\n",
    "print(isPrime(89))\n",
    "print(isPrime(2))\n",
    "print(isPrime(1))"
   ]
  },
  {
   "cell_type": "code",
   "execution_count": 110,
   "metadata": {},
   "outputs": [
    {
     "data": {
      "text/plain": [
       "False"
      ]
     },
     "execution_count": 110,
     "metadata": {},
     "output_type": "execute_result"
    }
   ],
   "source": [
    "def number(num) :\n",
    "    for i in range(2, num) :\n",
    "        if num % i == 0 :\n",
    "            return False \n",
    "    return True\n",
    "\n",
    "number(10)\n",
    "\n"
   ]
  },
  {
   "cell_type": "markdown",
   "metadata": {},
   "source": [
    "#### 연습문제 8) 2부터 해당 숫자 사이에 소수가 몇개인지 출력하는 함수(7번에서 만든 함수 이용)"
   ]
  },
  {
   "cell_type": "code",
   "execution_count": 79,
   "metadata": {},
   "outputs": [
    {
     "name": "stdout",
     "output_type": "stream",
     "text": [
      "25\n",
      "4\n"
     ]
    }
   ],
   "source": [
    "#입력 : 양의 정수 1개\n",
    "# 출력 : 2 ~ 해당숫자 사이 소수의 개수\n",
    "\n",
    "def countPrime(num) :\n",
    "    count = 0\n",
    "    for i in range(2, num+1) :\n",
    "        if isPrime(i) == True :    # ==True 는 생략 가능 \n",
    "            count += 1\n",
    "    return count\n",
    "\n",
    "print(countPrime(100))\n",
    "\n",
    "print(countPrime(7))"
   ]
  },
  {
   "cell_type": "code",
   "execution_count": null,
   "metadata": {},
   "outputs": [],
   "source": []
  }
 ],
 "metadata": {
  "kernelspec": {
   "display_name": "Python 3",
   "language": "python",
   "name": "python3"
  },
  "language_info": {
   "codemirror_mode": {
    "name": "ipython",
    "version": 3
   },
   "file_extension": ".py",
   "mimetype": "text/x-python",
   "name": "python",
   "nbconvert_exporter": "python",
   "pygments_lexer": "ipython3",
   "version": "3.8.8"
  },
  "toc": {
   "base_numbering": 1,
   "nav_menu": {},
   "number_sections": false,
   "sideBar": true,
   "skip_h1_title": false,
   "title_cell": "Table of Contents",
   "title_sidebar": "Contents",
   "toc_cell": false,
   "toc_position": {
    "height": "calc(100% - 180px)",
    "left": "10px",
    "top": "150px",
    "width": "349.091px"
   },
   "toc_section_display": true,
   "toc_window_display": false
  }
 },
 "nbformat": 4,
 "nbformat_minor": 4
}
