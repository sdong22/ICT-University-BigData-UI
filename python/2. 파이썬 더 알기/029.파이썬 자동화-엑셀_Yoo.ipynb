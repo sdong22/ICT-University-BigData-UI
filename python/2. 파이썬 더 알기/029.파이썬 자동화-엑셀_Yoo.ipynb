{
 "cells": [
  {
   "cell_type": "markdown",
   "metadata": {},
   "source": [
    "# 파이썬 자동화 - 엑셀"
   ]
  },
  {
   "cell_type": "markdown",
   "metadata": {},
   "source": [
    "- openpyxl 모듈을 이용\n",
    "- https://openpyxl.readthedocs.io/en/stable/#"
   ]
  },
  {
   "cell_type": "markdown",
   "metadata": {},
   "source": [
    "## 1. 엑셀 기본설정"
   ]
  },
  {
   "cell_type": "markdown",
   "metadata": {},
   "source": [
    "### 1.1. 워크시트 생성"
   ]
  },
  {
   "cell_type": "code",
   "execution_count": 1,
   "metadata": {},
   "outputs": [],
   "source": [
    "from openpyxl import Workbook"
   ]
  },
  {
   "cell_type": "markdown",
   "metadata": {},
   "source": [
    "- 워크시트 생성"
   ]
  },
  {
   "cell_type": "code",
   "execution_count": 4,
   "metadata": {},
   "outputs": [],
   "source": [
    "wb = Workbook() # 새 워크북 생성\n",
    "ws = wb.active  # 현재 활성화된 sheet 가져옴\n",
    "\n",
    "wb.save('excel/sample.xlsx')\n",
    "wb.close()"
   ]
  },
  {
   "cell_type": "markdown",
   "metadata": {},
   "source": [
    "- 시트명 정하기"
   ]
  },
  {
   "cell_type": "code",
   "execution_count": 5,
   "metadata": {},
   "outputs": [],
   "source": [
    "wb = Workbook()\n",
    "ws = wb.active\n",
    "ws.title = 'ICTsheet'  # sheet 이름 설정\n",
    "\n",
    "wb.save('excel/sample.xlsx')\n",
    "wb.close()"
   ]
  },
  {
   "cell_type": "markdown",
   "metadata": {},
   "source": [
    "**연습문제1)** 아래의 엑셀파일을 생성하시오.\n",
    "- 시트명 : '영업부'\n",
    "- 파일명 : 'exercises1.xlsx'"
   ]
  },
  {
   "cell_type": "code",
   "execution_count": 6,
   "metadata": {},
   "outputs": [],
   "source": [
    "wb = Workbook()\n",
    "ws = wb.active\n",
    "ws.title = '영업부'\n",
    "\n",
    "wb.save('excel/exercises1.xlsx')\n",
    "wb.close()"
   ]
  },
  {
   "cell_type": "markdown",
   "metadata": {},
   "source": [
    "### 1.2. 기본설정"
   ]
  },
  {
   "cell_type": "code",
   "execution_count": 18,
   "metadata": {},
   "outputs": [
    {
     "name": "stdout",
     "output_type": "stream",
     "text": [
      "['Sheet', 'BigData', 'IOT', 'UIUX', 'Copied Sheet']\n"
     ]
    }
   ],
   "source": [
    "# 새로운 시트 생성\n",
    "\n",
    "wb = Workbook()\n",
    "ws1 = wb.create_sheet()\n",
    "ws1.title = 'BigData'\n",
    "\n",
    "# 탭 색상 변경\n",
    "ws1.sheet_properties.tabColor = 'ff66ff'\n",
    "\n",
    "# 여러 시트 생성\n",
    "ws = wb.create_sheet('UIUX')\n",
    "ws3 = wb.create_sheet('IOT',2)  # 2번째 index에 시트 생성\n",
    "\n",
    "# sheet 복사\n",
    "ws1['A1'] = 'Test'  # ws1 sheet의 A1 자리에 'Test'입력\n",
    "ws4 = wb.copy_worksheet(ws1)\n",
    "ws4.title = 'Copied Sheet'\n",
    "\n",
    "#시트 이름 출력\n",
    "print(wb.sheetnames)\n",
    "\n",
    "wb.save('excel/sample2.xlsx')\n",
    "wb.close()"
   ]
  },
  {
   "cell_type": "markdown",
   "metadata": {},
   "source": [
    "**연습문제2)** 아래의 엑셀파일을 생성하시오.\n",
    "- 시트1 :title - '영업부', 색상- 파랑색\n",
    "- 시트2 :title - '생산부', 첫번째 위치\n",
    "- 시트3 :title - 'Copied_영업부', 시트1복사\n",
    "- 파일명 :'exercises2.xlsx'"
   ]
  },
  {
   "cell_type": "code",
   "execution_count": 21,
   "metadata": {},
   "outputs": [
    {
     "name": "stdout",
     "output_type": "stream",
     "text": [
      "['생산부', '영업부', 'Copied_영업부']\n"
     ]
    }
   ],
   "source": [
    "wb = Workbook()\n",
    "ws1 = wb.active\n",
    "ws1.title = '영업부'\n",
    "ws1.sheet_properties.tabColor = '0000ff'\n",
    "\n",
    "ws2 = wb.create_sheet('생산부',0)\n",
    "ws3 = wb.copy_worksheet(ws1)\n",
    "ws3.title = 'Copied_'+ws1.title\n",
    "\n",
    "print(wb.sheetnames)\n",
    "\n",
    "wb.save('excel/exercises2.xlsx')\n",
    "wb.close()"
   ]
  },
  {
   "cell_type": "markdown",
   "metadata": {},
   "source": [
    "### 1. 3. 셀에 데이터 넣고 가져오기"
   ]
  },
  {
   "cell_type": "markdown",
   "metadata": {},
   "source": [
    "- 데이터 넣기"
   ]
  },
  {
   "cell_type": "code",
   "execution_count": 24,
   "metadata": {},
   "outputs": [],
   "source": [
    "wb = Workbook()\n",
    "ws = wb.active\n",
    "ws.title = 'ICTSheet'\n",
    "\n",
    "# ws[셀주소] = 값\n",
    "\n",
    "ws['A1'] = 1\n",
    "ws['A2'] = 2\n",
    "ws['A3'] = 3\n",
    "ws['A4'] = 4\n",
    "ws['A5'] = 5\n",
    "ws['A6'] = 6\n",
    "\n",
    "\n",
    "wb.save('excel/sample3.xlsx')"
   ]
  },
  {
   "cell_type": "markdown",
   "metadata": {},
   "source": [
    "- 데이터 가져오기"
   ]
  },
  {
   "cell_type": "code",
   "execution_count": 25,
   "metadata": {
    "scrolled": true
   },
   "outputs": [
    {
     "name": "stdout",
     "output_type": "stream",
     "text": [
      "<Cell 'ICTSheet'.A1>\n",
      "1\n",
      "None\n"
     ]
    }
   ],
   "source": [
    "print(ws['A1'])\n",
    "print(ws['A1'].value)\n",
    "print(ws['A10'].value)"
   ]
  },
  {
   "cell_type": "markdown",
   "metadata": {},
   "source": [
    "- 데이터 입력하고 가져오기"
   ]
  },
  {
   "cell_type": "code",
   "execution_count": 28,
   "metadata": {},
   "outputs": [
    {
     "name": "stdout",
     "output_type": "stream",
     "text": [
      "1\n",
      "None\n"
     ]
    }
   ],
   "source": [
    "c = ws.cell(column=3, row=1, value=5)\n",
    "# ws['C1'] = 5\n",
    "\n",
    "print(ws.cell(column=1, row=1).value)\n",
    "print(ws.cell(column=2, row=1).value)\n",
    "\n",
    "\n",
    "\n",
    "wb.save('excel/sample3.xlsx')"
   ]
  },
  {
   "cell_type": "markdown",
   "metadata": {},
   "source": [
    "- 반복문으로 자료 채우기"
   ]
  },
  {
   "cell_type": "code",
   "execution_count": 31,
   "metadata": {},
   "outputs": [],
   "source": [
    "# 자료가 주어졌을때...1\n"
   ]
  },
  {
   "cell_type": "code",
   "execution_count": null,
   "metadata": {},
   "outputs": [],
   "source": [
    "# 자료를 생성하면서 차례대로 넣기\n",
    "wb = Workbook()\n",
    "ws = wb.active\n",
    "\n",
    "index = 1\n",
    "\n",
    "for i in range(1,11):\n",
    "    for j in range(1,11):\n",
    "        ws.cell(row = i, column= j, value= index)\n",
    "        index += 1\n",
    "\n",
    "\n",
    "wb.save('excel/sample3.xlsx')"
   ]
  },
  {
   "cell_type": "code",
   "execution_count": 33,
   "metadata": {},
   "outputs": [
    {
     "name": "stdout",
     "output_type": "stream",
     "text": [
      "[1, 2, 3, 4, 5, 6, 7, 8, 9, 10, 11, 12, 13, 14, 15, 16, 17, 18, 19, 20, 21, 22, 23, 24, 25, 26, 27, 28, 29, 30, 31, 32, 33, 34, 35, 36, 37, 38, 39, 40, 41, 42, 43, 44, 45, 46, 47, 48, 49, 50, 51, 52, 53, 54, 55, 56, 57, 58, 59, 60, 61, 62, 63, 64, 65, 66, 67, 68, 69, 70, 71, 72, 73, 74, 75, 76, 77, 78, 79, 80, 81, 82, 83, 84, 85, 86, 87, 88, 89, 90, 91, 92, 93, 94, 95, 96, 97, 98, 99, 100]\n"
     ]
    }
   ],
   "source": [
    "# 자료가 주어졌을때 2\n",
    "wb = Workbook()\n",
    "ws = wb.active\n",
    "\n",
    "data = [x for x in range(1,101)]\n",
    "print(data)\n",
    "\n",
    "for i in range(2, 11) : \n",
    "    for j in range(2,11) :\n",
    "        ws.cell(row = i, column= j, value= data.pop(0))   # pop : 값 삭제하면서 반환\n",
    "\n",
    "\n",
    "wb.save('excel/sample3.xlsx')"
   ]
  },
  {
   "cell_type": "markdown",
   "metadata": {},
   "source": [
    "- 랜덤하게 자료 채우기"
   ]
  },
  {
   "cell_type": "code",
   "execution_count": 35,
   "metadata": {},
   "outputs": [],
   "source": [
    "import random as r\n",
    "wb = Workbook()\n",
    "ws = wb.active\n",
    "\n",
    "ws.append(['번호', '프로그래밍', '자료구조','컴퓨터일반'])\n",
    "\n",
    "for i in range(1,11):\n",
    "    ws.append([i, r.randint(0,100), r.randint(0,100), r.randint(0,100)])\n",
    "    \n",
    "\n",
    "wb.save('excel/sample4.xlsx')"
   ]
  },
  {
   "cell_type": "markdown",
   "metadata": {},
   "source": [
    "**연습문제3)** 아래의 엑셀파일을 생성하시오.\n",
    "- 시트(ws)명 : 판매실적\n",
    "- (ws)컬럼명 : 코드, 아반떼, 그랜져, 아이오닉, 제네시스\n",
    "- (ws)row : 코드 1번~10번,  아반떼, 그랜져, 아이오닉, 제네시스의 판매량을 (30-100점 사이로)랜덤하게 생성\n",
    "- 파일명 :'exercises3.xlsx'"
   ]
  },
  {
   "cell_type": "code",
   "execution_count": 39,
   "metadata": {},
   "outputs": [],
   "source": [
    "wb = Workbook()\n",
    "ws = wb.active\n",
    "ws.title = '판매실적'\n",
    "\n",
    "ws.append(['코드','아반떼','그랜져','아이오닉','제네시스'])\n",
    "\n",
    "for i in range(1,11):\n",
    "    ws.append([i, r.randint(30,100), r.randint(30,100), r.randint(30,100), r.randint(30,100)])\n",
    "\n",
    "wb.save('excel/exercises3.xlsx')"
   ]
  },
  {
   "cell_type": "markdown",
   "metadata": {},
   "source": [
    "## 2. 데이터 가져오기"
   ]
  },
  {
   "cell_type": "markdown",
   "metadata": {},
   "source": [
    "### 2.1. 데이터 불러오기"
   ]
  },
  {
   "cell_type": "code",
   "execution_count": 43,
   "metadata": {},
   "outputs": [
    {
     "name": "stdout",
     "output_type": "stream",
     "text": [
      "None None None None None None None None None None \n",
      "None 1 2 3 4 5 6 7 8 9 \n",
      "None 10 11 12 13 14 15 16 17 18 \n",
      "None 19 20 21 22 23 24 25 26 27 \n",
      "None 28 29 30 31 32 33 34 35 36 \n",
      "None 37 38 39 40 41 42 43 44 45 \n",
      "None 46 47 48 49 50 51 52 53 54 \n",
      "None 55 56 57 58 59 60 61 62 63 \n",
      "None 64 65 66 67 68 69 70 71 72 \n",
      "None 73 74 75 76 77 78 79 80 81 \n",
      "****************************************\n",
      "None None None None None None None None None None \n",
      "None 1 2 3 4 5 6 7 8 9 \n",
      "None 10 11 12 13 14 15 16 17 18 \n",
      "None 19 20 21 22 23 24 25 26 27 \n",
      "None 28 29 30 31 32 33 34 35 36 \n",
      "None 37 38 39 40 41 42 43 44 45 \n",
      "None 46 47 48 49 50 51 52 53 54 \n",
      "None 55 56 57 58 59 60 61 62 63 \n",
      "None 64 65 66 67 68 69 70 71 72 \n",
      "None 73 74 75 76 77 78 79 80 81 \n"
     ]
    }
   ],
   "source": [
    "from openpyxl import load_workbook # 파일 불러오기\n",
    "\n",
    "wb = load_workbook('excel/sample3.xlsx')\n",
    "ws = wb.active\n",
    "\n",
    "# 데이터 갯수를 알때\n",
    "for i in range(1,11):\n",
    "    for j in range(1,11):\n",
    "        print(ws.cell(row=i, column=j).value, end=' ')\n",
    "    print()\n",
    "\n",
    "print('*'*40)\n",
    "    \n",
    "# 데이터 갯수를 모를 때\n",
    "for i in range(ws.min_row, ws.max_row+1):\n",
    "    for j in range(ws.min_column, ws.max_column+1):\n",
    "        print(ws.cell(row=i, column=j).value, end=' ')\n",
    "    print()\n",
    "    "
   ]
  },
  {
   "cell_type": "markdown",
   "metadata": {},
   "source": [
    "### 2.2 column별로 가지고 오기"
   ]
  },
  {
   "cell_type": "code",
   "execution_count": 47,
   "metadata": {},
   "outputs": [
    {
     "name": "stdout",
     "output_type": "stream",
     "text": [
      "프로그래밍\n",
      "44\n",
      "33\n",
      "74\n",
      "59\n",
      "52\n",
      "1\n",
      "48\n",
      "50\n",
      "77\n",
      "83\n",
      "****************************************\n",
      "프로그래밍\n",
      "44\n",
      "33\n",
      "74\n",
      "59\n",
      "52\n",
      "1\n",
      "48\n",
      "50\n",
      "77\n",
      "83\n",
      "자료구조\n",
      "88\n",
      "67\n",
      "36\n",
      "84\n",
      "28\n",
      "81\n",
      "4\n",
      "86\n",
      "38\n",
      "38\n",
      "컴퓨터일반\n",
      "65\n",
      "50\n",
      "98\n",
      "9\n",
      "0\n",
      "85\n",
      "94\n",
      "74\n",
      "90\n",
      "86\n"
     ]
    }
   ],
   "source": [
    "from openpyxl import load_workbook # 파일 불러오기\n",
    "\n",
    "wb = load_workbook('excel/sample4.xlsx')\n",
    "ws = wb.active\n",
    "\n",
    "\n",
    "col_B = ws['B']\n",
    "for cell in col_B :\n",
    "    print(cell.value)\n",
    "    \n",
    "print('*'*40)\n",
    "\n",
    "col_range = ws['B:D']\n",
    "for col in col_range :\n",
    "    for cell in col :\n",
    "        print(cell.value)"
   ]
  },
  {
   "cell_type": "markdown",
   "metadata": {},
   "source": [
    "### 2.3. row 별로 데이터 가지고 오기"
   ]
  },
  {
   "cell_type": "code",
   "execution_count": 55,
   "metadata": {},
   "outputs": [
    {
     "name": "stdout",
     "output_type": "stream",
     "text": [
      "번호 프로그래밍 자료구조 컴퓨터일반 \n",
      "****************************************\n",
      "1\t 44\t 88\t 65\t \n",
      "2\t 33\t 67\t 50\t \n",
      "3\t 74\t 36\t 98\t \n",
      "4\t 59\t 84\t 9\t \n",
      "5\t 52\t 28\t 0\t \n"
     ]
    }
   ],
   "source": [
    "from openpyxl import load_workbook # 파일 불러오기\n",
    "\n",
    "wb = load_workbook('excel/sample4.xlsx')\n",
    "ws = wb.active\n",
    "\n",
    "# 1번째 row만 가지고 오기\n",
    "row_title = ws[1]\n",
    "\n",
    "for cell in row_title:\n",
    "    print(cell.value, end=' ')\n",
    "\n",
    "print()\n",
    "print('*'*40)\n",
    "\n",
    "row_range = ws[2:6]\n",
    "for row in row_range :\n",
    "    for cell in row :\n",
    "        print(cell.value, end='\\t ')\n",
    "    print()"
   ]
  },
  {
   "cell_type": "markdown",
   "metadata": {},
   "source": [
    "### 2.4. 좌표 정보 가지고 오기"
   ]
  },
  {
   "cell_type": "code",
   "execution_count": 60,
   "metadata": {
    "scrolled": false
   },
   "outputs": [
    {
     "name": "stdout",
     "output_type": "stream",
     "text": [
      "1 A2 ('A', 2) A 2 / 44 B2 ('B', 2) B 2 / 88 C2 ('C', 2) C 2 / 65 D2 ('D', 2) D 2 / \n",
      "2 A3 ('A', 3) A 3 / 33 B3 ('B', 3) B 3 / 67 C3 ('C', 3) C 3 / 50 D3 ('D', 3) D 3 / \n",
      "3 A4 ('A', 4) A 4 / 74 B4 ('B', 4) B 4 / 36 C4 ('C', 4) C 4 / 98 D4 ('D', 4) D 4 / \n",
      "4 A5 ('A', 5) A 5 / 59 B5 ('B', 5) B 5 / 84 C5 ('C', 5) C 5 / 9 D5 ('D', 5) D 5 / \n",
      "5 A6 ('A', 6) A 6 / 52 B6 ('B', 6) B 6 / 28 C6 ('C', 6) C 6 / 0 D6 ('D', 6) D 6 / \n",
      "6 A7 ('A', 7) A 7 / 1 B7 ('B', 7) B 7 / 81 C7 ('C', 7) C 7 / 85 D7 ('D', 7) D 7 / \n",
      "7 A8 ('A', 8) A 8 / 48 B8 ('B', 8) B 8 / 4 C8 ('C', 8) C 8 / 94 D8 ('D', 8) D 8 / \n",
      "8 A9 ('A', 9) A 9 / 50 B9 ('B', 9) B 9 / 86 C9 ('C', 9) C 9 / 74 D9 ('D', 9) D 9 / \n",
      "9 A10 ('A', 10) A 10 / 77 B10 ('B', 10) B 10 / 38 C10 ('C', 10) C 10 / 90 D10 ('D', 10) D 10 / \n",
      "10 A11 ('A', 11) A 11 / 83 B11 ('B', 11) B 11 / 38 C11 ('C', 11) C 11 / 86 D11 ('D', 11) D 11 / \n"
     ]
    }
   ],
   "source": [
    "from openpyxl import load_workbook # 파일 불러오기\n",
    "\n",
    "wb = load_workbook('excel/sample4.xlsx')\n",
    "ws = wb.active\n",
    "\n",
    "row_range = ws[2:ws.max_row] # 2번째부터 마지막 줄까지 \n",
    "\n",
    "for row in row_range :\n",
    "    for cell in row :\n",
    "        print(cell.value, end=' ')\n",
    "        print(cell.coordinate, end=' ') # 셀의 좌표정보\n",
    "        xy = coordinate_from_string(cell.coordinate)\n",
    "        print(xy, end=' ')\n",
    "        print(xy[0], end=' ')\n",
    "        print(xy[1], end=' / ')\n",
    "    print()"
   ]
  },
  {
   "cell_type": "code",
   "execution_count": 58,
   "metadata": {},
   "outputs": [],
   "source": [
    "# 좌표값 행 열 구분하고 싶을때 가져오는 모듈 호출\n",
    "from openpyxl.utils.cell import coordinate_from_string"
   ]
  },
  {
   "cell_type": "markdown",
   "metadata": {},
   "source": [
    "**연습문제4)**\n",
    "- 4-1)'exercises3.xlsx'을 로드해서 차례대로 출력하기"
   ]
  },
  {
   "cell_type": "code",
   "execution_count": 75,
   "metadata": {
    "scrolled": true
   },
   "outputs": [
    {
     "name": "stdout",
     "output_type": "stream",
     "text": [
      "코드 아반떼 그랜져 아이오닉 제네시스 \n",
      "1 89 95 34 40 \n",
      "2 77 44 49 98 \n",
      "3 55 96 93 58 \n",
      "4 33 90 40 43 \n",
      "5 60 33 80 48 \n",
      "6 90 91 96 72 \n",
      "7 44 87 52 37 \n",
      "8 64 61 99 78 \n",
      "9 75 93 37 67 \n",
      "10 85 41 75 96 \n"
     ]
    }
   ],
   "source": [
    "from openpyxl import load_workbook # 파일 불러오기\n",
    "\n",
    "wb = load_workbook('excel/exercises3.xlsx')\n",
    "ws = wb.active\n",
    "\n",
    "for i in range(1, ws.max_row+1):\n",
    "    for j in range(1, ws.max_column+1):\n",
    "        print(ws.cell(row=i, column=j).value, end=' ')\n",
    "    print()\n",
    "    "
   ]
  },
  {
   "cell_type": "markdown",
   "metadata": {},
   "source": [
    "-4-2) 그랜저~제네시스 판매량만 가지고 오기"
   ]
  },
  {
   "cell_type": "code",
   "execution_count": 77,
   "metadata": {},
   "outputs": [
    {
     "name": "stdout",
     "output_type": "stream",
     "text": [
      "그랜져 95 44 96 90 33 91 87 61 93 41 \n",
      "아이오닉 34 49 93 40 80 96 52 99 37 75 \n",
      "제네시스 40 98 58 43 48 72 37 78 67 96 \n"
     ]
    }
   ],
   "source": [
    "from openpyxl import load_workbook # 파일 불러오기\n",
    "\n",
    "wb = load_workbook('excel/exercises3.xlsx')\n",
    "ws = wb.active\n",
    "\n",
    "col_range = ws['C:E']\n",
    "for col in col_range :\n",
    "    for cell in col :\n",
    "        print(cell.value, end=' ')\n",
    "    print()"
   ]
  },
  {
   "cell_type": "markdown",
   "metadata": {},
   "source": [
    "-4-3) 코드 5~10 번 사이의 판매량 가지고 오기"
   ]
  },
  {
   "cell_type": "code",
   "execution_count": 78,
   "metadata": {
    "scrolled": true
   },
   "outputs": [
    {
     "name": "stdout",
     "output_type": "stream",
     "text": [
      "코드 아반떼 그랜져 아이오닉 제네시스 \n",
      "****************************************\n",
      "5\t60\t33\t80\t48\t\n",
      "6\t90\t91\t96\t72\t\n",
      "7\t44\t87\t52\t37\t\n",
      "8\t64\t61\t99\t78\t\n",
      "9\t75\t93\t37\t67\t\n"
     ]
    }
   ],
   "source": [
    "from openpyxl import load_workbook # 파일 불러오기\n",
    "\n",
    "wb = load_workbook('excel/exercises3.xlsx')\n",
    "ws = wb.active\n",
    "\n",
    "row_title = ws[1]\n",
    "\n",
    "for cell in row_title:\n",
    "    print(cell.value, end=' ')\n",
    "\n",
    "print()\n",
    "print('*'*40)\n",
    "\n",
    "row_range = ws[6:10]\n",
    "for row in row_range :\n",
    "    for cell in row :\n",
    "        print(cell.value, end='\\t')\n",
    "    print()"
   ]
  },
  {
   "cell_type": "markdown",
   "metadata": {},
   "source": [
    "-4-4) wb의 각 셀의 좌표정보(주소)를 row와 column을 구분해서 출력하시오.   \n",
    "출력양식) 주소가 A1~E1 이라면 -> A 1 / B 1 / C 1 / D 1 / E 1 /  "
   ]
  },
  {
   "cell_type": "code",
   "execution_count": 80,
   "metadata": {},
   "outputs": [
    {
     "name": "stdout",
     "output_type": "stream",
     "text": [
      "A 1/ B 1/ C 1/ D 1/ E 1/ \n",
      "A 2/ B 2/ C 2/ D 2/ E 2/ \n",
      "A 3/ B 3/ C 3/ D 3/ E 3/ \n",
      "A 4/ B 4/ C 4/ D 4/ E 4/ \n",
      "A 5/ B 5/ C 5/ D 5/ E 5/ \n",
      "A 6/ B 6/ C 6/ D 6/ E 6/ \n",
      "A 7/ B 7/ C 7/ D 7/ E 7/ \n",
      "A 8/ B 8/ C 8/ D 8/ E 8/ \n",
      "A 9/ B 9/ C 9/ D 9/ E 9/ \n",
      "A 10/ B 10/ C 10/ D 10/ E 10/ \n",
      "A 11/ B 11/ C 11/ D 11/ E 11/ \n"
     ]
    }
   ],
   "source": [
    "from openpyxl.utils.cell import coordinate_from_string\n",
    "\n",
    "for row in ws[1:11] :\n",
    "    for cell in row :\n",
    "        xy = coordinate_from_string(cell.coordinate)\n",
    "        print(xy[0], end=' ') \n",
    "        print(xy[1], end='/ ')\n",
    "    print()"
   ]
  },
  {
   "cell_type": "markdown",
   "metadata": {},
   "source": [
    "### 2.5. 전체 정보 가지고 오기"
   ]
  },
  {
   "cell_type": "markdown",
   "metadata": {},
   "source": [
    "- row 단위로 가지고 오기"
   ]
  },
  {
   "cell_type": "code",
   "execution_count": 84,
   "metadata": {},
   "outputs": [
    {
     "name": "stdout",
     "output_type": "stream",
     "text": [
      "번호\n",
      "1\n",
      "2\n",
      "3\n",
      "4\n",
      "5\n",
      "6\n",
      "7\n",
      "8\n",
      "9\n",
      "10\n",
      "프로그래밍\n",
      "44\n",
      "33\n",
      "74\n",
      "59\n",
      "52\n",
      "1\n",
      "48\n",
      "50\n",
      "77\n",
      "83\n"
     ]
    }
   ],
   "source": [
    "wb = load_workbook('excel/sample4.xlsx')\n",
    "ws = wb.active\n",
    "\n",
    "#print(ws.rows)\n",
    "#print(tuple(ws.rows))\n",
    "\n",
    "# 방법1 : row 단위로 가져오면서 특정컬럼 출력\n",
    "for row in tuple(ws.rows):\n",
    "    print(row[0].value)\n",
    "    \n",
    "# 방법2 :\n",
    "for row in ws.iter_rows():\n",
    "    print(row[1].value)\n"
   ]
  },
  {
   "cell_type": "markdown",
   "metadata": {},
   "source": [
    "- column 단위로 가지고 오기"
   ]
  },
  {
   "cell_type": "code",
   "execution_count": 85,
   "metadata": {},
   "outputs": [
    {
     "name": "stdout",
     "output_type": "stream",
     "text": [
      "번호\n",
      "프로그래밍\n",
      "자료구조\n",
      "컴퓨터일반\n",
      "1\n",
      "44\n",
      "88\n",
      "65\n"
     ]
    }
   ],
   "source": [
    "wb = load_workbook('excel/sample4.xlsx')\n",
    "ws = wb.active\n",
    "\n",
    "# 방법1 :\n",
    "for col in tuple(ws.columns):\n",
    "    print(col[0].value)\n",
    "    \n",
    "# 방법2 :\n",
    "for col in ws.iter_cols():\n",
    "    print(col[1].value)"
   ]
  },
  {
   "cell_type": "markdown",
   "metadata": {},
   "source": [
    "- 전체 정보 가지고오기"
   ]
  },
  {
   "cell_type": "code",
   "execution_count": 86,
   "metadata": {},
   "outputs": [
    {
     "name": "stdout",
     "output_type": "stream",
     "text": [
      "번호 프로그래밍 자료구조 컴퓨터일반 \n",
      "1 44 88 65 \n",
      "2 33 67 50 \n",
      "3 74 36 98 \n",
      "4 59 84 9 \n",
      "5 52 28 0 \n",
      "6 1 81 85 \n",
      "7 48 4 94 \n",
      "8 50 86 74 \n",
      "9 77 38 90 \n",
      "10 83 38 86 \n"
     ]
    }
   ],
   "source": [
    "for row in tuple(ws.rows):\n",
    "    for cell in row :\n",
    "        print(cell.value, end=' ')\n",
    "    print()"
   ]
  },
  {
   "cell_type": "markdown",
   "metadata": {},
   "source": [
    "- iter_rows()"
   ]
  },
  {
   "cell_type": "code",
   "execution_count": 90,
   "metadata": {},
   "outputs": [
    {
     "name": "stdout",
     "output_type": "stream",
     "text": [
      "번호\t프로그래밍\n",
      "1\t44\n",
      "2\t33\n",
      "3\t74\n",
      "4\t59\n",
      "5\t52\n",
      "****************************************\n",
      "44\t88\n",
      "33\t67\n",
      "74\t36\n",
      "59\t84\n",
      "52\t28\n",
      "1\t81\n",
      "48\t4\n",
      "50\t86\n",
      "77\t38\n"
     ]
    }
   ],
   "source": [
    "# 1번~5번까지의 번호와 프로그래밍만 가져오기\n",
    "for row in ws.iter_rows(min_row=1, max_row=6):\n",
    "    print(row[0].value, row[1].value, sep='\\t')\n",
    "\n",
    "print('*'*40)\n",
    "    \n",
    "for row in ws.iter_rows(min_row=2, max_row=10, min_col=2, max_col=3):\n",
    "    print(row[0].value, row[1].value, sep='\\t')"
   ]
  },
  {
   "cell_type": "markdown",
   "metadata": {},
   "source": [
    "- iter_cols()"
   ]
  },
  {
   "cell_type": "code",
   "execution_count": 91,
   "metadata": {},
   "outputs": [
    {
     "name": "stdout",
     "output_type": "stream",
     "text": [
      "2 3\n",
      "33 74\n",
      "67 36\n"
     ]
    }
   ],
   "source": [
    "for col in ws.iter_cols(min_row=2, max_row=10, min_col=1, max_col=3):\n",
    "    print(col[1].value, col[2].value)"
   ]
  },
  {
   "cell_type": "code",
   "execution_count": null,
   "metadata": {},
   "outputs": [],
   "source": []
  },
  {
   "cell_type": "markdown",
   "metadata": {},
   "source": [
    "**연습문제5)** 아래 조건에 맞는 코드를 작성하시오.\n",
    "- 'exercises3.xlsx'을 로드해서 iter_rows()를 이용하여 코드, 아반떼, 아이오닉 판매수량을 출력하시오\n",
    "- 힌트 : coordinate_from_string(cell.coordinate)"
   ]
  },
  {
   "cell_type": "code",
   "execution_count": 94,
   "metadata": {},
   "outputs": [
    {
     "name": "stdout",
     "output_type": "stream",
     "text": [
      "코드\t아반떼\t아이오닉\n",
      "1\t89\t34\n",
      "2\t77\t49\n",
      "3\t55\t93\n",
      "4\t33\t40\n",
      "5\t60\t80\n",
      "6\t90\t96\n",
      "7\t44\t52\n",
      "8\t64\t99\n",
      "9\t75\t37\n",
      "10\t85\t75\n"
     ]
    }
   ],
   "source": [
    "wb = load_workbook('excel/exercises3.xlsx')\n",
    "ws = wb.active\n",
    "\n",
    "for row in ws.iter_rows():\n",
    "    print(row[0].value, row[1].value, row[3].value, sep='\\t')\n",
    "    "
   ]
  },
  {
   "cell_type": "code",
   "execution_count": 99,
   "metadata": {},
   "outputs": [
    {
     "name": "stdout",
     "output_type": "stream",
     "text": [
      "코드\t아반떼\t아이오닉\t\n",
      "1\t89\t34\t\n",
      "2\t77\t49\t\n",
      "3\t55\t93\t\n",
      "4\t33\t40\t\n",
      "5\t60\t80\t\n",
      "6\t90\t96\t\n",
      "7\t44\t52\t\n",
      "8\t64\t99\t\n",
      "9\t75\t37\t\n",
      "10\t85\t75\t\n"
     ]
    }
   ],
   "source": [
    "wb = load_workbook('excel/exercises3.xlsx')\n",
    "ws = wb.active\n",
    "\n",
    "ws_title = ['A','B','D']\n",
    "\n",
    "for row in ws.iter_rows():\n",
    "    for cell in row :\n",
    "        xy = coordinate_from_string(cell.coordinate)\n",
    "        if xy[0] in ws_title : print(cell.value, end='\\t')\n",
    "    print()"
   ]
  },
  {
   "cell_type": "markdown",
   "metadata": {},
   "source": [
    "## 3. 데이터 찾기"
   ]
  },
  {
   "cell_type": "code",
   "execution_count": null,
   "metadata": {},
   "outputs": [],
   "source": [
    "from openpyxl import load_workbook"
   ]
  },
  {
   "cell_type": "code",
   "execution_count": 109,
   "metadata": {},
   "outputs": [
    {
     "name": "stdout",
     "output_type": "stream",
     "text": [
      "4번 학생은 96점으로 프로그래밍 천재\n",
      "6번 학생은 95점으로 프로그래밍 천재\n"
     ]
    }
   ],
   "source": [
    "wb = load_workbook('excel/sample4.xlsx')\n",
    "ws = wb.active\n",
    "\n",
    "for row in ws.iter_rows(min_row=2):\n",
    "    # 번호, 프로그래밍, 자료구조, 컴퓨터일반\n",
    "    if row[1].value > 90 :\n",
    "        print('{}번 학생은 {}점으로 프로그래밍 천재'.format(row[0].value,row[1].value))\n",
    "        \n",
    "# 컴퓨터일반을 디자인으로 과목명 변경\n",
    "for row in ws.iter_rows(max_row =1):\n",
    "    for cell in row :\n",
    "        if cell.value == '컴퓨터일반' :\n",
    "            cell.value = '디자인'\n",
    "        #print(cell.value)\n",
    "        \n",
    "# 디자인을 데이터분석으로 변경\n",
    "for col in ws.iter_cols():\n",
    "    if col[0].value =='디자인':\n",
    "        col[0].value = '데이터분석'\n",
    "    #print(col[0].value)\n",
    "    \n",
    "    \n",
    "wb.save('excel/sample4_modified.xlsx')"
   ]
  },
  {
   "cell_type": "markdown",
   "metadata": {},
   "source": [
    "## 4. 시트 수정"
   ]
  },
  {
   "cell_type": "markdown",
   "metadata": {},
   "source": [
    "### 4.1. 행, 열 삽입"
   ]
  },
  {
   "cell_type": "code",
   "execution_count": 115,
   "metadata": {},
   "outputs": [],
   "source": [
    "wb = load_workbook('excel/sample4.xlsx')\n",
    "ws = wb.active\n",
    "\n",
    "#ws.insert_rows(8)\n",
    "ws.insert_rows(8, 3)  # 8행부터 3줄 추가\n",
    "wb.save('excel/sample4_insert_rows.xlsx')"
   ]
  },
  {
   "cell_type": "code",
   "execution_count": 116,
   "metadata": {},
   "outputs": [],
   "source": [
    "wb = load_workbook('excel/sample4.xlsx')\n",
    "ws = wb.active\n",
    "\n",
    "#ws.insert_cols(2)\n",
    "ws.insert_cols(2, 3)  # 2열부터 3열 추가\n",
    "wb.save('excel/sample4_insert_cols.xlsx')"
   ]
  },
  {
   "cell_type": "markdown",
   "metadata": {},
   "source": [
    "### 4.2. 행, 열 삭제"
   ]
  },
  {
   "cell_type": "code",
   "execution_count": 122,
   "metadata": {},
   "outputs": [],
   "source": [
    "wb = load_workbook('excel/sample4.xlsx')\n",
    "ws = wb.active\n",
    "\n",
    "# 행삭제\n",
    "#ws.delete_rows(8)\n",
    "ws.delete_rows(5,3)\n",
    "wb.save('excel/sample4_delete_rows.xlsx')"
   ]
  },
  {
   "cell_type": "code",
   "execution_count": 123,
   "metadata": {},
   "outputs": [],
   "source": [
    "wb = load_workbook('excel/sample4.xlsx')\n",
    "ws = wb.active\n",
    "\n",
    "# 열삭제\n",
    "#ws.delete_cols(2)\n",
    "ws.delete_cols(2,2)\n",
    "wb.save('excel/sample4_delete_cols.xlsx')"
   ]
  },
  {
   "cell_type": "markdown",
   "metadata": {},
   "source": [
    "### 4.3. 이동"
   ]
  },
  {
   "cell_type": "code",
   "execution_count": 129,
   "metadata": {},
   "outputs": [],
   "source": [
    "wb = load_workbook('excel/sample4.xlsx')\n",
    "ws = wb.active\n",
    "\n",
    "# 프로그래밍~컴퓨터일반까지 모든 데이터, 오른쪽으로 한칸이동\n",
    "#ws.move_range('B1:D11', rows=0, cols=1)\n",
    "#ws['B1'].value = '데이터분석'\n",
    "\n",
    "# 자료구조 열을 5줄 아래로 이동\n",
    "#ws.move_range('C1:C11', rows=5, cols=-1)\n",
    "\n",
    "ws.move_range('B4:C6', rows=-1, cols=-1)\n",
    "\n",
    "wb.save('excel/sample4_move.xlsx')"
   ]
  },
  {
   "cell_type": "markdown",
   "metadata": {},
   "source": [
    "## 5. 차트그리기"
   ]
  },
  {
   "cell_type": "code",
   "execution_count": 136,
   "metadata": {},
   "outputs": [],
   "source": [
    "wb = load_workbook('excel/sample4.xlsx')\n",
    "ws = wb.active\n",
    "\n",
    "from openpyxl.chart import BarChart, Reference\n",
    "\n",
    "bar_value = Reference(ws, min_row=1, max_row=11, min_col=2, max_col=4)\n",
    "bar_chart = BarChart()\n",
    "bar_chart.add_data(bar_value, titles_from_data=True)\n",
    "bar_chart.title = '성적표'\n",
    "bar_chart.style = 10\n",
    "bar_chart.x_axis.title = '번호'\n",
    "bar_chart.y_axis.title = '점수'\n",
    "\n",
    "ws.add_chart(bar_chart, 'F1')\n",
    "\n",
    "wb.save('excel/sample4_chart.xlsx')"
   ]
  },
  {
   "cell_type": "code",
   "execution_count": 138,
   "metadata": {},
   "outputs": [],
   "source": [
    "wb = load_workbook('excel/sample4.xlsx')\n",
    "ws = wb.active\n",
    "\n",
    "from openpyxl.chart import LineChart, Reference\n",
    "\n",
    "line_value = Reference(ws, min_row=1, max_row=11, min_col=2, max_col=4)\n",
    "line_chart = LineChart()\n",
    "line_chart.add_data(bar_value, titles_from_data=True)\n",
    "line_chart.title = '성적표'\n",
    "line_chart.style = 20\n",
    "line_chart.x_axis.title = '번호'\n",
    "line_chart.y_axis.title = '점수'\n",
    "\n",
    "ws.add_chart(line_chart, 'F1')\n",
    "\n",
    "wb.save('excel/sample4_chart.xlsx')"
   ]
  },
  {
   "cell_type": "markdown",
   "metadata": {},
   "source": [
    "## 6. 스타일 설정"
   ]
  },
  {
   "cell_type": "code",
   "execution_count": 21,
   "metadata": {},
   "outputs": [],
   "source": [
    "from openpyxl import load_workbook\n",
    "from openpyxl.styles import Font, Border, Side, PatternFill, Alignment\n",
    "\n",
    "\n",
    "wb = load_workbook('excel/sample4.xlsx')\n",
    "ws = wb.active\n",
    "\n",
    "a1 = ws['A1']\n",
    "b1 = ws['B1']\n",
    "c1 = ws['C1']\n",
    "d1 = ws['D1']\n",
    "\n",
    "# 열 너비 설정\n",
    "ws.column_dimensions['A'].width = 5\n",
    "ws.column_dimensions['B'].width = 20\n",
    "\n",
    "# 행 높이\n",
    "ws.row_dimensions[1].height = 30\n",
    "\n",
    "# 폰트 스타일 적용\n",
    "a1.font = Font(color='FF0000', italic=True, bold=True)\n",
    "ws['D1'].font = Font(color='CC33FF',name='Arial', strike=True)\n",
    "b1.font = Font(color='0000FF', size=20, underline='single',)\n",
    "c1.font = Font(color='556633',name='Arial', strikethrough=True)\n",
    "\n",
    "# 테두리 적용\n",
    "thin_border = Border(left=Side(style='thin'), right=Side(style='thin'), top=Side(style='thin'), bottom=Side(style='thin'))\n",
    "a1.border = thin_border\n",
    "b1.border = thin_border\n",
    "c1.border = thin_border\n",
    "d1.border = thin_border\n",
    "\n",
    "# 80점 넘는 셀에 대해서 초록색으로 적용\n",
    "for row in ws.rows:\n",
    "    for cell in row:\n",
    "        \n",
    "        cell.border = thin_border\n",
    "        cell.alignment = Alignment(horizontal='center', vertical='center')\n",
    "        \n",
    "        if cell.column ==1 : continue\n",
    "        #print(isinstance(cell.value, int))\n",
    "        # cell이 정수형 데이터고, 80점보다 높으면\n",
    "        if isinstance(cell.value, int) and cell.value > 80 :\n",
    "            cell.fill = PatternFill(fgColor='00ff00', fill_type='solid')\n",
    "            cell.font = Font(color='0000ff')\n",
    "        \n",
    "        cell.border = thin_border\n",
    "        cell.alignment = Alignment(horizontal='center', vertical='center')\n",
    "\n",
    "wb.save('excel/sample4_style.xlsx')"
   ]
  },
  {
   "cell_type": "markdown",
   "metadata": {},
   "source": [
    "## 7. 수식(함수)"
   ]
  },
  {
   "cell_type": "code",
   "execution_count": 22,
   "metadata": {},
   "outputs": [],
   "source": [
    "from openpyxl import Workbook\n",
    "\n",
    "wb = Workbook()\n",
    "ws = wb.active\n",
    "\n",
    "ws['A1'] = '=SUM(1, 2, 3)'\n",
    "ws['A2'] = '=AVERAGE(4, 5, 6)'\n",
    "\n",
    "ws['A3'] = 30\n",
    "ws['A4'] = 40\n",
    "ws['A5'] = '=SUM(A3:A4)'\n",
    "\n",
    "wb.save('excel/sample4_cal.xlsx')\n"
   ]
  },
  {
   "cell_type": "code",
   "execution_count": 26,
   "metadata": {},
   "outputs": [
    {
     "name": "stdout",
     "output_type": "stream",
     "text": [
      "6\n",
      "5\n",
      "30\n",
      "40\n",
      "70\n"
     ]
    }
   ],
   "source": [
    "from openpyxl import load_workbook\n",
    "wb = load_workbook('excel/sample4_cal.xlsx', data_only=True)  # data_only=True : 수식으로 말고 값으로 가져오도록\n",
    "ws = wb.active\n",
    "\n",
    "for row in ws.rows:\n",
    "    for cell in row:\n",
    "        print(cell.value)"
   ]
  },
  {
   "cell_type": "markdown",
   "metadata": {},
   "source": [
    "**연습문제6)** 아래 조건에 맞는 코드를 작성하시오.\n",
    "- 'exercises3.xlsx'을 로드하시오. F1에 '합계'라는 cell을 만드시오.\n",
    "- 각 row의 합계를 F열에 집계되도록 하시오.\n",
    "- 6-1) 파이썬에서 값을 불러와서 연산해서 대입하기"
   ]
  },
  {
   "cell_type": "code",
   "execution_count": 156,
   "metadata": {},
   "outputs": [],
   "source": [
    "# 교수님 풀이\n",
    "from openpyxl import load_workbook\n",
    "wb = load_workbook('excel/exercises3.xlsx')\n",
    "ws = wb.active\n",
    "\n",
    "ws['F1'] = '합계'\n",
    "\n",
    "for row in ws.iter_rows(min_row=2):\n",
    "    row[5].value = row[1].value+ row[2].value+ row[3].value+ row[4].value\n",
    "\n",
    "wb.save('excel/exercises4.xlsx')"
   ]
  },
  {
   "cell_type": "code",
   "execution_count": 163,
   "metadata": {},
   "outputs": [],
   "source": [
    "# 내 풀이\n",
    "# 잘못된거\n",
    "from openpyxl.utils.cell import coordinate_from_string\n",
    "wb = load_workbook('excel/exercises3.xlsx')\n",
    "ws = wb.active\n",
    "\n",
    "ws['F1'] = '합계'\n",
    "\n",
    "sum=0\n",
    "for row in ws.rows :\n",
    "    for cell in row:\n",
    "        if cell.column ==1 : continue\n",
    "        if isinstance(cell.value, int):\n",
    "            sum += int(cell.value)\n",
    " #   if cell.column != 1 :\n",
    "  #      row[5].value =sum\n",
    "   #     sum=0\n",
    "\n",
    "wb.save('excel/exercises4.xlsx')"
   ]
  },
  {
   "cell_type": "markdown",
   "metadata": {},
   "source": [
    "- 6-2) F열에 들어갈 수식을 만들어 삽입시키기"
   ]
  },
  {
   "cell_type": "code",
   "execution_count": 70,
   "metadata": {},
   "outputs": [],
   "source": [
    "# 교수님 풀이\n",
    "from openpyxl import load_workbook\n",
    "wb = load_workbook('excel/exercises3.xlsx')\n",
    "ws1 = wb.active\n",
    "ws2 = wb.copy_worksheet(ws1)\n",
    "\n",
    "ws['F1'] = '합계'\n",
    "for i in range(2, len(tuple(ws.rows))+1):\n",
    "    sum_idx = 'F{}'.format(i)\n",
    "    #print(sum_idx)\n",
    "    ws2[sum_idx] = '=SUM(B{}:E{})'.format(i,i)\n",
    "\n",
    "wb.save('excel/exercises4.xlsx')"
   ]
  },
  {
   "cell_type": "code",
   "execution_count": 43,
   "metadata": {},
   "outputs": [],
   "source": [
    "# 내 풀이\n",
    "from openpyxl import load_workbook\n",
    "wb = load_workbook('excel/exercises3.xlsx')\n",
    "ws = wb.active\n",
    "\n",
    "ws['F1'] = '합계'\n",
    "\n",
    "for i in range(2,12):\n",
    "    ws['F{}'.format(i)] = '=SUM(B{}:E{})'.format(i,i)\n",
    "\n",
    "wb.save('excel/exercises4_1.xlsx')"
   ]
  },
  {
   "cell_type": "markdown",
   "metadata": {},
   "source": [
    "## 8. 셀병합"
   ]
  },
  {
   "cell_type": "code",
   "execution_count": 77,
   "metadata": {},
   "outputs": [],
   "source": [
    "wb = Workbook()\n",
    "ws = wb.active\n",
    "\n",
    "ws.merge_cells('B2:D2')\n",
    "ws['B2'] = 'Merge Cell'\n",
    "\n",
    "wb.save('excel/merge.xlsx')"
   ]
  },
  {
   "cell_type": "code",
   "execution_count": 83,
   "metadata": {},
   "outputs": [],
   "source": [
    "wb = load_workbook('excel/merge.xlsx')\n",
    "\n",
    "ws1 = wb.active\n",
    "ws1.title = 'merge'\n",
    "\n",
    "ws2 = wb.copy_worksheet(ws1)\n",
    "ws2.title = 'unmerge'\n",
    "ws2.unmerge_cells('B2:D2')\n",
    "\n",
    "wb.save('excel/merge.xlsx')"
   ]
  },
  {
   "cell_type": "markdown",
   "metadata": {},
   "source": [
    "**연습문제7)**   \n",
    ": 여러분은 ICT폴리텍대학의 프로그래밍 교수님입니다. 프로그래밍 과목의 점수비중은 다음과 같습니다.\n",
    "- 출석 : 10\n",
    "- 과제1 : 10\n",
    "- 과제2 : 10\n",
    "- 중간고사 : 20\n",
    "- 기말고사 : 30\n",
    "- 프로젝트 : 20\n",
    "- 총합계 :100\n",
    "   "
   ]
  },
  {
   "cell_type": "markdown",
   "metadata": {},
   "source": [
    "**연습문제7-1)** 아래 데이터를 참고하여 'exercises5.xlsx'를 생성하시오. (시트명 : 프로그래밍)\n",
    "- 현재까지 작성된 최종 평가 점수\n",
    "- 학번, 출석, 과제1, 과제2, 중간고사, 기말고사, 프로젝트   \n",
    "1,10,8,5,14,26,12   \n",
    "2,7,3,7,15,24,18   \n",
    "3,9,5,8,8,12,4   \n",
    "4,7,8,7,17,21,18   \n",
    "5,7,8,7,16,25,15   \n",
    "6,3,5,8,8,17,0   \n",
    "7,4,9,10,16,27,18   \n",
    "8,6,6,6,15,19,17   \n",
    "9,10,10,9,19,30,19   \n",
    "10,9,8,8,20,25,20"
   ]
  },
  {
   "cell_type": "code",
   "execution_count": 133,
   "metadata": {},
   "outputs": [],
   "source": [
    "from openpyxl import Workbook\n",
    "wb = Workbook()\n",
    "ws = wb.active\n",
    "ws.title = '프로그래밍'\n",
    "\n",
    "ws.append(['학번', '출석', '과제1','과제2','중간고사','기말고사','프로젝트'])\n",
    "\n",
    "data=[1,10,8,5,14,26,12,\n",
    "2,7,3,7,15,24,18,\n",
    "3,9,5,8,8,12,4,\n",
    "4,7,8,7,17,21,18,\n",
    "5,7,8,7,16,25,15,\n",
    "6,3,5,8,8,17,0,\n",
    "7,4,9,10,16,27,18,\n",
    "8,6,6,6,15,19,17,\n",
    "9,10,10,9,19,30,19,\n",
    "10,9,8,8,20,25,20]\n",
    "\n",
    "for i in range(2, 12) : \n",
    "    for j in range(1,8) :\n",
    "        ws.cell(row = i, column= j, value= data.pop(0))\n",
    "        \n",
    "wb.save('excel/exercises5.xlsx')"
   ]
  },
  {
   "cell_type": "code",
   "execution_count": 177,
   "metadata": {},
   "outputs": [],
   "source": [
    "# 데이터 생성 ver_2\n",
    "from openpyxl import Workbook\n",
    "wb = Workbook()\n",
    "ws = wb.active\n",
    "ws.title = '프로그래밍'\n",
    "\n",
    "ws.append(['학번', '출석', '과제1','과제2','중간고사','기말고사','프로젝트'])\n",
    "\n",
    "scores=[(1,10,8,5,14,26,12),\n",
    "(2,7,3,7,15,24,18),\n",
    "(3,9,5,8,8,12,4),\n",
    "(4,7,8,7,17,21,18),\n",
    "(5,7,8,7,16,25,15),\n",
    "(6,3,5,8,8,17,0),\n",
    "(7,4,9,10,16,27,18),\n",
    "(8,6,6,6,15,19,17),\n",
    "(9,10,10,9,19,30,19),\n",
    "(10,9,8,8,20,25,20)]\n",
    "\n",
    "#for i in range(10):\n",
    "#    ws.append(data[i])\n",
    "for s in scores:\n",
    "    ws.append(s)\n",
    "        \n",
    "wb.save('excel/exercises5_연습.xlsx')"
   ]
  },
  {
   "cell_type": "markdown",
   "metadata": {},
   "source": [
    "**연습문제7-2)**   \n",
    "마지막 수업을 모두 마치고 이번 학기 학생들의 최종 성적을 검토하는 과정에서 과제2 문제에 오류를 발견하여 모두 만점 처리를 하기로 하였습니다.    \n",
    "- 'exercises5.xlsx' 파일을 열어서 시트를 추가(시트명:프로그래밍-수정)해서 과제2을 모두 만점 처리 하고 저장하시오.\n"
   ]
  },
  {
   "cell_type": "code",
   "execution_count": 134,
   "metadata": {},
   "outputs": [],
   "source": [
    "from openpyxl import load_workbook\n",
    "wb = load_workbook('excel/exercises5.xlsx')\n",
    "ws1 = wb.active\n",
    "ws2 = wb.copy_worksheet(ws1)\n",
    "ws2.title = '프로그래밍-수정'\n",
    "wb.move_sheet('프로그래밍-수정',-1)   # 시트 이동시켜서 활성시트로 만들어줌\n",
    "\n",
    "for row in ws2.iter_rows(min_row=2):\n",
    "    row[3].value = 10\n",
    "    \n",
    "wb.save('excel/exercises5.xlsx')"
   ]
  },
  {
   "cell_type": "code",
   "execution_count": 178,
   "metadata": {},
   "outputs": [
    {
     "name": "stdout",
     "output_type": "stream",
     "text": [
      "0 과제2\n",
      "1 5\n",
      "2 7\n",
      "3 8\n",
      "4 7\n",
      "5 7\n",
      "6 8\n",
      "7 10\n",
      "8 6\n",
      "9 9\n",
      "10 8\n"
     ]
    }
   ],
   "source": [
    "# 교수님 풀이\n",
    "from openpyxl import load_workbook\n",
    "wb = load_workbook('excel/exercises5_연습.xlsx')\n",
    "ws1 = wb.active\n",
    "ws2 = wb.copy_worksheet(ws1)\n",
    "ws2.title = '프로그래밍-수정'\n",
    "\n",
    "for idx, cell in enumerate(ws2['D']):  # enumerate는 파이썬 함수니까 0부터\n",
    "    print(idx, cell.value)\n",
    "    if idx ==0 : # 제목인 경우 skip\n",
    "        continue\n",
    "    cell.value = 10\n",
    "\n",
    "wb.save('excel/exercises5_연습.xlsx')"
   ]
  },
  {
   "cell_type": "markdown",
   "metadata": {},
   "source": [
    "**연습문제7-3)** \n",
    "- H열에 총점(SUM 이용)추가 (주의 : 총점 계산시..실제 계산을 하는게 아닌 수식을 완성)"
   ]
  },
  {
   "cell_type": "code",
   "execution_count": 138,
   "metadata": {
    "scrolled": true
   },
   "outputs": [],
   "source": [
    "from openpyxl import load_workbook\n",
    "wb = load_workbook('excel/exercises5.xlsx')\n",
    "#ws = wb['프로그래밍-수정']\n",
    "ws2 = wb.active\n",
    "\n",
    "ws2['H1'] = '총점'\n",
    "\n",
    "for i in range(2,12):\n",
    "    ws2['H{}'.format(i)] = '=SUM(B{}:G{})'.format(i,i)\n",
    "\n",
    "wb.save('excel/exercises5.xlsx')"
   ]
  },
  {
   "cell_type": "code",
   "execution_count": 179,
   "metadata": {},
   "outputs": [],
   "source": [
    "# 교수님 풀이\n",
    "from openpyxl import load_workbook\n",
    "wb = load_workbook('excel/exercises5_연습.xlsx')\n",
    "ws = wb['프로그래밍-수정']\n",
    "\n",
    "ws['H1'] = '총점'\n",
    "\n",
    "for row in range(2, len(tuple(ws.rows))+1):\n",
    "    sum_idx = 'H{}'.format(row)\n",
    "    ws[sum_idx] = '=SUM(B{}:G{})'.format(row,row)\n",
    "\n",
    "wb.save('excel/exercises5_연습.xlsx')"
   ]
  },
  {
   "cell_type": "markdown",
   "metadata": {},
   "source": [
    "**연습문제 7-4)**   \n",
    "- I열에 성적 정보를 추가 (총점 90 이상 A, 80 이상 B, 70 이상 C, 나머지 D)\n",
    "- 출석점수가 5점 미만인 학생은 총점 상관없이 F"
   ]
  },
  {
   "cell_type": "code",
   "execution_count": 142,
   "metadata": {},
   "outputs": [],
   "source": [
    "from openpyxl import load_workbook\n",
    "wb = load_workbook('excel/exercises5.xlsx', data_only=True)\n",
    "ws2 = wb.active\n",
    "\n",
    "ws2['I1'] = '성적'\n",
    "\n",
    "for row in ws2.iter_rows(min_row=2):\n",
    "    if row[1].value < 5 : ws2['I{}'.format(row[1].row)] = 'F'\n",
    "    elif row[7].value >= 90 : ws2['I{}'.format(row[7].row)] = 'A'\n",
    "    elif row[7].value >= 80 : ws2['I{}'.format(row[7].row)] = 'B'\n",
    "    elif row[7].value >= 70 : ws2['I{}'.format(row[7].row)] = 'C'\n",
    "    else : ws2['I{}'.format(row[7].row)] = 'D'\n",
    "\n",
    "wb.save('excel/exercises5.xlsx')"
   ]
  },
  {
   "cell_type": "code",
   "execution_count": 183,
   "metadata": {},
   "outputs": [
    {
     "ename": "IndexError",
     "evalue": "tuple index out of range",
     "output_type": "error",
     "traceback": [
      "\u001b[1;31m---------------------------------------------------------------------------\u001b[0m",
      "\u001b[1;31mIndexError\u001b[0m                                Traceback (most recent call last)",
      "\u001b[1;32m<ipython-input-183-dd9bcca2fdab>\u001b[0m in \u001b[0;36m<module>\u001b[1;34m\u001b[0m\n\u001b[0;32m      8\u001b[0m \u001b[1;32mfor\u001b[0m \u001b[0mrow\u001b[0m \u001b[1;32min\u001b[0m \u001b[0mws\u001b[0m\u001b[1;33m.\u001b[0m\u001b[0miter_rows\u001b[0m\u001b[1;33m(\u001b[0m\u001b[0mmin_row\u001b[0m\u001b[1;33m=\u001b[0m\u001b[1;36m2\u001b[0m\u001b[1;33m)\u001b[0m\u001b[1;33m:\u001b[0m\u001b[1;33m\u001b[0m\u001b[1;33m\u001b[0m\u001b[0m\n\u001b[0;32m      9\u001b[0m     \u001b[1;32mif\u001b[0m \u001b[0mrow\u001b[0m\u001b[1;33m[\u001b[0m\u001b[1;36m7\u001b[0m\u001b[1;33m]\u001b[0m\u001b[1;33m.\u001b[0m\u001b[0mvalue\u001b[0m \u001b[1;33m>=\u001b[0m \u001b[1;36m90\u001b[0m \u001b[1;33m:\u001b[0m \u001b[0mrow\u001b[0m\u001b[1;33m[\u001b[0m\u001b[1;36m8\u001b[0m\u001b[1;33m]\u001b[0m\u001b[1;33m.\u001b[0m\u001b[0mvalue\u001b[0m \u001b[1;33m=\u001b[0m \u001b[1;34m'A'\u001b[0m\u001b[1;33m\u001b[0m\u001b[1;33m\u001b[0m\u001b[0m\n\u001b[1;32m---> 10\u001b[1;33m     \u001b[1;32melif\u001b[0m \u001b[0mrow\u001b[0m\u001b[1;33m[\u001b[0m\u001b[1;36m7\u001b[0m\u001b[1;33m]\u001b[0m\u001b[1;33m.\u001b[0m\u001b[0mvalue\u001b[0m \u001b[1;33m>=\u001b[0m \u001b[1;36m80\u001b[0m \u001b[1;33m:\u001b[0m \u001b[0mrow\u001b[0m\u001b[1;33m[\u001b[0m\u001b[1;36m8\u001b[0m\u001b[1;33m]\u001b[0m\u001b[1;33m.\u001b[0m\u001b[0mvalue\u001b[0m \u001b[1;33m=\u001b[0m \u001b[1;34m'B'\u001b[0m\u001b[1;33m\u001b[0m\u001b[1;33m\u001b[0m\u001b[0m\n\u001b[0m\u001b[0;32m     11\u001b[0m     \u001b[1;32melif\u001b[0m \u001b[0mrow\u001b[0m\u001b[1;33m[\u001b[0m\u001b[1;36m7\u001b[0m\u001b[1;33m]\u001b[0m\u001b[1;33m.\u001b[0m\u001b[0mvalue\u001b[0m \u001b[1;33m>=\u001b[0m \u001b[1;36m70\u001b[0m \u001b[1;33m:\u001b[0m \u001b[0mrow\u001b[0m\u001b[1;33m[\u001b[0m\u001b[1;36m8\u001b[0m\u001b[1;33m]\u001b[0m\u001b[1;33m.\u001b[0m\u001b[0mvalue\u001b[0m \u001b[1;33m=\u001b[0m \u001b[1;34m'C'\u001b[0m\u001b[1;33m\u001b[0m\u001b[1;33m\u001b[0m\u001b[0m\n\u001b[0;32m     12\u001b[0m     \u001b[1;32melse\u001b[0m \u001b[1;33m:\u001b[0m \u001b[0mrow\u001b[0m\u001b[1;33m[\u001b[0m\u001b[1;36m8\u001b[0m\u001b[1;33m]\u001b[0m\u001b[1;33m.\u001b[0m\u001b[0mvalue\u001b[0m \u001b[1;33m=\u001b[0m \u001b[1;34m'D'\u001b[0m\u001b[1;33m\u001b[0m\u001b[1;33m\u001b[0m\u001b[0m\n",
      "\u001b[1;31mIndexError\u001b[0m: tuple index out of range"
     ]
    }
   ],
   "source": [
    "# 교수님 풀이\n",
    "# 다시\n",
    "wb = load_workbook('excel/exercises5_연습.xlsx', data_only=True)\n",
    "wb.move_sheet('프로그래밍-수정',-1)\n",
    "ws = wb.active\n",
    "\n",
    "ws2['I1'] = '성적'\n",
    "\n",
    "for row in ws.iter_rows(min_row=2):\n",
    "    if row[7].value >= 90 : row[8].value = 'A'\n",
    "    elif row[7].value >= 80 : row[8].value = 'B'\n",
    "    elif row[7].value >= 70 : row[8].value = 'C'\n",
    "    else : row[8].value = 'D'\n",
    "    \n",
    "    if row[1].value < 5 : \n",
    "        row[8].value = 'F'\n",
    "\n",
    "wb.save('excel/exercises5_연습.xlsx')"
   ]
  }
 ],
 "metadata": {
  "kernelspec": {
   "display_name": "Python 3",
   "language": "python",
   "name": "python3"
  },
  "language_info": {
   "codemirror_mode": {
    "name": "ipython",
    "version": 3
   },
   "file_extension": ".py",
   "mimetype": "text/x-python",
   "name": "python",
   "nbconvert_exporter": "python",
   "pygments_lexer": "ipython3",
   "version": "3.8.8"
  },
  "toc": {
   "base_numbering": 1,
   "nav_menu": {},
   "number_sections": false,
   "sideBar": true,
   "skip_h1_title": false,
   "title_cell": "Table of Contents",
   "title_sidebar": "Contents",
   "toc_cell": false,
   "toc_position": {
    "height": "calc(100% - 180px)",
    "left": "10px",
    "top": "150px",
    "width": "349.091px"
   },
   "toc_section_display": true,
   "toc_window_display": false
  }
 },
 "nbformat": 4,
 "nbformat_minor": 4
}
