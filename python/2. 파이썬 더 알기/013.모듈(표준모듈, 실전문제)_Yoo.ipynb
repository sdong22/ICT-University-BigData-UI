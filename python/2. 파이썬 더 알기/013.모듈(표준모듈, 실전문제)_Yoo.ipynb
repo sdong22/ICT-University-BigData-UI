{
 "cells": [
  {
   "cell_type": "markdown",
   "metadata": {},
   "source": [
    "## 4. time 모듈\n",
    "- 시간과 관련된 기능을 다룰 때는 time 모듈 사용.\n",
    "- time 모듈로도 날짜와 관련된 처리를 할수 있지만 datetime모듈을 사용하는 경우가 더 많음\n",
    "\n",
    "### 4.1 time.sleep()\n",
    "-특정시간 동안 코드 진행을 정지할 때 많이 사용"
   ]
  },
  {
   "cell_type": "code",
   "execution_count": 3,
   "metadata": {},
   "outputs": [
    {
     "name": "stdout",
     "output_type": "stream",
     "text": [
      "지금부터 5초 정지합니다\n",
      "프로그램을 종료합니다.\n"
     ]
    }
   ],
   "source": [
    "import time\n",
    "print('지금부터 5초 정지합니다')\n",
    "time.sleep(5)\n",
    "print('프로그램을 종료합니다.')"
   ]
  },
  {
   "cell_type": "markdown",
   "metadata": {},
   "source": [
    "### 4.2 time.time()\n",
    "- UTC(Universal Time Coordinated)를 사용하여 현재 시간을 실수 형태로 돌려주는 함수.\n",
    "- 1970년 1월 1일 0시 0분 0초를 기준으로 지난 시간을 초 단위로 돌려준다."
   ]
  },
  {
   "cell_type": "code",
   "execution_count": 1,
   "metadata": {},
   "outputs": [
    {
     "data": {
      "text/plain": [
       "1622423015.9465094"
      ]
     },
     "execution_count": 1,
     "metadata": {},
     "output_type": "execute_result"
    }
   ],
   "source": [
    "import time\n",
    "\n",
    "time.time()"
   ]
  },
  {
   "cell_type": "code",
   "execution_count": 4,
   "metadata": {},
   "outputs": [
    {
     "name": "stdout",
     "output_type": "stream",
     "text": [
      "1622423119.9195068\n",
      "1622423122.9288962\n",
      "3.0093894004821777\n"
     ]
    }
   ],
   "source": [
    "a = time.time()\n",
    "time.sleep(3)\n",
    "b = time.time()\n",
    "print(a)\n",
    "print(b)\n",
    "print(b-a)"
   ]
  },
  {
   "cell_type": "markdown",
   "metadata": {},
   "source": [
    "### 4.3 time.localtime()\n",
    "- time.time()이 돌려준 실수 값을 사용해서 현재 지역의 시간대로 년, 월,일, 시 ,분, 초....의 형태로 바꾸어 주는 함수"
   ]
  },
  {
   "cell_type": "code",
   "execution_count": 10,
   "metadata": {},
   "outputs": [
    {
     "name": "stdout",
     "output_type": "stream",
     "text": [
      "time.struct_time(tm_year=2021, tm_mon=5, tm_mday=31, tm_hour=10, tm_min=8, tm_sec=52, tm_wday=0, tm_yday=151, tm_isdst=0)\n",
      "time.struct_time(tm_year=1972, tm_mon=1, tm_mday=3, tm_hour=8, tm_min=3, tm_sec=44, tm_wday=0, tm_yday=3, tm_isdst=0)\n"
     ]
    }
   ],
   "source": [
    "print(time.localtime(time.time()))\n",
    "print(time.localtime(63241424.24))\n"
   ]
  },
  {
   "cell_type": "markdown",
   "metadata": {},
   "source": [
    "### 4.4 time.asctime()\n",
    "- time.localtime()의 결과값을 알아보기 쉬운 형태로 변환"
   ]
  },
  {
   "cell_type": "code",
   "execution_count": 16,
   "metadata": {},
   "outputs": [
    {
     "data": {
      "text/plain": [
       "'Sat May 29 12:34:19 2021'"
      ]
     },
     "execution_count": 16,
     "metadata": {},
     "output_type": "execute_result"
    }
   ],
   "source": []
  },
  {
   "cell_type": "code",
   "execution_count": 11,
   "metadata": {},
   "outputs": [
    {
     "name": "stdout",
     "output_type": "stream",
     "text": [
      "time.struct_time(tm_year=2021, tm_mon=5, tm_mday=31, tm_hour=10, tm_min=10, tm_sec=24, tm_wday=0, tm_yday=151, tm_isdst=0)\n"
     ]
    },
    {
     "data": {
      "text/plain": [
       "'Mon May 31 10:10:24 2021'"
      ]
     },
     "execution_count": 11,
     "metadata": {},
     "output_type": "execute_result"
    }
   ],
   "source": [
    "print(time.localtime(time.time()))\n",
    "time.asctime(time.localtime(time.time()))"
   ]
  },
  {
   "cell_type": "markdown",
   "metadata": {},
   "source": [
    "### 4.4 time.ctime\n",
    "- time.asctime(time.localtime(time.time()))의 간편한 기능.\n",
    "- 현재시간만 가능"
   ]
  },
  {
   "cell_type": "code",
   "execution_count": 15,
   "metadata": {},
   "outputs": [
    {
     "name": "stdout",
     "output_type": "stream",
     "text": [
      "Sat May 29 12:33:35 2021\n",
      "Sat May 29 12:33:38 2021\n"
     ]
    }
   ],
   "source": []
  },
  {
   "cell_type": "code",
   "execution_count": 12,
   "metadata": {},
   "outputs": [
    {
     "name": "stdout",
     "output_type": "stream",
     "text": [
      "423423.342\n",
      "5432342422.2423\n",
      "Tue Jan  6 06:37:03 1970\n",
      "Thu Feb 22 17:00:22 2142\n"
     ]
    }
   ],
   "source": [
    "a = 423423.342\n",
    "print(a)\n",
    "time.sleep(3)\n",
    "b = 5432342422.2423\n",
    "print(b)\n",
    "\n",
    "print(time.asctime(time.localtime(a)))\n",
    "print(time.asctime(time.localtime(b)))"
   ]
  },
  {
   "cell_type": "code",
   "execution_count": 13,
   "metadata": {},
   "outputs": [
    {
     "name": "stdout",
     "output_type": "stream",
     "text": [
      "Mon May 31 10:14:29 2021\n",
      "Mon May 31 10:14:32 2021\n"
     ]
    }
   ],
   "source": [
    "a = time.ctime()\n",
    "time.sleep(3)\n",
    "b = time.ctime()\n",
    "\n",
    "print(a)\n",
    "print(b)"
   ]
  },
  {
   "cell_type": "markdown",
   "metadata": {},
   "source": [
    "# 실전문제"
   ]
  },
  {
   "cell_type": "markdown",
   "metadata": {},
   "source": [
    "### 1. 문자열을 입력받아 각 문자들로 구성된 리스트로 반환하는 make_list 함수를 정의하라."
   ]
  },
  {
   "cell_type": "code",
   "execution_count": 16,
   "metadata": {},
   "outputs": [
    {
     "name": "stdout",
     "output_type": "stream",
     "text": [
      "['H', 'e', 'l', 'l', 'o']\n"
     ]
    }
   ],
   "source": [
    "# 출력예시\n",
    "\n",
    "print(make_list('Hello'))"
   ]
  },
  {
   "cell_type": "code",
   "execution_count": 33,
   "metadata": {},
   "outputs": [
    {
     "name": "stdout",
     "output_type": "stream",
     "text": [
      "['H', 'e', 'l', 'l', 'o']\n"
     ]
    }
   ],
   "source": [
    "def make_list(a) : \n",
    "    A = []\n",
    "    for b in a :\n",
    "        A.append(b)\n",
    "    return(A)\n",
    "\n",
    "print(make_list('Hello'))\n"
   ]
  },
  {
   "cell_type": "markdown",
   "metadata": {},
   "source": [
    "### 2. 다음 조건을 만족하는 solution 함수를 작성하시오.\n",
    "- 정수를 담은 이차원 리스트, mylist 가 solution 함수의 파라미터로 주어집니다. \n",
    "- mylist에 들은 각 원소의 길이를 담은 리스트를 리턴하도록 solution 함수를 작성해주세요."
   ]
  },
  {
   "cell_type": "code",
   "execution_count": 7,
   "metadata": {},
   "outputs": [],
   "source": [
    "# 기본틀입니다. 여기다 바로 프로그래밍 하지말고 셀 만들어서 복사해서 사용하세요.\n",
    "def solution(mylist):\n",
    "    pass\n",
    "    \n",
    "    \n",
    "testList1 = [[1], [2]]\n",
    "testList2 = [[1, 2], [3, 4], [5]]\n",
    "#print(solution(testList1)) -> 출력결과 : [1, 1]\n",
    "#print(solution(testList2)) -> 출력결과 :[2, 2, 1]"
   ]
  },
  {
   "cell_type": "code",
   "execution_count": 44,
   "metadata": {},
   "outputs": [
    {
     "name": "stdout",
     "output_type": "stream",
     "text": [
      "[1, 1]\n",
      "[2, 2, 1]\n"
     ]
    }
   ],
   "source": [
    "# 기본틀입니다. 여기다 바로 프로그래밍 하지말고 셀 만들어서 복사해서 사용하세요.\n",
    "# testList 안의 list의 원소가 각 몇개인지\n",
    "def solution(mylist):\n",
    "    a = []\n",
    "    for i in mylist :\n",
    "        a.append(len(i))\n",
    "    return a\n",
    "\n",
    "testList1 = [[1], [2]]\n",
    "testList2 = [[1, 2], [3, 4], [5]]\n",
    "\n",
    "print(solution(testList1))\n",
    "print(solution(testList2))\n",
    "\n",
    "    \n",
    "#testList1 = [[1], [2]]\n",
    "#testList2 = [[1, 2], [3, 4], [5]]\n",
    "#print(solution(testList1)) -> 출력결과 : [1, 1]\n",
    "#print(solution(testList2)) -> 출력결과 :[2, 2, 1]"
   ]
  },
  {
   "cell_type": "code",
   "execution_count": 2,
   "metadata": {},
   "outputs": [
    {
     "name": "stdout",
     "output_type": "stream",
     "text": [
      "[1, 1]\n",
      "[2, 2, 1]\n"
     ]
    }
   ],
   "source": [
    "def solution(mylist):\n",
    "    answer = list(map(len, mylist))\n",
    "    return answer\n",
    "    \n",
    "    \n",
    "testList1 = [[1], [2]]\n",
    "testList2 = [[1, 2], [3, 4], [5]]\n",
    "print(solution(testList1))\n",
    "print(solution(testList2))"
   ]
  },
  {
   "cell_type": "markdown",
   "metadata": {},
   "source": [
    "### 3.주사위 여러개 동시에 던지기\n",
    "- 같은 숫자가 나올때 까지 주사위 6개를 동시에 무한반복해서 던진다.\n",
    "- 같은 숫자가 나올 때 까지 몇번 던졌는지 출력"
   ]
  },
  {
   "cell_type": "code",
   "execution_count": 4,
   "metadata": {},
   "outputs": [
    {
     "name": "stdout",
     "output_type": "stream",
     "text": [
      "6개의 주사위가 동일한 숫자가 나옴 :  6 6 6 6 6 6\n",
      "6개 동일한 숫자가 나올때 까지 던진 횟수 :  9137\n"
     ]
    }
   ],
   "source": []
  },
  {
   "cell_type": "code",
   "execution_count": 42,
   "metadata": {},
   "outputs": [
    {
     "name": "stdout",
     "output_type": "stream",
     "text": [
      "6개의 주사위가 동일한 숫자가 나옴 : 5 5 5 5 5 5\n",
      "6개 동일한 숫자가 나올때 까지 던진 횟수 : 348\n"
     ]
    }
   ],
   "source": [
    "# 내 답\n",
    "import random\n",
    "\n",
    "num = 0\n",
    "while True :\n",
    "    a = random.randint(1,6)\n",
    "    b = random.randint(1,6)\n",
    "    c = random.randint(1,6)\n",
    "    d = random.randint(1,6)\n",
    "    e = random.randint(1,6)\n",
    "    f = random.randint(1,6)\n",
    "    num += 1\n",
    "    if a==b==c==d==e==f :\n",
    "        break\n",
    "print('6개의 주사위가 동일한 숫자가 나옴 :',a,b,c,d,e,f)\n",
    "print('6개 동일한 숫자가 나올때 까지 던진 횟수 :',num)\n"
   ]
  },
  {
   "cell_type": "code",
   "execution_count": 49,
   "metadata": {},
   "outputs": [
    {
     "name": "stdout",
     "output_type": "stream",
     "text": [
      "6개의 주사위가 동일한 숫자가 나옴 : 3 3 3 3 3 3\n",
      "6개 동일한 숫자가 나올때 까지 던진 횟수 : 6788\n"
     ]
    }
   ],
   "source": [
    "# 교수님 답\n",
    "import random\n",
    "\n",
    "dice = [0,0,0,0,0,0]\n",
    "count = 1\n",
    "\n",
    "while True :\n",
    "    for i in range(6) :\n",
    "        dice[i] = random.randrange(1,7)\n",
    "    if dice[0]== dice[1]== dice[2]== dice[3]== dice[4]== dice[5] :\n",
    "        print('6개의 주사위가 동일한 숫자가 나옴 :',dice[0],dice[1],dice[2],dice[3],dice[4],dice[5])\n",
    "        print('6개 동일한 숫자가 나올때 까지 던진 횟수 :',count)\n",
    "        break\n",
    "    count += 1"
   ]
  },
  {
   "cell_type": "markdown",
   "metadata": {},
   "source": [
    "### 4. 속으로 20초를 세어 맞히는 프로그램\n",
    "- input('엔터를 누르고 20초를 셉니다'), input('20초 후에 다시 엔터를 누릅니다.') 두 문장을 이용하여 속으로 20초를 세어서 실제 시간과의 차이를 구하는 프로그램을 작성하시오."
   ]
  },
  {
   "cell_type": "code",
   "execution_count": 12,
   "metadata": {},
   "outputs": [
    {
     "name": "stdout",
     "output_type": "stream",
     "text": [
      "엔터를 누르고 20초를 셉니다\n",
      "20초 후에 다시 엔터를 누릅니다.\n",
      "실제시간 :  4.432519197463989 초\n",
      "차이 :  15.56748080253601 초\n"
     ]
    }
   ],
   "source": [
    "\n"
   ]
  },
  {
   "cell_type": "code",
   "execution_count": 51,
   "metadata": {},
   "outputs": [
    {
     "name": "stdout",
     "output_type": "stream",
     "text": [
      "엔터를 누르고 20초를 셉니다\n",
      "20초 후에 다시 엔터를 누릅니다\n",
      "실제시간 : 15.032135248184204 초\n",
      "차이 : 4.967864751815796 초\n"
     ]
    }
   ],
   "source": [
    "import time\n",
    "input('엔터를 누르고 20초를 셉니다')\n",
    "a = time.time()\n",
    "input('20초 후에 다시 엔터를 누릅니다')\n",
    "b = time.time()\n",
    "\n",
    "print('실제시간 :',b-a,'초')\n",
    "print('차이 :',abs(20-(b-a)),'초')\n"
   ]
  },
  {
   "cell_type": "markdown",
   "metadata": {},
   "source": [
    "### 5. 아래 요구사항에 맞게 프로그래밍 하시오.\n",
    "당신은 최근에 코딩 스터디 모임을 새로 만들었습니다.\n",
    "월 4회 스터디를 하는데 3번은 온라인으로 하고 1번은 오프라인으로 하기로 했습니다.\n",
    "아래 조건에 맞는 오프라인 모임 날짜를 정해주는 프로그램을 작성하시오.\n",
    "\n",
    "- 조건1 : 랜덤으로 날짜를 뽑아야 함.\n",
    "- 조건 2 : 월별 날짜는 다름을 감안하여 최소 일수인 28이내로 정함.\n",
    "- 조건 3 : 매월 1~3일은 스터디 준비를 해야하므로 제외\n",
    "\n",
    "<출력결과>\n",
    "\n",
    "**오프라인 스터디 모임 날짜는 매월 x 일로 선정되었습니다.**"
   ]
  },
  {
   "cell_type": "code",
   "execution_count": 25,
   "metadata": {},
   "outputs": [
    {
     "name": "stdout",
     "output_type": "stream",
     "text": [
      "오프라인 스터디 모임 날짜는 매월 21일로 선정되었습니다.\n"
     ]
    }
   ],
   "source": []
  },
  {
   "cell_type": "code",
   "execution_count": 43,
   "metadata": {},
   "outputs": [
    {
     "name": "stdout",
     "output_type": "stream",
     "text": [
      "오프라인 스터디 모임 날짜는 매월 16일로 선정되었습니다.\n"
     ]
    }
   ],
   "source": [
    "import random\n",
    "\n",
    "day = random.randint(4,28)\n",
    "\n",
    "print('오프라인 스터디 모임 날짜는 매월 {}일로 선정되었습니다.'.format(day))"
   ]
  }
 ],
 "metadata": {
  "kernelspec": {
   "display_name": "Python 3",
   "language": "python",
   "name": "python3"
  },
  "language_info": {
   "codemirror_mode": {
    "name": "ipython",
    "version": 3
   },
   "file_extension": ".py",
   "mimetype": "text/x-python",
   "name": "python",
   "nbconvert_exporter": "python",
   "pygments_lexer": "ipython3",
   "version": "3.8.8"
  },
  "toc": {
   "base_numbering": 1,
   "nav_menu": {},
   "number_sections": false,
   "sideBar": true,
   "skip_h1_title": false,
   "title_cell": "Table of Contents",
   "title_sidebar": "Contents",
   "toc_cell": false,
   "toc_position": {},
   "toc_section_display": true,
   "toc_window_display": false
  }
 },
 "nbformat": 4,
 "nbformat_minor": 4
}
