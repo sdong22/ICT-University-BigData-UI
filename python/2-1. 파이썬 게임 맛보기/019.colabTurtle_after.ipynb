{
  "nbformat": 4,
  "nbformat_minor": 0,
  "metadata": {
    "colab": {
      "name": "019. colabTurtle_after",
      "provenance": [],
      "collapsed_sections": []
    },
    "kernelspec": {
      "name": "python3",
      "display_name": "Python 3"
    },
    "language_info": {
      "name": "python"
    }
  },
  "cells": [
    {
      "cell_type": "code",
      "metadata": {
        "id": "lK3v3F-fEcA5",
        "colab": {
          "base_uri": "https://localhost:8080/"
        },
        "outputId": "cfa0bab8-b69b-4c19-a8f8-f106f621dd99"
      },
      "source": [
        "!pip install ColabTurtle"
      ],
      "execution_count": null,
      "outputs": [
        {
          "output_type": "stream",
          "text": [
            "Collecting ColabTurtle\n",
            "  Downloading https://files.pythonhosted.org/packages/08/6f/619066317c24cd988979ad1b8c7b324c09ee1c408bfd88926889d6a62d99/ColabTurtle-2.1.0.tar.gz\n",
            "Building wheels for collected packages: ColabTurtle\n",
            "  Building wheel for ColabTurtle (setup.py) ... \u001b[?25l\u001b[?25hdone\n",
            "  Created wheel for ColabTurtle: filename=ColabTurtle-2.1.0-cp37-none-any.whl size=7659 sha256=ce01384405f42b9d44c3b162781627fdd0ef5b15354fba135b422b0cf93b8ec3\n",
            "  Stored in directory: /root/.cache/pip/wheels/df/e9/3f/df3fccd8971c5473dc0c6450984cd057de8c9a1271069ebf18\n",
            "Successfully built ColabTurtle\n",
            "Installing collected packages: ColabTurtle\n",
            "Successfully installed ColabTurtle-2.1.0\n"
          ],
          "name": "stdout"
        }
      ]
    },
    {
      "cell_type": "code",
      "metadata": {
        "id": "Gs0TMs_yNOf-",
        "colab": {
          "base_uri": "https://localhost:8080/"
        },
        "outputId": "cb20df64-1118-4ae7-b695-73da57bd58db"
      },
      "source": [
        "import ColabTurtle.Turtle as t\n",
        "\n",
        "dir(t)"
      ],
      "execution_count": null,
      "outputs": [
        {
          "output_type": "execute_result",
          "data": {
            "text/plain": [
              "['DEFAULT_BACKGROUND_COLOR',\n",
              " 'DEFAULT_IS_PEN_DOWN',\n",
              " 'DEFAULT_PEN_COLOR',\n",
              " 'DEFAULT_PEN_WIDTH',\n",
              " 'DEFAULT_SPEED',\n",
              " 'DEFAULT_SVG_LINES_STRING',\n",
              " 'DEFAULT_TURTLE_DEGREE',\n",
              " 'DEFAULT_TURTLE_SHAPE',\n",
              " 'DEFAULT_TURTLE_VISIBILITY',\n",
              " 'DEFAULT_WINDOW_SIZE',\n",
              " 'HTML',\n",
              " 'SPEED_TO_SEC_MAP',\n",
              " 'SVG_TEMPLATE',\n",
              " 'TURTLE_CIRCLE_SVG_TEMPLATE',\n",
              " 'TURTLE_TURTLE_SVG_TEMPLATE',\n",
              " 'VALID_COLORS',\n",
              " 'VALID_COLORS_SET',\n",
              " 'VALID_TURTLE_SHAPES',\n",
              " '__builtins__',\n",
              " '__cached__',\n",
              " '__doc__',\n",
              " '__file__',\n",
              " '__loader__',\n",
              " '__name__',\n",
              " '__package__',\n",
              " '__spec__',\n",
              " '_generateSvgDrawing',\n",
              " '_generateTurtleSvgDrawing',\n",
              " '_moveToNewPosition',\n",
              " '_processColor',\n",
              " '_speedToSec',\n",
              " '_updateDrawing',\n",
              " '_validateColorString',\n",
              " '_validateColorTuple',\n",
              " 'back',\n",
              " 'background_color',\n",
              " 'backward',\n",
              " 'bgcolor',\n",
              " 'bk',\n",
              " 'clear',\n",
              " 'color',\n",
              " 'display',\n",
              " 'distance',\n",
              " 'down',\n",
              " 'drawing_window',\n",
              " 'face',\n",
              " 'fd',\n",
              " 'forward',\n",
              " 'getheading',\n",
              " 'getx',\n",
              " 'gety',\n",
              " 'goto',\n",
              " 'heading',\n",
              " 'hideturtle',\n",
              " 'home',\n",
              " 'ht',\n",
              " 'initializeTurtle',\n",
              " 'is_pen_down',\n",
              " 'is_turtle_visible',\n",
              " 'isdown',\n",
              " 'isvisible',\n",
              " 'left',\n",
              " 'lt',\n",
              " 'math',\n",
              " 'pd',\n",
              " 'pen_color',\n",
              " 'pen_width',\n",
              " 'pencolor',\n",
              " 'pendown',\n",
              " 'pensize',\n",
              " 'penup',\n",
              " 'pos',\n",
              " 'position',\n",
              " 'pu',\n",
              " 're',\n",
              " 'right',\n",
              " 'rt',\n",
              " 'seth',\n",
              " 'setheading',\n",
              " 'setpos',\n",
              " 'setposition',\n",
              " 'setx',\n",
              " 'sety',\n",
              " 'shape',\n",
              " 'showturtle',\n",
              " 'speed',\n",
              " 'st',\n",
              " 'svg_lines_string',\n",
              " 'time',\n",
              " 'turtle_degree',\n",
              " 'turtle_pos',\n",
              " 'turtle_shape',\n",
              " 'turtle_speed',\n",
              " 'up',\n",
              " 'width',\n",
              " 'window_height',\n",
              " 'window_size',\n",
              " 'window_width',\n",
              " 'write',\n",
              " 'xcor',\n",
              " 'ycor']"
            ]
          },
          "metadata": {
            "tags": []
          },
          "execution_count": 2
        }
      ]
    },
    {
      "cell_type": "markdown",
      "metadata": {
        "id": "XicICwBZvNMk"
      },
      "source": [
        "# 새 섹션"
      ]
    },
    {
      "cell_type": "code",
      "metadata": {
        "id": "0eAcdz4XvO4B"
      },
      "source": [
        ""
      ],
      "execution_count": null,
      "outputs": []
    },
    {
      "cell_type": "markdown",
      "metadata": {
        "id": "ctpn0sn04eHl"
      },
      "source": [
        "t.initializeTurtle()로 설정되는 초기값\n",
        "- 화면 크기 : 800 x 500\n",
        "- 좌표가 (0, 0)에서 오른쪽 아래가 (800, 500)\n",
        "- 펜 위치 : 화면의 중앙\n",
        "- 펜의 방향 : 위\n",
        "- 펜을 내린다 : pendown ()\n",
        "- 펜이 움직이는 속도 : speed = 4\n",
        "- 펜의 크기 : width (4)\n",
        "- 펜 색상 : color ( \"white\")\n",
        "- 배경색 : bgcolor ( \"black\")\n",
        "- 터틀보기 : showturtle ()"
      ]
    },
    {
      "cell_type": "code",
      "metadata": {
        "id": "5UR6Jl8INTEv",
        "colab": {
          "base_uri": "https://localhost:8080/",
          "height": 519
        },
        "outputId": "05282dd1-00ff-459c-ea83-7b201a886e7d"
      },
      "source": [
        "# 사각형 그리기\n",
        "t.initializeTurtle() # 초기화\n",
        "\n",
        "for i in range(4):\n",
        "    t.forward(200)\n",
        "    t.right(90)"
      ],
      "execution_count": null,
      "outputs": [
        {
          "output_type": "display_data",
          "data": {
            "text/html": [
              "\n",
              "      <svg width=\"800\" height=\"500\">\n",
              "        <rect width=\"100%\" height=\"100%\" fill=\"black\"/>\n",
              "        <line x1=\"400\" y1=\"250\" x2=\"400.0\" y2=\"50.0\" stroke-linecap=\"round\" style=\"stroke:white;stroke-width:4\"/><line x1=\"400.0\" y1=\"50.0\" x2=\"600.0\" y2=\"50.0\" stroke-linecap=\"round\" style=\"stroke:white;stroke-width:4\"/><line x1=\"600.0\" y1=\"50.0\" x2=\"600.0\" y2=\"250.0\" stroke-linecap=\"round\" style=\"stroke:white;stroke-width:4\"/><line x1=\"600.0\" y1=\"250.0\" x2=\"400.0\" y2=\"250.0\" stroke-linecap=\"round\" style=\"stroke:white;stroke-width:4\"/>\n",
              "        <g visibility=visible transform=\"rotate(360,400.0,250.0) translate(382.0, 232.0)\">\n",
              "<path style=\" stroke:none;fill-rule:evenodd;fill:white;fill-opacity:1;\" d=\"M 18.214844 0.632812 C 16.109375 1.800781 15.011719 4.074219 15.074219 7.132812 L 15.085938 7.652344 L 14.785156 7.496094 C 13.476562 6.824219 11.957031 6.671875 10.40625 7.066406 C 8.46875 7.550781 6.515625 9.15625 4.394531 11.992188 C 3.0625 13.777344 2.679688 14.636719 3.042969 15.027344 L 3.15625 15.152344 L 3.519531 15.152344 C 4.238281 15.152344 4.828125 14.886719 8.1875 13.039062 C 9.386719 12.378906 10.371094 11.839844 10.378906 11.839844 C 10.386719 11.839844 10.355469 11.929688 10.304688 12.035156 C 9.832031 13.09375 9.257812 14.820312 8.96875 16.078125 C 7.914062 20.652344 8.617188 24.53125 11.070312 27.660156 C 11.351562 28.015625 11.363281 27.914062 10.972656 28.382812 C 8.925781 30.84375 7.945312 33.28125 8.238281 35.1875 C 8.289062 35.527344 8.28125 35.523438 8.917969 35.523438 C 10.941406 35.523438 13.074219 34.207031 15.136719 31.6875 C 15.359375 31.417969 15.328125 31.425781 15.5625 31.574219 C 16.292969 32.042969 18.023438 32.964844 18.175781 32.964844 C 18.335938 32.964844 19.941406 32.210938 20.828125 31.71875 C 20.996094 31.625 21.136719 31.554688 21.136719 31.558594 C 21.203125 31.664062 21.898438 32.414062 22.222656 32.730469 C 23.835938 34.300781 25.5625 35.132812 27.582031 35.300781 C 27.90625 35.328125 27.9375 35.308594 28.007812 34.984375 C 28.382812 33.242188 27.625 30.925781 25.863281 28.425781 L 25.542969 27.96875 L 25.699219 27.785156 C 28.945312 23.960938 29.132812 18.699219 26.257812 11.96875 L 26.207031 11.84375 L 27.945312 12.703125 C 31.53125 14.476562 32.316406 14.800781 33.03125 14.800781 C 33.976562 14.800781 33.78125 13.9375 32.472656 12.292969 C 28.519531 7.355469 25.394531 5.925781 21.921875 7.472656 L 21.558594 7.636719 L 21.578125 7.542969 C 21.699219 6.992188 21.761719 5.742188 21.699219 5.164062 C 21.496094 3.296875 20.664062 1.964844 19.003906 0.855469 C 18.480469 0.503906 18.457031 0.5 18.214844 0.632812\"/>\n",
              "</g>\n",
              "      </svg>\n",
              "    "
            ],
            "text/plain": [
              "<IPython.core.display.HTML object>"
            ]
          },
          "metadata": {
            "tags": []
          }
        }
      ]
    },
    {
      "cell_type": "code",
      "metadata": {
        "id": "weSFSr_AN27k",
        "colab": {
          "base_uri": "https://localhost:8080/",
          "height": 519
        },
        "outputId": "d8f7f535-0045-4e1b-b219-e8f831b7505e"
      },
      "source": [
        "# 별그리기\n",
        "\n",
        "import ColabTurtle.Turtle as t\n",
        "\n",
        "t.initializeTurtle()\n",
        "t.hideturtle()\n",
        "#t.bgcolor?\n",
        "t.bgcolor('orange')\n",
        "t.shape('circle')\n",
        "t.speed = 10\n",
        "\n",
        "for i in range(5):\n",
        "    t.forward(200)\n",
        "    t.left((360/5)*2)\n"
      ],
      "execution_count": null,
      "outputs": [
        {
          "output_type": "display_data",
          "data": {
            "text/html": [
              "\n",
              "      <svg width=\"800\" height=\"500\">\n",
              "        <rect width=\"100%\" height=\"100%\" fill=\"orange\"/>\n",
              "        <line x1=\"400\" y1=\"250\" x2=\"400.0\" y2=\"50.0\" stroke-linecap=\"round\" style=\"stroke:white;stroke-width:4\"/><line x1=\"400.0\" y1=\"50.0\" x2=\"282.443\" y2=\"211.803\" stroke-linecap=\"round\" style=\"stroke:white;stroke-width:4\"/><line x1=\"282.443\" y1=\"211.803\" x2=\"472.654\" y2=\"150.0\" stroke-linecap=\"round\" style=\"stroke:white;stroke-width:4\"/><line x1=\"472.654\" y1=\"150.0\" x2=\"282.443\" y2=\"88.197\" stroke-linecap=\"round\" style=\"stroke:white;stroke-width:4\"/><line x1=\"282.443\" y1=\"88.197\" x2=\"400.0\" y2=\"250.0\" stroke-linecap=\"round\" style=\"stroke:white;stroke-width:4\"/>\n",
              "        \n",
              "      <g visibility=hidden transform=\"rotate(180.0,400.0,250.0) translate(400.0, 250.0)\">\n",
              "        <circle stroke=\"white\" stroke-width=\"3\" fill=\"transparent\" r=\"12\" cx=\"0\" cy=\"0\"/>\n",
              "        <polygon points=\"0,19 3,16 -3,16\" style=\"fill:white;stroke:white;stroke-width:2\"/>\n",
              "      </g>\n",
              "    \n",
              "      </svg>\n",
              "    "
            ],
            "text/plain": [
              "<IPython.core.display.HTML object>"
            ]
          },
          "metadata": {
            "tags": []
          }
        }
      ]
    },
    {
      "cell_type": "code",
      "metadata": {
        "id": "MzOMJkOW-iia",
        "colab": {
          "base_uri": "https://localhost:8080/",
          "height": 519
        },
        "outputId": "f3907ce2-0d46-43c8-cea6-a8f90e6a813c"
      },
      "source": [
        "# 원\n",
        "t.initializeTurtle(initial_speed=10)\n",
        "t.hideturtle()\n",
        "t.color('orange')\n",
        "t.bgcolor('white')\n",
        "t.width(2)\n",
        "\n",
        "for i in range(200):\n",
        "    t.forward(5)\n",
        "    t.right(1.8)"
      ],
      "execution_count": null,
      "outputs": [
        {
          "output_type": "display_data",
          "data": {
            "text/html": [
              "\n",
              "      <svg width=\"800\" height=\"500\">\n",
              "        <rect width=\"100%\" height=\"100%\" fill=\"white\"/>\n",
              "        <line x1=\"400\" y1=\"250\" x2=\"400.0\" y2=\"245.0\" stroke-linecap=\"round\" style=\"stroke:orange;stroke-width:2\"/><line x1=\"400.0\" y1=\"245.0\" x2=\"400.157\" y2=\"240.002\" stroke-linecap=\"round\" style=\"stroke:orange;stroke-width:2\"/><line x1=\"400.157\" y1=\"240.002\" x2=\"400.471\" y2=\"235.012\" stroke-linecap=\"round\" style=\"stroke:orange;stroke-width:2\"/><line x1=\"400.471\" y1=\"235.012\" x2=\"400.942\" y2=\"230.034\" stroke-linecap=\"round\" style=\"stroke:orange;stroke-width:2\"/><line x1=\"400.942\" y1=\"230.034\" x2=\"401.569\" y2=\"225.073\" stroke-linecap=\"round\" style=\"stroke:orange;stroke-width:2\"/><line x1=\"401.569\" y1=\"225.073\" x2=\"402.351\" y2=\"220.135\" stroke-linecap=\"round\" style=\"stroke:orange;stroke-width:2\"/><line x1=\"402.351\" y1=\"220.135\" x2=\"403.288\" y2=\"215.224\" stroke-linecap=\"round\" style=\"stroke:orange;stroke-width:2\"/><line x1=\"403.288\" y1=\"215.224\" x2=\"404.379\" y2=\"210.344\" stroke-linecap=\"round\" style=\"stroke:orange;stroke-width:2\"/><line x1=\"404.379\" y1=\"210.344\" x2=\"405.622\" y2=\"205.501\" stroke-linecap=\"round\" style=\"stroke:orange;stroke-width:2\"/><line x1=\"405.622\" y1=\"205.501\" x2=\"407.017\" y2=\"200.7\" stroke-linecap=\"round\" style=\"stroke:orange;stroke-width:2\"/><line x1=\"407.017\" y1=\"200.7\" x2=\"408.562\" y2=\"195.945\" stroke-linecap=\"round\" style=\"stroke:orange;stroke-width:2\"/><line x1=\"408.562\" y1=\"195.945\" x2=\"410.256\" y2=\"191.241\" stroke-linecap=\"round\" style=\"stroke:orange;stroke-width:2\"/><line x1=\"410.256\" y1=\"191.241\" x2=\"412.097\" y2=\"186.592\" stroke-linecap=\"round\" style=\"stroke:orange;stroke-width:2\"/><line x1=\"412.097\" y1=\"186.592\" x2=\"414.083\" y2=\"182.003\" stroke-linecap=\"round\" style=\"stroke:orange;stroke-width:2\"/><line x1=\"414.083\" y1=\"182.003\" x2=\"416.212\" y2=\"177.479\" stroke-linecap=\"round\" style=\"stroke:orange;stroke-width:2\"/><line x1=\"416.212\" y1=\"177.479\" x2=\"418.482\" y2=\"173.024\" stroke-linecap=\"round\" style=\"stroke:orange;stroke-width:2\"/><line x1=\"418.482\" y1=\"173.024\" x2=\"420.891\" y2=\"168.642\" stroke-linecap=\"round\" style=\"stroke:orange;stroke-width:2\"/><line x1=\"420.891\" y1=\"168.642\" x2=\"423.436\" y2=\"164.338\" stroke-linecap=\"round\" style=\"stroke:orange;stroke-width:2\"/><line x1=\"423.436\" y1=\"164.338\" x2=\"426.115\" y2=\"160.116\" stroke-linecap=\"round\" style=\"stroke:orange;stroke-width:2\"/><line x1=\"426.115\" y1=\"160.116\" x2=\"428.925\" y2=\"155.981\" stroke-linecap=\"round\" style=\"stroke:orange;stroke-width:2\"/><line x1=\"428.925\" y1=\"155.981\" x2=\"431.864\" y2=\"151.936\" stroke-linecap=\"round\" style=\"stroke:orange;stroke-width:2\"/><line x1=\"431.864\" y1=\"151.936\" x2=\"434.929\" y2=\"147.985\" stroke-linecap=\"round\" style=\"stroke:orange;stroke-width:2\"/><line x1=\"434.929\" y1=\"147.985\" x2=\"438.116\" y2=\"144.132\" stroke-linecap=\"round\" style=\"stroke:orange;stroke-width:2\"/><line x1=\"438.116\" y1=\"144.132\" x2=\"441.423\" y2=\"140.381\" stroke-linecap=\"round\" style=\"stroke:orange;stroke-width:2\"/><line x1=\"441.423\" y1=\"140.381\" x2=\"444.846\" y2=\"136.736\" stroke-linecap=\"round\" style=\"stroke:orange;stroke-width:2\"/><line x1=\"444.846\" y1=\"136.736\" x2=\"448.382\" y2=\"133.2\" stroke-linecap=\"round\" style=\"stroke:orange;stroke-width:2\"/><line x1=\"448.382\" y1=\"133.2\" x2=\"452.027\" y2=\"129.777\" stroke-linecap=\"round\" style=\"stroke:orange;stroke-width:2\"/><line x1=\"452.027\" y1=\"129.777\" x2=\"455.778\" y2=\"126.47\" stroke-linecap=\"round\" style=\"stroke:orange;stroke-width:2\"/><line x1=\"455.778\" y1=\"126.47\" x2=\"459.631\" y2=\"123.283\" stroke-linecap=\"round\" style=\"stroke:orange;stroke-width:2\"/><line x1=\"459.631\" y1=\"123.283\" x2=\"463.582\" y2=\"120.218\" stroke-linecap=\"round\" style=\"stroke:orange;stroke-width:2\"/><line x1=\"463.582\" y1=\"120.218\" x2=\"467.627\" y2=\"117.279\" stroke-linecap=\"round\" style=\"stroke:orange;stroke-width:2\"/><line x1=\"467.627\" y1=\"117.279\" x2=\"471.762\" y2=\"114.469\" stroke-linecap=\"round\" style=\"stroke:orange;stroke-width:2\"/><line x1=\"471.762\" y1=\"114.469\" x2=\"475.984\" y2=\"111.79\" stroke-linecap=\"round\" style=\"stroke:orange;stroke-width:2\"/><line x1=\"475.984\" y1=\"111.79\" x2=\"480.288\" y2=\"109.245\" stroke-linecap=\"round\" style=\"stroke:orange;stroke-width:2\"/><line x1=\"480.288\" y1=\"109.245\" x2=\"484.67\" y2=\"106.836\" stroke-linecap=\"round\" style=\"stroke:orange;stroke-width:2\"/><line x1=\"484.67\" y1=\"106.836\" x2=\"489.125\" y2=\"104.566\" stroke-linecap=\"round\" style=\"stroke:orange;stroke-width:2\"/><line x1=\"489.125\" y1=\"104.566\" x2=\"493.649\" y2=\"102.437\" stroke-linecap=\"round\" style=\"stroke:orange;stroke-width:2\"/><line x1=\"493.649\" y1=\"102.437\" x2=\"498.238\" y2=\"100.451\" stroke-linecap=\"round\" style=\"stroke:orange;stroke-width:2\"/><line x1=\"498.238\" y1=\"100.451\" x2=\"502.887\" y2=\"98.61\" stroke-linecap=\"round\" style=\"stroke:orange;stroke-width:2\"/><line x1=\"502.887\" y1=\"98.61\" x2=\"507.591\" y2=\"96.916\" stroke-linecap=\"round\" style=\"stroke:orange;stroke-width:2\"/><line x1=\"507.591\" y1=\"96.916\" x2=\"512.346\" y2=\"95.371\" stroke-linecap=\"round\" style=\"stroke:orange;stroke-width:2\"/><line x1=\"512.346\" y1=\"95.371\" x2=\"517.147\" y2=\"93.976\" stroke-linecap=\"round\" style=\"stroke:orange;stroke-width:2\"/><line x1=\"517.147\" y1=\"93.976\" x2=\"521.99\" y2=\"92.733\" stroke-linecap=\"round\" style=\"stroke:orange;stroke-width:2\"/><line x1=\"521.99\" y1=\"92.733\" x2=\"526.87\" y2=\"91.642\" stroke-linecap=\"round\" style=\"stroke:orange;stroke-width:2\"/><line x1=\"526.87\" y1=\"91.642\" x2=\"531.781\" y2=\"90.705\" stroke-linecap=\"round\" style=\"stroke:orange;stroke-width:2\"/><line x1=\"531.781\" y1=\"90.705\" x2=\"536.719\" y2=\"89.923\" stroke-linecap=\"round\" style=\"stroke:orange;stroke-width:2\"/><line x1=\"536.719\" y1=\"89.923\" x2=\"541.68\" y2=\"89.296\" stroke-linecap=\"round\" style=\"stroke:orange;stroke-width:2\"/><line x1=\"541.68\" y1=\"89.296\" x2=\"546.658\" y2=\"88.825\" stroke-linecap=\"round\" style=\"stroke:orange;stroke-width:2\"/><line x1=\"546.658\" y1=\"88.825\" x2=\"551.648\" y2=\"88.511\" stroke-linecap=\"round\" style=\"stroke:orange;stroke-width:2\"/><line x1=\"551.648\" y1=\"88.511\" x2=\"556.646\" y2=\"88.354\" stroke-linecap=\"round\" style=\"stroke:orange;stroke-width:2\"/><line x1=\"556.646\" y1=\"88.354\" x2=\"561.646\" y2=\"88.354\" stroke-linecap=\"round\" style=\"stroke:orange;stroke-width:2\"/><line x1=\"561.646\" y1=\"88.354\" x2=\"566.644\" y2=\"88.511\" stroke-linecap=\"round\" style=\"stroke:orange;stroke-width:2\"/><line x1=\"566.644\" y1=\"88.511\" x2=\"571.634\" y2=\"88.825\" stroke-linecap=\"round\" style=\"stroke:orange;stroke-width:2\"/><line x1=\"571.634\" y1=\"88.825\" x2=\"576.612\" y2=\"89.296\" stroke-linecap=\"round\" style=\"stroke:orange;stroke-width:2\"/><line x1=\"576.612\" y1=\"89.296\" x2=\"581.573\" y2=\"89.923\" stroke-linecap=\"round\" style=\"stroke:orange;stroke-width:2\"/><line x1=\"581.573\" y1=\"89.923\" x2=\"586.511\" y2=\"90.705\" stroke-linecap=\"round\" style=\"stroke:orange;stroke-width:2\"/><line x1=\"586.511\" y1=\"90.705\" x2=\"591.422\" y2=\"91.642\" stroke-linecap=\"round\" style=\"stroke:orange;stroke-width:2\"/><line x1=\"591.422\" y1=\"91.642\" x2=\"596.302\" y2=\"92.733\" stroke-linecap=\"round\" style=\"stroke:orange;stroke-width:2\"/><line x1=\"596.302\" y1=\"92.733\" x2=\"601.145\" y2=\"93.976\" stroke-linecap=\"round\" style=\"stroke:orange;stroke-width:2\"/><line x1=\"601.145\" y1=\"93.976\" x2=\"605.946\" y2=\"95.371\" stroke-linecap=\"round\" style=\"stroke:orange;stroke-width:2\"/><line x1=\"605.946\" y1=\"95.371\" x2=\"610.701\" y2=\"96.916\" stroke-linecap=\"round\" style=\"stroke:orange;stroke-width:2\"/><line x1=\"610.701\" y1=\"96.916\" x2=\"615.405\" y2=\"98.61\" stroke-linecap=\"round\" style=\"stroke:orange;stroke-width:2\"/><line x1=\"615.405\" y1=\"98.61\" x2=\"620.054\" y2=\"100.451\" stroke-linecap=\"round\" style=\"stroke:orange;stroke-width:2\"/><line x1=\"620.054\" y1=\"100.451\" x2=\"624.643\" y2=\"102.437\" stroke-linecap=\"round\" style=\"stroke:orange;stroke-width:2\"/><line x1=\"624.643\" y1=\"102.437\" x2=\"629.167\" y2=\"104.566\" stroke-linecap=\"round\" style=\"stroke:orange;stroke-width:2\"/><line x1=\"629.167\" y1=\"104.566\" x2=\"633.622\" y2=\"106.836\" stroke-linecap=\"round\" style=\"stroke:orange;stroke-width:2\"/><line x1=\"633.622\" y1=\"106.836\" x2=\"638.004\" y2=\"109.245\" stroke-linecap=\"round\" style=\"stroke:orange;stroke-width:2\"/><line x1=\"638.004\" y1=\"109.245\" x2=\"642.308\" y2=\"111.79\" stroke-linecap=\"round\" style=\"stroke:orange;stroke-width:2\"/><line x1=\"642.308\" y1=\"111.79\" x2=\"646.53\" y2=\"114.469\" stroke-linecap=\"round\" style=\"stroke:orange;stroke-width:2\"/><line x1=\"646.53\" y1=\"114.469\" x2=\"650.665\" y2=\"117.279\" stroke-linecap=\"round\" style=\"stroke:orange;stroke-width:2\"/><line x1=\"650.665\" y1=\"117.279\" x2=\"654.71\" y2=\"120.218\" stroke-linecap=\"round\" style=\"stroke:orange;stroke-width:2\"/><line x1=\"654.71\" y1=\"120.218\" x2=\"658.661\" y2=\"123.283\" stroke-linecap=\"round\" style=\"stroke:orange;stroke-width:2\"/><line x1=\"658.661\" y1=\"123.283\" x2=\"662.514\" y2=\"126.47\" stroke-linecap=\"round\" style=\"stroke:orange;stroke-width:2\"/><line x1=\"662.514\" y1=\"126.47\" x2=\"666.265\" y2=\"129.777\" stroke-linecap=\"round\" style=\"stroke:orange;stroke-width:2\"/><line x1=\"666.265\" y1=\"129.777\" x2=\"669.91\" y2=\"133.2\" stroke-linecap=\"round\" style=\"stroke:orange;stroke-width:2\"/><line x1=\"669.91\" y1=\"133.2\" x2=\"673.446\" y2=\"136.736\" stroke-linecap=\"round\" style=\"stroke:orange;stroke-width:2\"/><line x1=\"673.446\" y1=\"136.736\" x2=\"676.869\" y2=\"140.381\" stroke-linecap=\"round\" style=\"stroke:orange;stroke-width:2\"/><line x1=\"676.869\" y1=\"140.381\" x2=\"680.176\" y2=\"144.132\" stroke-linecap=\"round\" style=\"stroke:orange;stroke-width:2\"/><line x1=\"680.176\" y1=\"144.132\" x2=\"683.363\" y2=\"147.985\" stroke-linecap=\"round\" style=\"stroke:orange;stroke-width:2\"/><line x1=\"683.363\" y1=\"147.985\" x2=\"686.428\" y2=\"151.936\" stroke-linecap=\"round\" style=\"stroke:orange;stroke-width:2\"/><line x1=\"686.428\" y1=\"151.936\" x2=\"689.367\" y2=\"155.981\" stroke-linecap=\"round\" style=\"stroke:orange;stroke-width:2\"/><line x1=\"689.367\" y1=\"155.981\" x2=\"692.177\" y2=\"160.116\" stroke-linecap=\"round\" style=\"stroke:orange;stroke-width:2\"/><line x1=\"692.177\" y1=\"160.116\" x2=\"694.856\" y2=\"164.338\" stroke-linecap=\"round\" style=\"stroke:orange;stroke-width:2\"/><line x1=\"694.856\" y1=\"164.338\" x2=\"697.401\" y2=\"168.642\" stroke-linecap=\"round\" style=\"stroke:orange;stroke-width:2\"/><line x1=\"697.401\" y1=\"168.642\" x2=\"699.81\" y2=\"173.024\" stroke-linecap=\"round\" style=\"stroke:orange;stroke-width:2\"/><line x1=\"699.81\" y1=\"173.024\" x2=\"702.08\" y2=\"177.479\" stroke-linecap=\"round\" style=\"stroke:orange;stroke-width:2\"/><line x1=\"702.08\" y1=\"177.479\" x2=\"704.209\" y2=\"182.003\" stroke-linecap=\"round\" style=\"stroke:orange;stroke-width:2\"/><line x1=\"704.209\" y1=\"182.003\" x2=\"706.195\" y2=\"186.592\" stroke-linecap=\"round\" style=\"stroke:orange;stroke-width:2\"/><line x1=\"706.195\" y1=\"186.592\" x2=\"708.036\" y2=\"191.241\" stroke-linecap=\"round\" style=\"stroke:orange;stroke-width:2\"/><line x1=\"708.036\" y1=\"191.241\" x2=\"709.73\" y2=\"195.945\" stroke-linecap=\"round\" style=\"stroke:orange;stroke-width:2\"/><line x1=\"709.73\" y1=\"195.945\" x2=\"711.275\" y2=\"200.7\" stroke-linecap=\"round\" style=\"stroke:orange;stroke-width:2\"/><line x1=\"711.275\" y1=\"200.7\" x2=\"712.67\" y2=\"205.501\" stroke-linecap=\"round\" style=\"stroke:orange;stroke-width:2\"/><line x1=\"712.67\" y1=\"205.501\" x2=\"713.913\" y2=\"210.344\" stroke-linecap=\"round\" style=\"stroke:orange;stroke-width:2\"/><line x1=\"713.913\" y1=\"210.344\" x2=\"715.004\" y2=\"215.224\" stroke-linecap=\"round\" style=\"stroke:orange;stroke-width:2\"/><line x1=\"715.004\" y1=\"215.224\" x2=\"715.941\" y2=\"220.135\" stroke-linecap=\"round\" style=\"stroke:orange;stroke-width:2\"/><line x1=\"715.941\" y1=\"220.135\" x2=\"716.723\" y2=\"225.073\" stroke-linecap=\"round\" style=\"stroke:orange;stroke-width:2\"/><line x1=\"716.723\" y1=\"225.073\" x2=\"717.35\" y2=\"230.034\" stroke-linecap=\"round\" style=\"stroke:orange;stroke-width:2\"/><line x1=\"717.35\" y1=\"230.034\" x2=\"717.821\" y2=\"235.012\" stroke-linecap=\"round\" style=\"stroke:orange;stroke-width:2\"/><line x1=\"717.821\" y1=\"235.012\" x2=\"718.135\" y2=\"240.002\" stroke-linecap=\"round\" style=\"stroke:orange;stroke-width:2\"/><line x1=\"718.135\" y1=\"240.002\" x2=\"718.292\" y2=\"245.0\" stroke-linecap=\"round\" style=\"stroke:orange;stroke-width:2\"/><line x1=\"718.292\" y1=\"245.0\" x2=\"718.292\" y2=\"250.0\" stroke-linecap=\"round\" style=\"stroke:orange;stroke-width:2\"/><line x1=\"718.292\" y1=\"250.0\" x2=\"718.135\" y2=\"254.998\" stroke-linecap=\"round\" style=\"stroke:orange;stroke-width:2\"/><line x1=\"718.135\" y1=\"254.998\" x2=\"717.821\" y2=\"259.988\" stroke-linecap=\"round\" style=\"stroke:orange;stroke-width:2\"/><line x1=\"717.821\" y1=\"259.988\" x2=\"717.35\" y2=\"264.966\" stroke-linecap=\"round\" style=\"stroke:orange;stroke-width:2\"/><line x1=\"717.35\" y1=\"264.966\" x2=\"716.723\" y2=\"269.927\" stroke-linecap=\"round\" style=\"stroke:orange;stroke-width:2\"/><line x1=\"716.723\" y1=\"269.927\" x2=\"715.941\" y2=\"274.865\" stroke-linecap=\"round\" style=\"stroke:orange;stroke-width:2\"/><line x1=\"715.941\" y1=\"274.865\" x2=\"715.004\" y2=\"279.776\" stroke-linecap=\"round\" style=\"stroke:orange;stroke-width:2\"/><line x1=\"715.004\" y1=\"279.776\" x2=\"713.913\" y2=\"284.656\" stroke-linecap=\"round\" style=\"stroke:orange;stroke-width:2\"/><line x1=\"713.913\" y1=\"284.656\" x2=\"712.67\" y2=\"289.499\" stroke-linecap=\"round\" style=\"stroke:orange;stroke-width:2\"/><line x1=\"712.67\" y1=\"289.499\" x2=\"711.275\" y2=\"294.3\" stroke-linecap=\"round\" style=\"stroke:orange;stroke-width:2\"/><line x1=\"711.275\" y1=\"294.3\" x2=\"709.73\" y2=\"299.055\" stroke-linecap=\"round\" style=\"stroke:orange;stroke-width:2\"/><line x1=\"709.73\" y1=\"299.055\" x2=\"708.036\" y2=\"303.759\" stroke-linecap=\"round\" style=\"stroke:orange;stroke-width:2\"/><line x1=\"708.036\" y1=\"303.759\" x2=\"706.195\" y2=\"308.408\" stroke-linecap=\"round\" style=\"stroke:orange;stroke-width:2\"/><line x1=\"706.195\" y1=\"308.408\" x2=\"704.209\" y2=\"312.997\" stroke-linecap=\"round\" style=\"stroke:orange;stroke-width:2\"/><line x1=\"704.209\" y1=\"312.997\" x2=\"702.08\" y2=\"317.521\" stroke-linecap=\"round\" style=\"stroke:orange;stroke-width:2\"/><line x1=\"702.08\" y1=\"317.521\" x2=\"699.81\" y2=\"321.976\" stroke-linecap=\"round\" style=\"stroke:orange;stroke-width:2\"/><line x1=\"699.81\" y1=\"321.976\" x2=\"697.401\" y2=\"326.358\" stroke-linecap=\"round\" style=\"stroke:orange;stroke-width:2\"/><line x1=\"697.401\" y1=\"326.358\" x2=\"694.856\" y2=\"330.662\" stroke-linecap=\"round\" style=\"stroke:orange;stroke-width:2\"/><line x1=\"694.856\" y1=\"330.662\" x2=\"692.177\" y2=\"334.884\" stroke-linecap=\"round\" style=\"stroke:orange;stroke-width:2\"/><line x1=\"692.177\" y1=\"334.884\" x2=\"689.367\" y2=\"339.019\" stroke-linecap=\"round\" style=\"stroke:orange;stroke-width:2\"/><line x1=\"689.367\" y1=\"339.019\" x2=\"686.428\" y2=\"343.064\" stroke-linecap=\"round\" style=\"stroke:orange;stroke-width:2\"/><line x1=\"686.428\" y1=\"343.064\" x2=\"683.363\" y2=\"347.015\" stroke-linecap=\"round\" style=\"stroke:orange;stroke-width:2\"/><line x1=\"683.363\" y1=\"347.015\" x2=\"680.176\" y2=\"350.868\" stroke-linecap=\"round\" style=\"stroke:orange;stroke-width:2\"/><line x1=\"680.176\" y1=\"350.868\" x2=\"676.869\" y2=\"354.619\" stroke-linecap=\"round\" style=\"stroke:orange;stroke-width:2\"/><line x1=\"676.869\" y1=\"354.619\" x2=\"673.446\" y2=\"358.264\" stroke-linecap=\"round\" style=\"stroke:orange;stroke-width:2\"/><line x1=\"673.446\" y1=\"358.264\" x2=\"669.91\" y2=\"361.8\" stroke-linecap=\"round\" style=\"stroke:orange;stroke-width:2\"/><line x1=\"669.91\" y1=\"361.8\" x2=\"666.265\" y2=\"365.223\" stroke-linecap=\"round\" style=\"stroke:orange;stroke-width:2\"/><line x1=\"666.265\" y1=\"365.223\" x2=\"662.514\" y2=\"368.53\" stroke-linecap=\"round\" style=\"stroke:orange;stroke-width:2\"/><line x1=\"662.514\" y1=\"368.53\" x2=\"658.661\" y2=\"371.717\" stroke-linecap=\"round\" style=\"stroke:orange;stroke-width:2\"/><line x1=\"658.661\" y1=\"371.717\" x2=\"654.71\" y2=\"374.782\" stroke-linecap=\"round\" style=\"stroke:orange;stroke-width:2\"/><line x1=\"654.71\" y1=\"374.782\" x2=\"650.665\" y2=\"377.721\" stroke-linecap=\"round\" style=\"stroke:orange;stroke-width:2\"/><line x1=\"650.665\" y1=\"377.721\" x2=\"646.53\" y2=\"380.531\" stroke-linecap=\"round\" style=\"stroke:orange;stroke-width:2\"/><line x1=\"646.53\" y1=\"380.531\" x2=\"642.308\" y2=\"383.21\" stroke-linecap=\"round\" style=\"stroke:orange;stroke-width:2\"/><line x1=\"642.308\" y1=\"383.21\" x2=\"638.004\" y2=\"385.755\" stroke-linecap=\"round\" style=\"stroke:orange;stroke-width:2\"/><line x1=\"638.004\" y1=\"385.755\" x2=\"633.622\" y2=\"388.164\" stroke-linecap=\"round\" style=\"stroke:orange;stroke-width:2\"/><line x1=\"633.622\" y1=\"388.164\" x2=\"629.167\" y2=\"390.434\" stroke-linecap=\"round\" style=\"stroke:orange;stroke-width:2\"/><line x1=\"629.167\" y1=\"390.434\" x2=\"624.643\" y2=\"392.563\" stroke-linecap=\"round\" style=\"stroke:orange;stroke-width:2\"/><line x1=\"624.643\" y1=\"392.563\" x2=\"620.054\" y2=\"394.549\" stroke-linecap=\"round\" style=\"stroke:orange;stroke-width:2\"/><line x1=\"620.054\" y1=\"394.549\" x2=\"615.405\" y2=\"396.39\" stroke-linecap=\"round\" style=\"stroke:orange;stroke-width:2\"/><line x1=\"615.405\" y1=\"396.39\" x2=\"610.701\" y2=\"398.084\" stroke-linecap=\"round\" style=\"stroke:orange;stroke-width:2\"/><line x1=\"610.701\" y1=\"398.084\" x2=\"605.946\" y2=\"399.629\" stroke-linecap=\"round\" style=\"stroke:orange;stroke-width:2\"/><line x1=\"605.946\" y1=\"399.629\" x2=\"601.145\" y2=\"401.024\" stroke-linecap=\"round\" style=\"stroke:orange;stroke-width:2\"/><line x1=\"601.145\" y1=\"401.024\" x2=\"596.302\" y2=\"402.267\" stroke-linecap=\"round\" style=\"stroke:orange;stroke-width:2\"/><line x1=\"596.302\" y1=\"402.267\" x2=\"591.422\" y2=\"403.358\" stroke-linecap=\"round\" style=\"stroke:orange;stroke-width:2\"/><line x1=\"591.422\" y1=\"403.358\" x2=\"586.511\" y2=\"404.295\" stroke-linecap=\"round\" style=\"stroke:orange;stroke-width:2\"/><line x1=\"586.511\" y1=\"404.295\" x2=\"581.573\" y2=\"405.077\" stroke-linecap=\"round\" style=\"stroke:orange;stroke-width:2\"/><line x1=\"581.573\" y1=\"405.077\" x2=\"576.612\" y2=\"405.704\" stroke-linecap=\"round\" style=\"stroke:orange;stroke-width:2\"/><line x1=\"576.612\" y1=\"405.704\" x2=\"571.634\" y2=\"406.175\" stroke-linecap=\"round\" style=\"stroke:orange;stroke-width:2\"/><line x1=\"571.634\" y1=\"406.175\" x2=\"566.644\" y2=\"406.489\" stroke-linecap=\"round\" style=\"stroke:orange;stroke-width:2\"/><line x1=\"566.644\" y1=\"406.489\" x2=\"561.646\" y2=\"406.646\" stroke-linecap=\"round\" style=\"stroke:orange;stroke-width:2\"/><line x1=\"561.646\" y1=\"406.646\" x2=\"556.646\" y2=\"406.646\" stroke-linecap=\"round\" style=\"stroke:orange;stroke-width:2\"/><line x1=\"556.646\" y1=\"406.646\" x2=\"551.648\" y2=\"406.489\" stroke-linecap=\"round\" style=\"stroke:orange;stroke-width:2\"/><line x1=\"551.648\" y1=\"406.489\" x2=\"546.658\" y2=\"406.175\" stroke-linecap=\"round\" style=\"stroke:orange;stroke-width:2\"/><line x1=\"546.658\" y1=\"406.175\" x2=\"541.68\" y2=\"405.704\" stroke-linecap=\"round\" style=\"stroke:orange;stroke-width:2\"/><line x1=\"541.68\" y1=\"405.704\" x2=\"536.719\" y2=\"405.077\" stroke-linecap=\"round\" style=\"stroke:orange;stroke-width:2\"/><line x1=\"536.719\" y1=\"405.077\" x2=\"531.781\" y2=\"404.295\" stroke-linecap=\"round\" style=\"stroke:orange;stroke-width:2\"/><line x1=\"531.781\" y1=\"404.295\" x2=\"526.87\" y2=\"403.358\" stroke-linecap=\"round\" style=\"stroke:orange;stroke-width:2\"/><line x1=\"526.87\" y1=\"403.358\" x2=\"521.99\" y2=\"402.267\" stroke-linecap=\"round\" style=\"stroke:orange;stroke-width:2\"/><line x1=\"521.99\" y1=\"402.267\" x2=\"517.147\" y2=\"401.024\" stroke-linecap=\"round\" style=\"stroke:orange;stroke-width:2\"/><line x1=\"517.147\" y1=\"401.024\" x2=\"512.346\" y2=\"399.629\" stroke-linecap=\"round\" style=\"stroke:orange;stroke-width:2\"/><line x1=\"512.346\" y1=\"399.629\" x2=\"507.591\" y2=\"398.084\" stroke-linecap=\"round\" style=\"stroke:orange;stroke-width:2\"/><line x1=\"507.591\" y1=\"398.084\" x2=\"502.887\" y2=\"396.39\" stroke-linecap=\"round\" style=\"stroke:orange;stroke-width:2\"/><line x1=\"502.887\" y1=\"396.39\" x2=\"498.238\" y2=\"394.549\" stroke-linecap=\"round\" style=\"stroke:orange;stroke-width:2\"/><line x1=\"498.238\" y1=\"394.549\" x2=\"493.649\" y2=\"392.563\" stroke-linecap=\"round\" style=\"stroke:orange;stroke-width:2\"/><line x1=\"493.649\" y1=\"392.563\" x2=\"489.125\" y2=\"390.434\" stroke-linecap=\"round\" style=\"stroke:orange;stroke-width:2\"/><line x1=\"489.125\" y1=\"390.434\" x2=\"484.67\" y2=\"388.164\" stroke-linecap=\"round\" style=\"stroke:orange;stroke-width:2\"/><line x1=\"484.67\" y1=\"388.164\" x2=\"480.288\" y2=\"385.755\" stroke-linecap=\"round\" style=\"stroke:orange;stroke-width:2\"/><line x1=\"480.288\" y1=\"385.755\" x2=\"475.984\" y2=\"383.21\" stroke-linecap=\"round\" style=\"stroke:orange;stroke-width:2\"/><line x1=\"475.984\" y1=\"383.21\" x2=\"471.762\" y2=\"380.531\" stroke-linecap=\"round\" style=\"stroke:orange;stroke-width:2\"/><line x1=\"471.762\" y1=\"380.531\" x2=\"467.627\" y2=\"377.721\" stroke-linecap=\"round\" style=\"stroke:orange;stroke-width:2\"/><line x1=\"467.627\" y1=\"377.721\" x2=\"463.582\" y2=\"374.782\" stroke-linecap=\"round\" style=\"stroke:orange;stroke-width:2\"/><line x1=\"463.582\" y1=\"374.782\" x2=\"459.631\" y2=\"371.717\" stroke-linecap=\"round\" style=\"stroke:orange;stroke-width:2\"/><line x1=\"459.631\" y1=\"371.717\" x2=\"455.778\" y2=\"368.53\" stroke-linecap=\"round\" style=\"stroke:orange;stroke-width:2\"/><line x1=\"455.778\" y1=\"368.53\" x2=\"452.027\" y2=\"365.223\" stroke-linecap=\"round\" style=\"stroke:orange;stroke-width:2\"/><line x1=\"452.027\" y1=\"365.223\" x2=\"448.382\" y2=\"361.8\" stroke-linecap=\"round\" style=\"stroke:orange;stroke-width:2\"/><line x1=\"448.382\" y1=\"361.8\" x2=\"444.846\" y2=\"358.264\" stroke-linecap=\"round\" style=\"stroke:orange;stroke-width:2\"/><line x1=\"444.846\" y1=\"358.264\" x2=\"441.423\" y2=\"354.619\" stroke-linecap=\"round\" style=\"stroke:orange;stroke-width:2\"/><line x1=\"441.423\" y1=\"354.619\" x2=\"438.116\" y2=\"350.868\" stroke-linecap=\"round\" style=\"stroke:orange;stroke-width:2\"/><line x1=\"438.116\" y1=\"350.868\" x2=\"434.929\" y2=\"347.015\" stroke-linecap=\"round\" style=\"stroke:orange;stroke-width:2\"/><line x1=\"434.929\" y1=\"347.015\" x2=\"431.864\" y2=\"343.064\" stroke-linecap=\"round\" style=\"stroke:orange;stroke-width:2\"/><line x1=\"431.864\" y1=\"343.064\" x2=\"428.925\" y2=\"339.019\" stroke-linecap=\"round\" style=\"stroke:orange;stroke-width:2\"/><line x1=\"428.925\" y1=\"339.019\" x2=\"426.115\" y2=\"334.884\" stroke-linecap=\"round\" style=\"stroke:orange;stroke-width:2\"/><line x1=\"426.115\" y1=\"334.884\" x2=\"423.436\" y2=\"330.662\" stroke-linecap=\"round\" style=\"stroke:orange;stroke-width:2\"/><line x1=\"423.436\" y1=\"330.662\" x2=\"420.891\" y2=\"326.358\" stroke-linecap=\"round\" style=\"stroke:orange;stroke-width:2\"/><line x1=\"420.891\" y1=\"326.358\" x2=\"418.482\" y2=\"321.976\" stroke-linecap=\"round\" style=\"stroke:orange;stroke-width:2\"/><line x1=\"418.482\" y1=\"321.976\" x2=\"416.212\" y2=\"317.521\" stroke-linecap=\"round\" style=\"stroke:orange;stroke-width:2\"/><line x1=\"416.212\" y1=\"317.521\" x2=\"414.083\" y2=\"312.997\" stroke-linecap=\"round\" style=\"stroke:orange;stroke-width:2\"/><line x1=\"414.083\" y1=\"312.997\" x2=\"412.097\" y2=\"308.408\" stroke-linecap=\"round\" style=\"stroke:orange;stroke-width:2\"/><line x1=\"412.097\" y1=\"308.408\" x2=\"410.256\" y2=\"303.759\" stroke-linecap=\"round\" style=\"stroke:orange;stroke-width:2\"/><line x1=\"410.256\" y1=\"303.759\" x2=\"408.562\" y2=\"299.055\" stroke-linecap=\"round\" style=\"stroke:orange;stroke-width:2\"/><line x1=\"408.562\" y1=\"299.055\" x2=\"407.017\" y2=\"294.3\" stroke-linecap=\"round\" style=\"stroke:orange;stroke-width:2\"/><line x1=\"407.017\" y1=\"294.3\" x2=\"405.622\" y2=\"289.499\" stroke-linecap=\"round\" style=\"stroke:orange;stroke-width:2\"/><line x1=\"405.622\" y1=\"289.499\" x2=\"404.379\" y2=\"284.656\" stroke-linecap=\"round\" style=\"stroke:orange;stroke-width:2\"/><line x1=\"404.379\" y1=\"284.656\" x2=\"403.288\" y2=\"279.776\" stroke-linecap=\"round\" style=\"stroke:orange;stroke-width:2\"/><line x1=\"403.288\" y1=\"279.776\" x2=\"402.351\" y2=\"274.865\" stroke-linecap=\"round\" style=\"stroke:orange;stroke-width:2\"/><line x1=\"402.351\" y1=\"274.865\" x2=\"401.569\" y2=\"269.927\" stroke-linecap=\"round\" style=\"stroke:orange;stroke-width:2\"/><line x1=\"401.569\" y1=\"269.927\" x2=\"400.942\" y2=\"264.966\" stroke-linecap=\"round\" style=\"stroke:orange;stroke-width:2\"/><line x1=\"400.942\" y1=\"264.966\" x2=\"400.471\" y2=\"259.988\" stroke-linecap=\"round\" style=\"stroke:orange;stroke-width:2\"/><line x1=\"400.471\" y1=\"259.988\" x2=\"400.157\" y2=\"254.998\" stroke-linecap=\"round\" style=\"stroke:orange;stroke-width:2\"/><line x1=\"400.157\" y1=\"254.998\" x2=\"400.0\" y2=\"250.0\" stroke-linecap=\"round\" style=\"stroke:orange;stroke-width:2\"/>\n",
              "        <g visibility=hidden transform=\"rotate(360.0000000000013,400.0,250.0) translate(382.0, 232.0)\">\n",
              "<path style=\" stroke:none;fill-rule:evenodd;fill:orange;fill-opacity:1;\" d=\"M 18.214844 0.632812 C 16.109375 1.800781 15.011719 4.074219 15.074219 7.132812 L 15.085938 7.652344 L 14.785156 7.496094 C 13.476562 6.824219 11.957031 6.671875 10.40625 7.066406 C 8.46875 7.550781 6.515625 9.15625 4.394531 11.992188 C 3.0625 13.777344 2.679688 14.636719 3.042969 15.027344 L 3.15625 15.152344 L 3.519531 15.152344 C 4.238281 15.152344 4.828125 14.886719 8.1875 13.039062 C 9.386719 12.378906 10.371094 11.839844 10.378906 11.839844 C 10.386719 11.839844 10.355469 11.929688 10.304688 12.035156 C 9.832031 13.09375 9.257812 14.820312 8.96875 16.078125 C 7.914062 20.652344 8.617188 24.53125 11.070312 27.660156 C 11.351562 28.015625 11.363281 27.914062 10.972656 28.382812 C 8.925781 30.84375 7.945312 33.28125 8.238281 35.1875 C 8.289062 35.527344 8.28125 35.523438 8.917969 35.523438 C 10.941406 35.523438 13.074219 34.207031 15.136719 31.6875 C 15.359375 31.417969 15.328125 31.425781 15.5625 31.574219 C 16.292969 32.042969 18.023438 32.964844 18.175781 32.964844 C 18.335938 32.964844 19.941406 32.210938 20.828125 31.71875 C 20.996094 31.625 21.136719 31.554688 21.136719 31.558594 C 21.203125 31.664062 21.898438 32.414062 22.222656 32.730469 C 23.835938 34.300781 25.5625 35.132812 27.582031 35.300781 C 27.90625 35.328125 27.9375 35.308594 28.007812 34.984375 C 28.382812 33.242188 27.625 30.925781 25.863281 28.425781 L 25.542969 27.96875 L 25.699219 27.785156 C 28.945312 23.960938 29.132812 18.699219 26.257812 11.96875 L 26.207031 11.84375 L 27.945312 12.703125 C 31.53125 14.476562 32.316406 14.800781 33.03125 14.800781 C 33.976562 14.800781 33.78125 13.9375 32.472656 12.292969 C 28.519531 7.355469 25.394531 5.925781 21.921875 7.472656 L 21.558594 7.636719 L 21.578125 7.542969 C 21.699219 6.992188 21.761719 5.742188 21.699219 5.164062 C 21.496094 3.296875 20.664062 1.964844 19.003906 0.855469 C 18.480469 0.503906 18.457031 0.5 18.214844 0.632812\"/>\n",
              "</g>\n",
              "      </svg>\n",
              "    "
            ],
            "text/plain": [
              "<IPython.core.display.HTML object>"
            ]
          },
          "metadata": {
            "tags": []
          }
        }
      ]
    },
    {
      "cell_type": "code",
      "metadata": {
        "id": "LueVprBn2cMZ",
        "colab": {
          "base_uri": "https://localhost:8080/",
          "height": 220
        },
        "outputId": "62fecc9e-1522-456e-ef80-549170933574"
      },
      "source": [
        "# 암모나이트\n",
        "t.initializeTurtle(10, (300, 200)) # 초기화(speed, window 크기 지정)\n",
        "t.bgcolor('green')\n",
        "t.color('red')\n",
        "\n",
        "\n",
        "for x in range(100):\n",
        "    t.forward(x)\n",
        "    t.left(59)"
      ],
      "execution_count": null,
      "outputs": [
        {
          "output_type": "display_data",
          "data": {
            "text/html": [
              "\n",
              "      <svg width=\"300\" height=\"200\">\n",
              "        <rect width=\"100%\" height=\"100%\" fill=\"green\"/>\n",
              "        <line x1=\"150\" y1=\"100\" x2=\"150.0\" y2=\"100.0\" stroke-linecap=\"round\" style=\"stroke:red;stroke-width:4\"/><line x1=\"150.0\" y1=\"100.0\" x2=\"149.143\" y2=\"99.485\" stroke-linecap=\"round\" style=\"stroke:red;stroke-width:4\"/><line x1=\"149.143\" y1=\"99.485\" x2=\"147.377\" y2=\"100.424\" stroke-linecap=\"round\" style=\"stroke:red;stroke-width:4\"/><line x1=\"147.377\" y1=\"100.424\" x2=\"147.22\" y2=\"103.42\" stroke-linecap=\"round\" style=\"stroke:red;stroke-width:4\"/><line x1=\"147.22\" y1=\"103.42\" x2=\"150.536\" y2=\"105.657\" stroke-linecap=\"round\" style=\"stroke:red;stroke-width:4\"/><line x1=\"150.536\" y1=\"105.657\" x2=\"155.068\" y2=\"103.544\" stroke-linecap=\"round\" style=\"stroke:red;stroke-width:4\"/><line x1=\"155.068\" y1=\"103.544\" x2=\"155.695\" y2=\"97.577\" stroke-linecap=\"round\" style=\"stroke:red;stroke-width:4\"/><line x1=\"155.695\" y1=\"97.577\" x2=\"150.105\" y2=\"93.364\" stroke-linecap=\"round\" style=\"stroke:red;stroke-width:4\"/><line x1=\"150.105\" y1=\"93.364\" x2=\"142.688\" y2=\"96.361\" stroke-linecap=\"round\" style=\"stroke:red;stroke-width:4\"/><line x1=\"142.688\" y1=\"96.361\" x2=\"141.28\" y2=\"105.25\" stroke-linecap=\"round\" style=\"stroke:red;stroke-width:4\"/><line x1=\"141.28\" y1=\"105.25\" x2=\"148.94\" y2=\"111.678\" stroke-linecap=\"round\" style=\"stroke:red;stroke-width:4\"/><line x1=\"148.94\" y1=\"111.678\" x2=\"159.341\" y2=\"108.097\" stroke-linecap=\"round\" style=\"stroke:red;stroke-width:4\"/><line x1=\"159.341\" y1=\"108.097\" x2=\"161.836\" y2=\"96.359\" stroke-linecap=\"round\" style=\"stroke:red;stroke-width:4\"/><line x1=\"161.836\" y1=\"96.359\" x2=\"152.328\" y2=\"87.493\" stroke-linecap=\"round\" style=\"stroke:red;stroke-width:4\"/><line x1=\"152.328\" y1=\"87.493\" x2=\"138.87\" y2=\"91.352\" stroke-linecap=\"round\" style=\"stroke:red;stroke-width:4\"/><line x1=\"138.87\" y1=\"91.352\" x2=\"134.988\" y2=\"105.841\" stroke-linecap=\"round\" style=\"stroke:red;stroke-width:4\"/><line x1=\"134.988\" y1=\"105.841\" x2=\"146.103\" y2=\"117.35\" stroke-linecap=\"round\" style=\"stroke:red;stroke-width:4\"/><line x1=\"146.103\" y1=\"117.35\" x2=\"162.667\" y2=\"113.526\" stroke-linecap=\"round\" style=\"stroke:red;stroke-width:4\"/><line x1=\"162.667\" y1=\"113.526\" x2=\"168.229\" y2=\"96.407\" stroke-linecap=\"round\" style=\"stroke:red;stroke-width:4\"/><line x1=\"168.229\" y1=\"96.407\" x2=\"155.764\" y2=\"82.068\" stroke-linecap=\"round\" style=\"stroke:red;stroke-width:4\"/><line x1=\"155.764\" y1=\"82.068\" x2=\"136.068\" y2=\"85.541\" stroke-linecap=\"round\" style=\"stroke:red;stroke-width:4\"/><line x1=\"136.068\" y1=\"85.541\" x2=\"128.542\" y2=\"105.146\" stroke-linecap=\"round\" style=\"stroke:red;stroke-width:4\"/><line x1=\"128.542\" y1=\"105.146\" x2=\"142.087\" y2=\"122.482\" stroke-linecap=\"round\" style=\"stroke:red;stroke-width:4\"/><line x1=\"142.087\" y1=\"122.482\" x2=\"164.916\" y2=\"119.679\" stroke-linecap=\"round\" style=\"stroke:red;stroke-width:4\"/><line x1=\"164.916\" y1=\"119.679\" x2=\"174.678\" y2=\"97.754\" stroke-linecap=\"round\" style=\"stroke:red;stroke-width:4\"/><line x1=\"174.678\" y1=\"97.754\" x2=\"160.339\" y2=\"77.275\" stroke-linecap=\"round\" style=\"stroke:red;stroke-width:4\"/><line x1=\"160.339\" y1=\"77.275\" x2=\"134.402\" y2=\"79.089\" stroke-linecap=\"round\" style=\"stroke:red;stroke-width:4\"/><line x1=\"134.402\" y1=\"79.089\" x2=\"122.144\" y2=\"103.146\" stroke-linecap=\"round\" style=\"stroke:red;stroke-width:4\"/><line x1=\"122.144\" y1=\"103.146\" x2=\"136.982\" y2=\"126.891\" stroke-linecap=\"round\" style=\"stroke:red;stroke-width:4\"/><line x1=\"136.982\" y1=\"126.891\" x2=\"165.978\" y2=\"126.385\" stroke-linecap=\"round\" style=\"stroke:red;stroke-width:4\"/><line x1=\"165.978\" y1=\"126.385\" x2=\"180.978\" y2=\"100.404\" stroke-linecap=\"round\" style=\"stroke:red;stroke-width:4\"/><line x1=\"180.978\" y1=\"100.404\" x2=\"165.949\" y2=\"73.291\" stroke-linecap=\"round\" style=\"stroke:red;stroke-width:4\"/><line x1=\"165.949\" y1=\"73.291\" x2=\"133.968\" y2=\"72.174\" stroke-linecap=\"round\" style=\"stroke:red;stroke-width:4\"/><line x1=\"133.968\" y1=\"72.174\" x2=\"115.995\" y2=\"99.85\" stroke-linecap=\"round\" style=\"stroke:red;stroke-width:4\"/><line x1=\"115.995\" y1=\"99.85\" x2=\"130.9\" y2=\"130.409\" stroke-linecap=\"round\" style=\"stroke:red;stroke-width:4\"/><line x1=\"130.9\" y1=\"130.409\" x2=\"165.767\" y2=\"133.459\" stroke-linecap=\"round\" style=\"stroke:red;stroke-width:4\"/><line x1=\"165.767\" y1=\"133.459\" x2=\"186.927\" y2=\"104.334\" stroke-linecap=\"round\" style=\"stroke:red;stroke-width:4\"/><line x1=\"186.927\" y1=\"104.334\" x2=\"172.47\" y2=\"70.275\" stroke-linecap=\"round\" style=\"stroke:red;stroke-width:4\"/><line x1=\"172.47\" y1=\"70.275\" x2=\"134.84\" y2=\"64.986\" stroke-linecap=\"round\" style=\"stroke:red;stroke-width:4\"/><line x1=\"134.84\" y1=\"64.986\" x2=\"110.297\" y2=\"95.295\" stroke-linecap=\"round\" style=\"stroke:red;stroke-width:4\"/><line x1=\"110.297\" y1=\"95.295\" x2=\"123.978\" y2=\"132.883\" stroke-linecap=\"round\" style=\"stroke:red;stroke-width:4\"/><line x1=\"123.978\" y1=\"132.883\" x2=\"164.225\" y2=\"140.706\" stroke-linecap=\"round\" style=\"stroke:red;stroke-width:4\"/><line x1=\"164.225\" y1=\"140.706\" x2=\"192.328\" y2=\"109.494\" stroke-linecap=\"round\" style=\"stroke:red;stroke-width:4\"/><line x1=\"192.328\" y1=\"109.494\" x2=\"179.756\" y2=\"68.373\" stroke-linecap=\"round\" style=\"stroke:red;stroke-width:4\"/><line x1=\"179.756\" y1=\"68.373\" x2=\"137.063\" y2=\"57.728\" stroke-linecap=\"round\" style=\"stroke:red;stroke-width:4\"/><line x1=\"137.063\" y1=\"57.728\" x2=\"105.243\" y2=\"89.548\" stroke-linecap=\"round\" style=\"stroke:red;stroke-width:4\"/><line x1=\"105.243\" y1=\"89.548\" x2=\"116.371\" y2=\"134.182\" stroke-linecap=\"round\" style=\"stroke:red;stroke-width:4\"/><line x1=\"116.371\" y1=\"134.182\" x2=\"161.317\" y2=\"147.923\" stroke-linecap=\"round\" style=\"stroke:red;stroke-width:4\"/><line x1=\"161.317\" y1=\"147.923\" x2=\"196.988\" y2=\"115.805\" stroke-linecap=\"round\" style=\"stroke:red;stroke-width:4\"/><line x1=\"196.988\" y1=\"115.805\" x2=\"187.638\" y2=\"67.705\" stroke-linecap=\"round\" style=\"stroke:red;stroke-width:4\"/><line x1=\"187.638\" y1=\"67.705\" x2=\"140.653\" y2=\"50.604\" stroke-linecap=\"round\" style=\"stroke:red;stroke-width:4\"/><line x1=\"140.653\" y1=\"50.604\" x2=\"101.019\" y2=\"82.699\" stroke-linecap=\"round\" style=\"stroke:red;stroke-width:4\"/><line x1=\"101.019\" y1=\"82.699\" x2=\"108.256\" y2=\"134.193\" stroke-linecap=\"round\" style=\"stroke:red;stroke-width:4\"/><line x1=\"108.256\" y1=\"134.193\" x2=\"157.043\" y2=\"154.902\" stroke-linecap=\"round\" style=\"stroke:red;stroke-width:4\"/><line x1=\"157.043\" y1=\"154.902\" x2=\"200.73\" y2=\"123.162\" stroke-linecap=\"round\" style=\"stroke:red;stroke-width:4\"/><line x1=\"200.73\" y1=\"123.162\" x2=\"195.936\" y2=\"68.371\" stroke-linecap=\"round\" style=\"stroke:red;stroke-width:4\"/><line x1=\"195.936\" y1=\"68.371\" x2=\"145.604\" y2=\"43.822\" stroke-linecap=\"round\" style=\"stroke:red;stroke-width:4\"/><line x1=\"145.604\" y1=\"43.822\" x2=\"97.8\" y2=\"74.866\" stroke-linecap=\"round\" style=\"stroke:red;stroke-width:4\"/><line x1=\"97.8\" y1=\"74.866\" x2=\"99.824\" y2=\"132.831\" stroke-linecap=\"round\" style=\"stroke:red;stroke-width:4\"/><line x1=\"99.824\" y1=\"132.831\" x2=\"151.427\" y2=\"161.435\" stroke-linecap=\"round\" style=\"stroke:red;stroke-width:4\"/><line x1=\"151.427\" y1=\"161.435\" x2=\"203.389\" y2=\"131.435\" stroke-linecap=\"round\" style=\"stroke:red;stroke-width:4\"/><line x1=\"203.389\" y1=\"131.435\" x2=\"204.454\" y2=\"70.444\" stroke-linecap=\"round\" style=\"stroke:red;stroke-width:4\"/><line x1=\"204.454\" y1=\"70.444\" x2=\"151.875\" y2=\"37.589\" stroke-linecap=\"round\" style=\"stroke:red;stroke-width:4\"/><line x1=\"151.875\" y1=\"37.589\" x2=\"95.742\" y2=\"66.19\" stroke-linecap=\"round\" style=\"stroke:red;stroke-width:4\"/><line x1=\"95.742\" y1=\"66.19\" x2=\"91.278\" y2=\"130.034\" stroke-linecap=\"round\" style=\"stroke:red;stroke-width:4\"/><line x1=\"91.278\" y1=\"130.034\" x2=\"144.523\" y2=\"167.316\" stroke-linecap=\"round\" style=\"stroke:red;stroke-width:4\"/><line x1=\"144.523\" y1=\"167.316\" x2=\"204.817\" y2=\"140.471\" stroke-linecap=\"round\" style=\"stroke:red;stroke-width:4\"/><line x1=\"204.817\" y1=\"140.471\" x2=\"212.982\" y2=\"73.97\" stroke-linecap=\"round\" style=\"stroke:red;stroke-width:4\"/><line x1=\"212.982\" y1=\"73.97\" x2=\"159.397\" y2=\"32.105\" stroke-linecap=\"round\" style=\"stroke:red;stroke-width:4\"/><line x1=\"159.397\" y1=\"32.105\" x2=\"94.98\" y2=\"56.832\" stroke-linecap=\"round\" style=\"stroke:red;stroke-width:4\"/><line x1=\"94.98\" y1=\"56.832\" x2=\"82.825\" y2=\"125.769\" stroke-linecap=\"round\" style=\"stroke:red;stroke-width:4\"/><line x1=\"82.825\" y1=\"125.769\" x2=\"136.409\" y2=\"172.349\" stroke-linecap=\"round\" style=\"stroke:red;stroke-width:4\"/><line x1=\"136.409\" y1=\"172.349\" x2=\"204.885\" y2=\"150.1\" stroke-linecap=\"round\" style=\"stroke:red;stroke-width:4\"/><line x1=\"204.885\" y1=\"150.1\" x2=\"221.306\" y2=\"78.971\" stroke-linecap=\"round\" style=\"stroke:red;stroke-width:4\"/><line x1=\"221.306\" y1=\"78.971\" x2=\"168.075\" y2=\"27.566\" stroke-linecap=\"round\" style=\"stroke:red;stroke-width:4\"/><line x1=\"168.075\" y1=\"27.566\" x2=\"95.631\" y2=\"46.977\" stroke-linecap=\"round\" style=\"stroke:red;stroke-width:4\"/><line x1=\"95.631\" y1=\"46.977\" x2=\"74.683\" y2=\"120.033\" stroke-linecap=\"round\" style=\"stroke:red;stroke-width:4\"/><line x1=\"74.683\" y1=\"120.033\" x2=\"127.197\" y2=\"176.347\" stroke-linecap=\"round\" style=\"stroke:red;stroke-width:4\"/><line x1=\"127.197\" y1=\"176.347\" x2=\"203.493\" y2=\"160.13\" stroke-linecap=\"round\" style=\"stroke:red;stroke-width:4\"/><line x1=\"203.493\" y1=\"160.13\" x2=\"229.213\" y2=\"85.434\" stroke-linecap=\"round\" style=\"stroke:red;stroke-width:4\"/><line x1=\"229.213\" y1=\"85.434\" x2=\"177.79\" y2=\"24.15\" stroke-linecap=\"round\" style=\"stroke:red;stroke-width:4\"/><line x1=\"177.79\" y1=\"24.15\" x2=\"97.787\" y2=\"36.821\" stroke-linecap=\"round\" style=\"stroke:red;stroke-width:4\"/><line x1=\"97.787\" y1=\"36.821\" x2=\"67.069\" y2=\"112.85\" stroke-linecap=\"round\" style=\"stroke:red;stroke-width:4\"/><line x1=\"67.069\" y1=\"112.85\" x2=\"117.02\" y2=\"179.137\" stroke-linecap=\"round\" style=\"stroke:red;stroke-width:4\"/><line x1=\"117.02\" y1=\"179.137\" x2=\"200.56\" y2=\"170.357\" stroke-linecap=\"round\" style=\"stroke:red;stroke-width:4\"/><line x1=\"200.56\" y1=\"170.357\" x2=\"236.483\" y2=\"93.321\" stroke-linecap=\"round\" style=\"stroke:red;stroke-width:4\"/><line x1=\"236.483\" y1=\"93.321\" x2=\"188.392\" y2=\"22.024\" stroke-linecap=\"round\" style=\"stroke:red;stroke-width:4\"/><line x1=\"188.392\" y1=\"22.024\" x2=\"101.511\" y2=\"26.577\" stroke-linecap=\"round\" style=\"stroke:red;stroke-width:4\"/><line x1=\"101.511\" y1=\"26.577\" x2=\"60.198\" y2=\"104.276\" stroke-linecap=\"round\" style=\"stroke:red;stroke-width:4\"/><line x1=\"60.198\" y1=\"104.276\" x2=\"106.036\" y2=\"180.564\" stroke-linecap=\"round\" style=\"stroke:red;stroke-width:4\"/><line x1=\"106.036\" y1=\"180.564\" x2=\"196.036\" y2=\"180.564\" stroke-linecap=\"round\" style=\"stroke:red;stroke-width:4\"/><line x1=\"196.036\" y1=\"180.564\" x2=\"242.904\" y2=\"102.562\" stroke-linecap=\"round\" style=\"stroke:red;stroke-width:4\"/><line x1=\"242.904\" y1=\"102.562\" x2=\"199.713\" y2=\"21.331\" stroke-linecap=\"round\" style=\"stroke:red;stroke-width:4\"/><line x1=\"199.713\" y1=\"21.331\" x2=\"106.84\" y2=\"16.464\" stroke-linecap=\"round\" style=\"stroke:red;stroke-width:4\"/><line x1=\"106.84\" y1=\"16.464\" x2=\"54.276\" y2=\"94.394\" stroke-linecap=\"round\" style=\"stroke:red;stroke-width:4\"/><line x1=\"54.276\" y1=\"94.394\" x2=\"94.425\" y2=\"180.493\" stroke-linecap=\"round\" style=\"stroke:red;stroke-width:4\"/><line x1=\"94.425\" y1=\"180.493\" x2=\"189.899\" y2=\"190.528\" stroke-linecap=\"round\" style=\"stroke:red;stroke-width:4\"/><line x1=\"189.899\" y1=\"190.528\" x2=\"248.275\" y2=\"113.06\" stroke-linecap=\"round\" style=\"stroke:red;stroke-width:4\"/><line x1=\"248.275\" y1=\"113.06\" x2=\"211.564\" y2=\"22.196\" stroke-linecap=\"round\" style=\"stroke:red;stroke-width:4\"/><line x1=\"211.564\" y1=\"22.196\" x2=\"113.783\" y2=\"6.709\" stroke-linecap=\"round\" style=\"stroke:red;stroke-width:4\"/>\n",
              "        <g visibility=visible transform=\"rotate(220,113.783,6.709) translate(95.783, -11.291)\">\n",
              "<path style=\" stroke:none;fill-rule:evenodd;fill:red;fill-opacity:1;\" d=\"M 18.214844 0.632812 C 16.109375 1.800781 15.011719 4.074219 15.074219 7.132812 L 15.085938 7.652344 L 14.785156 7.496094 C 13.476562 6.824219 11.957031 6.671875 10.40625 7.066406 C 8.46875 7.550781 6.515625 9.15625 4.394531 11.992188 C 3.0625 13.777344 2.679688 14.636719 3.042969 15.027344 L 3.15625 15.152344 L 3.519531 15.152344 C 4.238281 15.152344 4.828125 14.886719 8.1875 13.039062 C 9.386719 12.378906 10.371094 11.839844 10.378906 11.839844 C 10.386719 11.839844 10.355469 11.929688 10.304688 12.035156 C 9.832031 13.09375 9.257812 14.820312 8.96875 16.078125 C 7.914062 20.652344 8.617188 24.53125 11.070312 27.660156 C 11.351562 28.015625 11.363281 27.914062 10.972656 28.382812 C 8.925781 30.84375 7.945312 33.28125 8.238281 35.1875 C 8.289062 35.527344 8.28125 35.523438 8.917969 35.523438 C 10.941406 35.523438 13.074219 34.207031 15.136719 31.6875 C 15.359375 31.417969 15.328125 31.425781 15.5625 31.574219 C 16.292969 32.042969 18.023438 32.964844 18.175781 32.964844 C 18.335938 32.964844 19.941406 32.210938 20.828125 31.71875 C 20.996094 31.625 21.136719 31.554688 21.136719 31.558594 C 21.203125 31.664062 21.898438 32.414062 22.222656 32.730469 C 23.835938 34.300781 25.5625 35.132812 27.582031 35.300781 C 27.90625 35.328125 27.9375 35.308594 28.007812 34.984375 C 28.382812 33.242188 27.625 30.925781 25.863281 28.425781 L 25.542969 27.96875 L 25.699219 27.785156 C 28.945312 23.960938 29.132812 18.699219 26.257812 11.96875 L 26.207031 11.84375 L 27.945312 12.703125 C 31.53125 14.476562 32.316406 14.800781 33.03125 14.800781 C 33.976562 14.800781 33.78125 13.9375 32.472656 12.292969 C 28.519531 7.355469 25.394531 5.925781 21.921875 7.472656 L 21.558594 7.636719 L 21.578125 7.542969 C 21.699219 6.992188 21.761719 5.742188 21.699219 5.164062 C 21.496094 3.296875 20.664062 1.964844 19.003906 0.855469 C 18.480469 0.503906 18.457031 0.5 18.214844 0.632812\"/>\n",
              "</g>\n",
              "      </svg>\n",
              "    "
            ],
            "text/plain": [
              "<IPython.core.display.HTML object>"
            ]
          },
          "metadata": {
            "tags": []
          }
        }
      ]
    },
    {
      "cell_type": "code",
      "metadata": {
        "id": "olzj7Axd6h5w",
        "colab": {
          "base_uri": "https://localhost:8080/",
          "height": 519
        },
        "outputId": "7c7e25fe-5d69-422f-ba48-1408f0ddc595"
      },
      "source": [
        "t.initializeTurtle(5)\n",
        "t.color('orange')\n",
        "t.bgcolor('white')\n",
        "t.width(1)\n",
        "for i in range(36):\n",
        "    t.forward(200)\n",
        "    t.left(170)\n"
      ],
      "execution_count": null,
      "outputs": [
        {
          "output_type": "display_data",
          "data": {
            "text/html": [
              "\n",
              "      <svg width=\"800\" height=\"500\">\n",
              "        <rect width=\"100%\" height=\"100%\" fill=\"white\"/>\n",
              "        <line x1=\"400\" y1=\"250\" x2=\"400.0\" y2=\"50.0\" stroke-linecap=\"round\" style=\"stroke:orange;stroke-width:1\"/><line x1=\"400.0\" y1=\"50.0\" x2=\"365.27\" y2=\"246.962\" stroke-linecap=\"round\" style=\"stroke:orange;stroke-width:1\"/><line x1=\"365.27\" y1=\"246.962\" x2=\"433.674\" y2=\"59.023\" stroke-linecap=\"round\" style=\"stroke:orange;stroke-width:1\"/><line x1=\"433.674\" y1=\"59.023\" x2=\"333.674\" y2=\"232.228\" stroke-linecap=\"round\" style=\"stroke:orange;stroke-width:1\"/><line x1=\"333.674\" y1=\"232.228\" x2=\"462.232\" y2=\"79.019\" stroke-linecap=\"round\" style=\"stroke:orange;stroke-width:1\"/><line x1=\"462.232\" y1=\"79.019\" x2=\"309.023\" y2=\"207.577\" stroke-linecap=\"round\" style=\"stroke:orange;stroke-width:1\"/><line x1=\"309.023\" y1=\"207.577\" x2=\"482.228\" y2=\"107.577\" stroke-linecap=\"round\" style=\"stroke:orange;stroke-width:1\"/><line x1=\"482.228\" y1=\"107.577\" x2=\"294.289\" y2=\"175.981\" stroke-linecap=\"round\" style=\"stroke:orange;stroke-width:1\"/><line x1=\"294.289\" y1=\"175.981\" x2=\"491.251\" y2=\"141.251\" stroke-linecap=\"round\" style=\"stroke:orange;stroke-width:1\"/><line x1=\"491.251\" y1=\"141.251\" x2=\"291.251\" y2=\"141.251\" stroke-linecap=\"round\" style=\"stroke:orange;stroke-width:1\"/><line x1=\"291.251\" y1=\"141.251\" x2=\"488.213\" y2=\"175.981\" stroke-linecap=\"round\" style=\"stroke:orange;stroke-width:1\"/><line x1=\"488.213\" y1=\"175.981\" x2=\"300.274\" y2=\"107.577\" stroke-linecap=\"round\" style=\"stroke:orange;stroke-width:1\"/><line x1=\"300.274\" y1=\"107.577\" x2=\"473.479\" y2=\"207.577\" stroke-linecap=\"round\" style=\"stroke:orange;stroke-width:1\"/><line x1=\"473.479\" y1=\"207.577\" x2=\"320.27\" y2=\"79.019\" stroke-linecap=\"round\" style=\"stroke:orange;stroke-width:1\"/><line x1=\"320.27\" y1=\"79.019\" x2=\"448.828\" y2=\"232.228\" stroke-linecap=\"round\" style=\"stroke:orange;stroke-width:1\"/><line x1=\"448.828\" y1=\"232.228\" x2=\"348.828\" y2=\"59.023\" stroke-linecap=\"round\" style=\"stroke:orange;stroke-width:1\"/><line x1=\"348.828\" y1=\"59.023\" x2=\"417.232\" y2=\"246.962\" stroke-linecap=\"round\" style=\"stroke:orange;stroke-width:1\"/><line x1=\"417.232\" y1=\"246.962\" x2=\"382.502\" y2=\"50.0\" stroke-linecap=\"round\" style=\"stroke:orange;stroke-width:1\"/><line x1=\"382.502\" y1=\"50.0\" x2=\"382.502\" y2=\"250.0\" stroke-linecap=\"round\" style=\"stroke:orange;stroke-width:1\"/><line x1=\"382.502\" y1=\"250.0\" x2=\"417.232\" y2=\"53.038\" stroke-linecap=\"round\" style=\"stroke:orange;stroke-width:1\"/><line x1=\"417.232\" y1=\"53.038\" x2=\"348.828\" y2=\"240.977\" stroke-linecap=\"round\" style=\"stroke:orange;stroke-width:1\"/><line x1=\"348.828\" y1=\"240.977\" x2=\"448.828\" y2=\"67.772\" stroke-linecap=\"round\" style=\"stroke:orange;stroke-width:1\"/><line x1=\"448.828\" y1=\"67.772\" x2=\"320.27\" y2=\"220.981\" stroke-linecap=\"round\" style=\"stroke:orange;stroke-width:1\"/><line x1=\"320.27\" y1=\"220.981\" x2=\"473.479\" y2=\"92.423\" stroke-linecap=\"round\" style=\"stroke:orange;stroke-width:1\"/><line x1=\"473.479\" y1=\"92.423\" x2=\"300.274\" y2=\"192.423\" stroke-linecap=\"round\" style=\"stroke:orange;stroke-width:1\"/><line x1=\"300.274\" y1=\"192.423\" x2=\"488.213\" y2=\"124.019\" stroke-linecap=\"round\" style=\"stroke:orange;stroke-width:1\"/><line x1=\"488.213\" y1=\"124.019\" x2=\"291.251\" y2=\"158.749\" stroke-linecap=\"round\" style=\"stroke:orange;stroke-width:1\"/><line x1=\"291.251\" y1=\"158.749\" x2=\"491.251\" y2=\"158.749\" stroke-linecap=\"round\" style=\"stroke:orange;stroke-width:1\"/><line x1=\"491.251\" y1=\"158.749\" x2=\"294.289\" y2=\"124.019\" stroke-linecap=\"round\" style=\"stroke:orange;stroke-width:1\"/><line x1=\"294.289\" y1=\"124.019\" x2=\"482.228\" y2=\"192.423\" stroke-linecap=\"round\" style=\"stroke:orange;stroke-width:1\"/><line x1=\"482.228\" y1=\"192.423\" x2=\"309.023\" y2=\"92.423\" stroke-linecap=\"round\" style=\"stroke:orange;stroke-width:1\"/><line x1=\"309.023\" y1=\"92.423\" x2=\"462.232\" y2=\"220.981\" stroke-linecap=\"round\" style=\"stroke:orange;stroke-width:1\"/><line x1=\"462.232\" y1=\"220.981\" x2=\"333.674\" y2=\"67.772\" stroke-linecap=\"round\" style=\"stroke:orange;stroke-width:1\"/><line x1=\"333.674\" y1=\"67.772\" x2=\"433.674\" y2=\"240.977\" stroke-linecap=\"round\" style=\"stroke:orange;stroke-width:1\"/><line x1=\"433.674\" y1=\"240.977\" x2=\"365.27\" y2=\"53.038\" stroke-linecap=\"round\" style=\"stroke:orange;stroke-width:1\"/><line x1=\"365.27\" y1=\"53.038\" x2=\"400.0\" y2=\"250.0\" stroke-linecap=\"round\" style=\"stroke:orange;stroke-width:1\"/>\n",
              "        <g visibility=visible transform=\"rotate(360,400.0,250.0) translate(382.0, 232.0)\">\n",
              "<path style=\" stroke:none;fill-rule:evenodd;fill:orange;fill-opacity:1;\" d=\"M 18.214844 0.632812 C 16.109375 1.800781 15.011719 4.074219 15.074219 7.132812 L 15.085938 7.652344 L 14.785156 7.496094 C 13.476562 6.824219 11.957031 6.671875 10.40625 7.066406 C 8.46875 7.550781 6.515625 9.15625 4.394531 11.992188 C 3.0625 13.777344 2.679688 14.636719 3.042969 15.027344 L 3.15625 15.152344 L 3.519531 15.152344 C 4.238281 15.152344 4.828125 14.886719 8.1875 13.039062 C 9.386719 12.378906 10.371094 11.839844 10.378906 11.839844 C 10.386719 11.839844 10.355469 11.929688 10.304688 12.035156 C 9.832031 13.09375 9.257812 14.820312 8.96875 16.078125 C 7.914062 20.652344 8.617188 24.53125 11.070312 27.660156 C 11.351562 28.015625 11.363281 27.914062 10.972656 28.382812 C 8.925781 30.84375 7.945312 33.28125 8.238281 35.1875 C 8.289062 35.527344 8.28125 35.523438 8.917969 35.523438 C 10.941406 35.523438 13.074219 34.207031 15.136719 31.6875 C 15.359375 31.417969 15.328125 31.425781 15.5625 31.574219 C 16.292969 32.042969 18.023438 32.964844 18.175781 32.964844 C 18.335938 32.964844 19.941406 32.210938 20.828125 31.71875 C 20.996094 31.625 21.136719 31.554688 21.136719 31.558594 C 21.203125 31.664062 21.898438 32.414062 22.222656 32.730469 C 23.835938 34.300781 25.5625 35.132812 27.582031 35.300781 C 27.90625 35.328125 27.9375 35.308594 28.007812 34.984375 C 28.382812 33.242188 27.625 30.925781 25.863281 28.425781 L 25.542969 27.96875 L 25.699219 27.785156 C 28.945312 23.960938 29.132812 18.699219 26.257812 11.96875 L 26.207031 11.84375 L 27.945312 12.703125 C 31.53125 14.476562 32.316406 14.800781 33.03125 14.800781 C 33.976562 14.800781 33.78125 13.9375 32.472656 12.292969 C 28.519531 7.355469 25.394531 5.925781 21.921875 7.472656 L 21.558594 7.636719 L 21.578125 7.542969 C 21.699219 6.992188 21.761719 5.742188 21.699219 5.164062 C 21.496094 3.296875 20.664062 1.964844 19.003906 0.855469 C 18.480469 0.503906 18.457031 0.5 18.214844 0.632812\"/>\n",
              "</g>\n",
              "      </svg>\n",
              "    "
            ],
            "text/plain": [
              "<IPython.core.display.HTML object>"
            ]
          },
          "metadata": {
            "tags": []
          }
        }
      ]
    },
    {
      "cell_type": "code",
      "metadata": {
        "id": "_aMOwITi2hxn"
      },
      "source": [
        ""
      ],
      "execution_count": null,
      "outputs": []
    },
    {
      "cell_type": "code",
      "metadata": {
        "id": "2IhDy_0K-k4T"
      },
      "source": [
        ""
      ],
      "execution_count": null,
      "outputs": []
    }
  ]
}