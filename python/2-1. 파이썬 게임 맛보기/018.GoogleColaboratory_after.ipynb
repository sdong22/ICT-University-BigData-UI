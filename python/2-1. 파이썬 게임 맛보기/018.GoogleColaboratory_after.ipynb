{
  "nbformat": 4,
  "nbformat_minor": 0,
  "metadata": {
    "colab": {
      "name": "018.Google Colaboratory_after",
      "provenance": [],
      "collapsed_sections": []
    },
    "kernelspec": {
      "name": "python3",
      "display_name": "Python 3"
    }
  },
  "cells": [
    {
      "cell_type": "markdown",
      "metadata": {
        "id": "gP5gNdy2QZCd"
      },
      "source": [
        "## 1. colab의 하드웨어 성능"
      ]
    },
    {
      "cell_type": "markdown",
      "metadata": {
        "id": "hEyf1iObQn2v"
      },
      "source": [
        "### OS 환경"
      ]
    },
    {
      "cell_type": "code",
      "metadata": {
        "id": "nrzy86aSEIbS",
        "colab": {
          "base_uri": "https://localhost:8080/"
        },
        "outputId": "eae44c6e-55d4-4861-f721-7ab9563a3b50"
      },
      "source": [
        "!cat /etc/issue.net"
      ],
      "execution_count": null,
      "outputs": [
        {
          "output_type": "stream",
          "text": [
            "Ubuntu 18.04.5 LTS\n"
          ],
          "name": "stdout"
        }
      ]
    },
    {
      "cell_type": "markdown",
      "metadata": {
        "id": "bi50Uj2-Qkk5"
      },
      "source": [
        "###  CPU 사양"
      ]
    },
    {
      "cell_type": "code",
      "metadata": {
        "id": "E8HZMqJ9EIM1",
        "colab": {
          "base_uri": "https://localhost:8080/"
        },
        "outputId": "37d0717b-f409-4655-a312-bb61be8430b8"
      },
      "source": [
        "!head /proc/cpuinfo"
      ],
      "execution_count": null,
      "outputs": [
        {
          "output_type": "stream",
          "text": [
            "processor\t: 0\n",
            "vendor_id\t: GenuineIntel\n",
            "cpu family\t: 6\n",
            "model\t\t: 79\n",
            "model name\t: Intel(R) Xeon(R) CPU @ 2.20GHz\n",
            "stepping\t: 0\n",
            "microcode\t: 0x1\n",
            "cpu MHz\t\t: 2200.156\n",
            "cache size\t: 56320 KB\n",
            "physical id\t: 0\n"
          ],
          "name": "stdout"
        }
      ]
    },
    {
      "cell_type": "markdown",
      "metadata": {
        "id": "E16kfYZWQhU7"
      },
      "source": [
        "### 메모리 사양"
      ]
    },
    {
      "cell_type": "code",
      "metadata": {
        "id": "Opi6-6eSQdec",
        "colab": {
          "base_uri": "https://localhost:8080/"
        },
        "outputId": "eda3775a-1a6f-4586-c00c-74526b366cb5"
      },
      "source": [
        "!head -n 3 /proc/meminfo"
      ],
      "execution_count": null,
      "outputs": [
        {
          "output_type": "stream",
          "text": [
            "MemTotal:       13305368 kB\n",
            "MemFree:        10709972 kB\n",
            "MemAvailable:   12518980 kB\n"
          ],
          "name": "stdout"
        }
      ]
    },
    {
      "cell_type": "markdown",
      "metadata": {
        "id": "f5o-Bzq-Qd5t"
      },
      "source": [
        "### python 버젼"
      ]
    },
    {
      "cell_type": "code",
      "metadata": {
        "id": "3-5_SvteQeAB",
        "colab": {
          "base_uri": "https://localhost:8080/"
        },
        "outputId": "0a64aff6-33f2-4bea-cbc8-917b0de21da2"
      },
      "source": [
        "!python --version"
      ],
      "execution_count": null,
      "outputs": [
        {
          "output_type": "stream",
          "text": [
            "Python 3.7.10\n"
          ],
          "name": "stdout"
        }
      ]
    },
    {
      "cell_type": "markdown",
      "metadata": {
        "id": "vRpTiUosLD9p"
      },
      "source": [
        "## 2. 기본 메뉴 설명"
      ]
    },
    {
      "cell_type": "markdown",
      "metadata": {
        "id": "6O4UF1mwLIIL"
      },
      "source": [
        "1. 목차\n",
        "2. 파일 탐색기\n",
        "3. 할당 여부 확인 하기 (RAM/디스크)\n",
        "4. 댓글 (전체 파일에 대하여 / 셀에 대하여)"
      ]
    },
    {
      "cell_type": "markdown",
      "metadata": {
        "id": "4VqJEAgmBR9q"
      },
      "source": [
        "## 3. 공유기능"
      ]
    },
    {
      "cell_type": "markdown",
      "metadata": {
        "id": "A_rLzGR3CcRi"
      },
      "source": [
        "### 공유받은 colab을 읽기 전용 -> 사본으로 저장하기\n"
      ]
    },
    {
      "cell_type": "markdown",
      "metadata": {
        "id": "NLrA-GRUBRz9"
      },
      "source": [
        "### 내가 작성한 파일을 다른 사람과 공유하기"
      ]
    },
    {
      "cell_type": "markdown",
      "metadata": {
        "id": "M7eJYMG_BRv3"
      },
      "source": [
        "우측 상단에 \"공유\" 버튼을 클릭하여, 공유가능하며, 링크로 전달 할 수 있습니다.\n",
        "\n",
        "**[주의]**\n",
        "공유 받은 사람이 쓰기 권한이 있으면, 파일이 맘대로 수정될 수 있으니, 유의하세요"
      ]
    },
    {
      "cell_type": "markdown",
      "metadata": {
        "id": "k0p5JCD6WftA"
      },
      "source": [
        ""
      ]
    },
    {
      "cell_type": "code",
      "metadata": {
        "id": "lAPZAzNYXX3K"
      },
      "source": [
        ""
      ],
      "execution_count": null,
      "outputs": []
    },
    {
      "cell_type": "markdown",
      "metadata": {
        "id": "rBlLKumxXYo-"
      },
      "source": [
        ""
      ]
    },
    {
      "cell_type": "markdown",
      "metadata": {
        "id": "UIjG1DjaFupz"
      },
      "source": [
        "## 4. 셀의 종류 (코드/텍스트)"
      ]
    },
    {
      "cell_type": "markdown",
      "metadata": {
        "id": "UcZPIIkDFuh3"
      },
      "source": [
        "코드 셀: 코드 실행을 위한 셀"
      ]
    },
    {
      "cell_type": "markdown",
      "metadata": {
        "id": "u59O-H9NFuXb"
      },
      "source": [
        "텍스트 셀: 주석을 달거나, 설명 문구등을 달기 위한 텍스트 전용 셀"
      ]
    },
    {
      "cell_type": "markdown",
      "metadata": {
        "id": "mTvDKGgNGrVK"
      },
      "source": [
        "### 4-1. 주석과 텍스트 셀의 차이"
      ]
    },
    {
      "cell_type": "markdown",
      "metadata": {
        "id": "C4MVDlCTd3c_"
      },
      "source": [
        "코드셀 설명입니다."
      ]
    },
    {
      "cell_type": "code",
      "metadata": {
        "id": "GX54XeA4dz5N",
        "colab": {
          "base_uri": "https://localhost:8080/"
        },
        "outputId": "3614e6dd-b2cb-440d-cc52-b96f0b8c3c2a"
      },
      "source": [
        ""
      ],
      "execution_count": null,
      "outputs": [
        {
          "output_type": "stream",
          "text": [
            "안녕하세요\n"
          ],
          "name": "stdout"
        }
      ]
    },
    {
      "cell_type": "code",
      "metadata": {
        "id": "GyExJJKYGu9i"
      },
      "source": [
        ""
      ],
      "execution_count": null,
      "outputs": []
    },
    {
      "cell_type": "markdown",
      "metadata": {
        "id": "-UGzzDrXGyJz"
      },
      "source": [
        ""
      ]
    },
    {
      "cell_type": "code",
      "metadata": {
        "id": "80g6MTGdI_U1"
      },
      "source": [
        ""
      ],
      "execution_count": null,
      "outputs": []
    },
    {
      "cell_type": "markdown",
      "metadata": {
        "id": "K-MoYitmGCwY"
      },
      "source": [
        "### 4-2. 셀의 삽입 방법"
      ]
    },
    {
      "cell_type": "markdown",
      "metadata": {
        "id": "QbTdJuiXGCX6"
      },
      "source": [
        "상단의 \"+코드\", \"+텍스트\"를 눌러서 삽입합니다"
      ]
    },
    {
      "cell_type": "markdown",
      "metadata": {
        "id": "ZJwETFPyG7aG"
      },
      "source": [
        "**[셀 추가 관련 단축키]**\n",
        "\n",
        "1. 코드 셀 위에 삽입 (Ctrl + M A)\n",
        "2. 코드 셀 아래에 삽입 (Ctrl + M B)\n"
      ]
    },
    {
      "cell_type": "markdown",
      "metadata": {
        "id": "d3KVMvx4rd-D"
      },
      "source": [
        ""
      ]
    },
    {
      "cell_type": "code",
      "metadata": {
        "id": "4HKi3Ye9XonP"
      },
      "source": [
        ""
      ],
      "execution_count": null,
      "outputs": []
    },
    {
      "cell_type": "code",
      "metadata": {
        "id": "2gXCtjh5elHD"
      },
      "source": [
        ""
      ],
      "execution_count": null,
      "outputs": []
    },
    {
      "cell_type": "markdown",
      "metadata": {
        "id": "1189W68bHH_S"
      },
      "source": [
        "### 4-3. 셀의 삭제 방법"
      ]
    },
    {
      "cell_type": "markdown",
      "metadata": {
        "id": "5yLy0HIoHH2a"
      },
      "source": [
        "우측의 **휴지통 아이콘을 클릭**하여 삭제합니다."
      ]
    },
    {
      "cell_type": "markdown",
      "metadata": {
        "id": "q2Z0LvcRHHrS"
      },
      "source": [
        "**[셀 삭제 관련 단축키]**"
      ]
    },
    {
      "cell_type": "markdown",
      "metadata": {
        "id": "nrSf9-7aHSei"
      },
      "source": [
        "셀 지우기 (Ctrl+ M D)"
      ]
    },
    {
      "cell_type": "markdown",
      "metadata": {
        "id": "2LKQngAbF-OV"
      },
      "source": [
        "### 4-4 셀의 타입 변경"
      ]
    },
    {
      "cell_type": "markdown",
      "metadata": {
        "id": "06che75ZGOo6"
      },
      "source": [
        "**[셀 타입 변경 단축키]**\n",
        "1. 코드 셀로 변경 (Ctrl+ M Y)\n",
        "2. 마크다운 셀로 변경 (Ctrl+ M M)"
      ]
    },
    {
      "cell_type": "markdown",
      "metadata": {
        "id": "6EpBlX-WJFKS"
      },
      "source": [
        "print('안녕하세요')"
      ]
    },
    {
      "cell_type": "code",
      "metadata": {
        "id": "lisemtdjJFZW"
      },
      "source": [
        ""
      ],
      "execution_count": null,
      "outputs": []
    },
    {
      "cell_type": "markdown",
      "metadata": {
        "id": "zgw7EMJ2Rq-i"
      },
      "source": [
        "## 5. 실행과 출력"
      ]
    },
    {
      "cell_type": "markdown",
      "metadata": {
        "id": "Ew8w6Z3dRrCV"
      },
      "source": [
        "* **셀**: 실행의 단위\n",
        "* **실행**: 재생 버튼을 클릭하여, 실행 (해당 셀 실행)\n",
        "* **실행 순서**: *인터프리터 방식* 으로 실행하며, 순차적으로 메모리에 기억합니다.\n"
      ]
    },
    {
      "cell_type": "markdown",
      "metadata": {
        "id": "Eh1SgeImC7nq"
      },
      "source": [
        "**[실행 관련 단축키]**\n",
        "\n",
        "1. 해당 셀을 실행하고 커서는 해당 셀  (Ctrl + Enter)\n",
        "2. 해당 셀을 실행하고 커서는 다음 셀  (Shift + Enter)\n",
        "3. 해당 셀을 실행하고 커서는 다음에 셀 삽입  (Alt + Enter)"
      ]
    },
    {
      "cell_type": "code",
      "metadata": {
        "id": "pMwUOEcBVqTd",
        "colab": {
          "base_uri": "https://localhost:8080/"
        },
        "outputId": "68c1c79c-7abd-4e5b-fcb6-10632fe8adba"
      },
      "source": [
        "print('안녕하세요1')"
      ],
      "execution_count": null,
      "outputs": [
        {
          "output_type": "stream",
          "text": [
            "안녕하세요1\n"
          ],
          "name": "stdout"
        }
      ]
    },
    {
      "cell_type": "code",
      "metadata": {
        "id": "HqPcGy2isQ2y"
      },
      "source": [
        ""
      ],
      "execution_count": null,
      "outputs": []
    },
    {
      "cell_type": "markdown",
      "metadata": {
        "id": "kI_xIsN4YblE"
      },
      "source": [
        ""
      ]
    },
    {
      "cell_type": "code",
      "metadata": {
        "id": "R5C-VkR5XYEc"
      },
      "source": [
        ""
      ],
      "execution_count": null,
      "outputs": []
    },
    {
      "cell_type": "markdown",
      "metadata": {
        "id": "g0bZtSY_FYkX"
      },
      "source": [
        "## 6. 혹시 단축키를 모른다면?"
      ]
    },
    {
      "cell_type": "markdown",
      "metadata": {
        "id": "xRq65kB8Frgy"
      },
      "source": [
        "Ctrl + M H (키보드 단축키 보기)"
      ]
    },
    {
      "cell_type": "markdown",
      "metadata": {
        "id": "R2XkMdRKJ9sy"
      },
      "source": [
        ""
      ]
    },
    {
      "cell_type": "markdown",
      "metadata": {
        "id": "bBerIH_fFrCi"
      },
      "source": [
        "## 7. 마크다운 문법의 이해"
      ]
    },
    {
      "cell_type": "markdown",
      "metadata": {
        "id": "AvSmU2sMFqv0"
      },
      "source": [
        "Markdown(마크다운)이란 Markup(마크업)언어의 일종으로, **HTML경험이 없는 사람도 누구나 쉽게** 헤더,글 머리 기호,이미지 삽입, 링크, 글자 모양 등 다양한 서식을 쉽게 추가하는 방식의 문서 편집 문법이다."
      ]
    },
    {
      "cell_type": "markdown",
      "metadata": {
        "id": "7ksqlJl-JsD0"
      },
      "source": [
        "**[실습예제]**\n",
        "# colab 이란?\n",
        "## Google Colaboratory\n",
        "\n",
        "구글에서 **교육과 과학 연구를 목적**으로 개발한 도구로, 2017년에 무료로 공개하였습니다.\n",
        "\n",
        "<br/>\n",
        "<br/>\n",
        "\n",
        "# 장점\n",
        "- 무료\n",
        "- 구글 드라이브와 연동 가능\n",
        "- 손 쉽게 타인과 공유할 수 있음\n",
        "\n",
        "\n",
        "## 단점\n",
        "- 90분동안 아무런 인터액션이 없거나 (idle timeout), 12시간의 *세션 타임아웃이 존재함*\n",
        "- 조금 느림\n",
        "\n"
      ]
    },
    {
      "cell_type": "code",
      "metadata": {
        "id": "shuySQUQX31N"
      },
      "source": [
        ""
      ],
      "execution_count": null,
      "outputs": []
    },
    {
      "cell_type": "code",
      "metadata": {
        "id": "5XAul6VYJcqi"
      },
      "source": [
        ""
      ],
      "execution_count": null,
      "outputs": []
    }
  ]
}