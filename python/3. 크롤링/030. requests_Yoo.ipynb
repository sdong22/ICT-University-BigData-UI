{
 "cells": [
  {
   "cell_type": "markdown",
   "metadata": {},
   "source": [
    "# 웹크롤링 \n",
    "- 웹스크래핑(Web Scarping)이라고도 하면 컴퓨터 소프트웨어 기술로 각종 웹 사이트들에서 **원하는 정보를 추출**하는 것을 의미\n",
    "- 웹크롤러: 웹의 정보를 수집하는 목적을 위해 만든 프로그램. \n",
    "- 웹페이지에서 눈에보이는 데이터는 다 매칭되는 태그가 있다는 말.\n",
    "- 각각의 요소가 어떤 태그인지 알고 싶다면 개발자 도구(F12) 열어서 확인"
   ]
  },
  {
   "cell_type": "markdown",
   "metadata": {},
   "source": [
    "## 1. requests"
   ]
  },
  {
   "cell_type": "markdown",
   "metadata": {},
   "source": [
    "- HTTP 프로토콜과 관련된 기능 지원\n",
    "- url을 다루기 위한 모듈 패키지로 import requests로 활용\n",
    "- http request/response를 위한 모듈"
   ]
  },
  {
   "cell_type": "markdown",
   "metadata": {},
   "source": [
    "### 1.1. request(get, post)    \n",
    "- HTTP 요청을 서버에 보내고 응답을 받아오는 기능 지원 \n",
    "- 형식 : **requests.get(\"url\"), requests.request(\"GET\",\"url\")**\n",
    "- request()로 서버에 요청을 하면 서버에서는 결과를 반환해줌.\n",
    "- status_code로 응답결과를 알 수 있다.\n",
    "| 응답코드 | 설명 |\n",
    "| :----: | :---- |\n",
    "|  1xx |  요청을 받았고 작업 진행중 | \n",
    "|  2xx |  사용자의 요청이 성공적으로 수행 됨 | \n",
    "|  3xx |  요청은 완료 되었으나, 리다이렉션이 필요 |\n",
    "|  4xx |  사용자의 요청이 잘못됨 | \n",
    "|  5xx |  서버에 오류가 발생함 | \n"
   ]
  },
  {
   "cell_type": "code",
   "execution_count": 1,
   "metadata": {},
   "outputs": [],
   "source": [
    "import requests"
   ]
  },
  {
   "cell_type": "code",
   "execution_count": 5,
   "metadata": {},
   "outputs": [
    {
     "name": "stdout",
     "output_type": "stream",
     "text": [
      "응답코드 : 200\n"
     ]
    }
   ],
   "source": [
    "response = requests.get(\"https://www.naver.com/\")\n",
    "#response = requests.request(\"GET\",\"https://www.naver.com/\")\n",
    "\n",
    "print('응답코드 :',response.status_code)"
   ]
  },
  {
   "cell_type": "markdown",
   "metadata": {},
   "source": [
    "- requests.codes.ok"
   ]
  },
  {
   "cell_type": "code",
   "execution_count": 7,
   "metadata": {},
   "outputs": [
    {
     "name": "stdout",
     "output_type": "stream",
     "text": [
      "응답코드 : 404\n",
      "문제가 생겼습니다.[에러코드 404 ]\n"
     ]
    }
   ],
   "source": [
    "response = requests.get(\"https://www.naver.com/sdfsf\")\n",
    "print('응답코드 :',response.status_code)\n",
    "#print(requests.codes.ok)\n",
    "\n",
    "if response.status_code == requests.codes.ok :\n",
    "    print(\"정상입니다.\")\n",
    "else : \n",
    "    print(\"문제가 생겼습니다.[에러코드\",response.status_code,\"]\")\n"
   ]
  },
  {
   "cell_type": "markdown",
   "metadata": {},
   "source": [
    "### 1.2. res.raise_for_status() \n",
    "- 요청이 성공적(200)으로 수행되지 못하면 에러처리"
   ]
  },
  {
   "cell_type": "code",
   "execution_count": 14,
   "metadata": {},
   "outputs": [],
   "source": [
    "import requests\n",
    "\n",
    "response = requests.get(\"https://www.naver.com/\")\n",
    "response.raise_for_status()\n",
    "#response.text #긁어온 정보 확인하기"
   ]
  },
  {
   "cell_type": "markdown",
   "metadata": {},
   "source": [
    "### 1.3. 웹사이트 가지고 와서 html로 저장하기"
   ]
  },
  {
   "cell_type": "code",
   "execution_count": 16,
   "metadata": {
    "scrolled": true
   },
   "outputs": [
    {
     "name": "stdout",
     "output_type": "stream",
     "text": [
      "153569\n"
     ]
    }
   ],
   "source": [
    "response = requests.get(\"https://www.naver.com/\")\n",
    "response.raise_for_status()\n",
    "\n",
    "#print(response.text)\n",
    "print(len(response.text))\n",
    "\n",
    "with open(\"data4/mynaver.html\",\"w\",encoding=\"utf-8\")as f:\n",
    "    f.write(response.text)"
   ]
  },
  {
   "cell_type": "markdown",
   "metadata": {},
   "source": [
    "### 1.4 검색어 넣어서 정보 가져오기"
   ]
  },
  {
   "cell_type": "code",
   "execution_count": 20,
   "metadata": {},
   "outputs": [
    {
     "name": "stdout",
     "output_type": "stream",
     "text": [
      "200\n"
     ]
    }
   ],
   "source": [
    "url = \"https://search.naver.com/search.naver\"\n",
    "params = {\"query\":\"python\"}\n",
    "res = requests.get(url, params=params)\n",
    "#res.raise_for_status()\n",
    "print(res.status_code)\n",
    "\n",
    "with open(\"data4/mynaver.html\",\"w\",encoding=\"utf-8\")as f:\n",
    "    f.write(res.text)"
   ]
  },
  {
   "cell_type": "code",
   "execution_count": 23,
   "metadata": {},
   "outputs": [
    {
     "name": "stdout",
     "output_type": "stream",
     "text": [
      "200\n"
     ]
    }
   ],
   "source": [
    "url = \"https://comic.naver.com/webtoon/detail\"\n",
    "params = {\"titleId\":21815, \"no\":786}\n",
    "res = requests.get(url, params=params)\n",
    "#res.raise_for_status()\n",
    "print(res.status_code)\n",
    "\n",
    "with open(\"data4/mynaver.html\",\"w\",encoding=\"utf-8\")as f:\n",
    "    f.write(res.text)"
   ]
  },
  {
   "cell_type": "markdown",
   "metadata": {},
   "source": [
    "**연습문제1) 구글에서 python을 검색한 페이지를 html파일로 생성하시오**"
   ]
  },
  {
   "cell_type": "code",
   "execution_count": 24,
   "metadata": {
    "scrolled": true
   },
   "outputs": [
    {
     "name": "stdout",
     "output_type": "stream",
     "text": [
      "200\n"
     ]
    }
   ],
   "source": [
    "url = \"https://www.google.com/search\"\n",
    "params = {\"q\":\"python\"}\n",
    "res = requests.get(url, params=params)\n",
    "#res.raise_for_status()\n",
    "print(res.status_code)\n",
    "\n",
    "with open(\"data4/mygoogle.html\",\"w\",encoding=\"utf-8\")as f:\n",
    "    f.write(res.text)"
   ]
  },
  {
   "cell_type": "markdown",
   "metadata": {},
   "source": [
    "## 2. 정규표현식(Regular Expressions)\n",
    "- 특정한 규칙을 가진 문자열의 패턴을 표현하는 데 사용하는 표현식(Expression)   \n",
    ": 이메일주소, 자동차번호판, 주민등록번호.....\n",
    "- 파이썬만의 고유 문법이 아니라 문자열을 처리하는 모든 곳에서 사용\n",
    "- 정규식 이라고도 하며 주로 문자열의 검색 및 치환에 활용\n",
    "- 파이썬은 정규표현식을 지원하기 위해 re모듈을 제공.(Regular Expression)"
   ]
  },
  {
   "cell_type": "markdown",
   "metadata": {},
   "source": [
    "### 2.1. 메타문자\n",
    "- 원래 그 문자가 가진 뜻이 아닌 특별한 용도로 사용하는 문자"
   ]
  },
  {
   "cell_type": "markdown",
   "metadata": {},
   "source": [
    "\n",
    "| 패턴 | 설명 | 예제 |\n",
    "| :----: | :---- | :--- |\n",
    "|  ^ | 이 패턴으로 시작해야 함 | ^abc : abc로 시작.(abcd, abc12 등)| \n",
    "|  . | 모든 문자 |ca.e : care, cafe, case (o), caffe(x) |\n",
    "|  \\$ | 이 패턴으로 종료되어야 함 | se$ : se로 끝 (case, base(o), face(x)|\n",
    "|  \\d | 숫자 0~9 | \\d\\d\\d : 0~9 범위의 숫자 3개를 의미(123, 000) |\n",
    "|  \\w | 문자를 의미 | \\w\\w\\w : 문자3개를 의미(xyz, ABC..)|\n",
    "|  * | * 바로 앞에 문자가 0번이상 반복 | ca\\*t : ct, cat, caaat (o)\n",
    "|  + | + 바로 앞에 문자가 1번이상 반복 | ca\\+t : ct(x), cat, caaat (o)\n"
   ]
  },
  {
   "cell_type": "markdown",
   "metadata": {},
   "source": [
    "### 2.2. 정규식을 이용한 문자열검색\n",
    "- p = re.compile(\"정규식\") : re.compile의 결과로 돌려주는 객체 p를 사용하여 작업 수행\n",
    "- match() : 문자열의 처음부터 정규식과 일치하는지 확인\n",
    "- search() : 주어진 문자열 중에서 일치하는게 있는지 확인\n",
    "- findall() : 정규식과 매치되는 모든 문자열을 리스트 형태로 반환\n"
   ]
  },
  {
   "cell_type": "code",
   "execution_count": 27,
   "metadata": {},
   "outputs": [
    {
     "name": "stdout",
     "output_type": "stream",
     "text": [
      "<class 're.Match'> <class 're.Match'>\n"
     ]
    }
   ],
   "source": [
    "import re\n",
    "\n",
    "p = re.compile(\"^ca\")\n",
    "m = p.match(\"case\")\n",
    "s = p.search(\"case\")\n",
    "\n",
    "print(type(m), type(s))"
   ]
  },
  {
   "cell_type": "markdown",
   "metadata": {},
   "source": [
    "### 2.3. re.Match 객의 메서드\n",
    "- group() : 일치하는 문자열 반환\n",
    "- start() : 일치하는 문자열의 시작 index\n",
    "- end() : 일치하는 문자열의 끝 index\n",
    "- span() : 일치하는 문자열의 시작 / 끝 index"
   ]
  },
  {
   "cell_type": "code",
   "execution_count": 36,
   "metadata": {},
   "outputs": [
    {
     "name": "stdout",
     "output_type": "stream",
     "text": [
      "m.string : case\n",
      "m.group() : ca\n",
      "m.start() : 0\n",
      "m.end() : 2\n",
      "m.span() : (0, 2)\n"
     ]
    }
   ],
   "source": [
    "import re\n",
    "\n",
    "p = re.compile(\"^ca\")\n",
    "m = p.match(\"case\")\n",
    "\n",
    "print(\"m.string :\",m.string)\n",
    "print(\"m.group() :\",m.group())\n",
    "print(\"m.start() :\",m.start())  # 시작 인덱스\n",
    "print(\"m.end() :\",m.end())     # 끝나는 인덱스\n",
    "print(\"m.span() :\",m.span())"
   ]
  },
  {
   "cell_type": "code",
   "execution_count": 40,
   "metadata": {
    "scrolled": true
   },
   "outputs": [
    {
     "name": "stdout",
     "output_type": "stream",
     "text": [
      "m.string : care\n",
      "m.group() : care\n",
      "m.start() : 0\n",
      "m.end() : 4\n",
      "m.span() : (0, 4)\n",
      "**************************************************\n",
      "매칭되지 않음\n",
      "**************************************************\n",
      "매칭되지 않음\n",
      "**************************************************\n",
      "매칭되지 않음\n",
      "**************************************************\n",
      "매칭되지 않음\n",
      "**************************************************\n",
      "매칭되지 않음\n",
      "**************************************************\n",
      "매칭되지 않음\n",
      "**************************************************\n",
      "매칭되지 않음\n",
      "**************************************************\n",
      "매칭되지 않음\n",
      "**************************************************\n",
      "매칭되지 않음\n",
      "**************************************************\n",
      "매칭되지 않음\n",
      "**************************************************\n",
      "매칭되지 않음\n",
      "**************************************************\n",
      "m.string : I don't care\n",
      "m.group() : care\n",
      "m.start() : 8\n",
      "m.end() : 12\n",
      "m.span() : (8, 12)\n",
      "**************************************************\n"
     ]
    }
   ],
   "source": [
    "import re\n",
    "\n",
    "datas = [\"care\", \"cafe\", \"case\", \"cave\",\"cade\", \"caae\",\"cat\", \"apple\",\"api\", \"acafe\", \"acave\",\"base\", \"I don't care\"]\n",
    "\n",
    "def print_match(m):\n",
    "    if m :\n",
    "        print(\"m.string :\",m.string)\n",
    "        print(\"m.group() :\",m.group())\n",
    "        print(\"m.start() :\",m.start())  # 시작 인덱스\n",
    "        print(\"m.end() :\",m.end())     # 끝나는 인덱스\n",
    "        print(\"m.span() :\",m.span())\n",
    "    else :\n",
    "        print(\"매칭되지 않음\")\n",
    "        \n",
    "#p = re.compile(\"^ca\")\n",
    "#p = re.compile(\"ca.e\")\n",
    "p = re.compile(\"care$\")\n",
    "\n",
    "for data in datas :\n",
    "    m = p.match(data)\n",
    "    s = p.search(data)\n",
    "    #print_match(m)\n",
    "    print_match(s)\n",
    "    print('*'*50)"
   ]
  },
  {
   "cell_type": "markdown",
   "metadata": {},
   "source": [
    "## 3. User Agent"
   ]
  },
  {
   "cell_type": "markdown",
   "metadata": {},
   "source": [
    "- 사이트에서 서버 트래픽을 유발하는 크롤링을 막을 수 있다.\n",
    "- user agent 정보를 통해 해결 가능\n",
    "- https://www.whatismybrowser.com/detect/what-is-my-user-agent : 브라우저에서 접속하는 user agent 정보"
   ]
  },
  {
   "cell_type": "code",
   "execution_count": 42,
   "metadata": {},
   "outputs": [
    {
     "name": "stdout",
     "output_type": "stream",
     "text": [
      "406\n"
     ]
    }
   ],
   "source": [
    "import requests\n",
    "\n",
    "url = \"https://www.melon.com/chart/\"\n",
    "res = requests.get(url)\n",
    "print(res.status_code)"
   ]
  },
  {
   "cell_type": "code",
   "execution_count": 47,
   "metadata": {},
   "outputs": [
    {
     "name": "stdout",
     "output_type": "stream",
     "text": [
      "200\n"
     ]
    }
   ],
   "source": [
    "import requests\n",
    "\n",
    "url = \"https://www.melon.com/chart/\"\n",
    "headers = {\"User-Agent\":\"Mozilla/5.0 (Windows NT 10.0; Win64; x64) AppleWebKit/537.36 (KHTML, like Gecko) Chrome/92.0.4515.159 Safari/537.36\"}\n",
    "res = requests.get(url,headers= headers)\n",
    "print(res.status_code)\n",
    "\n",
    "with open(\"data4/mymusic.html\",\"w\",encoding=\"utf-8\")as f:\n",
    "    f.write(res.text)\n"
   ]
  },
  {
   "cell_type": "code",
   "execution_count": null,
   "metadata": {},
   "outputs": [],
   "source": []
  }
 ],
 "metadata": {
  "kernelspec": {
   "display_name": "Python 3",
   "language": "python",
   "name": "python3"
  },
  "language_info": {
   "codemirror_mode": {
    "name": "ipython",
    "version": 3
   },
   "file_extension": ".py",
   "mimetype": "text/x-python",
   "name": "python",
   "nbconvert_exporter": "python",
   "pygments_lexer": "ipython3",
   "version": "3.8.8"
  },
  "toc": {
   "base_numbering": 1,
   "nav_menu": {},
   "number_sections": false,
   "sideBar": true,
   "skip_h1_title": false,
   "title_cell": "Table of Contents",
   "title_sidebar": "Contents",
   "toc_cell": false,
   "toc_position": {
    "height": "calc(100% - 180px)",
    "left": "10px",
    "top": "150px",
    "width": "349.091px"
   },
   "toc_section_display": true,
   "toc_window_display": false
  }
 },
 "nbformat": 4,
 "nbformat_minor": 4
}
