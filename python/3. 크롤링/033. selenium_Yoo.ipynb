{
 "cells": [
  {
   "cell_type": "markdown",
   "metadata": {},
   "source": [
    "- 구글 무비에서 영화 정보 가지고 오기"
   ]
  },
  {
   "cell_type": "code",
   "execution_count": 7,
   "metadata": {},
   "outputs": [
    {
     "name": "stdout",
     "output_type": "stream",
     "text": [
      "분노의 질주: 더 얼티메이트\n",
      "더 수어사이드 스쿼드\n",
      "블랙 위도우\n",
      "킬러의 보디가드 2: 킬러의 와이프\n",
      "콰이어트 플레이스 2\n",
      "Cruella\n",
      "루카\n",
      "어벤져스 : 엔드게임 (자막판)\n",
      "베놈   Venom\n",
      "스파이더맨: 파 프롬 홈 (자막판)\n"
     ]
    }
   ],
   "source": [
    "import requests\n",
    "from bs4 import BeautifulSoup\n",
    "\n",
    "url = \"https://play.google.com/store/movies/top\"\n",
    "headers = {\"User-Agent\":\"Mozilla/5.0 (Windows NT 10.0; Win64; x64) AppleWebKit/537.36 (KHTML, like Gecko) Chrome/92.0.4515.159 Safari/537.36\",\n",
    "          \"Accept-Language\":\"ko-KR,ko\"}\n",
    "res = requests.get(url, headers=headers)\n",
    "res.raise_for_status()\n",
    "soup =BeautifulSoup(res.text, \"lxml\")\n",
    "\n",
    "movies = soup.find_all(\"div\", class_=\"ImZGtf mpg5gc\")\n",
    "\n",
    "#print(len(movies))\n",
    "\n",
    "#with open(\"data4/google_movie.html\",\"w\", encoding=\"utf-8\") as f:\n",
    "#    f.write(res.text)\n",
    "\n",
    "for movie in movies :\n",
    "    title = movie.find(\"div\",class_=\"WsMG1c nnK0zc\").get_text()\n",
    "    print(title)"
   ]
  },
  {
   "cell_type": "code",
   "execution_count": null,
   "metadata": {},
   "outputs": [],
   "source": []
  },
  {
   "cell_type": "markdown",
   "metadata": {},
   "source": [
    "# selenium\n",
    "- 다양한 언어(C++, JAVA, 파이썬등..)에서 지원하며 사용자가 아닌 프로그램이 웹브라우저를 제어할 수 있도록 지원\n",
    "- 웹 브라우저마다 클라이언트 프로그램(Web Driver)이 별도로 필요\n",
    "- 크롤링 보다는 웹을 제어하는 목적이 더 큼\n",
    "- BeautifulSoup으로 접근하기 어려운 페이지를 Selenium으로 접속하여 BeautifulSoup으로 분석   \n",
    "<br><br>\n",
    "   \n",
    "<Selenium을 활용한 웹 크롤링과 스크래핑을 고려해야 하는 경우>\n",
    "- 화면에 렌더링 된 웹 페이지의 내용을 서버로부터 전송된 소스코드에서 찾을 수 없는 경우\n",
    "- 페이지 내의 링크를 클릭할 때 이동되는 페이지의 URL이 주소필드에 출력되지 않는경우\n",
    "- 웹 페이지를 크롤링 하기 전에 로그인 과정을 거쳐저 인증처리를 해야 하는 경우\n",
    "- 추출하려는 웹페이지의 내용이 스크롤 이벤트가 발생해야 화면에 출력되는 경우\n",
    "- 버튼을 클릭해야 웹페이지가 출력되는 경우"
   ]
  },
  {
   "cell_type": "markdown",
   "metadata": {},
   "source": [
    "## 1. WebDriver 설치\n",
    "- chrome 버전 확인: 크롬 맞춤 설계 및 제어 -> 도움말 -> chrome 정보에서 앞 두자리 기억   \n",
    "- chromedriver검색 -> 다운로드 -> charome버전, 운영체제에 맞는 driver 다운로드\n",
    "- 압축해제한 파일명은 수정하지 말 것."
   ]
  },
  {
   "cell_type": "code",
   "execution_count": 10,
   "metadata": {},
   "outputs": [
    {
     "name": "stdout",
     "output_type": "stream",
     "text": [
      "Collecting selenium\n",
      "  Downloading selenium-3.141.0-py2.py3-none-any.whl (904 kB)\n",
      "Requirement already satisfied: urllib3 in c:\\users\\ict06\\anaconda3\\lib\\site-packages (from selenium) (1.26.4)\n",
      "Installing collected packages: selenium\n",
      "Successfully installed selenium-3.141.0\n"
     ]
    }
   ],
   "source": [
    "!pip install selenium"
   ]
  },
  {
   "cell_type": "code",
   "execution_count": 1,
   "metadata": {},
   "outputs": [
    {
     "name": "stdout",
     "output_type": "stream",
     "text": [
      "webDriver 객체 :  <class 'selenium.webdriver.chrome.webdriver.WebDriver'>\n"
     ]
    }
   ],
   "source": [
    "from selenium import webdriver\n",
    "from selenium.webdriver.common.keys import Keys \n",
    "\n",
    "browser = webdriver.Chrome(\"data4/chromedriver.exe\")\n",
    "print(\"webDriver 객체 : \", type(browser))\n",
    "\n",
    "browser.get(\"http://www.google.com\")\n"
   ]
  },
  {
   "cell_type": "markdown",
   "metadata": {},
   "source": [
    "## 2. selenium 기본사용법\n",
    "### 2.1 WebDriver 객체 생성 \n",
    "- webdriver.Chrome('웹드라이브경로')\n",
    "- selenium에 의해 관리되는 크롬브라우저가 생성"
   ]
  },
  {
   "cell_type": "code",
   "execution_count": 45,
   "metadata": {},
   "outputs": [],
   "source": [
    "from selenium import webdriver\n",
    "from selenium.webdriver.common.keys import Keys \n",
    "\n",
    "browser = webdriver.Chrome(\"data4/chromedriver.exe\")\n"
   ]
  },
  {
   "cell_type": "markdown",
   "metadata": {},
   "source": [
    "### 2.2. 페이지 가져오기\n",
    "- **browser.get(\"url\")**\n",
    "- 크롤링하려는 웹 페이지를 제어하는 크롬 브라우저에 로드하고 렌더링 \n",
    "- selenium은 기본적으로 웹 자원들이 모두 로드될때까지 기다려주지만, 암묵적으로 모든 자원이 로드될때 까지 기다리게 하는 시간을 직접 implicitly_wait()을 통해 지정할 수 있다.\n",
    "- time.sleep() 과 다른 점은 페이지 로딩이 완료되었다면, 다음 코드를 바로 실행\n"
   ]
  },
  {
   "cell_type": "code",
   "execution_count": 2,
   "metadata": {},
   "outputs": [],
   "source": [
    "browser.get(\"http://www.google.com\")\n",
    "browser.implicitly_wait(3)\n",
    "browser.get(\"http://www.naver.com\")"
   ]
  },
  {
   "cell_type": "code",
   "execution_count": null,
   "metadata": {},
   "outputs": [],
   "source": []
  },
  {
   "cell_type": "markdown",
   "metadata": {},
   "source": [
    "## 3. 웹페이지 제어하기\n",
    "- 마우스 클릭 : click()\n",
    "- 키보드 입력 : send_keys()\n",
    "- 글자지움 : clear()\n",
    "- 뒤로가지 : back()\n",
    "- 앞으로가기 : forward()\n",
    "- 새로고침 : refresh()\n",
    "- 탭 종료 : close()\n",
    "- 브라우저 종료 :quit() \n"
   ]
  },
  {
   "cell_type": "code",
   "execution_count": 4,
   "metadata": {},
   "outputs": [
    {
     "data": {
      "text/plain": [
       "<selenium.webdriver.remote.webelement.WebElement (session=\"9d2f75550318c1adf34c68863c9527b5\", element=\"1b967870-c39b-4a93-808f-af89c65b917d\")>"
      ]
     },
     "execution_count": 4,
     "metadata": {},
     "output_type": "execute_result"
    }
   ],
   "source": [
    "browser.find_element_by_link_text(\"뉴스\")"
   ]
  },
  {
   "cell_type": "code",
   "execution_count": 3,
   "metadata": {},
   "outputs": [],
   "source": [
    "# 마우스 클릭\n",
    "target = browser.find_element_by_link_text(\"뉴스\")\n",
    "target.click()"
   ]
  },
  {
   "cell_type": "code",
   "execution_count": 40,
   "metadata": {},
   "outputs": [],
   "source": [
    "# 뒤로 이동\n",
    "browser.back()"
   ]
  },
  {
   "cell_type": "code",
   "execution_count": 32,
   "metadata": {},
   "outputs": [],
   "source": [
    "# 앞으로 이동\n",
    "browser.forward()"
   ]
  },
  {
   "cell_type": "code",
   "execution_count": 41,
   "metadata": {},
   "outputs": [],
   "source": [
    "from selenium.webdriver.common.keys import Keys\n",
    "\n",
    "# 검색어 입력\n",
    "target = browser.find_element_by_id(\"query\")\n",
    "target.clear()\n",
    "target.send_keys(\"파이썬\")\n",
    "target.send_keys(Keys.ENTER)\n"
   ]
  },
  {
   "cell_type": "code",
   "execution_count": 42,
   "metadata": {},
   "outputs": [],
   "source": [
    "# 새로고침\n",
    "browser.refresh()"
   ]
  },
  {
   "cell_type": "code",
   "execution_count": 43,
   "metadata": {},
   "outputs": [],
   "source": [
    "# 현재 탭 종료\n",
    "browser.close()"
   ]
  },
  {
   "cell_type": "code",
   "execution_count": 46,
   "metadata": {},
   "outputs": [],
   "source": [
    "# 브라우저 종료\n",
    "browser.quit()"
   ]
  },
  {
   "cell_type": "code",
   "execution_count": null,
   "metadata": {},
   "outputs": [],
   "source": []
  },
  {
   "cell_type": "code",
   "execution_count": null,
   "metadata": {},
   "outputs": [],
   "source": []
  },
  {
   "cell_type": "markdown",
   "metadata": {},
   "source": [
    "## 4. HTML로 접근하기(tag 찾기)"
   ]
  },
  {
   "cell_type": "markdown",
   "metadata": {},
   "source": [
    "### 4.1. 태그의 id 속성 값으로 찾기\n",
    "- find_element_by_id('속성값')"
   ]
  },
  {
   "cell_type": "code",
   "execution_count": 51,
   "metadata": {},
   "outputs": [],
   "source": [
    "browser = webdriver.Chrome(\"data4/chromedriver.exe\")\n",
    "browser.get(\"http://www.naver.com\")\n",
    "target = browser.find_element_by_id(\"query\")\n",
    "target.clear()\n",
    "target.send_keys(\"파이썬\")\n",
    "target.send_keys(Keys.ENTER)"
   ]
  },
  {
   "cell_type": "code",
   "execution_count": 52,
   "metadata": {
    "scrolled": true
   },
   "outputs": [],
   "source": [
    "import time\n",
    "\n",
    "browser.get(\"http://www.naver.com\")\n",
    "time.sleep(3)\n",
    "target = browser.find_element(\"id\",\"query\")\n",
    "target.clear()\n",
    "target.send_keys(\"파이썬\")\n",
    "time.sleep(3)\n",
    "target.send_keys(Keys.ENTER)"
   ]
  },
  {
   "cell_type": "markdown",
   "metadata": {},
   "source": [
    "### 4.2. 태그의 class 속성 값으로 찾기\n",
    "- find_element_by_class_name('속성값')"
   ]
  },
  {
   "cell_type": "code",
   "execution_count": 54,
   "metadata": {},
   "outputs": [],
   "source": [
    "browser.get(\"http://www.naver.com\")\n",
    "time.sleep(3)\n",
    "target = browser.find_element_by_class_name(\"input_text\")\n",
    "target.clear()\n",
    "target.send_keys(\"파이썬\")\n",
    "time.sleep(3)\n",
    "target.send_keys(Keys.ENTER)"
   ]
  },
  {
   "cell_type": "markdown",
   "metadata": {},
   "source": [
    "### 4.3. 태그명으로 찾기\n",
    "- find_element_by_tag_name('a')\n",
    "- 태그안에 속성값을 알고 싶을 때 : get_attribute(\"속성\")"
   ]
  },
  {
   "cell_type": "code",
   "execution_count": 57,
   "metadata": {},
   "outputs": [
    {
     "name": "stdout",
     "output_type": "stream",
     "text": [
      "https://www.naver.com/#newsstand\n",
      "https://www.naver.com/#themecast\n",
      "https://www.naver.com/#timesquare\n",
      "https://www.naver.com/#shopcast\n",
      "https://www.naver.com/#account\n",
      "https://whale.naver.com/banner/details/darkmode?=main&wpid=RydDy7\n",
      "https://installer-whale.pstatic.net/downloads/banner/RydDy7/WhaleSetup.exe\n",
      "https://www.naver.com/\n",
      "https://help.naver.com/support/welcomePage/guide.help\n",
      "https://jr.naver.com/\n",
      "https://happybean.naver.com/\n",
      "https://www.naver.com/#\n",
      "https://www.naver.com/#\n",
      "https://www.naver.com/#\n",
      "https://www.naver.com/#\n",
      "https://www.naver.com/#\n",
      "https://help.naver.com/support/alias/search/word/word_29.naver\n",
      "https://help.naver.com/support/alias/search/word/word_29.naver\n",
      "https://help.naver.com/support/service/main.help?serviceNo=605&categoryNo=1991\n",
      "https://www.naver.com/#\n",
      "https://www.naver.com/#\n",
      "https://help.naver.com/support/alias/search/word/word_16.naver\n",
      "https://www.naver.com/#\n",
      "https://help.naver.com/support/alias/search/word/word_16.naver\n",
      "https://nid.naver.com/nidlogin.login\n",
      "https://help.naver.com/support/alias/search/word/word_16.naver\n",
      "https://www.naver.com/#\n",
      "https://help.naver.com/support/service/main.help?serviceNo=605&categoryNo=1987\n",
      "https://help.naver.com/support/contents/contents.help?serviceNo=605&categoryNo=18215\n",
      "https://www.naver.com/#\n",
      "https://mail.naver.com/\n",
      "https://section.cafe.naver.com/\n",
      "https://section.blog.naver.com/\n",
      "https://kin.naver.com/\n",
      "https://shopping.naver.com/\n",
      "https://shoppinglive.naver.com/home\n",
      "https://order.pay.naver.com/home\n",
      "https://tv.naver.com/\n",
      "https://dict.naver.com/\n",
      "https://news.naver.com/\n",
      "https://finance.naver.com/\n",
      "https://land.naver.com/\n",
      "https://map.naver.com/\n",
      "https://vibe.naver.com/\n",
      "https://book.naver.com/\n",
      "https://comic.naver.com/\n",
      "https://www.naver.com/#\n",
      "https://www.naver.com/more.html\n",
      "https://www.naver.com/#\n",
      "https://www.naver.com/#\n",
      "https://www.naver.com/#\n",
      "https://weather.naver.com/today/02610112\n",
      "https://weather.naver.com/\n",
      "https://new-m.pay.naver.com/mycar/\n",
      "https://game.naver.com/\n",
      "https://booking.naver.com/booked/list\n",
      "https://contents.premium.naver.com/\n",
      "http://plus.naver.com/\n",
      "https://news.naver.com/\n",
      "https://datalab.naver.com/\n",
      "https://memo.naver.com/\n",
      "https://band.us/\n",
      "https://land.naver.com/\n",
      "https://bookmark.naver.com/\n",
      "https://sports.news.naver.com/\n",
      "https://series.naver.com/\n",
      "https://serieson.naver.com/\n",
      "https://expert.naver.com/\n",
      "https://movie.naver.com/\n",
      "https://audioclip.naver.com/\n",
      "https://office.naver.com/\n",
      "https://whale.naver.com/\n",
      "https://novel.naver.com/\n",
      "https://comic.naver.com/\n",
      "https://in.naver.com/\n",
      "https://auto.naver.com/\n",
      "https://contact.naver.com/\n",
      "https://finance.naver.com/\n",
      "https://map.naver.com/\n",
      "https://terms.naver.com/\n",
      "https://book.naver.com/\n",
      "https://calendar.naver.com/\n",
      "https://clovadubbing.naver.com/\n",
      "https://papago.naver.com/\n",
      "https://post.naver.com/\n",
      "https://academic.naver.com/\n",
      "https://beta-flight.naver.com/\n",
      "https://store.naver.com/hotels/main\n",
      "https://keep.naver.com/\n",
      "https://www.modoo.at/\n",
      "https://mybox.naver.com/\n",
      "https://me.naver.com/tab/news.nhn\n",
      "https://entertain.naver.com/home\n",
      "https://www.vlive.tv/\n",
      "https://vibe.naver.com/\n",
      "https://dict.naver.com/\n",
      "https://ko.dict.naver.com/\n",
      "https://endic.naver.com/\n",
      "https://ja.dict.naver.com/\n",
      "https://zh.dict.naver.com/\n",
      "https://hanja.dict.naver.com/\n",
      "https://dict.naver.com/\n",
      "http://news.naver.com/main/list.naver?mode=LPOD&mid=sec&sid1=001&sid2=140&oid=001&isYeonhapFlash=Y\n",
      "https://news.naver.com/main/list.naver?mode=LPOD&mid=sec&sid1=001&sid2=140&oid=001&isYeonhapFlash=Y&aid=0012644716\n",
      "http://news.naver.com/\n",
      "http://entertain.naver.com/home\n",
      "http://sports.news.naver.com/\n",
      "http://news.naver.com/main/main.nhn?mode=LSD&mid=shm&sid1=101\n",
      "http://newsstand.naver.com/\n",
      "https://www.naver.com/#\n",
      "https://www.naver.com/#\n",
      "https://www.naver.com/#\n",
      "https://www.naver.com/#\n",
      "http://newsstand.naver.com/config.html\n",
      "https://www.naver.com/#\n",
      "https://www.naver.com/#\n",
      "https://www.naver.com/#\n",
      "https://www.naver.com/#\n",
      "https://www.naver.com/#\n",
      "https://www.naver.com/#\n",
      "https://www.naver.com/#\n",
      "https://www.naver.com/#\n",
      "https://www.naver.com/#\n",
      "https://www.naver.com/#\n",
      "https://www.naver.com/#\n",
      "https://www.naver.com/#\n",
      "https://www.naver.com/#\n",
      "https://www.naver.com/#\n",
      "https://www.naver.com/#\n",
      "https://www.naver.com/#\n",
      "https://www.naver.com/#\n",
      "https://www.naver.com/#\n",
      "https://www.naver.com/#\n",
      "http://newsstand.naver.com/?list=&pcode=020\n",
      "https://www.naver.com/#\n",
      "https://www.naver.com/#\n",
      "https://www.naver.com/#\n",
      "http://newsstand.naver.com/?list=&pcode=327\n",
      "https://www.naver.com/#\n",
      "https://www.naver.com/#\n",
      "https://www.naver.com/#\n",
      "http://newsstand.naver.com/?list=&pcode=081\n",
      "https://www.naver.com/#\n",
      "https://www.naver.com/#\n",
      "https://www.naver.com/#\n",
      "http://newsstand.naver.com/?list=&pcode=293\n",
      "https://www.naver.com/#\n",
      "https://www.naver.com/#\n",
      "https://www.naver.com/#\n",
      "http://newsstand.naver.com/?list=&pcode=018\n",
      "https://www.naver.com/#\n",
      "https://www.naver.com/#\n",
      "https://www.naver.com/#\n",
      "http://newsstand.naver.com/?list=&pcode=009\n",
      "https://www.naver.com/#\n",
      "https://www.naver.com/#\n",
      "https://www.naver.com/#\n",
      "http://newsstand.naver.com/?list=&pcode=005\n",
      "https://www.naver.com/#\n",
      "https://www.naver.com/#\n",
      "https://www.naver.com/#\n",
      "http://newsstand.naver.com/?list=&pcode=117\n",
      "https://www.naver.com/#\n",
      "https://www.naver.com/#\n",
      "https://www.naver.com/#\n",
      "http://newsstand.naver.com/?list=&pcode=011\n",
      "https://www.naver.com/#\n",
      "https://www.naver.com/#\n",
      "https://www.naver.com/#\n",
      "http://newsstand.naver.com/?list=&pcode=025\n",
      "https://www.naver.com/#\n",
      "https://www.naver.com/#\n",
      "https://www.naver.com/#\n",
      "http://newsstand.naver.com/?list=&pcode=002\n",
      "https://www.naver.com/#\n",
      "https://www.naver.com/#\n",
      "https://www.naver.com/#\n",
      "http://newsstand.naver.com/?list=&pcode=215\n",
      "https://www.naver.com/#\n",
      "https://www.naver.com/#\n",
      "https://www.naver.com/#\n",
      "http://newsstand.naver.com/?list=&pcode=052\n",
      "https://www.naver.com/#\n",
      "https://www.naver.com/#\n",
      "https://www.naver.com/#\n",
      "http://newsstand.naver.com/?list=&pcode=214\n",
      "https://www.naver.com/#\n",
      "https://www.naver.com/#\n",
      "https://www.naver.com/#\n",
      "http://newsstand.naver.com/?list=&pcode=028\n",
      "https://www.naver.com/#\n",
      "https://www.naver.com/#\n",
      "https://www.naver.com/#\n",
      "http://newsstand.naver.com/?list=&pcode=338\n",
      "https://www.naver.com/#\n",
      "https://www.naver.com/#\n",
      "https://www.naver.com/#\n",
      "http://newsstand.naver.com/?list=&pcode=909\n",
      "https://www.naver.com/#\n",
      "https://www.naver.com/#\n",
      "https://www.naver.com/#\n",
      "http://newsstand.naver.com/?list=&pcode=387\n",
      "https://www.naver.com/#\n",
      "https://www.naver.com/#\n",
      "https://www.naver.com/#\n",
      "http://newsstand.naver.com/?list=&pcode=013\n",
      "https://www.naver.com/#\n",
      "https://www.naver.com/#\n",
      "https://www.naver.com/#\n",
      "http://newsstand.naver.com/?list=&pcode=539\n",
      "https://www.naver.com/#\n",
      "https://www.naver.com/#\n",
      "https://www.naver.com/#\n",
      "http://newsstand.naver.com/?list=&pcode=529\n",
      "https://www.naver.com/#\n",
      "https://www.naver.com/#\n",
      "https://www.naver.com/#\n",
      "http://newsstand.naver.com/?list=&pcode=915\n",
      "https://www.naver.com/#\n",
      "https://www.naver.com/#\n",
      "https://www.naver.com/#\n",
      "http://newsstand.naver.com/?list=&pcode=963\n",
      "https://www.naver.com/#\n",
      "https://www.naver.com/#\n",
      "https://www.naver.com/#\n",
      "http://newsstand.naver.com/?list=&pcode=354\n",
      "https://www.naver.com/#\n",
      "https://www.naver.com/#\n",
      "https://www.naver.com/#\n",
      "https://www.naver.com/#\n",
      "https://www.naver.com/#\n",
      "https://www.naver.com/#\n",
      "https://www.naver.com/#\n",
      "https://www.naver.com/#\n",
      "https://www.naver.com/#\n",
      "https://www.naver.com/#\n",
      "https://www.naver.com/#\n",
      "https://www.naver.com/#\n",
      "https://www.naver.com/#\n",
      "https://www.naver.com/#\n",
      "https://www.naver.com/#\n",
      "https://www.naver.com/#\n",
      "https://www.naver.com/#\n",
      "https://www.naver.com/#\n",
      "https://www.naver.com/#\n",
      "http://newsstand.naver.com/config.html\n",
      "https://www.naver.com/#\n",
      "https://www.naver.com/#\n",
      "https://www.naver.com/#\n",
      "https://www.naver.com/#\n",
      "https://www.naver.com/#\n",
      "https://www.naver.com/#\n",
      "https://www.naver.com/#\n",
      "https://www.naver.com/#\n",
      "https://www.naver.com/#\n",
      "https://www.naver.com/#\n",
      "https://www.naver.com/#\n",
      "https://www.naver.com/#\n",
      "https://www.naver.com/#\n",
      "https://www.naver.com/#\n",
      "https://www.naver.com/#\n",
      "https://www.naver.com/#\n",
      "https://www.naver.com/#\n",
      "https://www.naver.com/#\n",
      "https://www.naver.com/#\n",
      "https://www.naver.com/#\n",
      "https://www.naver.com/#\n",
      "https://www.naver.com/#\n",
      "https://www.naver.com/#\n",
      "https://www.naver.com/#\n",
      "https://www.naver.com/#\n",
      "https://www.naver.com/#\n",
      "https://www.naver.com/#\n",
      "https://www.naver.com/#\n",
      "https://www.naver.com/#\n",
      "https://blog.naver.com/kingeyeyy/222079674825\n",
      "https://blog.naver.com/kingeyeyy/222079674825\n",
      "https://blog.naver.com/openbooks21/222491469732\n",
      "https://blog.naver.com/openbooks21/222491469732\n",
      "https://blog.naver.com/winglove1/222491412108\n",
      "https://blog.naver.com/winglove1/222491412108\n",
      "https://post.naver.com/viewer/postView.naver?volumeNo=32274064&memberNo=956644\n",
      "https://post.naver.com/viewer/postView.naver?volumeNo=32274064&memberNo=956644\n",
      "https://post.naver.com/viewer/postView.naver?volumeNo=31934023&memberNo=35122575&navigationType=push\n",
      "https://post.naver.com/viewer/postView.naver?volumeNo=31934023&memberNo=35122575&navigationType=push\n",
      "https://www.naver.com/#\n",
      "https://www.naver.com/#\n"
     ]
    },
    {
     "name": "stdout",
     "output_type": "stream",
     "text": [
      "http://book.naver.com/bookdb/book_detail.nhn?bid=20653532\n",
      "http://book.naver.com/bookdb/book_detail.nhn?bid=19618143\n",
      "http://book.naver.com/bookdb/book_detail.nhn?bid=20777131\n",
      "http://book.naver.com/bookdb/book_detail.nhn?bid=20875273\n",
      "http://book.naver.com/bookdb/book_detail.nhn?bid=20883676\n",
      "http://book.naver.com/bookdb/book_detail.nhn?bid=20777131\n",
      "http://book.naver.com/bookdb/book_detail.nhn?bid=16405427\n",
      "http://book.naver.com/bookdb/book_detail.nhn?bid=20875273\n",
      "http://book.naver.com/bookdb/book_detail.nhn?bid=20861777\n",
      "http://book.naver.com/bookdb/book_detail.nhn?bid=20657805\n",
      "http://book.naver.com/bookdb/book_detail.nhn?bid=20888755\n",
      "http://book.naver.com/bookdb/book_detail.nhn?bid=20888427\n",
      "http://book.naver.com/bookdb/book_detail.nhn?bid=20883676\n",
      "http://book.naver.com/bookdb/book_detail.nhn?bid=20777131\n",
      "http://book.naver.com/bookdb/book_detail.nhn?bid=20825320\n",
      "http://book.naver.com/bookdb/book_detail.nhn?bid=20777131\n",
      "http://book.naver.com/bookdb/book_detail.nhn?bid=18899557\n",
      "http://book.naver.com/bookdb/book_detail.nhn?bid=20875273\n",
      "http://book.naver.com/bookdb/book_detail.nhn?bid=16405427\n",
      "http://book.naver.com/bookdb/book_detail.nhn?bid=15972353\n",
      "http://book.naver.com/bookdb/book_detail.nhn?bid=20653532\n",
      "http://book.naver.com/bookdb/book_detail.nhn?bid=19618143\n",
      "http://book.naver.com/bookdb/book_detail.nhn?bid=20777131\n",
      "http://book.naver.com/bookdb/book_detail.nhn?bid=20875273\n",
      "http://book.naver.com/bookdb/book_detail.nhn?bid=20883676\n",
      "http://book.naver.com/bookdb/book_detail.nhn?bid=20777131\n",
      "http://book.naver.com/bookdb/book_detail.nhn?bid=16405427\n",
      "http://book.naver.com/bookdb/book_detail.nhn?bid=20875273\n",
      "http://book.naver.com/bookdb/book_detail.nhn?bid=20861777\n",
      "http://book.naver.com/bookdb/book_detail.nhn?bid=20657805\n",
      "http://book.naver.com/bookdb/book_detail.nhn?bid=20888755\n",
      "http://book.naver.com/bookdb/book_detail.nhn?bid=20888427\n",
      "http://book.naver.com/bookdb/book_detail.nhn?bid=20883676\n",
      "http://book.naver.com/bookdb/book_detail.nhn?bid=20777131\n",
      "http://book.naver.com/bookdb/book_detail.nhn?bid=20825320\n",
      "http://book.naver.com/bookdb/book_detail.nhn?bid=20777131\n",
      "http://book.naver.com/bookdb/book_detail.nhn?bid=18899557\n",
      "http://book.naver.com/bookdb/book_detail.nhn?bid=20875273\n",
      "http://book.naver.com/bookdb/book_detail.nhn?bid=16405427\n",
      "http://book.naver.com/bookdb/book_detail.nhn?bid=15972353\n",
      "https://post.naver.com/viewer/postView.naver?volumeNo=32089720&memberNo=24850609&navigationType=push\n",
      "https://post.naver.com/viewer/postView.naver?volumeNo=32089720&memberNo=24850609&navigationType=push\n",
      "https://post.naver.com/viewer/postView.naver?volumeNo=32200971&memberNo=5184&vType=VERTICAL\n",
      "https://post.naver.com/viewer/postView.naver?volumeNo=32200971&memberNo=5184&vType=VERTICAL\n",
      "https://post.naver.com/viewer/postView.naver?volumeNo=32105210&memberNo=8914554&vType=VERTICAL\n",
      "https://post.naver.com/viewer/postView.naver?volumeNo=32105210&memberNo=8914554&vType=VERTICAL\n",
      "https://post.naver.com/viewer/postView.naver?volumeNo=32180969&memberNo=39777151&navigationType=push\n",
      "https://post.naver.com/viewer/postView.naver?volumeNo=32180969&memberNo=39777151&navigationType=push\n",
      "https://blog.naver.com/dongasiabook/222489979380\n",
      "https://blog.naver.com/dongasiabook/222489979380\n",
      "https://post.naver.com/viewer/postView.naver?volumeNo=32227299&memberNo=1192430&navigationType=push\n",
      "https://post.naver.com/viewer/postView.naver?volumeNo=32227299&memberNo=1192430&navigationType=push\n",
      "https://post.naver.com/viewer/postView.naver?volumeNo=32254454&memberNo=16714554\n",
      "https://post.naver.com/viewer/postView.naver?volumeNo=32254454&memberNo=16714554\n",
      "https://post.naver.com/viewer/postView.naver?volumeNo=32251609&memberNo=35799573&navigationType=push\n",
      "https://post.naver.com/viewer/postView.naver?volumeNo=32251609&memberNo=35799573&navigationType=push\n",
      "https://post.naver.com/viewer/postView.naver?volumeNo=32299273&memberNo=35799573&navigationType=push\n",
      "https://post.naver.com/viewer/postView.naver?volumeNo=32299273&memberNo=35799573&navigationType=push\n",
      "https://blog.naver.com/nv_bc/222112020416\n",
      "https://blog.naver.com/nv_bc/222112020416\n",
      "https://post.naver.com/viewer/postView.naver?volumeNo=32275539&memberNo=48554315\n",
      "https://post.naver.com/viewer/postView.naver?volumeNo=32275539&memberNo=48554315\n",
      "https://post.naver.com/viewer/postView.naver?volumeNo=32253632&memberNo=48554315\n",
      "https://post.naver.com/viewer/postView.naver?volumeNo=32253632&memberNo=48554315\n",
      "https://post.naver.com/viewer/postView.naver?volumeNo=32249481&memberNo=1101&navigationType=push\n",
      "https://post.naver.com/viewer/postView.naver?volumeNo=32249481&memberNo=1101&navigationType=push\n",
      "https://blog.naver.com/seoul_library/222326169998\n",
      "https://blog.naver.com/seoul_library/222326169998\n",
      "https://blog.naver.com/seoul_library/222375430253\n",
      "https://blog.naver.com/seoul_library/222375430253\n",
      "https://blog.naver.com/nv_bc/222189179889\n",
      "https://blog.naver.com/nv_bc/222189179889\n",
      "https://blog.naver.com/uniknak/222479817897\n",
      "https://blog.naver.com/uniknak/222479817897\n",
      "https://post.naver.com/viewer/postView.naver?volumeNo=32266557&memberNo=48554315\n",
      "https://post.naver.com/viewer/postView.naver?volumeNo=32266557&memberNo=48554315\n",
      "https://blog.naver.com/seoul_library/222413799259\n",
      "https://blog.naver.com/seoul_library/222413799259\n",
      "https://post.naver.com/viewer/postView.naver?volumeNo=32254843&memberNo=48554315\n",
      "https://post.naver.com/viewer/postView.naver?volumeNo=32254843&memberNo=48554315\n",
      "https://post.naver.com/viewer/postView.naver?volumeNo=32206688&memberNo=607398&navigationType=push\n",
      "https://post.naver.com/viewer/postView.naver?volumeNo=32206688&memberNo=607398&navigationType=push\n",
      "https://post.naver.com/viewer/postView.naver?volumeNo=32205106&memberNo=6495282&navigationType=push\n",
      "https://post.naver.com/viewer/postView.naver?volumeNo=32205106&memberNo=6495282&navigationType=push\n",
      "https://blog.naver.com/seolae929/222473305920\n",
      "https://blog.naver.com/seolae929/222473305920\n",
      "https://blog.naver.com/naturian/222483509870\n",
      "https://blog.naver.com/naturian/222483509870\n",
      "https://blog.naver.com/apollonkim/222481278883\n",
      "https://blog.naver.com/apollonkim/222481278883\n",
      "https://post.naver.com/viewer/postView.naver?volumeNo=32181043&memberNo=11944940&navigationType=push\n",
      "https://post.naver.com/viewer/postView.naver?volumeNo=32181043&memberNo=11944940&navigationType=push\n",
      "https://post.naver.com/viewer/postView.naver?volumeNo=32105210&memberNo=8914554&navigationType=push\n",
      "https://post.naver.com/viewer/postView.naver?volumeNo=32105210&memberNo=8914554&navigationType=push\n",
      "https://blog.naver.com/daon_elly/222380774372\n",
      "https://blog.naver.com/daon_elly/222380774372\n",
      "https://blog.naver.com/sw_love_em/222406931767\n",
      "https://blog.naver.com/sw_love_em/222406931767\n",
      "https://blog.naver.com/bestoho/222425820106\n",
      "https://blog.naver.com/bestoho/222425820106\n",
      "https://blog.naver.com/03x24/222421481667\n",
      "https://blog.naver.com/03x24/222421481667\n",
      "https://blog.naver.com/hl4gnn/222417346499\n",
      "https://blog.naver.com/hl4gnn/222417346499\n",
      "https://blog.naver.com/kenoop/221514454627\n",
      "https://blog.naver.com/kenoop/221514454627\n",
      "https://blog.naver.com/thmap/222364029519\n",
      "https://blog.naver.com/thmap/222364029519\n",
      "https://post.naver.com/viewer/postView.naver?volumeNo=32184000&memberNo=3336&searchKeyword=%25EB%25A7%2588%25EC%259D%258C%25EC%259D%2598%2520%25EC%2597%25B0%25EA%25B8%2588%25EC%2588%25A0&searchRank=1\n",
      "https://post.naver.com/viewer/postView.naver?volumeNo=32184000&memberNo=3336&searchKeyword=%25EB%25A7%2588%25EC%259D%258C%25EC%259D%2598%2520%25EC%2597%25B0%25EA%25B8%2588%25EC%2588%25A0&searchRank=1\n",
      "https://blog.naver.com/withtipo/222473589915\n",
      "https://blog.naver.com/withtipo/222473589915\n",
      "https://blog.naver.com/msql/221866772789\n",
      "https://blog.naver.com/msql/221866772789\n",
      "https://blog.naver.com/hdmhbook/222483474718\n",
      "https://blog.naver.com/hdmhbook/222483474718\n",
      "https://blog.naver.com/ehbook/222481210756\n",
      "https://blog.naver.com/ehbook/222481210756\n",
      "https://blog.naver.com/marsgo/222040441818\n",
      "https://blog.naver.com/marsgo/222040441818\n",
      "https://blog.naver.com/leighbureau/80201124869\n",
      "https://blog.naver.com/leighbureau/80201124869\n",
      "https://blog.naver.com/ssian21/222480047379\n",
      "https://blog.naver.com/ssian21/222480047379\n",
      "https://blog.naver.com/sunny_1010/222131864369\n",
      "https://blog.naver.com/sunny_1010/222131864369\n",
      "https://post.naver.com/viewer/postView.naver?volumeNo=32298237&memberNo=1101&navigationType=push\n",
      "https://post.naver.com/viewer/postView.naver?volumeNo=32298237&memberNo=1101&navigationType=push\n",
      "https://blog.naver.com/bestoho/222303800620\n",
      "https://blog.naver.com/bestoho/222303800620\n",
      "https://blog.naver.com/dwci_hbls/222473185099\n",
      "https://blog.naver.com/dwci_hbls/222473185099\n",
      "https://blog.naver.com/twinkaka/222426455292\n",
      "https://blog.naver.com/twinkaka/222426455292\n",
      "https://blog.naver.com/pinkpinkanna/222416519516\n",
      "https://blog.naver.com/pinkpinkanna/222416519516\n",
      "https://blog.naver.com/iammentor/222466629541\n",
      "https://blog.naver.com/iammentor/222466629541\n",
      "https://blog.naver.com/569215/222478336397\n",
      "https://blog.naver.com/569215/222478336397\n",
      "https://blog.naver.com/hl4gnn/222373525912\n",
      "https://blog.naver.com/hl4gnn/222373525912\n",
      "https://blog.naver.com/lotusksm/222428465395\n",
      "https://blog.naver.com/lotusksm/222428465395\n",
      "https://blog.naver.com/eyoooo/222437341439\n",
      "https://blog.naver.com/eyoooo/222437341439\n",
      "https://blog.naver.com/nv_bc/222189182092\n",
      "https://blog.naver.com/nv_bc/222189182092\n",
      "https://blog.naver.com/thefirstrain/222443608389\n",
      "https://blog.naver.com/thefirstrain/222443608389\n",
      "https://nid.naver.com/nidlogin.login?mode=form&url=https%3A%2F%2Fwww.naver.com\n",
      "https://nid.naver.com/user/help.nhn?todo=idinquiry\n",
      "https://nid.naver.com/nidreminder.form\n",
      "https://nid.naver.com/nidregister.form?url=https%3A%2F%2Fwww.naver.com\n",
      "https://www.naver.com/#\n",
      "https://www.naver.com/#\n",
      "https://search.naver.com/search.naver?sm=top_hty&fbm=0&ie=utf8&query=%EC%BD%94%EB%A1%9C%EB%82%9819\n",
      "https://www.naver.com/#wrap\n",
      "https://www.naver.com/NOTICE\n",
      "https://www.naver.com/more.html\n"
     ]
    },
    {
     "name": "stdout",
     "output_type": "stream",
     "text": [
      "https://www.navercorp.com/service/creators\n",
      "https://www.navercorp.com/service/business\n",
      "https://campaign.naver.com/smefullcare/online/\n",
      "https://business.naver.com/service.html\n",
      "https://sell.storefarm.naver.com/#/home/about\n",
      "https://smartplace.naver.com/\n",
      "https://expert.naver.com/expert/introduction?tab=guide#join\n",
      "https://developers.naver.com/\n",
      "https://developers.naver.com/docs/common/openapiguide/#/apilist.md\n",
      "https://naver.github.io/\n",
      "https://d2.naver.com/\n",
      "http://d2startup.com/\n",
      "https://www.naverlabs.com/\n",
      "http://whale.naver.com/\n",
      "http://whale.naver.com/\n",
      "https://search.naver.com/search.naver?where=nexearch&sm=top_hty&fbm=1&ie=utf8&query=%ED%94%84%EB%A1%9C%EC%A0%9D%ED%8A%B8%EA%BD%83\n",
      "https://search.naver.com/search.naver?where=nexearch&sm=top_hty&fbm=1&ie=utf8&query=%ED%94%84%EB%A1%9C%EC%A0%9D%ED%8A%B8%EA%BD%83\n",
      "https://www.navercorp.com/\n",
      "https://recruit.navercorp.com/naver/recruitMain\n",
      "https://www.navercorp.com/naver/proposalGuide\n",
      "https://www.naver.com/policy/service.html\n",
      "https://www.naver.com/policy/privacy.html\n",
      "https://www.naver.com/policy/youthpolicy.html\n",
      "https://www.naver.com/policy/spamcheck.html\n",
      "https://help.naver.com/\n",
      "https://www.navercorp.com/\n"
     ]
    }
   ],
   "source": [
    "browser.get(\"http://www.naver.com\")\n",
    "#time.sleep(3)\n",
    "targets = browser.find_elements_by_tag_name(\"a\")\n",
    "\n",
    "for target in targets :\n",
    "    print(target.get_attribute(\"href\"))\n",
    "    "
   ]
  },
  {
   "cell_type": "markdown",
   "metadata": {},
   "source": [
    "### 4.4. 링크 텍스트로 태그 찾기"
   ]
  },
  {
   "cell_type": "code",
   "execution_count": 58,
   "metadata": {},
   "outputs": [],
   "source": [
    "browser.get(\"http://www.naver.com\")\n",
    "\n",
    "target = browser.find_element_by_link_text(\"뉴스\")\n",
    "target.click()"
   ]
  },
  {
   "cell_type": "markdown",
   "metadata": {},
   "source": [
    "### 4.5. Xpath로 태그찾기\n",
    "- find_element_by_xpath('xpath')"
   ]
  },
  {
   "cell_type": "code",
   "execution_count": 59,
   "metadata": {},
   "outputs": [],
   "source": [
    "browser.get(\"http://www.naver.com\")\n",
    "target = browser.find_element_by_xpath('//*[@id=\"query\"]')\n",
    "target.send_keys(\"파이썬\")\n",
    "time.sleep(3)\n",
    "target.send_keys(Keys.ENTER)"
   ]
  },
  {
   "cell_type": "code",
   "execution_count": null,
   "metadata": {},
   "outputs": [],
   "source": []
  },
  {
   "cell_type": "code",
   "execution_count": null,
   "metadata": {},
   "outputs": [],
   "source": []
  },
  {
   "cell_type": "markdown",
   "metadata": {},
   "source": [
    "## 5. 구글 무비 크롤링\n",
    "- 구글무비사이트에서 할인하는 영화정보 가지고 오기\n",
    "- 동적페이지 : 처음에 모든 페이지가 불러와지는게 아니고 사용자가 어떤 액션을 취하면 불러와 지는 페이지"
   ]
  },
  {
   "cell_type": "markdown",
   "metadata": {},
   "source": [
    "- 타이틀 가져오기"
   ]
  },
  {
   "cell_type": "code",
   "execution_count": 60,
   "metadata": {},
   "outputs": [
    {
     "name": "stdout",
     "output_type": "stream",
     "text": [
      "분노의 질주: 더 얼티메이트\n",
      "더 수어사이드 스쿼드\n",
      "블랙 위도우\n",
      "킬러의 보디가드 2: 킬러의 와이프\n",
      "콰이어트 플레이스 2\n",
      "Cruella\n",
      "루카\n",
      "어벤져스 : 엔드게임 (자막판)\n",
      "베놈   Venom\n",
      "스파이더맨: 파 프롬 홈 (자막판)\n"
     ]
    }
   ],
   "source": [
    "import requests\n",
    "from bs4 import BeautifulSoup\n",
    "\n",
    "url = \"https://play.google.com/store/movies/top\"\n",
    "headers = {\"User-Agent\":\"Mozilla/5.0 (Windows NT 10.0; Win64; x64) AppleWebKit/537.36 (KHTML, like Gecko) Chrome/92.0.4515.159 Safari/537.36\",\n",
    "          \"Accept-Language\":\"ko-KR,ko\"}\n",
    "res = requests.get(url, headers=headers)\n",
    "res.raise_for_status()\n",
    "soup =BeautifulSoup(res.text, \"lxml\")\n",
    "\n",
    "movies = soup.find_all(\"div\", class_=\"ImZGtf mpg5gc\")\n",
    "\n",
    "#print(len(movies))\n",
    "\n",
    "#with open(\"data4/google_movie.html\",\"w\", encoding=\"utf-8\") as f:\n",
    "#    f.write(res.text)\n",
    "\n",
    "for movie in movies :\n",
    "    title = movie.find(\"div\",class_=\"WsMG1c nnK0zc\").get_text()\n",
    "    print(title)\n"
   ]
  },
  {
   "cell_type": "markdown",
   "metadata": {},
   "source": [
    "- selenuim을 통해 동적페이지 크롤링 하기(구글무비)\n"
   ]
  },
  {
   "cell_type": "code",
   "execution_count": 63,
   "metadata": {},
   "outputs": [],
   "source": [
    "from selenium import webdriver\n",
    "import time\n",
    "\n",
    "browser = webdriver.Chrome(\"data4/chromedriver.exe\")\n",
    "browser.maximize_window()  # 창최대화\n",
    "\n",
    "# 페이지 이동\n",
    "url = \"https://play.google.com/store/movies/top\"\n",
    "browser.get(url)"
   ]
  },
  {
   "cell_type": "code",
   "execution_count": 64,
   "metadata": {},
   "outputs": [],
   "source": [
    "# 지정한 위치로 스크롤 내리기\n",
    "# 모니터(해상도) 높이만큼 스크롤 내리기 \n",
    "# window.scrollTo(0, 1080)\n",
    "\n",
    "# 자바스크립트로 스크롤 내리기\n",
    "time.sleep(1)\n",
    "browser.execute_script(\"window.scrollTo(0, 1080)\")  # 세로로 1080만큼 내리는 명령\n",
    "time.sleep(1)\n",
    "browser.execute_script(\"window.scrollTo(0, 2080)\")\n",
    "time.sleep(1)\n",
    "browser.execute_script(\"window.scrollTo(0, 0)\")"
   ]
  },
  {
   "cell_type": "code",
   "execution_count": 67,
   "metadata": {},
   "outputs": [],
   "source": [
    "# 화면 끝까지 스크롤 내리기\n",
    "#window.scrollTo(0, document.body.scrollHeight)\n",
    "browser = webdriver.Chrome(\"data4/chromedriver.exe\")\n",
    "browser.maximize_window()\n",
    "\n",
    "# 페이지 이동\n",
    "url = \"https://play.google.com/store/movies/top\"\n",
    "browser.get(url)\n",
    "\n",
    "time.sleep(2)\n",
    "browser.execute_script(\"window.scrollTo(0, document.body.scrollHeight)\")"
   ]
  },
  {
   "cell_type": "code",
   "execution_count": 74,
   "metadata": {
    "scrolled": true
   },
   "outputs": [
    {
     "name": "stdout",
     "output_type": "stream",
     "text": [
      "5486 4752\n",
      "4752 6452\n",
      "6452 8152\n",
      "8152 8152\n",
      "스크롤 완료\n"
     ]
    }
   ],
   "source": [
    "# 2초 간격으로 스크롤 내리기\n",
    "#\"return document.body.scrollHeight\"\n",
    "\n",
    "browser = webdriver.Chrome(\"data4/chromedriver.exe\")\n",
    "browser.maximize_window()\n",
    "\n",
    "# 페이지 이동\n",
    "url = \"https://play.google.com/store/movies/top\"\n",
    "browser.get(url)\n",
    "\n",
    "front_height = browser.execute_script(\"return document.body.scrollHeight\")\n",
    "#print(front_height)\n",
    "\n",
    "while True :\n",
    "    # 스크롤을 가장 아래로 내림\n",
    "    browser.execute_script(\"window.scrollTo(0, document.body.scrollHeight)\")\n",
    "    \n",
    "    time.sleep(2)\n",
    "    \n",
    "    curr_height = browser.execute_script(\"return document.body.scrollHeight\")\n",
    "    print(front_height, curr_height)\n",
    "    \n",
    "    if front_height == curr_height : break \n",
    "        \n",
    "    front_height = curr_height\n",
    "        \n",
    "print('스크롤 완료')"
   ]
  },
  {
   "cell_type": "markdown",
   "metadata": {},
   "source": [
    "- 할인하는 영화정보 가져오기"
   ]
  },
  {
   "cell_type": "code",
   "execution_count": null,
   "metadata": {},
   "outputs": [],
   "source": [
    "def scrape_it_news():\n",
    "    print(\"[IT뉴스]\")\n",
    "    url = \"https://news.naver.com/main/list.naver?mode=LS2D&mid=shm&sid1=105&sid2=230\"\n",
    "    soup = create_soup(url)\n",
    "    \n",
    "    news_list = soup.find(\"ul\", class_=\"type06_headline\").find_all(\"li\",limit=3)\n",
    "    for idx, news in enumerate(news_list) :\n",
    "        a_idx = 0\n",
    "        img = news.find(\"img\")\n",
    "        \n",
    "        # img 태그가 있으면 1번째 a태그의 정보를 사용\n",
    "        if img : \n",
    "            a_idx =1\n",
    "        a_tag = news.find_all(\"a\")[a_idx]\n",
    "        title = a_tag.get_text().strip()\n",
    "        link = a_tag[\"href\"]\n",
    "        print_news(idx, title, link)"
   ]
  },
  {
   "cell_type": "code",
   "execution_count": 106,
   "metadata": {
    "scrolled": false
   },
   "outputs": [
    {
     "name": "stdout",
     "output_type": "stream",
     "text": [
      "콰이어트 플레이스 2 ₩5,000 https://play.google.com//store/movies/details/%EC%BD%B0%EC%9D%B4%EC%96%B4%ED%8A%B8_%ED%94%8C%EB%A0%88%EC%9D%B4%EC%8A%A4_2?id=aDcBkk_fwLQ.P\n",
      "고질라 VS. 콩 ₩2,500 https://play.google.com//store/movies/details/%EA%B3%A0%EC%A7%88%EB%9D%BC_VS_%EC%BD%A9?id=bKfIMqA5r6Q.P\n",
      "캐시트럭 ₩5,000 https://play.google.com//store/movies/details/%EC%BA%90%EC%8B%9C%ED%8A%B8%EB%9F%AD?id=g4EFCqXUBAk.P\n",
      "스페이스 잼: 새로운 시대 ₩9,900 https://play.google.com//store/movies/details/%EC%8A%A4%ED%8E%98%EC%9D%B4%EC%8A%A4_%EC%9E%BC_%EC%83%88%EB%A1%9C%EC%9A%B4_%EC%8B%9C%EB%8C%80?id=Rjj97EQD0xU.P\n",
      "라야와 마지막 드래곤 ₩7,150 https://play.google.com//store/movies/details/%EB%9D%BC%EC%95%BC%EC%99%80_%EB%A7%88%EC%A7%80%EB%A7%89_%EB%93%9C%EB%9E%98%EA%B3%A4?id=mOj6B2R2qfo.P\n",
      "아바타 ₩4,150 https://play.google.com//store/movies/details/%EC%95%84%EB%B0%94%ED%83%80?id=p77isaDAKpM\n",
      "위대한 쇼맨 (자막판) ₩4,900 https://play.google.com//store/movies/details/%EC%9C%84%EB%8C%80%ED%95%9C_%EC%87%BC%EB%A7%A8_%EC%9E%90%EB%A7%89%ED%8C%90?id=Xg0IY-rRzAE\n",
      "아이스로드 ₩7,000 https://play.google.com//store/movies/details/%EC%95%84%EC%9D%B4%EC%8A%A4%EB%A1%9C%EB%93%9C?id=fY-OWRuCYVY.P\n",
      "발신제한 ₩7,700 https://play.google.com//store/movies/details/%EB%B0%9C%EC%8B%A0%EC%A0%9C%ED%95%9C?id=V2mLsH1DXjE.P\n",
      "방법:재차의 ₩7,700 https://play.google.com//store/movies/details/%EB%B0%A9%EB%B2%95_%EC%9E%AC%EC%B0%A8%EC%9D%98?id=inpI0YjwyP4.P\n",
      "포드 V 페라리 (자막판) ₩5,300 https://play.google.com//store/movies/details/%ED%8F%AC%EB%93%9C_V_%ED%8E%98%EB%9D%BC%EB%A6%AC_%EC%9E%90%EB%A7%89%ED%8C%90?id=80juQ7aaApQ\n",
      "메이즈 러너: 데스 큐어 (자막판) ₩4,900 https://play.google.com//store/movies/details/%EB%A9%94%EC%9D%B4%EC%A6%88_%EB%9F%AC%EB%84%88_%EB%8D%B0%EC%8A%A4_%ED%81%90%EC%96%B4_%EC%9E%90%EB%A7%89%ED%8C%90?id=2noH4ZoA8lU\n",
      "데드풀2 (자막판) ₩4,900 https://play.google.com//store/movies/details/%EB%8D%B0%EB%93%9C%ED%92%802_%EC%9E%90%EB%A7%89%ED%8C%90?id=c614X6POqbw\n",
      "1917 ₩1,000 https://play.google.com//store/movies/details/1917?id=hwM8em318sg.P\n",
      "인 더 하이츠 ₩9,900 https://play.google.com//store/movies/details/%EC%9D%B8_%EB%8D%94_%ED%95%98%EC%9D%B4%EC%B8%A0?id=x-MecAl_8JI.P\n",
      "해리포터 시리즈 완결 패키지 ₩18,900 https://play.google.com//store/movies/details/%ED%95%B4%EB%A6%AC%ED%8F%AC%ED%84%B0_%EC%8B%9C%EB%A6%AC%EC%A6%88_%EC%99%84%EA%B2%B0_%ED%8C%A8%ED%82%A4%EC%A7%80?id=DsVgRu5dDdY\n",
      "리스타트 ₩2,500 https://play.google.com//store/movies/details/%EB%A6%AC%EC%8A%A4%ED%83%80%ED%8A%B8?id=1g8Tj70PAdA.P\n",
      "알리타: 배틀 엔젤 (자막판) ₩4,900 https://play.google.com//store/movies/details/%EC%95%8C%EB%A6%AC%ED%83%80_%EB%B0%B0%ED%8B%80_%EC%97%94%EC%A0%A4_%EC%9E%90%EB%A7%89%ED%8C%90?id=z11gdNqADGM\n",
      "CCTV ₩4,500 https://play.google.com//store/movies/details/CCTV?id=YDXIoIAUL2I.P\n",
      "체르노빌1986 ₩4,500 https://play.google.com//store/movies/details/%EC%B2%B4%EB%A5%B4%EB%85%B8%EB%B9%8C1986?id=p8kzo5rwOH4.P\n",
      "노매드랜드 ₩8,650 https://play.google.com//store/movies/details/%EB%85%B8%EB%A7%A4%EB%93%9C%EB%9E%9C%EB%93%9C?id=sl8GyBsX4iU.P\n",
      "마션 ₩4,900 https://play.google.com//store/movies/details/%EB%A7%88%EC%85%98?id=w6w6sxUI1zE\n",
      "더 그레이트 샤크 ₩5,000 https://play.google.com//store/movies/details/%EB%8D%94_%EA%B7%B8%EB%A0%88%EC%9D%B4%ED%8A%B8_%EC%83%A4%ED%81%AC?id=O1yW86Kfc7g.P\n",
      "나 홀로 집에 ₩4,150 https://play.google.com//store/movies/details/%EB%82%98_%ED%99%80%EB%A1%9C_%EC%A7%91%EC%97%90?id=2dIY2PcBVnM.P\n",
      "자산어보 ₩2,500 https://play.google.com//store/movies/details/%EC%9E%90%EC%82%B0%EC%96%B4%EB%B3%B4?id=pdspSmU0LGY.P\n",
      "범블비  (자막판) ₩1,000 https://play.google.com//store/movies/details/%EB%B2%94%EB%B8%94%EB%B9%84_%EC%9E%90%EB%A7%89%ED%8C%90?id=PV5lhIBke3s\n"
     ]
    }
   ],
   "source": [
    "from bs4 import BeautifulSoup\n",
    "\n",
    "soup = BeautifulSoup(browser.page_source, \"lxml\")\n",
    "\n",
    "# Vpfmgd , ImZGtf mpg5gc\n",
    "\n",
    "movies = soup.find_all(\"div\", class_=\"Vpfmgd\")\n",
    "#print(len(movies))\n",
    "\n",
    "\n",
    "# 1단계 : 영화제목, 가격, 링크\n",
    "\n",
    "#for i in range(200) :\n",
    "#    title = soup.find_all(\"div\", class_=\"WsMG1c nnK0zc\")[i].get_text()\n",
    "#    price = soup.find_all(\"span\", class_=\"VfPpfd ZdBevf i5DZme\")[i].get_text()\n",
    "#    link = \"https://play.google.com/\"+ soup.find_all(\"div\", class_=\"b8cIId ReQCgd Q9MA7b\")[i].a[\"href\"]\n",
    "#    print(title, price, link)\n",
    "    \n",
    "    \n",
    "# 2단계 : 할인하는 영화만 (제목, 가격, 링크) 가져오기\n",
    "for movie in movies :\n",
    "    discount = movie.find(\"span\",class_=\"SUZt4c djCuy\")\n",
    "        \n",
    "    if discount : \n",
    "        title = movie.find(\"div\", class_=\"WsMG1c nnK0zc\").get_text()\n",
    "        price = movie.find(\"span\", class_=\"VfPpfd ZdBevf i5DZme\").get_text()\n",
    "        link = \"https://play.google.com/\"+ movie.find(\"a\", class_=\"JC71ub\")[\"href\"]\n",
    "        print(title, price, link)\n",
    "    else : continue"
   ]
  },
  {
   "cell_type": "code",
   "execution_count": 107,
   "metadata": {},
   "outputs": [
    {
     "name": "stdout",
     "output_type": "stream",
     "text": [
      "콰이어트 플레이스 2 ₩5,000 https://play.google.com//store/movies/details/%EC%BD%B0%EC%9D%B4%EC%96%B4%ED%8A%B8_%ED%94%8C%EB%A0%88%EC%9D%B4%EC%8A%A4_2?id=aDcBkk_fwLQ.P\n",
      "고질라 VS. 콩 ₩2,500 https://play.google.com//store/movies/details/%EA%B3%A0%EC%A7%88%EB%9D%BC_VS_%EC%BD%A9?id=bKfIMqA5r6Q.P\n",
      "캐시트럭 ₩5,000 https://play.google.com//store/movies/details/%EC%BA%90%EC%8B%9C%ED%8A%B8%EB%9F%AD?id=g4EFCqXUBAk.P\n",
      "스페이스 잼: 새로운 시대 ₩9,900 https://play.google.com//store/movies/details/%EC%8A%A4%ED%8E%98%EC%9D%B4%EC%8A%A4_%EC%9E%BC_%EC%83%88%EB%A1%9C%EC%9A%B4_%EC%8B%9C%EB%8C%80?id=Rjj97EQD0xU.P\n",
      "라야와 마지막 드래곤 ₩7,150 https://play.google.com//store/movies/details/%EB%9D%BC%EC%95%BC%EC%99%80_%EB%A7%88%EC%A7%80%EB%A7%89_%EB%93%9C%EB%9E%98%EA%B3%A4?id=mOj6B2R2qfo.P\n",
      "아바타 ₩4,150 https://play.google.com//store/movies/details/%EC%95%84%EB%B0%94%ED%83%80?id=p77isaDAKpM\n",
      "위대한 쇼맨 (자막판) ₩4,900 https://play.google.com//store/movies/details/%EC%9C%84%EB%8C%80%ED%95%9C_%EC%87%BC%EB%A7%A8_%EC%9E%90%EB%A7%89%ED%8C%90?id=Xg0IY-rRzAE\n",
      "아이스로드 ₩7,000 https://play.google.com//store/movies/details/%EC%95%84%EC%9D%B4%EC%8A%A4%EB%A1%9C%EB%93%9C?id=fY-OWRuCYVY.P\n",
      "발신제한 ₩7,700 https://play.google.com//store/movies/details/%EB%B0%9C%EC%8B%A0%EC%A0%9C%ED%95%9C?id=V2mLsH1DXjE.P\n",
      "방법:재차의 ₩7,700 https://play.google.com//store/movies/details/%EB%B0%A9%EB%B2%95_%EC%9E%AC%EC%B0%A8%EC%9D%98?id=inpI0YjwyP4.P\n",
      "포드 V 페라리 (자막판) ₩5,300 https://play.google.com//store/movies/details/%ED%8F%AC%EB%93%9C_V_%ED%8E%98%EB%9D%BC%EB%A6%AC_%EC%9E%90%EB%A7%89%ED%8C%90?id=80juQ7aaApQ\n",
      "메이즈 러너: 데스 큐어 (자막판) ₩4,900 https://play.google.com//store/movies/details/%EB%A9%94%EC%9D%B4%EC%A6%88_%EB%9F%AC%EB%84%88_%EB%8D%B0%EC%8A%A4_%ED%81%90%EC%96%B4_%EC%9E%90%EB%A7%89%ED%8C%90?id=2noH4ZoA8lU\n",
      "데드풀2 (자막판) ₩4,900 https://play.google.com//store/movies/details/%EB%8D%B0%EB%93%9C%ED%92%802_%EC%9E%90%EB%A7%89%ED%8C%90?id=c614X6POqbw\n",
      "1917 ₩1,000 https://play.google.com//store/movies/details/1917?id=hwM8em318sg.P\n",
      "인 더 하이츠 ₩9,900 https://play.google.com//store/movies/details/%EC%9D%B8_%EB%8D%94_%ED%95%98%EC%9D%B4%EC%B8%A0?id=x-MecAl_8JI.P\n",
      "해리포터 시리즈 완결 패키지 ₩18,900 https://play.google.com//store/movies/details/%ED%95%B4%EB%A6%AC%ED%8F%AC%ED%84%B0_%EC%8B%9C%EB%A6%AC%EC%A6%88_%EC%99%84%EA%B2%B0_%ED%8C%A8%ED%82%A4%EC%A7%80?id=DsVgRu5dDdY\n",
      "리스타트 ₩2,500 https://play.google.com//store/movies/details/%EB%A6%AC%EC%8A%A4%ED%83%80%ED%8A%B8?id=1g8Tj70PAdA.P\n",
      "알리타: 배틀 엔젤 (자막판) ₩4,900 https://play.google.com//store/movies/details/%EC%95%8C%EB%A6%AC%ED%83%80_%EB%B0%B0%ED%8B%80_%EC%97%94%EC%A0%A4_%EC%9E%90%EB%A7%89%ED%8C%90?id=z11gdNqADGM\n",
      "CCTV ₩4,500 https://play.google.com//store/movies/details/CCTV?id=YDXIoIAUL2I.P\n",
      "체르노빌1986 ₩4,500 https://play.google.com//store/movies/details/%EC%B2%B4%EB%A5%B4%EB%85%B8%EB%B9%8C1986?id=p8kzo5rwOH4.P\n",
      "노매드랜드 ₩8,650 https://play.google.com//store/movies/details/%EB%85%B8%EB%A7%A4%EB%93%9C%EB%9E%9C%EB%93%9C?id=sl8GyBsX4iU.P\n",
      "마션 ₩4,900 https://play.google.com//store/movies/details/%EB%A7%88%EC%85%98?id=w6w6sxUI1zE\n",
      "더 그레이트 샤크 ₩5,000 https://play.google.com//store/movies/details/%EB%8D%94_%EA%B7%B8%EB%A0%88%EC%9D%B4%ED%8A%B8_%EC%83%A4%ED%81%AC?id=O1yW86Kfc7g.P\n",
      "나 홀로 집에 ₩4,150 https://play.google.com//store/movies/details/%EB%82%98_%ED%99%80%EB%A1%9C_%EC%A7%91%EC%97%90?id=2dIY2PcBVnM.P\n",
      "자산어보 ₩2,500 https://play.google.com//store/movies/details/%EC%9E%90%EC%82%B0%EC%96%B4%EB%B3%B4?id=pdspSmU0LGY.P\n",
      "범블비  (자막판) ₩1,000 https://play.google.com//store/movies/details/%EB%B2%94%EB%B8%94%EB%B9%84_%EC%9E%90%EB%A7%89%ED%8C%90?id=PV5lhIBke3s\n"
     ]
    }
   ],
   "source": [
    "# ver2\n",
    "for movie in movies :\n",
    "    discount = movie.find(\"span\",class_=\"SUZt4c djCuy\")\n",
    "        \n",
    "    if discount : \n",
    "        discount = discount.get_text()\n",
    "    else : continue\n",
    "    title = movie.find(\"div\", class_=\"WsMG1c nnK0zc\").get_text()\n",
    "    price = movie.find(\"span\", class_=\"VfPpfd ZdBevf i5DZme\").get_text()\n",
    "    link = \"https://play.google.com/\"+ movie.find(\"a\", class_=\"JC71ub\")[\"href\"]\n",
    "    print(title, price, link)"
   ]
  },
  {
   "cell_type": "markdown",
   "metadata": {},
   "source": [
    "## 6. 네이버에서 이메일 목록 가져오기"
   ]
  },
  {
   "cell_type": "markdown",
   "metadata": {},
   "source": [
    "<캡차(CHPCHAR) 인증>\n",
    "- 일부 홈페이지의 경우 정상적인 접근이 아닌 경우 자동 로그인을 방지하기 위한 캡차를 도입중\n",
    "- NAVER 18년도 부터 캡차 적용\n",
    "- 매번 뜨는 것은 아니지만 자동화된 크롤러를 만들기엔 불편함"
   ]
  },
  {
   "cell_type": "code",
   "execution_count": 3,
   "metadata": {},
   "outputs": [],
   "source": [
    "from selenium import webdriver\n",
    "\n",
    "browser = webdriver.Chrome(\"data4/chromedriver.exe\")"
   ]
  },
  {
   "cell_type": "code",
   "execution_count": 2,
   "metadata": {},
   "outputs": [],
   "source": [
    "# 1. 네이버로 이동\n",
    "browser.get(\"http://www.naver.com\")\n",
    "\n",
    "# 2. 로그인 버튼 클릭\n",
    "elem = browser.find_element_by_class_name(\"link_login\")\n",
    "elem.click()\n",
    "\n",
    "# 3. id, pw 입력\n",
    "browser.find_element_by_id(\"id\").send_keys(\"sdong624\")\n",
    "browser.find_element_by_id(\"pw\").send_keys(\"noys2293!\")\n",
    "\n",
    "# 4. 로그인 버튼 클릭\n",
    "browser.find_element_by_id(\"log.login\").click()"
   ]
  },
  {
   "cell_type": "markdown",
   "metadata": {},
   "source": [
    "- 자바스크립트를 이용한 로그인 : \"document.getElementById('id').value=\\'\"+id+\"\\'\""
   ]
  },
  {
   "cell_type": "code",
   "execution_count": 4,
   "metadata": {},
   "outputs": [],
   "source": [
    "# 1. 네이버로 이동\n",
    "browser.get(\"http://www.naver.com\")\n",
    "\n",
    "# 2. 로그인 버튼 클릭\n",
    "elem = browser.find_element_by_class_name(\"link_login\")\n",
    "elem.click()\n",
    "\n",
    "# 3. id, pw 입력\n",
    "naver_id = 'sdong624'\n",
    "pw = 'noys2293!'\n",
    "browser.execute_script(\"document.getElementById('id').value=\\'\"+naver_id+\"\\'\")\n",
    "browser.execute_script(\"document.getElementById('pw').value=\\'\"+pw+\"\\'\")\n",
    "\n",
    "# 4. 로그인 버튼 클릭\n",
    "browser.find_element_by_id(\"log.login\").click()\n",
    "\n"
   ]
  },
  {
   "cell_type": "code",
   "execution_count": 6,
   "metadata": {},
   "outputs": [
    {
     "name": "stdout",
     "output_type": "stream",
     "text": [
      "https://mail.naver.com/\n"
     ]
    }
   ],
   "source": [
    "# 5. 메일 버튼 클릭\n",
    "elem = browser.find_element_by_link_text('메일')\n",
    "print(elem.get_attribute('href'))\n",
    "elem.click()"
   ]
  },
  {
   "cell_type": "code",
   "execution_count": 16,
   "metadata": {},
   "outputs": [
    {
     "name": "stdout",
     "output_type": "stream",
     "text": [
      "2021-09-07/유에스더\n",
      "abc/유에스더\n",
      "똑!소리나는 네이버 메일 가입을 환영합니다./네이버메일\n",
      "네이버 회원가입을 환영합니다./네이버메일\n"
     ]
    }
   ],
   "source": [
    "# 6. 메일 제목, 보낸사람 가져오기\n",
    "from bs4 import BeautifulSoup\n",
    "\n",
    "soup = BeautifulSoup(browser.page_source, 'lxml')\n",
    "\n",
    "mails = soup.find_all(\"div\", class_=\"mTitle\")\n",
    "\n",
    "for mail in mails :\n",
    "    #print(mail.prettify())   # prettify() : 코드 예쁘게 보여줌\n",
    "    print(mail.strong.get_text().replace(\"메일 제목:\",\"\"), end='/')\n",
    "    print(mail.a.get_text())"
   ]
  },
  {
   "cell_type": "code",
   "execution_count": 17,
   "metadata": {},
   "outputs": [],
   "source": [
    "# 7. 메일 하나 읽기\n",
    "browser.find_element_by_class_name('subject ').click()\n"
   ]
  }
 ],
 "metadata": {
  "kernelspec": {
   "display_name": "Python 3",
   "language": "python",
   "name": "python3"
  },
  "language_info": {
   "codemirror_mode": {
    "name": "ipython",
    "version": 3
   },
   "file_extension": ".py",
   "mimetype": "text/x-python",
   "name": "python",
   "nbconvert_exporter": "python",
   "pygments_lexer": "ipython3",
   "version": "3.8.8"
  },
  "toc": {
   "base_numbering": 1,
   "nav_menu": {},
   "number_sections": false,
   "sideBar": true,
   "skip_h1_title": false,
   "title_cell": "Table of Contents",
   "title_sidebar": "Contents",
   "toc_cell": false,
   "toc_position": {
    "height": "calc(100% - 180px)",
    "left": "10px",
    "top": "150px",
    "width": "349.091px"
   },
   "toc_section_display": true,
   "toc_window_display": false
  }
 },
 "nbformat": 4,
 "nbformat_minor": 4
}
