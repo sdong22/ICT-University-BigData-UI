{
 "cells": [
  {
   "cell_type": "markdown",
   "metadata": {
    "id": "Zg6LRpabOUOu"
   },
   "source": [
    "# 실전문제\n",
    "- 문제를 해결하면서 dictionary의 개념을 정리해 봅니다.\n",
    "- 결과물은 print()를 이용해서 출력해 합니다."
   ]
  },
  {
   "cell_type": "markdown",
   "metadata": {
    "id": "iAXlJdbjOUOv"
   },
   "source": [
    "### 1. 아래 문제를 읽고 적절한 코드를 프로그래밍 합니다.\n"
   ]
  },
  {
   "cell_type": "markdown",
   "metadata": {
    "id": "y9eTlXJhOUOw"
   },
   "source": [
    "1.1 아래 표에서 음식이름을 키값으로, 가격을 값으로 하는 dictionary를 만드시오.(변수 명 : foods)\n",
    "\n",
    "| 이름 | 가격 |\n",
    "|:---:|:---|\n",
    "| 떡볶이 | 5000 | \n",
    "| 라면 | 3000 |\n",
    "| 순대 | 3500 |\n"
   ]
  },
  {
   "cell_type": "code",
   "execution_count": 3,
   "metadata": {
    "id": "TSxrWTk2OUOw"
   },
   "outputs": [
    {
     "name": "stdout",
     "output_type": "stream",
     "text": [
      "{'떡볶이': 5000, '라면': 3000, '순대': 3500}\n"
     ]
    }
   ],
   "source": [
    "foods = {\n",
    "    '떡볶이' : 5000,\n",
    "    '라면' : 3000,\n",
    "    '순대' : 3500\n",
    "}\n",
    "print(foods)"
   ]
  },
  {
   "cell_type": "markdown",
   "metadata": {
    "id": "0rxRnlBiOUOx"
   },
   "source": [
    "1.2 다음 음식정보를 추가하시오\n",
    "\n",
    "| 이름 | 가격 |\n",
    "|:---:|:---|\n",
    "| 튀김 | 3000 | \n",
    "| 김밥 | 4000 |\n"
   ]
  },
  {
   "cell_type": "code",
   "execution_count": 4,
   "metadata": {
    "id": "GNDybPRhOUOx"
   },
   "outputs": [
    {
     "name": "stdout",
     "output_type": "stream",
     "text": [
      "{'떡볶이': 5000, '라면': 3000, '순대': 3500, '튀김': 3000, '김밥': 4000}\n"
     ]
    }
   ],
   "source": [
    "foods.update({'튀김' : 3000, '김밥' : 4000})\n",
    "print(foods)"
   ]
  },
  {
   "cell_type": "markdown",
   "metadata": {
    "id": "G-mGGDAVOUOx"
   },
   "source": [
    "1.3 라면의 가격을 3500으로 수정하시오\n"
   ]
  },
  {
   "cell_type": "code",
   "execution_count": 5,
   "metadata": {
    "id": "CoHYZxwLOUOx"
   },
   "outputs": [
    {
     "name": "stdout",
     "output_type": "stream",
     "text": [
      "{'떡볶이': 5000, '라면': 3500, '순대': 3500, '튀김': 3000, '김밥': 4000}\n"
     ]
    }
   ],
   "source": [
    "foods['라면'] = 3500\n",
    "print(foods)"
   ]
  },
  {
   "cell_type": "markdown",
   "metadata": {
    "id": "DeE_oO7pOUOy"
   },
   "source": [
    "1.4 튀김을 삭제하시오."
   ]
  },
  {
   "cell_type": "code",
   "execution_count": 6,
   "metadata": {
    "id": "a_ZklLv6OUOy"
   },
   "outputs": [
    {
     "name": "stdout",
     "output_type": "stream",
     "text": [
      "{'떡볶이': 5000, '라면': 3500, '순대': 3500, '김밥': 4000}\n"
     ]
    }
   ],
   "source": [
    "del foods['튀김']\n",
    "print(foods)"
   ]
  },
  {
   "cell_type": "markdown",
   "metadata": {
    "id": "x5Azh7T8OUOy"
   },
   "source": [
    "1.5 다음 코드는 에러가 발생한다. 그 원인은?\n",
    "- 원인 : dictionary에 없는 key값을 입력했기 때문이다."
   ]
  },
  {
   "cell_type": "code",
   "execution_count": null,
   "metadata": {
    "id": "wG23N69cOUOy",
    "outputId": "695e35e1-bdba-4af0-997f-300c6aa298a4"
   },
   "outputs": [
    {
     "ename": "KeyError",
     "evalue": "'누가바'",
     "output_type": "error",
     "traceback": [
      "\u001b[1;31m---------------------------------------------------------------------------\u001b[0m",
      "\u001b[1;31mKeyError\u001b[0m                                  Traceback (most recent call last)",
      "\u001b[1;32m<ipython-input-7-f3bb398f8646>\u001b[0m in \u001b[0;36m<module>\u001b[1;34m\u001b[0m\n\u001b[0;32m      1\u001b[0m \u001b[0micecream\u001b[0m \u001b[1;33m=\u001b[0m \u001b[1;33m{\u001b[0m\u001b[1;34m'폴라포'\u001b[0m\u001b[1;33m:\u001b[0m \u001b[1;36m1200\u001b[0m\u001b[1;33m,\u001b[0m \u001b[1;34m'빵빠레'\u001b[0m\u001b[1;33m:\u001b[0m \u001b[1;36m1800\u001b[0m\u001b[1;33m,\u001b[0m \u001b[1;34m'월드콘'\u001b[0m\u001b[1;33m:\u001b[0m \u001b[1;36m1500\u001b[0m\u001b[1;33m,\u001b[0m \u001b[1;34m'메로나'\u001b[0m\u001b[1;33m:\u001b[0m \u001b[1;36m1000\u001b[0m\u001b[1;33m}\u001b[0m\u001b[1;33m\u001b[0m\u001b[1;33m\u001b[0m\u001b[0m\n\u001b[1;32m----> 2\u001b[1;33m \u001b[0micecream\u001b[0m\u001b[1;33m[\u001b[0m\u001b[1;34m'누가바'\u001b[0m\u001b[1;33m]\u001b[0m\u001b[1;33m\u001b[0m\u001b[1;33m\u001b[0m\u001b[0m\n\u001b[0m",
      "\u001b[1;31mKeyError\u001b[0m: '누가바'"
     ]
    }
   ],
   "source": [
    "icecream = {'폴라포': 1200, '빵빠레': 1800, '월드콘': 1500, '메로나': 1000}\n",
    "icecream['누가바']\n"
   ]
  },
  {
   "cell_type": "markdown",
   "metadata": {
    "id": "FSVqAkFdOUOz"
   },
   "source": [
    "### 2. 아래 문제를 일고 적절한 코드를 프로그래밍 합니다."
   ]
  },
  {
   "cell_type": "markdown",
   "metadata": {
    "id": "aP9FAvf7OUOz"
   },
   "source": [
    "2.1 아래 표에서 차량명을 키값으로, [가격, 판매량] 리스트를 dictionary의 value로 가지는 dictionary를 구성하시오(변수명 : cars)\n",
    "\n",
    "\n",
    "| 차량명| 가격 | 판매량 |\n",
    "|:---:|---:|---:| \n",
    "| niro | 3000 | 500 |\n",
    "| kona | 2500 | 400 |\n",
    "| k3 | 2000 | 300 |\n"
   ]
  },
  {
   "cell_type": "code",
   "execution_count": 16,
   "metadata": {
    "id": "TKS0kqG5OUOz"
   },
   "outputs": [
    {
     "name": "stdout",
     "output_type": "stream",
     "text": [
      "{'niro': [3000, 500], 'kona': [2500, 400], 'k3': [2000, 300]}\n"
     ]
    }
   ],
   "source": [
    "cars = {\n",
    "    'niro' : [3000, 500],\n",
    "    'kona' : [2500, 400],\n",
    "    'k3' : [2000, 300]\n",
    "}\n",
    "print(cars)"
   ]
  },
  {
   "cell_type": "markdown",
   "metadata": {
    "id": "5fL_VmSEOUOz"
   },
   "source": [
    "2.2 cars에서 k3의 가격을 화면에 출력하시오. 출력예시) 2000 만원"
   ]
  },
  {
   "cell_type": "code",
   "execution_count": 17,
   "metadata": {
    "id": "oduWe4q6OUO0"
   },
   "outputs": [
    {
     "name": "stdout",
     "output_type": "stream",
     "text": [
      "2000 만원\n"
     ]
    }
   ],
   "source": [
    "print(cars['k3'][0],'만원')"
   ]
  },
  {
   "cell_type": "markdown",
   "metadata": {
    "id": "ThdnP-WEOUO0"
   },
   "source": [
    "2.3 niro의 판매량을 출력하시오. 출력예시) 500 대"
   ]
  },
  {
   "cell_type": "code",
   "execution_count": 12,
   "metadata": {
    "id": "QAnz4FOIOUO0"
   },
   "outputs": [
    {
     "name": "stdout",
     "output_type": "stream",
     "text": [
      "500 대\n"
     ]
    }
   ],
   "source": [
    "print(cars['niro'][1],'대')"
   ]
  },
  {
   "cell_type": "markdown",
   "metadata": {
    "id": "mS8iIOzfOUO0"
   },
   "source": [
    "2.4 cars에 아래 데이터를 추가하시오\n",
    "\n",
    "| 차량명| 가격 | 판매량 |\n",
    "|:---:|---:|---:| \n",
    "| ionic | 5000 | 670 |\n"
   ]
  },
  {
   "cell_type": "code",
   "execution_count": 30,
   "metadata": {
    "id": "4Tc5CbEqOUO0"
   },
   "outputs": [
    {
     "name": "stdout",
     "output_type": "stream",
     "text": [
      "{'niro': [3000, 500], 'kona': [2500, 400], 'k3': [2000, 300], 'ionic': [5000, 670]}\n"
     ]
    }
   ],
   "source": [
    "cars['ionic'] = [5000, 670]\n",
    "print(cars)"
   ]
  },
  {
   "cell_type": "markdown",
   "metadata": {
    "id": "YjARwe7kOUO1"
   },
   "source": [
    "2.5 cars 에서 key값으로만 구성된 리스트를 생성하시오"
   ]
  },
  {
   "cell_type": "code",
   "execution_count": 34,
   "metadata": {
    "id": "Q681WyZSOUO1"
   },
   "outputs": [
    {
     "name": "stdout",
     "output_type": "stream",
     "text": [
      "['niro', 'kona', 'k3', 'ionic', 'morning']\n"
     ]
    }
   ],
   "source": [
    "print(list(cars.keys()))"
   ]
  },
  {
   "cell_type": "markdown",
   "metadata": {
    "id": "fhMIBFHAOUO1"
   },
   "source": [
    "2.6 아래의 new_car 딕셔너리를 cars 딕셔너리에 추가하시오.(update 사용) \n",
    "         'k3' : [1900,250], 'morning' : [1000, 100]"
   ]
  },
  {
   "cell_type": "code",
   "execution_count": 33,
   "metadata": {
    "id": "XthJ4QPgOUO1"
   },
   "outputs": [
    {
     "name": "stdout",
     "output_type": "stream",
     "text": [
      "{'niro': [3000, 500], 'kona': [2500, 400], 'k3': [1900, 250], 'ionic': [5000, 670], 'morning': [1000, 100]}\n"
     ]
    }
   ],
   "source": [
    "new_car = {'k3' : [1900,250], 'morning' : [1000, 100]}\n",
    "cars.update(new_car)\n",
    "print(cars)"
   ]
  }
 ],
 "metadata": {
  "colab": {
   "name": "007. 실전문제_before.ipynb",
   "provenance": []
  },
  "kernelspec": {
   "display_name": "Python 3",
   "language": "python",
   "name": "python3"
  },
  "language_info": {
   "codemirror_mode": {
    "name": "ipython",
    "version": 3
   },
   "file_extension": ".py",
   "mimetype": "text/x-python",
   "name": "python",
   "nbconvert_exporter": "python",
   "pygments_lexer": "ipython3",
   "version": "3.8.5"
  },
  "toc": {
   "base_numbering": 1,
   "nav_menu": {},
   "number_sections": false,
   "sideBar": true,
   "skip_h1_title": false,
   "title_cell": "Table of Contents",
   "title_sidebar": "Contents",
   "toc_cell": false,
   "toc_position": {},
   "toc_section_display": true,
   "toc_window_display": false
  }
 },
 "nbformat": 4,
 "nbformat_minor": 1
}
