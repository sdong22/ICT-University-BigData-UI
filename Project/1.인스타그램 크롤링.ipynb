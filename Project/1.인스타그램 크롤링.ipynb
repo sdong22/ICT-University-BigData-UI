{
 "cells": [
  {
   "cell_type": "markdown",
   "id": "7eda166c",
   "metadata": {},
   "source": [
    "# 인스타그램 로그인, 해시태그 검색"
   ]
  },
  {
   "cell_type": "code",
   "execution_count": 1,
   "id": "bfc0fb19",
   "metadata": {},
   "outputs": [],
   "source": [
    "# 필요한 모듈\n",
    "from selenium import webdriver\n",
    "from selenium.webdriver.common.keys import Keys\n",
    "from bs4 import BeautifulSoup\n",
    "import time\n",
    "import re \n",
    "import json \n",
    "import pandas as pd\n",
    "import urllib.request"
   ]
  },
  {
   "cell_type": "code",
   "execution_count": 2,
   "id": "148fcd6d",
   "metadata": {},
   "outputs": [],
   "source": [
    "keyword = '거제핫플'\n",
    "\n",
    "# 사전 정보 정의\n",
    "username = 'javan__22'\n",
    "userpw = 'javan222!'\n",
    "time.sleep(3)\n",
    "\n",
    "#해시태그 url 값\n",
    "url  = \"https://www.instagram.com/explore/tags/{}/\".format(keyword)\n",
    "\n",
    "# 인스타 로그인 URL\n",
    "loginUrl = 'https://www.instagram.com/accounts/login/'\n",
    "\n",
    "# Chrome driver 실행\n",
    "driver = webdriver.Chrome(\"data4/chromedriver.exe\")\n",
    "driver.get(loginUrl)\n",
    "time.sleep(5)\n",
    "\n",
    "# login\n",
    "driver.find_element_by_name('username').send_keys(username)\n",
    "driver.find_element_by_name('password').send_keys(userpw)\n",
    "time.sleep(2)\n",
    "driver.find_element_by_xpath(\"\"\"//*[@id=\"loginForm\"]/div/div[3]/button\"\"\").click()\n",
    "time.sleep(3)\n",
    "#정보 나중에 저장하기 클릭하고 넘어가기\n",
    "driver.find_element_by_xpath(\"\"\"//*[@id=\"react-root\"]/section/main/div/div/div/div/button\"\"\").click()\n",
    "time.sleep(3)\n",
    "#설정 나중에하기 클릭하고 넘어가기\n",
    "driver.find_element_by_xpath(\"\"\"/html/body/div[5]/div/div/div/div[3]/button[2]\"\"\").click()\n",
    "\n",
    "#해시태그 검색창에 'keyword'검색\n",
    "driver.get(url)\n",
    "time.sleep(3)"
   ]
  },
  {
   "cell_type": "markdown",
   "id": "87bdab07",
   "metadata": {},
   "source": [
    "# 인스타그램 게시물 내용 크롤링"
   ]
  },
  {
   "cell_type": "code",
   "execution_count": 4,
   "id": "e67d1749",
   "metadata": {},
   "outputs": [],
   "source": [
    "# time.sleep()은 정보를 들고 오기까지의 일정 시간을 정해주기 위해 사용\n",
    "def select_first(driver):\n",
    "    first = driver.find_element_by_css_selector(\"div._9AhH0\")\n",
    "    first.click()\n",
    "    time.sleep(3)\n",
    "    \n",
    "select_first(driver)"
   ]
  },
  {
   "cell_type": "code",
   "execution_count": 5,
   "id": "a64d4412",
   "metadata": {},
   "outputs": [],
   "source": [
    "# 한페이지에서 크롤링하고 다음 페이지로 넘어가는 코드를 작성\n",
    "def move_next(driver):\n",
    "\n",
    "    right = driver.find_element_by_css_selector (\n",
    "        'body > div._2dDPU.QPGbb.CkGkG > div.EfHg9 > div > div > div.l8mY4 > button > div')\n",
    "    right.click()\n",
    "    time.sleep(3)\n",
    "\n",
    "move_next(driver)"
   ]
  },
  {
   "cell_type": "code",
   "execution_count": 6,
   "id": "43ae1191",
   "metadata": {},
   "outputs": [
    {
     "data": {
      "text/plain": [
       "['2021-11-02',\n",
       " ['#바다뷰',\n",
       "  '#물멍)',\n",
       "  '#거제맛집',\n",
       "  '#거제도맛집',\n",
       "  '#거제맛집추천',\n",
       "  '#거제맛집베스트',\n",
       "  '#거제맛집추천',\n",
       "  '#거제핫플',\n",
       "  '#거제가볼만한곳',\n",
       "  '#거제여행',\n",
       "  '#거제여행코스',\n",
       "  '#거제카페',\n",
       "  '#거제도카페']]"
      ]
     },
     "execution_count": 6,
     "metadata": {},
     "output_type": "execute_result"
    }
   ],
   "source": [
    "# 인스타그램 페이지에서 F12버튼을 눌러 path를 확인하고 해시태그, 작성일자를 가져와서 저장\n",
    "def get_content(driver):\n",
    "    \n",
    "    html = driver.page_source\n",
    "    soup = BeautifulSoup(html, 'lxml')\n",
    "    # 본문 내용 \n",
    "    try:\n",
    "        content = soup.select('div.C4VMK > span')[0].text\n",
    "    except:\n",
    "        content = ' '\n",
    "    # 해시태그 \n",
    "    try:\n",
    "        tag = re.findall(r'#[^\\s#,\\\\]+', content)\n",
    "    except:\n",
    "        tag = ' '\n",
    "    # 작성일자 \n",
    "    try :\n",
    "        date = soup.select('time._1o9PC.Nzb55')[0]['datetime'][:10]\n",
    "    except :\n",
    "        date = ' '\n",
    "\n",
    "    data = [date, tag]\n",
    "    return data\n",
    "\n",
    "get_content(driver)"
   ]
  },
  {
   "cell_type": "code",
   "execution_count": 7,
   "id": "b871dbd2",
   "metadata": {},
   "outputs": [
    {
     "name": "stdout",
     "output_type": "stream",
     "text": [
      "[['2021-11-02', ['#바다뷰', '#물멍)', '#거제카페', '#거제도카페', '#거제카페추천', '#거제도카페추천', '#거제핫플', '#거제가볼만한곳', '#거제여행', '#거제여행코스', '#거제마소마레', '#마소마레', '#거제맛집', '#거제도맛집']], ['2021-11-02', ['#바다뷰', '#물멍)', '#거제맛집', '#거제도맛집', '#거제맛집추천', '#거제맛집베스트', '#거제맛집추천', '#거제핫플', '#거제가볼만한곳', '#거제여행', '#거제여행코스', '#거제카페', '#거제도카페']], ['2021-10-30', ['#거제여행', '#거제가볼만한곳', '#거제맛집', '#거제핫플', '#거제도여행', '#거제도핫플', '#거제도맛집', '#중곡동맛집', '#고현맛집', '#통영맛집', '#장승포맛집', '#둔덕맛집', '#장목맛집', '#상동맛집']]]\n"
     ]
    }
   ],
   "source": [
    "# 한번에 최대 300까지 크롤링 가능해서 target을 300주고 크롤링 실시!\n",
    "results = []\n",
    "\n",
    "target = 3\n",
    "for i in range(target):\n",
    "    try:\n",
    "        data = get_content(driver)  \n",
    "        results.append(data)\n",
    "        move_next(driver)\n",
    "    except:\n",
    "        time.sleep(0.5)\n",
    "        move_next(driver)\n",
    "    \n",
    "print(results)"
   ]
  },
  {
   "cell_type": "code",
   "execution_count": 8,
   "id": "1f86788d",
   "metadata": {},
   "outputs": [
    {
     "data": {
      "text/plain": [
       "3"
      ]
     },
     "execution_count": 8,
     "metadata": {},
     "output_type": "execute_result"
    }
   ],
   "source": [
    "len(results)"
   ]
  },
  {
   "cell_type": "code",
   "execution_count": 9,
   "id": "77f376cd",
   "metadata": {},
   "outputs": [],
   "source": [
    "# 해시태그 같은경우 날짜와 해시태그를 크롤링한후 엑셀파일에 저장\n",
    "sample = pd.DataFrame(results)\n",
    "sample.columns = ['날짜','해시태그']\n",
    "sample.to_excel('data_p/거제핫플1.xlsx', index=False, encoding='UTF-8')\n",
    "\n",
    "# 300개씩 크롤링 한 파일을 펜션1, 펜션2, ``` 방식으로 저장\n",
    "# 크롤링이 다 끝난 뒤에 파일을 하나로 합쳐줌.(엑셀 복사 붙여넣기로 작업함)\n",
    "# 합친 파일 : 'data_p/거제핫플.xlsx'"
   ]
  },
  {
   "cell_type": "markdown",
   "id": "3456bfd5",
   "metadata": {},
   "source": [
    "# 인스타그램 게시물 URL 크롤링"
   ]
  },
  {
   "cell_type": "code",
   "execution_count": 10,
   "id": "b0ab6a08",
   "metadata": {},
   "outputs": [
    {
     "data": {
      "text/plain": [
       "['https://www.instagram.com/p/CVwTK_JhV1R/',\n",
       " 'https://www.instagram.com/p/CVwUEPthvE1/',\n",
       " 'https://www.instagram.com/p/CVop92flNuv/',\n",
       " 'https://www.instagram.com/p/CVuUieiPNe3/',\n",
       " 'https://www.instagram.com/p/CVunE0Jl-H6/',\n",
       " 'https://www.instagram.com/p/CVvg3rDP88Z/',\n",
       " 'https://www.instagram.com/p/CVu0qwQhSS-/',\n",
       " 'https://www.instagram.com/p/CVugTP8l8KM/',\n",
       " 'https://www.instagram.com/p/CVul0poF91b/',\n",
       " 'https://www.instagram.com/p/CVwz_ZvPxR2/',\n",
       " 'https://www.instagram.com/p/CVwzzO0PhxQ/',\n",
       " 'https://www.instagram.com/p/CVwzjepPDkd/',\n",
       " 'https://www.instagram.com/p/CVwy15NlrxQ/',\n",
       " 'https://www.instagram.com/p/CVwzKMHKV27/',\n",
       " 'https://www.instagram.com/p/CVwzBbQP1Ts/',\n",
       " 'https://www.instagram.com/p/CVwytsDvS6Z/',\n",
       " 'https://www.instagram.com/p/CVwynG8P0lB/',\n",
       " 'https://www.instagram.com/p/CVwyKtwv8SO/',\n",
       " 'https://www.instagram.com/p/CVwyIeIP09z/',\n",
       " 'https://www.instagram.com/p/CVwxfg4PRRq/',\n",
       " 'https://www.instagram.com/p/CVwxXOOFUqf/',\n",
       " 'https://www.instagram.com/p/CVwxPtkP_Nm/',\n",
       " 'https://www.instagram.com/p/CVwwcSVPL4D/',\n",
       " 'https://www.instagram.com/p/CVwwViMPrQE/',\n",
       " 'https://www.instagram.com/p/CVwwV9clcZH/',\n",
       " 'https://www.instagram.com/p/CVwwGwSPhwc/',\n",
       " 'https://www.instagram.com/p/CVwv6W7P_oR/',\n",
       " 'https://www.instagram.com/p/B4oRwkdlOIA/',\n",
       " 'https://www.instagram.com/p/BzHbXeyFjcE/',\n",
       " 'https://www.instagram.com/p/BxoJBOFAb7l/',\n",
       " 'https://www.instagram.com/p/CVwv5yOBCoY/',\n",
       " 'https://www.instagram.com/p/CVwvPELJOUp/',\n",
       " 'https://www.instagram.com/p/CVwupqavc6t/',\n",
       " 'https://www.instagram.com/p/CVwumhHPJW8/',\n",
       " 'https://www.instagram.com/p/CVwut3shF7v/',\n",
       " 'https://www.instagram.com/p/CVwtSfNPszA/',\n",
       " 'https://www.instagram.com/p/CVwsvO8vp_o/',\n",
       " 'https://www.instagram.com/p/CVwrwSVPh61/',\n",
       " 'https://www.instagram.com/p/CVwrcIXvxJi/',\n",
       " 'https://www.instagram.com/p/CVwrKC9lDF9/',\n",
       " 'https://www.instagram.com/p/CVwqwWvlZSz/',\n",
       " 'https://www.instagram.com/p/CVwqKUqBE0q/',\n",
       " 'https://www.instagram.com/p/CVwqDsjFq7j/',\n",
       " 'https://www.instagram.com/p/CVwpZ5gB62C/',\n",
       " 'https://www.instagram.com/p/CVwpk07Pemt/',\n",
       " 'https://www.instagram.com/p/CVwpLT-l15w/',\n",
       " 'https://www.instagram.com/p/CVwpIXxvvWy/',\n",
       " 'https://www.instagram.com/p/CVwou5Jv4d-/',\n",
       " 'https://www.instagram.com/p/CVwodWiFJbc/',\n",
       " 'https://www.instagram.com/p/CVwnWVGhmw-/',\n",
       " 'https://www.instagram.com/p/CVwnTfvvCtr/',\n",
       " 'https://www.instagram.com/p/CVwm_RGPXY6/',\n",
       " 'https://www.instagram.com/p/CVwmiG9FDrp/',\n",
       " 'https://www.instagram.com/p/CVwmNO0LrI7/']"
      ]
     },
     "execution_count": 10,
     "metadata": {},
     "output_type": "execute_result"
    }
   ],
   "source": [
    "# 게시물 클릭하지 않은 상태 (https://www.instagram.com/explore/tags/검색어/)에서 실행\n",
    "# 지금 코드는 url 10개 이상 가져오고 멈추기\n",
    "\n",
    "url_list=[]\n",
    "SCROLL_PAUSE_TIME = 2\n",
    "# Get scroll height\n",
    "last_height = driver.execute_script(\"return document.body.scrollHeight\")\n",
    "while True:\n",
    "    for i in range(3):   # url이 스크롤 한 번 내릴때마다 9개씩 업데이트 되고, 이전의 9개는 사라지는 방식이며, \n",
    "                         # 한 번에 30개 좀 넘게 뜬다. 그래서 9개씩 3번 스크롤 내려서 27개씩 업데이트 후 \n",
    "                         #중복된 url은 제거하는 방식을 선택\n",
    "        # Scroll down to bottom\n",
    "        driver.execute_script(\"window.scrollTo(0, document.body.scrollHeight);\")\n",
    "         # Wait to load page\n",
    "        time.sleep(SCROLL_PAUSE_TIME)\n",
    "        # Calculate new scroll height and compare with last scroll height\n",
    "        new_height = driver.execute_script(\"return document.body.scrollHeight\")\n",
    "\n",
    "        links= driver.find_elements_by_xpath('//*[contains(@href, \"/p/\")]')\n",
    "    for link in links:\n",
    "        try:\n",
    "            time.sleep(2)\n",
    "            postUrl = link.get_attribute(\"href\")\n",
    "            url_list.append(postUrl)\n",
    "        except:\n",
    "            pass\n",
    "    \n",
    "    # url 10개 이상 가져왔으면, 멈추기\n",
    "    if len(url_list) >10 : break\n",
    "        \n",
    "    # Wait to load page\n",
    "    time.sleep(SCROLL_PAUSE_TIME)\n",
    "    # Calculate new scroll height and compare with last scroll height\n",
    "    new_height = driver.execute_script(\"return document.body.scrollHeight\")\n",
    "    if new_height == last_height:\n",
    "        break\n",
    "    last_height = new_height\n",
    "\n",
    "\n",
    "url_list"
   ]
  },
  {
   "cell_type": "code",
   "execution_count": 11,
   "id": "77f0459f",
   "metadata": {},
   "outputs": [
    {
     "data": {
      "text/plain": [
       "54"
      ]
     },
     "execution_count": 11,
     "metadata": {},
     "output_type": "execute_result"
    }
   ],
   "source": [
    "len(url_list)"
   ]
  },
  {
   "cell_type": "code",
   "execution_count": 12,
   "id": "26d6c031",
   "metadata": {},
   "outputs": [
    {
     "data": {
      "text/plain": [
       "['https://www.instagram.com/p/CVwTK_JhV1R/',\n",
       " 'https://www.instagram.com/p/CVwUEPthvE1/',\n",
       " 'https://www.instagram.com/p/CVop92flNuv/']"
      ]
     },
     "execution_count": 12,
     "metadata": {},
     "output_type": "execute_result"
    }
   ],
   "source": [
    "# 테스트용으로 게시물을 3개만 크롤링 했으므로 url도 앞에 3개만 저장\n",
    "url_list = url_list[:3]\n",
    "url_list"
   ]
  },
  {
   "cell_type": "code",
   "execution_count": 13,
   "id": "17cc9ea7",
   "metadata": {},
   "outputs": [],
   "source": [
    "# 중복된 URL 제거 후, df_url의 row 수가 위의 2번에서 내용 크롤링한 리스트 result의 길이와 동일한지 확인\n",
    "a = {}\n",
    "a['url']=url_list\n",
    "df_url = pd.DataFrame(a)\n",
    "\n",
    "df_url.drop_duplicates(inplace=True)"
   ]
  },
  {
   "cell_type": "code",
   "execution_count": 21,
   "id": "25535aba",
   "metadata": {},
   "outputs": [
    {
     "data": {
      "text/plain": [
       "3"
      ]
     },
     "execution_count": 21,
     "metadata": {},
     "output_type": "execute_result"
    }
   ],
   "source": [
    "len(df_url)"
   ]
  },
  {
   "cell_type": "code",
   "execution_count": 14,
   "id": "98b57b4d",
   "metadata": {},
   "outputs": [],
   "source": [
    "# 길이가 같아졌다면 인덱스를 맞춰준 후 저장한다.\n",
    "df_url = df_url.reset_index(drop=True)\n",
    "df_url.to_excel('data_p/insta_url.xlsx', index=False)"
   ]
  },
  {
   "cell_type": "code",
   "execution_count": 15,
   "id": "9bccf9ff",
   "metadata": {},
   "outputs": [
    {
     "data": {
      "text/html": [
       "<div>\n",
       "<style scoped>\n",
       "    .dataframe tbody tr th:only-of-type {\n",
       "        vertical-align: middle;\n",
       "    }\n",
       "\n",
       "    .dataframe tbody tr th {\n",
       "        vertical-align: top;\n",
       "    }\n",
       "\n",
       "    .dataframe thead th {\n",
       "        text-align: right;\n",
       "    }\n",
       "</style>\n",
       "<table border=\"1\" class=\"dataframe\">\n",
       "  <thead>\n",
       "    <tr style=\"text-align: right;\">\n",
       "      <th></th>\n",
       "      <th>날짜</th>\n",
       "      <th>검색어</th>\n",
       "      <th>insta_url</th>\n",
       "    </tr>\n",
       "  </thead>\n",
       "  <tbody>\n",
       "    <tr>\n",
       "      <th>0</th>\n",
       "      <td>2021-11-02</td>\n",
       "      <td>[#바다뷰, #물멍), #거제카페, #거제도카페, #거제카페추천, #거제도카페추천,...</td>\n",
       "      <td>https://www.instagram.com/p/CVwTK_JhV1R/</td>\n",
       "    </tr>\n",
       "    <tr>\n",
       "      <th>1</th>\n",
       "      <td>2021-11-02</td>\n",
       "      <td>[#바다뷰, #물멍), #거제맛집, #거제도맛집, #거제맛집추천, #거제맛집베스트,...</td>\n",
       "      <td>https://www.instagram.com/p/CVwUEPthvE1/</td>\n",
       "    </tr>\n",
       "    <tr>\n",
       "      <th>2</th>\n",
       "      <td>2021-10-30</td>\n",
       "      <td>[#거제여행, #거제가볼만한곳, #거제맛집, #거제핫플, #거제도여행, #거제도핫플...</td>\n",
       "      <td>https://www.instagram.com/p/CVop92flNuv/</td>\n",
       "    </tr>\n",
       "  </tbody>\n",
       "</table>\n",
       "</div>"
      ],
      "text/plain": [
       "           날짜                                                검색어  \\\n",
       "0  2021-11-02  [#바다뷰, #물멍), #거제카페, #거제도카페, #거제카페추천, #거제도카페추천,...   \n",
       "1  2021-11-02  [#바다뷰, #물멍), #거제맛집, #거제도맛집, #거제맛집추천, #거제맛집베스트,...   \n",
       "2  2021-10-30  [#거제여행, #거제가볼만한곳, #거제맛집, #거제핫플, #거제도여행, #거제도핫플...   \n",
       "\n",
       "                                  insta_url  \n",
       "0  https://www.instagram.com/p/CVwTK_JhV1R/  \n",
       "1  https://www.instagram.com/p/CVwUEPthvE1/  \n",
       "2  https://www.instagram.com/p/CVop92flNuv/  "
      ]
     },
     "execution_count": 15,
     "metadata": {},
     "output_type": "execute_result"
    }
   ],
   "source": [
    "# 크롤링 한 내용과 url을 합쳐준다.-- 순서대로 크롤링되었기 때문에 순서가 맞을 것이라고 생각\n",
    "insta = pd.concat([sample,df_url],axis=1)\n",
    "\n",
    "cols = ['날짜','검색어','insta_url']\n",
    "insta.columns = cols\n",
    "insta"
   ]
  },
  {
   "cell_type": "code",
   "execution_count": 16,
   "id": "3ec6e5e7",
   "metadata": {},
   "outputs": [],
   "source": [
    "# 게시물에 따른 url 맞는지 처음, 중간, 끝 게시물 열어서 확인 후 저장\n",
    "insta.to_excel('data_p/instagram_url.xlsx', index=False)"
   ]
  }
 ],
 "metadata": {
  "kernelspec": {
   "display_name": "Python 3",
   "language": "python",
   "name": "python3"
  },
  "language_info": {
   "codemirror_mode": {
    "name": "ipython",
    "version": 3
   },
   "file_extension": ".py",
   "mimetype": "text/x-python",
   "name": "python",
   "nbconvert_exporter": "python",
   "pygments_lexer": "ipython3",
   "version": "3.8.8"
  },
  "toc": {
   "base_numbering": 1,
   "nav_menu": {},
   "number_sections": true,
   "sideBar": true,
   "skip_h1_title": false,
   "title_cell": "Table of Contents",
   "title_sidebar": "Contents",
   "toc_cell": false,
   "toc_position": {
    "height": "calc(100% - 180px)",
    "left": "10px",
    "top": "150px",
    "width": "258.09px"
   },
   "toc_section_display": true,
   "toc_window_display": false
  }
 },
 "nbformat": 4,
 "nbformat_minor": 5
}
