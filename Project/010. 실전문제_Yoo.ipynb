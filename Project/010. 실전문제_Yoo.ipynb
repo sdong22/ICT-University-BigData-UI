{
 "cells": [
  {
   "cell_type": "markdown",
   "metadata": {},
   "source": [
    "### 1. 다음과 같이 리스트가 있다.  각각의 질문에 답하시오.\n",
    "- classA = [ ['1-1', '1-2', '1-3'], ['2-1', '2-2', '2-3'], ['3-1', '3-2', '3-3'] ]"
   ]
  },
  {
   "cell_type": "markdown",
   "metadata": {},
   "source": [
    "#### 1-1. 아래와 같은 출력물이 나오게 하시오."
   ]
  },
  {
   "cell_type": "code",
   "execution_count": 19,
   "metadata": {},
   "outputs": [
    {
     "name": "stdout",
     "output_type": "stream",
     "text": [
      "1-1 반\n",
      "1-2 반\n",
      "1-3 반\n",
      "2-1 반\n",
      "2-2 반\n",
      "2-3 반\n",
      "3-1 반\n",
      "3-2 반\n",
      "3-3 반\n"
     ]
    }
   ],
   "source": [
    "# 출력결과"
   ]
  },
  {
   "cell_type": "code",
   "execution_count": 2,
   "metadata": {
    "scrolled": true
   },
   "outputs": [
    {
     "name": "stdout",
     "output_type": "stream",
     "text": [
      "1-1 반\n",
      "1-2 반\n",
      "1-3 반\n",
      "2-1 반\n",
      "2-2 반\n",
      "2-3 반\n",
      "3-1 반\n",
      "3-2 반\n",
      "3-3 반\n"
     ]
    }
   ],
   "source": [
    "classA = [ ['1-1', '1-2', '1-3'], \n",
    "          ['2-1', '2-2', '2-3'], \n",
    "          ['3-1', '3-2', '3-3'] ] \n",
    "\n",
    "for i in range(len(classA)) :\n",
    "    for j in range(len(classA[i])) :\n",
    "        print(classA[i][j],'반')\n"
   ]
  },
  {
   "cell_type": "code",
   "execution_count": 15,
   "metadata": {},
   "outputs": [
    {
     "name": "stdout",
     "output_type": "stream",
     "text": [
      "1-1 반\n",
      "1-2 반\n",
      "1-3 반\n",
      "2-1 반\n",
      "2-2 반\n",
      "2-3 반\n",
      "3-1 반\n",
      "3-2 반\n",
      "3-3 반\n"
     ]
    }
   ],
   "source": [
    "classA = [ ['1-1', '1-2', '1-3'], \n",
    "          ['2-1', '2-2', '2-3'], \n",
    "          ['3-1', '3-2', '3-3'] ]    # 행 : row , 열 : column\n",
    "\n",
    "for row in classA :\n",
    "    for col in row :\n",
    "        print(col,'반')"
   ]
  },
  {
   "cell_type": "markdown",
   "metadata": {},
   "source": [
    "#### 1.2 리스트에 저장된 데이터를 아래와 같이 출력하시오."
   ]
  },
  {
   "cell_type": "code",
   "execution_count": null,
   "metadata": {},
   "outputs": [],
   "source": []
  },
  {
   "cell_type": "code",
   "execution_count": 21,
   "metadata": {},
   "outputs": [
    {
     "name": "stdout",
     "output_type": "stream",
     "text": [
      "3-3 반\n",
      "3-2 반\n",
      "3-1 반\n",
      "2-3 반\n",
      "2-2 반\n",
      "2-1 반\n",
      "1-3 반\n",
      "1-2 반\n",
      "1-1 반\n"
     ]
    }
   ],
   "source": [
    "#출력결과"
   ]
  },
  {
   "cell_type": "code",
   "execution_count": 3,
   "metadata": {
    "scrolled": true
   },
   "outputs": [
    {
     "name": "stdout",
     "output_type": "stream",
     "text": [
      "3-3 반\n",
      "3-2 반\n",
      "3-1 반\n",
      "2-3 반\n",
      "2-2 반\n",
      "2-1 반\n",
      "1-3 반\n",
      "1-2 반\n",
      "1-1 반\n"
     ]
    }
   ],
   "source": [
    "classA = [ ['1-1', '1-2', '1-3'], ['2-1', '2-2', '2-3'], ['3-1', '3-2', '3-3'] ]\n",
    "\n",
    "for i in range(-1, -(len(classA)+1),-1) :\n",
    "    for j in range(-1,-(len(classA[i])+1),-1) :\n",
    "        print(classA[i][j],'반')"
   ]
  },
  {
   "cell_type": "code",
   "execution_count": 18,
   "metadata": {},
   "outputs": [
    {
     "name": "stdout",
     "output_type": "stream",
     "text": [
      "3-3 반\n",
      "3-2 반\n",
      "3-1 반\n",
      "2-3 반\n",
      "2-2 반\n",
      "2-1 반\n",
      "1-3 반\n",
      "1-2 반\n",
      "1-1 반\n"
     ]
    }
   ],
   "source": [
    "classA = [ ['1-1', '1-2', '1-3'], ['2-1', '2-2', '2-3'], ['3-1', '3-2', '3-3'] ]\n",
    "\n",
    "for row in classA[::-1] :\n",
    "    for col in row[::-1] :\n",
    "        print(col,'반')"
   ]
  },
  {
   "cell_type": "markdown",
   "metadata": {},
   "source": [
    "#### 1.3 리스트에 저장된 데이터를 아래와 같이 출력하시오."
   ]
  },
  {
   "cell_type": "code",
   "execution_count": 29,
   "metadata": {},
   "outputs": [
    {
     "name": "stdout",
     "output_type": "stream",
     "text": [
      "1-1 반 1-2 반 1-3 반 \n",
      "--------------------\n",
      "2-1 반 2-2 반 2-3 반 \n",
      "--------------------\n",
      "3-1 반 3-2 반 3-3 반 \n",
      "--------------------\n"
     ]
    }
   ],
   "source": [
    "#출력결과 \n",
    "# '-' : 20번"
   ]
  },
  {
   "cell_type": "code",
   "execution_count": 5,
   "metadata": {},
   "outputs": [
    {
     "name": "stdout",
     "output_type": "stream",
     "text": [
      "1-1 반 1-2 반 1-3 반 \n",
      "--------------------\n",
      "2-1 반 2-2 반 2-3 반 \n",
      "--------------------\n",
      "3-1 반 3-2 반 3-3 반 \n",
      "--------------------\n"
     ]
    }
   ],
   "source": [
    "classA = [ ['1-1', '1-2', '1-3'], ['2-1', '2-2', '2-3'], ['3-1', '3-2', '3-3'] ]\n",
    "\n",
    "for i in range(len(classA)) :\n",
    "    for j in range(len(classA[i])) :\n",
    "        print(classA[i][j],'반', end=' ')\n",
    "    print()\n",
    "    print('-'*20)"
   ]
  },
  {
   "cell_type": "code",
   "execution_count": 19,
   "metadata": {},
   "outputs": [
    {
     "name": "stdout",
     "output_type": "stream",
     "text": [
      "1-1 반 1-2 반 1-3 반 \n",
      "--------------------\n",
      "2-1 반 2-2 반 2-3 반 \n",
      "--------------------\n",
      "3-1 반 3-2 반 3-3 반 \n",
      "--------------------\n"
     ]
    }
   ],
   "source": [
    "classA = [ ['1-1', '1-2', '1-3'], \n",
    "          ['2-1', '2-2', '2-3'], \n",
    "          ['3-1', '3-2', '3-3'] ] \n",
    "\n",
    "for row in classA :\n",
    "    for col in row :\n",
    "        print(col,'반',end=' ')\n",
    "    print()\n",
    "    print('-'*20)"
   ]
  },
  {
   "cell_type": "markdown",
   "metadata": {},
   "source": [
    "### 2. 단어 갯수 구하기\n",
    "\n",
    "* 다음과 같은 영어기사 4개가 있다.\n",
    "* 철수는 다음 뉴스기사들의 어떤 단어가 얼마나 나왔는지 궁금해졌다.\n",
    "* 뉴스기사에서 등장하는 모든 단어마다 개수를 세어보자!"
   ]
  },
  {
   "cell_type": "code",
   "execution_count": 27,
   "metadata": {},
   "outputs": [
    {
     "name": "stdout",
     "output_type": "stream",
     "text": [
      "{'champion': 2, 'products': 2, 'ch': 1, 'approves': 1, 'stock': 6, 'split': 2, 'inc': 5, 'said': 9, 'its': 8, 'board': 2, 'of': 15, 'directors': 1, 'approved': 1, 'a': 3, 'two': 1, 'for': 6, 'one': 3, 'common': 4, 'shares': 5, 'shareholders': 2, 'record': 1, 'as': 1, 'april': 2, 'the': 18, 'company': 5, 'also': 3, 'voted': 1, 'to': 12, 'recommend': 1, 'at': 5, 'annual': 1, 'meeting': 1, 'an': 2, 'increase': 2, 'in': 1, 'authorized': 1, 'capital': 1, 'from': 2, 'five': 3, 'mln': 16, 'reuter': 4, 'computer': 7, 'terminal': 6, 'systems': 2, 'cpml': 1, 'completes': 1, 'sale': 2, 'it': 4, 'has': 2, 'completed': 1, 'and': 6, 'warrants': 3, 'acquire': 1, 'additional': 2, 'sedio': 2, 'n': 1, 'v': 1, 'lugano': 1, 'switzerland': 1, 'dlrs': 8, 'are': 1, 'exercisable': 2, 'years': 1, 'purchase': 1, 'price': 3, 'per': 3, 'share': 2, 'right': 1, 'buy': 1, 'total': 1, 'holdings': 1, 'up': 1, 'pct': 2, 's': 2, 'outstanding': 1, 'under': 1, 'certain': 1, 'circumstances': 1, 'involving': 1, 'change': 1, 'control': 1, 'if': 1, 'conditions': 1, 'occur': 1, 'would': 3, 'be': 2, 'equal': 1, 'market': 1, 'time': 1, 'not': 2, 'exceed': 1, 'sold': 1, 'technolgy': 1, 'rights': 1, 'dot': 1, 'matrix': 1, 'impact': 1, 'technology': 2, 'including': 1, 'any': 1, 'future': 1, 'improvements': 1, 'woodco': 2, 'houston': 1, 'tex': 1, 'but': 1, 'continue': 1, 'exclusive': 1, 'worldwide': 1, 'licensee': 1, 'moves': 1, 'were': 1, 'part': 1, 'reorganization': 1, 'plan': 1, 'help': 1, 'pay': 1, 'current': 1, 'operation': 1, 'costs': 1, 'ensure': 1, 'product': 1, 'delivery': 1, 'makes': 1, 'generated': 1, 'labels': 1, 'forms': 1, 'tags': 1, 'ticket': 1, 'printers': 1, 'terminals': 1, 'cobanco': 1, 'cbco': 1, 'year': 2, 'net': 5, 'shr': 4, 'cts': 3, 'vs': 11, 'assets': 1, 'deposits': 1, 'loans': 1, 'note': 1, 'th': 2, 'qtr': 2, 'available': 1, 'includes': 1, 'extraordinary': 1, 'gain': 1, 'tax': 1, 'carry': 1, 'forward': 1, 'or': 1, 'brown': 1, 'forman': 1, 'bfd': 1, 'dlr': 1, 'revs': 2, 'nine': 1, 'mths': 1, 'billion': 1}\n"
     ]
    }
   ],
   "source": [
    "#출력결과"
   ]
  },
  {
   "cell_type": "code",
   "execution_count": 22,
   "metadata": {},
   "outputs": [
    {
     "name": "stdout",
     "output_type": "stream",
     "text": [
      "{'champion': 2, 'products': 2, 'ch': 1, 'approves': 1, 'stock': 6, 'split': 2, 'inc': 5, 'said': 9, 'its': 8, 'board': 2, 'of': 15, 'directors': 1, 'approved': 1, 'a': 3, 'two': 1, 'for': 6, 'one': 3, 'common': 4, 'shares': 5, 'shareholders': 2, 'record': 1, 'as': 1, 'april': 2, 'the': 18, 'company': 5, 'also': 3, 'voted': 1, 'to': 12, 'recommend': 1, 'at': 5, 'annual': 1, 'meeting': 1, 'an': 2, 'increase': 2, 'in': 1, 'authorized': 1, 'capital': 1, 'from': 2, 'five': 3, 'mln': 16, 'reuter': 4, 'computer': 7, 'terminal': 6, 'systems': 2, 'cpml': 1, 'completes': 1, 'sale': 2, 'it': 4, 'has': 2, 'completed': 1, 'and': 6, 'warrants': 3, 'acquire': 1, 'additional': 2, 'sedio': 2, 'n': 1, 'v': 1, 'lugano': 1, 'switzerland': 1, 'dlrs': 8, 'are': 1, 'exercisable': 2, 'years': 1, 'purchase': 1, 'price': 3, 'per': 3, 'share': 2, 'right': 1, 'buy': 1, 'total': 1, 'holdings': 1, 'up': 1, 'pct': 2, 's': 2, 'outstanding': 1, 'under': 1, 'certain': 1, 'circumstances': 1, 'involving': 1, 'change': 1, 'control': 1, 'if': 1, 'conditions': 1, 'occur': 1, 'would': 3, 'be': 2, 'equal': 1, 'market': 1, 'time': 1, 'not': 2, 'exceed': 1, 'sold': 1, 'technolgy': 1, 'rights': 1, 'dot': 1, 'matrix': 1, 'impact': 1, 'technology': 2, 'including': 1, 'any': 1, 'future': 1, 'improvements': 1, 'woodco': 2, 'houston': 1, 'tex': 1, 'but': 1, 'continue': 1, 'exclusive': 1, 'worldwide': 1, 'licensee': 1, 'moves': 1, 'were': 1, 'part': 1, 'reorganization': 1, 'plan': 1, 'help': 1, 'pay': 1, 'current': 1, 'operation': 1, 'costs': 1, 'ensure': 1, 'product': 1, 'delivery': 1, 'makes': 1, 'generated': 1, 'labels': 1, 'forms': 1, 'tags': 1, 'ticket': 1, 'printers': 1, 'terminals': 1, 'cobanco': 1, 'cbco': 1, 'year': 2, 'net': 5, 'shr': 4, 'cts': 3, 'vs': 11, 'assets': 1, 'deposits': 1, 'loans': 1, 'note': 1, 'th': 2, 'qtr': 2, 'available': 1, 'includes': 1, 'extraordinary': 1, 'gain': 1, 'tax': 1, 'carry': 1, 'forward': 1, 'or': 1, 'brown': 1, 'forman': 1, 'bfd': 1, 'dlr': 1, 'revs': 2, 'nine': 1, 'mths': 1, 'billion': 1}\n"
     ]
    }
   ],
   "source": [
    "#아래 4개의 변수들은 각각 하나의 문서를 의미합니다.\n",
    "\n",
    "news1 = \"champion products ch approves stock split champion products inc said its board of directors approved a two for one stock split of its common shares for shareholders of record as of april the company also said its board voted to recommend to shareholders at the annual meeting april an increase in the authorized capital stock from five mln to mln shares reuter\"\n",
    "news2 = \"computer terminal systems cpml completes sale computer terminal systems inc said it has completed the sale of shares of its common stock and warrants to acquire an additional one mln shares to sedio n v of lugano switzerland for dlrs the company said the warrants are exercisable for five years at a purchase price of dlrs per share computer terminal said sedio also has the right to buy additional shares and increase its total holdings up to pct of the computer terminal s outstanding common stock under certain circumstances involving change of control at the company the company said if the conditions occur the warrants would be exercisable at a price equal to pct of its common stock s market price at the time not to exceed dlrs per share computer terminal also said it sold the technolgy rights to its dot matrix impact technology including any future improvements to woodco inc of houston tex for dlrs but it said it would continue to be the exclusive worldwide licensee of the technology for woodco the company said the moves were part of its reorganization plan and would help pay current operation costs and ensure product delivery computer terminal makes computer generated labels forms tags and ticket printers and terminals reuter\"\n",
    "news3 = \"cobanco inc cbco year net shr cts vs dlrs net vs assets mln vs mln deposits mln vs mln loans mln vs mln note th qtr not available year includes extraordinary gain from tax carry forward of dlrs or five cts per shr reuter\"\n",
    "news4 = \"brown forman inc bfd th qtr net shr one dlr vs cts net mln vs mln revs mln vs mln nine mths shr dlrs vs dlrs net mln vs mln revs billion vs mln reuter\"\n",
    "\n",
    "news_list = news1.split() + news2.split() + news3.split() + news4.split()\n",
    "\n",
    "wordDict = dict()\n",
    "\n",
    "for word in news_list :\n",
    "    wordDict[word] = wordDict.get(word, 0) + 1\n",
    "\n",
    "print(wordDict)\n"
   ]
  },
  {
   "cell_type": "code",
   "execution_count": 24,
   "metadata": {},
   "outputs": [
    {
     "name": "stdout",
     "output_type": "stream",
     "text": [
      "'champion': 2  'products': 2  'ch': 1  'approves': 1  'stock': 6  'split': 2  'champion': 2  'products': 2  'inc': 5  'said': 9  'its': 8  'board': 2  'of': 15  'directors': 1  'approved': 1  'a': 3  'two': 1  'for': 6  'one': 3  'stock': 6  'split': 2  'of': 15  'its': 8  'common': 4  'shares': 5  'for': 6  'shareholders': 2  'of': 15  'record': 1  'as': 1  'of': 15  'april': 2  'the': 18  'company': 5  'also': 3  'said': 9  'its': 8  'board': 2  'voted': 1  'to': 12  'recommend': 1  'to': 12  'shareholders': 2  'at': 5  'the': 18  'annual': 1  'meeting': 1  'april': 2  'an': 2  'increase': 2  'in': 1  'the': 18  'authorized': 1  'capital': 1  'stock': 6  'from': 2  'five': 3  'mln': 16  'to': 12  'mln': 16  'shares': 5  'reuter': 4  'computer': 7  'terminal': 6  'systems': 2  'cpml': 1  'completes': 1  'sale': 2  'computer': 7  'terminal': 6  'systems': 2  'inc': 5  'said': 9  'it': 4  'has': 2  'completed': 1  'the': 18  'sale': 2  'of': 15  'shares': 5  'of': 15  'its': 8  'common': 4  'stock': 6  'and': 6  'warrants': 3  'to': 12  'acquire': 1  'an': 2  'additional': 2  'one': 3  'mln': 16  'shares': 5  'to': 12  'sedio': 2  'n': 1  'v': 1  'of': 15  'lugano': 1  'switzerland': 1  'for': 6  'dlrs': 8  'the': 18  'company': 5  'said': 9  'the': 18  'warrants': 3  'are': 1  'exercisable': 2  'for': 6  'five': 3  'years': 1  'at': 5  'a': 3  'purchase': 1  'price': 3  'of': 15  'dlrs': 8  'per': 3  'share': 2  'computer': 7  'terminal': 6  'said': 9  'sedio': 2  'also': 3  'has': 2  'the': 18  'right': 1  'to': 12  'buy': 1  'additional': 2  'shares': 5  'and': 6  'increase': 2  'its': 8  'total': 1  'holdings': 1  'up': 1  'to': 12  'pct': 2  'of': 15  'the': 18  'computer': 7  'terminal': 6  's': 2  'outstanding': 1  'common': 4  'stock': 6  'under': 1  'certain': 1  'circumstances': 1  'involving': 1  'change': 1  'of': 15  'control': 1  'at': 5  'the': 18  'company': 5  'the': 18  'company': 5  'said': 9  'if': 1  'the': 18  'conditions': 1  'occur': 1  'the': 18  'warrants': 3  'would': 3  'be': 2  'exercisable': 2  'at': 5  'a': 3  'price': 3  'equal': 1  'to': 12  'pct': 2  'of': 15  'its': 8  'common': 4  'stock': 6  's': 2  'market': 1  'price': 3  'at': 5  'the': 18  'time': 1  'not': 2  'to': 12  'exceed': 1  'dlrs': 8  'per': 3  'share': 2  'computer': 7  'terminal': 6  'also': 3  'said': 9  'it': 4  'sold': 1  'the': 18  'technolgy': 1  'rights': 1  'to': 12  'its': 8  'dot': 1  'matrix': 1  'impact': 1  'technology': 2  'including': 1  'any': 1  'future': 1  'improvements': 1  'to': 12  'woodco': 2  'inc': 5  'of': 15  'houston': 1  'tex': 1  'for': 6  'dlrs': 8  'but': 1  'it': 4  'said': 9  'it': 4  'would': 3  'continue': 1  'to': 12  'be': 2  'the': 18  'exclusive': 1  'worldwide': 1  'licensee': 1  'of': 15  'the': 18  'technology': 2  'for': 6  'woodco': 2  'the': 18  'company': 5  'said': 9  'the': 18  'moves': 1  'were': 1  'part': 1  'of': 15  'its': 8  'reorganization': 1  'plan': 1  'and': 6  'would': 3  'help': 1  'pay': 1  'current': 1  'operation': 1  'costs': 1  'and': 6  'ensure': 1  'product': 1  'delivery': 1  'computer': 7  'terminal': 6  'makes': 1  'computer': 7  'generated': 1  'labels': 1  'forms': 1  'tags': 1  'and': 6  'ticket': 1  'printers': 1  'and': 6  'terminals': 1  'reuter': 4  'cobanco': 1  'inc': 5  'cbco': 1  'year': 2  'net': 5  'shr': 4  'cts': 3  'vs': 11  'dlrs': 8  'net': 5  'vs': 11  'assets': 1  'mln': 16  'vs': 11  'mln': 16  'deposits': 1  'mln': 16  'vs': 11  'mln': 16  'loans': 1  'mln': 16  'vs': 11  'mln': 16  'note': 1  'th': 2  'qtr': 2  'not': 2  'available': 1  'year': 2  'includes': 1  'extraordinary': 1  'gain': 1  'from': 2  'tax': 1  'carry': 1  'forward': 1  'of': 15  'dlrs': 8  'or': 1  'five': 3  'cts': 3  'per': 3  'shr': 4  'reuter': 4  'brown': 1  'forman': 1  'inc': 5  'bfd': 1  'th': 2  'qtr': 2  'net': 5  'shr': 4  'one': 3  'dlr': 1  'vs': 11  'cts': 3  'net': 5  'mln': 16  'vs': 11  'mln': 16  'revs': 2  'mln': 16  'vs': 11  'mln': 16  'nine': 1  'mths': 1  'shr': 4  'dlrs': 8  'vs': 11  'dlrs': 8  'net': 5  'mln': 16  'vs': 11  'mln': 16  'revs': 2  'billion': 1  'vs': 11  'mln': 16  'reuter': 4  "
     ]
    }
   ],
   "source": [
    "news1 = \"champion products ch approves stock split champion products inc said its board of directors approved a two for one stock split of its common shares for shareholders of record as of april the company also said its board voted to recommend to shareholders at the annual meeting april an increase in the authorized capital stock from five mln to mln shares reuter\"\n",
    "news2 = \"computer terminal systems cpml completes sale computer terminal systems inc said it has completed the sale of shares of its common stock and warrants to acquire an additional one mln shares to sedio n v of lugano switzerland for dlrs the company said the warrants are exercisable for five years at a purchase price of dlrs per share computer terminal said sedio also has the right to buy additional shares and increase its total holdings up to pct of the computer terminal s outstanding common stock under certain circumstances involving change of control at the company the company said if the conditions occur the warrants would be exercisable at a price equal to pct of its common stock s market price at the time not to exceed dlrs per share computer terminal also said it sold the technolgy rights to its dot matrix impact technology including any future improvements to woodco inc of houston tex for dlrs but it said it would continue to be the exclusive worldwide licensee of the technology for woodco the company said the moves were part of its reorganization plan and would help pay current operation costs and ensure product delivery computer terminal makes computer generated labels forms tags and ticket printers and terminals reuter\"\n",
    "news3 = \"cobanco inc cbco year net shr cts vs dlrs net vs assets mln vs mln deposits mln vs mln loans mln vs mln note th qtr not available year includes extraordinary gain from tax carry forward of dlrs or five cts per shr reuter\"\n",
    "news4 = \"brown forman inc bfd th qtr net shr one dlr vs cts net mln vs mln revs mln vs mln nine mths shr dlrs vs dlrs net mln vs mln revs billion vs mln reuter\"\n",
    "\n",
    "a = news1.split() + news2.split() + news3.split() + news4.split()\n",
    "\n",
    "for i in range(len(a)) :\n",
    "    print(\"'%s': %d \"%(a[i],a.count(a[i])),end=' ')\n",
    "    "
   ]
  },
  {
   "cell_type": "markdown",
   "metadata": {},
   "source": [
    "### 3. 프로그래머의 날 출력하기\n",
    "\n",
    "> 프로그래머의 날\n",
    "\n",
    "- 매년 256(0x100, 2**8)번째가 되는 날로 러시아에서는 2009 년부터 휴일로 지정되었다고 합니다.\n",
    "- 러시아는 **1917 년 이전까지는 율리우스력을 사용**하다가 \n",
    "- 러시아혁명 직후 **1918 년 1 월 31 일 다음날을 2월 14일로 하는 방법으로 그레고리력을 채택**하여 1919 년 이후 계속 사용하고 있습니다.\n",
    "- 그래서 러시아의 1918 년 달력을 보면 1 월 31 일 다음날은 2 월 1 일이 아닌 1918 년 2 월 14 일입니다.\n",
    "\n",
    "천문학 적으로 1 년은 365.2422 일이기 때문에 율리우스력은 4 년에 한번 윤년을 두어 2 월에 하루를\n",
    "추가하는 방식으로는 이를 보정하려 했으나 이런 경우 1 년은 365.25 일이 되고 이는 천문학적 기준인\n",
    "365.2422 일보다 0.0078 일(11 분 14 초)이 길어서 128 년마다 1 일의 편차가 발생합니다.\n",
    "그래서 그레고리력은 기존 율리우스력에서 400 년 마다 3 일을 줄이는 방법으로 해결했고 이는 4 로\n",
    "나누어 떨어지더라도 400 으로 나누어 떨어지지 않고 100 으로 나누어 떨어지면 예외로 평년으로 하는\n",
    "방법입니다. 즉, 100, 200, 300, 500, 600, 700 년은 평년이고 400, 800 년은 윤년이 됩니다.\n",
    "\n",
    "\n",
    "- 정리하면 율리우스력은 4 로 나누어 떨어지는 해에 하루를 추가(윤달)\n",
    "- 그레고리력은 400 으로 나누어 떨어지거나 4로 나누어 떨어지고 100 으로 나누어 떨어지지 않는 해에 하루를 추가(윤달)\n",
    "\n",
    "\n",
    "### 문제)  1700 년부터 2700 년까지 중 임의의 년도 하나를 입력 받아 그 해 러시아 프로그래머의 날 날짜를 출력하는 프로그램을 작성하세요.(제출명 : programersDay.ipynb)\n",
    "\n",
    "- 입력예시) **2018**\n",
    "- 출력예시) 년-월-일, YYYY-MM-DD 형식 -> **2018-09-13**\n",
    "\n",
    "- 예제 설명)\n",
    "입력 년도는 2018 년으로 1919 년 이후 이므로 그레고리력을 사용하며 그레고리력은 400 으로 나누어\n",
    "떨어지거나 4 로 나누어 떨어지고 100 으로 나누어 떨어지지 않아야 윤년이 됩니다.\n",
    "2018 / 400 = 5.045 이고 2018 / 4 = 504.5 이므로 조건에 맞지 않아 2018 년은 윤년이 아니고 윤년이\n",
    "아닌 경우 1 월부터 8 월 까지의 일수는\n",
    "31 + 28 +31 + 30 + 31 + 30 + 31 + 31 = 243 일\n",
    "기념일인 256 기준으로 [256 – 243]을 계산하면 13, 즉 9 월 13 일이고 출력 조건에 맞게 출력하면\n",
    "“2018-09-13” 이 됩니다. "
   ]
  },
  {
   "cell_type": "code",
   "execution_count": null,
   "metadata": {},
   "outputs": [],
   "source": []
  }
 ],
 "metadata": {
  "kernelspec": {
   "display_name": "Python 3",
   "language": "python",
   "name": "python3"
  },
  "language_info": {
   "codemirror_mode": {
    "name": "ipython",
    "version": 3
   },
   "file_extension": ".py",
   "mimetype": "text/x-python",
   "name": "python",
   "nbconvert_exporter": "python",
   "pygments_lexer": "ipython3",
   "version": "3.8.8"
  },
  "toc": {
   "base_numbering": 1,
   "nav_menu": {},
   "number_sections": false,
   "sideBar": true,
   "skip_h1_title": false,
   "title_cell": "Table of Contents",
   "title_sidebar": "Contents",
   "toc_cell": false,
   "toc_position": {},
   "toc_section_display": true,
   "toc_window_display": false
  }
 },
 "nbformat": 4,
 "nbformat_minor": 4
}
