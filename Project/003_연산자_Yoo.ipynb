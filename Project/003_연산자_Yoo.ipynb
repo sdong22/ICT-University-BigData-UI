{
 "cells": [
  {
   "cell_type": "markdown",
   "metadata": {
    "id": "ODr94qmsmAC5"
   },
   "source": [
    "# 1. 산술연산자\n",
    "\n",
    "## 1.1 가장 기본적인 연산자. 사칙연산(+, - , *, /)이 기본\n",
    "\n",
    "## 1.2 조금 생소할 수 있는 연산자\n",
    "- % : 몫을 나눈 나머지를 구함\n",
    "- // : 나눔셈에 대한 몫을 정수형으로 구함\n",
    "- ** : 제곱연산"
   ]
  },
  {
   "cell_type": "code",
   "execution_count": 1,
   "metadata": {
    "id": "I7i7nOy4mAC_"
   },
   "outputs": [
    {
     "data": {
      "text/plain": [
       "1"
      ]
     },
     "execution_count": 1,
     "metadata": {},
     "output_type": "execute_result"
    }
   ],
   "source": [
    "a = 10\n",
    "b = 3\n",
    "\n",
    "a%b"
   ]
  },
  {
   "cell_type": "code",
   "execution_count": 2,
   "metadata": {},
   "outputs": [
    {
     "data": {
      "text/plain": [
       "3.3333333333333335"
      ]
     },
     "execution_count": 2,
     "metadata": {},
     "output_type": "execute_result"
    }
   ],
   "source": [
    "a/b"
   ]
  },
  {
   "cell_type": "code",
   "execution_count": 3,
   "metadata": {},
   "outputs": [
    {
     "data": {
      "text/plain": [
       "3"
      ]
     },
     "execution_count": 3,
     "metadata": {},
     "output_type": "execute_result"
    }
   ],
   "source": [
    "a//b"
   ]
  },
  {
   "cell_type": "code",
   "execution_count": 4,
   "metadata": {},
   "outputs": [
    {
     "data": {
      "text/plain": [
       "1000"
      ]
     },
     "execution_count": 4,
     "metadata": {},
     "output_type": "execute_result"
    }
   ],
   "source": [
    "a**b"
   ]
  },
  {
   "cell_type": "markdown",
   "metadata": {
    "id": "dUyVJUAamADA"
   },
   "source": [
    "## 1.3 산술연산자의 우선 순위\n",
    "- *, /를 먼저 계산하며, ()를 활용할 수 있다."
   ]
  },
  {
   "cell_type": "code",
   "execution_count": null,
   "metadata": {
    "id": "qE575LI_mADA",
    "outputId": "fbcc2c03-c1d7-41a8-f849-ee7f04988767"
   },
   "outputs": [
    {
     "data": {
      "text/plain": [
       "550"
      ]
     },
     "execution_count": 10,
     "metadata": {
      "tags": []
     },
     "output_type": "execute_result"
    }
   ],
   "source": [
    "(100 + 10) *5\n"
   ]
  },
  {
   "cell_type": "markdown",
   "metadata": {
    "id": "f8WDaSnkmADB"
   },
   "source": [
    "## 1.4 산술연산자와 대입연산자\n",
    "\n",
    "| 연산자 | 사용 예 | 설명 | 연산자 | 사용 예 | 설명 | \n",
    "| --- | --- | --- | --- | --- | --- | \n",
    "| += | a += 3 | a = a+3 | -= | a -= 3 | a = a-3 \n",
    "| *= | a *= 3 | a = a*3 | /= | a /= 3 | a = a/3 |\n",
    "| //= | a //= 3 | a = a//3 |  %= | a %= 3 | a = a%3 |\n",
    "| **= | a **= 3 | a = a**3 |\n"
   ]
  },
  {
   "cell_type": "code",
   "execution_count": null,
   "metadata": {},
   "outputs": [],
   "source": [
    "# sum = sum+3\n",
    "#  sum += 3"
   ]
  },
  {
   "cell_type": "markdown",
   "metadata": {
    "id": "gJ7JCJ8umADC"
   },
   "source": [
    "**연습문제1) 동전교환 프로그램**\n",
    "- 금액을 입력 받아서 동전으로 바꿔주는 프로그램"
   ]
  },
  {
   "cell_type": "code",
   "execution_count": 8,
   "metadata": {
    "id": "44g1osUYmADC"
   },
   "outputs": [
    {
     "name": "stdout",
     "output_type": "stream",
     "text": [
      "금액을 입력하세요 : 4657\n",
      "500 원 : 9개\n",
      "100 원 : 1개\n",
      "50 원 : 1개\n",
      "10 원 : 0개\n",
      "바꾸지 못한 잔돈 : 7원\n"
     ]
    }
   ],
   "source": [
    "# 입력 : 금액(정수형)\n",
    "# 처리 : 전체 금액 \n",
    "# 출력 : 500원 : 개, 100원 : 100개,.....\n",
    "money = int(input(\"금액을 입력하세요 : \"))\n",
    "\n",
    "coin500 = money // 500\n",
    "money %= 500\n",
    "\n",
    "coin100 = money // 100\n",
    "money %=100\n",
    "\n",
    "coin50 = money // 50\n",
    "money %= 50\n",
    "\n",
    "coin10 = money // 10\n",
    "money %= 10\n",
    "\n",
    "# ver1\n",
    "\n",
    "print('500 원 : {}개'.format(coin500))\n",
    "print('100 원 : {}개'.format(coin100))\n",
    "print('50 원 : {}개'.format(coin50))\n",
    "print('10 원 : {}개'.format(coin10))\n",
    "print('바꾸지 못한 잔돈 : {}원'.format(money))"
   ]
  },
  {
   "cell_type": "code",
   "execution_count": 9,
   "metadata": {},
   "outputs": [
    {
     "name": "stdout",
     "output_type": "stream",
     "text": [
      "500 원 : 9개\n",
      "100 원 : 1개\n",
      "50 원 : 1개\n",
      "10 원 : 0개\n",
      "바꾸지 못한 잔돈 : 7원\n"
     ]
    }
   ],
   "source": [
    "# ver2\n",
    "print('500 원 : %d개'%(coin500))\n",
    "print('100 원 : %d개'%(coin100))\n",
    "print('50 원 : %d개'%(coin50))\n",
    "print('10 원 : %d개'%(coin10))\n",
    "print('바꾸지 못한 잔돈 : %d원'%(money))"
   ]
  },
  {
   "cell_type": "markdown",
   "metadata": {
    "id": "ikpbFPnSmADC"
   },
   "source": [
    "# 2. 비교(관계)연산자\n",
    "- == : 같다.\n",
    "- != : 같지 않다."
   ]
  },
  {
   "cell_type": "code",
   "execution_count": 18,
   "metadata": {
    "id": "8sWxpO7cmADD"
   },
   "outputs": [
    {
     "name": "stdout",
     "output_type": "stream",
     "text": [
      "300\n",
      "300\n",
      "False\n",
      "True False False True False True\n"
     ]
    }
   ],
   "source": [
    "a, b = 300, 300\n",
    "print(a)\n",
    "print(b)\n",
    "\n",
    "if a != b :\n",
    "    print('True')\n",
    "else :\n",
    "    print('False')\n",
    "    \n",
    "print(a==b, a!=b, a>b, a>=b, a<b, a<=b)\n"
   ]
  },
  {
   "cell_type": "markdown",
   "metadata": {
    "id": "5v3BetZ0mADD"
   },
   "source": [
    "# 3. 논리연산자\n",
    "\n",
    "| 연산자 | 의미 | 설명   | 사용 예   |\n",
    "| --- | --- | --- | --- |\n",
    "| and(논리곱) | ~이고, 그리고 | 둘 다 참이어야 함 | (a>100) and (a<200)\n",
    "| or(논리합) | ~이거나, 또는 | 둘 중 하나만 참이어도 참 | (a==100) or (a==200)\n",
    "| not(논리부정) | ~아니다. 부정 | 참이면 거짓, 거짓이면 참 | not(a>100)"
   ]
  },
  {
   "cell_type": "code",
   "execution_count": 25,
   "metadata": {
    "id": "cmp-KNPVmADD"
   },
   "outputs": [
    {
     "name": "stdout",
     "output_type": "stream",
     "text": [
      "False\n",
      "True\n"
     ]
    },
    {
     "data": {
      "text/plain": [
       "False"
      ]
     },
     "execution_count": 25,
     "metadata": {},
     "output_type": "execute_result"
    }
   ],
   "source": [
    "a = 99\n",
    "\n",
    "print((a>100) and (a<200))\n",
    "print((a>100) or (a<200))\n",
    "not(a==99)"
   ]
  },
  {
   "cell_type": "markdown",
   "metadata": {
    "id": "dEmMexlZmADD"
   },
   "source": [
    "# 4. 연산자 우선순위\n",
    "\n",
    "| 순위 | <center>연산자</center> | <center>의미</center>  |\n",
    "|---:|:--- |:---| \n",
    "| 1 | ( )  [ ]  { }| 괄호, 리스트, 딕셔너리, 세트 등 |\n",
    "| 2 | ** | 지수 |\n",
    "| 3 | + -  | 단항연산자(숫자나, 변수앞에 붙는 +, - 부호)  |\n",
    "| 4 | * / % // | 산술연산자  |\n",
    "| 5 | + - | 산술연산자 |\n",
    "| 6 | < > >= <= | 관계연산자 |\n",
    "| 7 | == != | 관계연산자 |\n",
    "| 8 | = %= /= //= -= += \\*= \\*\\*= | 대입연산자 |\n",
    "| 9 | not | 논리연산자 |\n",
    "| 10 | and | 논리연산자 |\n",
    "| 11 | or | 논리연산자 |\n",
    "| 12 | if ~ else | 비교식 |\n"
   ]
  },
  {
   "cell_type": "markdown",
   "metadata": {
    "id": "vV3j-DAwmADE"
   },
   "source": [
    "# 4.실전문제"
   ]
  },
  {
   "cell_type": "markdown",
   "metadata": {
    "id": "PV9Ui1fYmADE"
   },
   "source": [
    "**실전1 : 돈(예 : 7777777)을 입력하면 5만원, 1만원, 5천원, 천원 지폐로 교환하는 프로그램 만들기**"
   ]
  },
  {
   "cell_type": "code",
   "execution_count": 29,
   "metadata": {
    "id": "RFRIOPUHmADE"
   },
   "outputs": [
    {
     "name": "stdout",
     "output_type": "stream",
     "text": [
      "금액을 입력하세요 : 7777777\n",
      "50000 원 : 155장\n",
      "10000 원 : 2장\n",
      "5000 원 : 1장\n",
      "1000 원 : 2장\n",
      "바꾸지 못한 잔돈 : 777원\n"
     ]
    }
   ],
   "source": [
    "money = int(input('금액을 입력하세요 : '))\n",
    "\n",
    "won50000 = money // 50000\n",
    "money %= 50000\n",
    "\n",
    "won10000 = money // 10000\n",
    "money %= 10000\n",
    "\n",
    "won5000 = money // 5000\n",
    "money %= 5000\n",
    "\n",
    "won1000 = money // 1000\n",
    "money %= 1000\n",
    "\n",
    "print('50000 원 : {}장'.format(won50000))\n",
    "print('10000 원 : {}장'.format(won10000))\n",
    "print('5000 원 : {}장'.format(won5000))\n",
    "print('1000 원 : {}장'.format(won1000))\n",
    "print('동전 : {}원'.format(money))"
   ]
  },
  {
   "cell_type": "code",
   "execution_count": 52,
   "metadata": {},
   "outputs": [
    {
     "name": "stdout",
     "output_type": "stream",
     "text": [
      "금액을 입력하세요 : 1057650\n",
      "50000 원 : 1장\n",
      "10000 원 : 100장\n",
      "5000 원 : 1장\n",
      "1000 원 : 2장\n",
      "동전 : 650원\n"
     ]
    }
   ],
   "source": [
    "# 만원짜리 100장을 무조건 먼저 바꾼 뒤 남은 금액을 다른 지폐들로 바꾸는 프로그램\n",
    "\n",
    "money = int(input('금액을 입력하세요 : '))\n",
    "\n",
    "if money<100*10000 :\n",
    "    print('교환 금액이 부족합니다')\n",
    "else :     \n",
    "    money10000 = 100\n",
    "    money -= (100*10000)\n",
    "\n",
    "    won50000 = money // 50000\n",
    "    money %= 50000\n",
    "\n",
    "    won5000 = money // 5000\n",
    "    money %= 5000\n",
    "\n",
    "    won1000 = money // 1000\n",
    "    money %= 1000\n",
    "    \n",
    "    print('50000 원 : {}장'.format(won50000))\n",
    "    print('10000 원 : 100장')\n",
    "    print('5000 원 : {}장'.format(won5000))\n",
    "    print('1000 원 : {}장'.format(won1000))\n",
    "    print('동전 : {}원'.format(money))"
   ]
  },
  {
   "cell_type": "markdown",
   "metadata": {
    "id": "9q6ChU5imADE"
   },
   "source": [
    "**실전 2 : 윤년 계산하기 프로그램**\n",
    "- 논리 연산자를 이용하여 업그레이드 된 윤년 계산기 만들기\n",
    "- 4로 나누어 떨어지는 해는 윤년으로 한다. (1988년, 1992년, 1996년, 2004년, 2008년, 2012년, 2016년, 2020년, 2024년, 2028년, 2032년, 2036년, 2040년, 2044년 ...)\n",
    "- 4, 100 으로 나누어 떨어지는 해는 평년으로 한다. (1900년, 2100년, 2200년, 2300년, 2500년...)\n",
    "- 4, 100, 400 으로 나누어 떨어지는 해는 윤년으로 둔다. (2000년, 2400년...)\n",
    "출처: 위키백과\n",
    "\n",
    "==> 종합하면 **4의 배수이면서 100의 배수가 아니거나**, **400의 배수**면 윤년이다."
   ]
  },
  {
   "cell_type": "code",
   "execution_count": 59,
   "metadata": {
    "id": "7cLsi_immADF"
   },
   "outputs": [
    {
     "name": "stdout",
     "output_type": "stream",
     "text": [
      "년도를 입력하세요 : 2000\n",
      "윤년입니다\n"
     ]
    }
   ],
   "source": [
    "year= int(input('년도를 입력하세요 : '))\n",
    "\n",
    "if (year%4==0) and not(year%100==0) or (year%400==0) :\n",
    "                 # (year % 100 != 0)\n",
    "    print('%d년은 윤년입니다'% year)\n",
    "else :\n",
    "    print('%d년은 윤년이 아닙니다'% year)"
   ]
  }
 ],
 "metadata": {
  "colab": {
   "name": "003.연산자_before.ipynb",
   "provenance": []
  },
  "kernelspec": {
   "display_name": "Python 3",
   "language": "python",
   "name": "python3"
  },
  "language_info": {
   "codemirror_mode": {
    "name": "ipython",
    "version": 3
   },
   "file_extension": ".py",
   "mimetype": "text/x-python",
   "name": "python",
   "nbconvert_exporter": "python",
   "pygments_lexer": "ipython3",
   "version": "3.8.5"
  },
  "toc": {
   "base_numbering": 1,
   "nav_menu": {},
   "number_sections": false,
   "sideBar": true,
   "skip_h1_title": false,
   "title_cell": "Table of Contents",
   "title_sidebar": "Contents",
   "toc_cell": false,
   "toc_position": {
    "height": "calc(100% - 180px)",
    "left": "10px",
    "top": "150px",
    "width": "253.729px"
   },
   "toc_section_display": true,
   "toc_window_display": false
  }
 },
 "nbformat": 4,
 "nbformat_minor": 1
}
