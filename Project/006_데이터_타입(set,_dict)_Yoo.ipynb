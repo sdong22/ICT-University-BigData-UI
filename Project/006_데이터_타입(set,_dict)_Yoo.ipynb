{
 "cells": [
  {
   "cell_type": "markdown",
   "metadata": {
    "id": "p2y7HiQr_PwE"
   },
   "source": [
    "# 1. 집합(set)\n",
    "\n",
    "- 집합(set)은 파이썬 2.3부터 지원하기 시작한 자료형으로, 집합에 관련된 것을 쉽게 처리하기 위해 만든 자료형이다.\n",
    "\n",
    "- 공집합을 생성할 때는 *반드시* set()으로 생성해야 한다. {}로 생성하면 빈 dictionary가 생성된다.\n",
    "\n",
    "- {1, 2, 3} -> set, {'a':1, 'b':2} -> dictionary\n",
    "\n",
    "- 집합의 연산자인 교집합, 합집합, 차집합을 모두 지원한다.\n",
    "\n",
    "- set의 특징이 2가지 있는데, 이 특징이 리스트와의 차이점이라 사용한다. 첫번째 특징이 set 자료형을 사용하는 주된 이유이다.\n",
    "\n",
    "1) set은 **원소의 중복을 허용하지 않는다.** 즉, **원소의 종류**를 나타내기 좋다.\n",
    "\n",
    "2) set은 **원소의 순서가 존재하지 않는다.** 즉, 원소의 index가 없다."
   ]
  },
  {
   "cell_type": "code",
   "execution_count": 3,
   "metadata": {
    "id": "fJINQUel_PwF"
   },
   "outputs": [
    {
     "data": {
      "text/plain": [
       "set"
      ]
     },
     "execution_count": 3,
     "metadata": {},
     "output_type": "execute_result"
    }
   ],
   "source": [
    "my_set = set()\n",
    "type(my_set)\n",
    "\n",
    "my_set = {1, 2, 3, 4}\n",
    "type(my_set)"
   ]
  },
  {
   "cell_type": "code",
   "execution_count": 7,
   "metadata": {},
   "outputs": [
    {
     "ename": "TypeError",
     "evalue": "'set' object is not subscriptable",
     "output_type": "error",
     "traceback": [
      "\u001b[1;31m---------------------------------------------------------------------------\u001b[0m",
      "\u001b[1;31mTypeError\u001b[0m                                 Traceback (most recent call last)",
      "\u001b[1;32m<ipython-input-7-e5014a7c4b45>\u001b[0m in \u001b[0;36m<module>\u001b[1;34m\u001b[0m\n\u001b[0;32m      4\u001b[0m \u001b[1;33m\u001b[0m\u001b[0m\n\u001b[0;32m      5\u001b[0m \u001b[1;31m# 원소의 순서_ index가 없다.\u001b[0m\u001b[1;33m\u001b[0m\u001b[1;33m\u001b[0m\u001b[1;33m\u001b[0m\u001b[0m\n\u001b[1;32m----> 6\u001b[1;33m \u001b[0mmy_set\u001b[0m\u001b[1;33m[\u001b[0m\u001b[1;36m1\u001b[0m\u001b[1;33m]\u001b[0m\u001b[1;33m\u001b[0m\u001b[1;33m\u001b[0m\u001b[0m\n\u001b[0m",
      "\u001b[1;31mTypeError\u001b[0m: 'set' object is not subscriptable"
     ]
    }
   ],
   "source": [
    "# 원소의 중복을 허용하지 않음\n",
    "my_set = {1, 2, 2,2,2, 3,3,3,3,3,3, 4}\n",
    "my_set\n",
    "\n",
    "# 원소의 순서_ index가 없다.\n",
    "my_set[1]"
   ]
  },
  {
   "cell_type": "markdown",
   "metadata": {
    "id": "KentDv5p_PwF"
   },
   "source": [
    "## 1.1 set의 연산\n",
    "- 교집합, 합집합, 차집합 등 지원"
   ]
  },
  {
   "cell_type": "code",
   "execution_count": 9,
   "metadata": {
    "id": "BHt1HTNu_PwG"
   },
   "outputs": [
    {
     "name": "stdout",
     "output_type": "stream",
     "text": [
      "{1, 2, 3, 4, 5, 6, 7}\n",
      "{3, 4, 5}\n",
      "{1, 2}\n"
     ]
    }
   ],
   "source": [
    "s1 = {1, 2, 3, 4, 5}\n",
    "s2 = {3, 4, 5, 6, 7}\n",
    "\n",
    "print(s1.union(s2))  # .union : 합집합 _ s1과 s2 위치 바껴도 결과 같음\n",
    "print(s1.intersection(s2))  # .intersection : 교집합 _  \"\"\n",
    "print(s1.difference(s2))   # .difference : 차집합  _ 위치 바뀌면 결과 바뀜\n"
   ]
  },
  {
   "cell_type": "markdown",
   "metadata": {
    "id": "Pdv82COG_PwG"
   },
   "source": [
    "## 1.2 집합 관련 함수"
   ]
  },
  {
   "cell_type": "markdown",
   "metadata": {
    "id": "LVKeQRqO_PwH"
   },
   "source": [
    "#### 집합에 원소 하나 추가하기 add()"
   ]
  },
  {
   "cell_type": "code",
   "execution_count": 10,
   "metadata": {
    "id": "TeEs7LcJ_PwH"
   },
   "outputs": [
    {
     "data": {
      "text/plain": [
       "{3}"
      ]
     },
     "execution_count": 10,
     "metadata": {},
     "output_type": "execute_result"
    }
   ],
   "source": [
    "#list에서 append와 비슷\n",
    "\n",
    "s = set()\n",
    "\n",
    "s.add(3)\n",
    "s\n"
   ]
  },
  {
   "cell_type": "markdown",
   "metadata": {
    "id": "_jx7pxvI_PwH"
   },
   "source": [
    "#### 집합에 여러 원소 추가하기 update()"
   ]
  },
  {
   "cell_type": "code",
   "execution_count": 11,
   "metadata": {
    "id": "U6eCR_lt_PwH"
   },
   "outputs": [
    {
     "data": {
      "text/plain": [
       "{1, 2, 3, 4, 5}"
      ]
     },
     "execution_count": 11,
     "metadata": {},
     "output_type": "execute_result"
    }
   ],
   "source": [
    "# list에서 extend와 비슷\n",
    "\n",
    "s = {1, 2, 3}\n",
    "s.update({4, 5})\n",
    "s"
   ]
  },
  {
   "cell_type": "markdown",
   "metadata": {
    "id": "hLuVuBtn_PwI"
   },
   "source": [
    "#### 집합에서 원소 제거하기 remove()"
   ]
  },
  {
   "cell_type": "code",
   "execution_count": 12,
   "metadata": {
    "id": "X_cgpdXr_PwI"
   },
   "outputs": [
    {
     "data": {
      "text/plain": [
       "{1, 2, 4, 5}"
      ]
     },
     "execution_count": 12,
     "metadata": {},
     "output_type": "execute_result"
    }
   ],
   "source": [
    "s.remove(3)\n",
    "s"
   ]
  },
  {
   "cell_type": "markdown",
   "metadata": {
    "id": "hK97yMkA_PwI"
   },
   "source": [
    " "
   ]
  },
  {
   "cell_type": "markdown",
   "metadata": {
    "id": "tPULe3_U_PwI"
   },
   "source": [
    "  "
   ]
  },
  {
   "cell_type": "markdown",
   "metadata": {
    "id": "QZ0EJRer_PwJ"
   },
   "source": [
    "# 2. Dictionary (**)\n",
    "\n",
    "\n",
    "\n",
    "**파이썬에서 리스트와 함께 굉장히 많이 사용되는 구조.**\n",
    "\n",
    "- key - value 방법을 통해 저장한다.\n",
    "\n",
    "| 자료형 | 의미 | 가리키는 위치 | 선언형식 |\n",
    "|:---:|:---|:---:|---|\n",
    "| list | 인덱스를 기반으로 값을 저장 | 인덱스 | a = [ ] |\n",
    "| dictionary | 키를 기반으로 값을 저장 | 키 | a = { } |\n",
    "\n",
    "\n",
    "- dictionary를 표현할 때는 {key : value, key2 : value2, ... } 형태로 표현한다.\n",
    "\n",
    "- dict_a = {'Korea' : 'Seoul', 'Japan' : 'Tokyo', 'Chana' : 'Beijing'}\n",
    "\n",
    "- 순서를 따지지 않음. 즉, 인덱스가 없음\n",
    "\n",
    "- **key : immutable / value : mutable**\n",
    "      (수정 불가능)      (수정 가능)\n",
    "- 파이썬에서 가장 자주쓰는 데이터 형 중 하나"
   ]
  },
  {
   "cell_type": "markdown",
   "metadata": {
    "id": "dWHgb9HG_PwJ"
   },
   "source": [
    "## 2.1 dictionary 기본사용법"
   ]
  },
  {
   "cell_type": "markdown",
   "metadata": {
    "id": "l1s_KHIu_PwJ"
   },
   "source": [
    "### 2.1.1 dictionary 생성"
   ]
  },
  {
   "cell_type": "code",
   "execution_count": 15,
   "metadata": {
    "id": "7cuWgmwG_PwK"
   },
   "outputs": [
    {
     "data": {
      "text/plain": [
       "dict"
      ]
     },
     "execution_count": 15,
     "metadata": {},
     "output_type": "execute_result"
    }
   ],
   "source": [
    "#     key값  : value\n",
    "#(index와 비슷)\n",
    "a = {'Korea' : 'Seoul',\n",
    "     'Japan' : 'Tokyo',\n",
    "     'China' : 'Beijing'}\n",
    "type(a)"
   ]
  },
  {
   "cell_type": "markdown",
   "metadata": {
    "id": "rt15gcPb_PwK"
   },
   "source": [
    "### 2.1.2 dictionary 원소 추가"
   ]
  },
  {
   "cell_type": "code",
   "execution_count": 18,
   "metadata": {
    "id": "oH-wGtFp_PwK"
   },
   "outputs": [
    {
     "data": {
      "text/plain": [
       "{'Korea': 'Busan', 'Japan': 'Tokyo', 'China': 'Beijing', 'Canada': 'Ottawa'}"
      ]
     },
     "execution_count": 18,
     "metadata": {},
     "output_type": "execute_result"
    }
   ],
   "source": [
    "# key가 없는 경우, 추가됨\n",
    "a['Canada'] = 'Ottawa'\n",
    "a\n",
    "\n",
    "# key가 있는 경우, value가 바뀜\n",
    "a['Korea'] = 'Busan'\n",
    "a"
   ]
  },
  {
   "cell_type": "markdown",
   "metadata": {
    "id": "PKfptifM_PwK"
   },
   "source": [
    "### 2.1.3 dictionary 원소 삭제"
   ]
  },
  {
   "cell_type": "code",
   "execution_count": 22,
   "metadata": {
    "id": "r-DwdSqi_PwK"
   },
   "outputs": [
    {
     "data": {
      "text/plain": [
       "{'Korea': 'Busan', 'China': 'Beijing', 'Canada': 'Ottawa'}"
      ]
     },
     "execution_count": 22,
     "metadata": {},
     "output_type": "execute_result"
    }
   ],
   "source": [
    "del a['Japan']\n",
    "a"
   ]
  },
  {
   "cell_type": "markdown",
   "metadata": {
    "id": "kk10AjwH_PwL"
   },
   "source": [
    "### 2.1.4 dictionary 접근"
   ]
  },
  {
   "cell_type": "code",
   "execution_count": 23,
   "metadata": {
    "id": "L_Cv6VOO_PwL"
   },
   "outputs": [
    {
     "data": {
      "text/plain": [
       "'Busan'"
      ]
     },
     "execution_count": 23,
     "metadata": {},
     "output_type": "execute_result"
    }
   ],
   "source": [
    "a['Korea']"
   ]
  },
  {
   "cell_type": "code",
   "execution_count": 79,
   "metadata": {},
   "outputs": [
    {
     "data": {
      "text/plain": [
       "9"
      ]
     },
     "execution_count": 79,
     "metadata": {},
     "output_type": "execute_result"
    }
   ],
   "source": [
    "b = {0 : 1, 1 : 6, 8 : 9}\n",
    "b[8]"
   ]
  },
  {
   "cell_type": "markdown",
   "metadata": {
    "id": "BWIrPGEd_PwL"
   },
   "source": [
    "### 2.1.5 dictionary 수정\n",
    "- dict.update(수정할 dict)"
   ]
  },
  {
   "cell_type": "code",
   "execution_count": 28,
   "metadata": {},
   "outputs": [
    {
     "data": {
      "text/plain": [
       "{'Korea': 'Seoul', 'China': 'Beijing', 'Canada': 'Ottawa'}"
      ]
     },
     "execution_count": 28,
     "metadata": {},
     "output_type": "execute_result"
    }
   ],
   "source": [
    "# 한 가지 수정할 경우\n",
    "a['Korea'] = 'Seoul'\n",
    "a"
   ]
  },
  {
   "cell_type": "code",
   "execution_count": 32,
   "metadata": {},
   "outputs": [
    {
     "name": "stdout",
     "output_type": "stream",
     "text": [
      "{'a': 1, 'b': 4, 'c': 2, 'd': 4}\n",
      "{'a': 5, 'b': 7, 'c': 11, 'd': 90}\n",
      "{'a': 5, 'b': 7, 'c': 11, 'd': 90, 'e': 11, 'f': 90}\n"
     ]
    }
   ],
   "source": [
    "b = {'a' : 9,\n",
    "    'b' : 4,\n",
    "    'c' : 2,\n",
    "    'd' : 4}\n",
    "\n",
    "b['a'] = 1\n",
    "print(b)\n",
    "\n",
    "b.update({'a' : 5, 'b' : 7, 'c' : 11, 'd' : 90})\n",
    "print(b)\n",
    "\n",
    "b.update({'a' : 5, 'b' : 7, 'e' : 11, 'f' : 90})\n",
    "print(b)\n",
    "\n",
    "# >> key 값이 있으면 변경, key값이 없으면 추가된 것"
   ]
  },
  {
   "cell_type": "code",
   "execution_count": 41,
   "metadata": {
    "id": "l7zmuigW_PwL"
   },
   "outputs": [
    {
     "name": "stdout",
     "output_type": "stream",
     "text": [
      "name :  BTS\n",
      "member : 7명\n",
      "name :  환불원정대\n",
      "{'name': '환불원정대', 'member': 3, '데뷔곡': '데인저', '대표곡': ['IDOL', '봄날', '불타오르네', 'Dynamite'], 'reader': 'RM'}\n",
      "{'name': '환불원정대', 'member': 3, '데뷔곡': '데인저', '대표곡': ['IDOL', '봄날', '불타오르네', 'Dynamite'], 'reader': 'RM'}\n",
      "봄날\n"
     ]
    }
   ],
   "source": [
    "singer = {\n",
    "    'name' : 'BTS',\n",
    "    'member' : 7,\n",
    "    '데뷔곡' : '데인저',\n",
    "    '대표곡' : ['IDOL','봄날','불타오르네','Dynamite']\n",
    "    \n",
    "}\n",
    "\n",
    "print('name : ',singer['name'])\n",
    "print('member : {}명'.format(singer['member']))\n",
    "\n",
    "singer['name'] = '환불원정대'\n",
    "print('name : ',singer['name'])\n",
    "\n",
    "# 수정_ ver1\n",
    "singer['member'] = 3\n",
    "singer['reader'] = 'RM'\n",
    "print(singer)\n",
    "\n",
    "# 수정_ ver2\n",
    "singer.update({'member' : 3, 'reader' : 'RM'})\n",
    "print(singer)\n",
    "\n",
    "# '봄날' 출력\n",
    "print(singer['대표곡'][1])\n"
   ]
  },
  {
   "cell_type": "code",
   "execution_count": 82,
   "metadata": {},
   "outputs": [
    {
     "name": "stdout",
     "output_type": "stream",
     "text": [
      "{'noodle': ['라면', '쌀국수', '짜장면', '파스타'], 'rice': '볶음밥', 'chicken': '교촌', 'desert': '케이크'}\n"
     ]
    }
   ],
   "source": [
    "food = {\n",
    "    'noodle' : ['라면','쌀국수','짜장면','파스타'],\n",
    "    'rice' : '볶음밥',\n",
    "    'chicken' : '교촌',\n",
    "    'desert' : '케이크'\n",
    "}\n",
    "print(food)\n"
   ]
  },
  {
   "cell_type": "markdown",
   "metadata": {
    "id": "c0MMNR_r_PwL"
   },
   "source": [
    "> **TIP** dictionary를 만들 때 key는 중복이 있으면 절대 안된다."
   ]
  },
  {
   "cell_type": "markdown",
   "metadata": {
    "id": "KED47JNK_PwM"
   },
   "source": [
    "## 2.2 dictionary 관련 함수"
   ]
  },
  {
   "cell_type": "markdown",
   "metadata": {
    "id": "-7CLJ7WR_PwM"
   },
   "source": [
    "### 2.2.1 dictionary의 모든 key값들 보기 keys()"
   ]
  },
  {
   "cell_type": "code",
   "execution_count": 58,
   "metadata": {
    "id": "7smV_uZ3_PwM"
   },
   "outputs": [
    {
     "name": "stdout",
     "output_type": "stream",
     "text": [
      "dict_keys(['name', 'member', '데뷔곡', '대표곡'])\n",
      "['name', 'member', '데뷔곡', '대표곡']\n",
      "name\n",
      "member\n",
      "데뷔곡\n",
      "대표곡\n"
     ]
    }
   ],
   "source": [
    "singer = {\n",
    "    'name' : 'BTS',\n",
    "    'member' : 7,\n",
    "    '데뷔곡' : '데인저',\n",
    "    '대표곡' : ['IDOL','봄날','불타오르네','Dynamite']\n",
    "    \n",
    "}\n",
    "\n",
    "# key 값 추출\n",
    "print(singer.keys())\n",
    "a = list(singer.keys())\n",
    "print(a)\n",
    "\n",
    "# >> 이렇게 하면 index로 접근 가능_ 오류 줄일 수 있음\n",
    "\n",
    "# for문으로 하나씩 찍어내기\n",
    "for i in range(0,len(a),1) :\n",
    "    print(a[i])"
   ]
  },
  {
   "cell_type": "markdown",
   "metadata": {
    "id": "MGatzbsT_PwM"
   },
   "source": [
    "### 2.2.2 dictionary의 모든 value들 보기 values()"
   ]
  },
  {
   "cell_type": "code",
   "execution_count": 60,
   "metadata": {
    "id": "C3Xxe6VS_PwM"
   },
   "outputs": [
    {
     "name": "stdout",
     "output_type": "stream",
     "text": [
      "dict_values(['BTS', 7, '데인저', ['IDOL', '봄날', '불타오르네', 'Dynamite']])\n",
      "['BTS', 7, '데인저', ['IDOL', '봄날', '불타오르네', 'Dynamite']]\n",
      "BTS\n",
      "7\n",
      "데인저\n",
      "IDOL\n",
      "봄날\n",
      "불타오르네\n",
      "Dynamite\n"
     ]
    }
   ],
   "source": [
    "# value 값 추출\n",
    "print(singer.values())\n",
    "a = list(singer.values())\n",
    "print(a)\n",
    "\n",
    "# 하나씩 찍어내기\n",
    "for i in range(0,len(a),1) :\n",
    "    if type(a[i]) == list :                  # >>이렇게 하면 리스트도 쪼갤 수 있음\n",
    "        for j in range(0,len(a[i]),1) :\n",
    "            print(a[i][j])\n",
    "    else :\n",
    "        print(a[i])"
   ]
  },
  {
   "cell_type": "markdown",
   "metadata": {
    "id": "aAkTHFQI_PwN"
   },
   "source": [
    "### 2.2.3 dictionary의 모든 key, value 쌍 보기 items() -> tuple 형태로 반환된다"
   ]
  },
  {
   "cell_type": "code",
   "execution_count": 69,
   "metadata": {},
   "outputs": [
    {
     "data": {
      "text/plain": [
       "dict_items([('name', 'BTS'), ('member', 7), ('데뷔곡', '데인저'), ('대표곡', ['IDOL', '봄날', '불타오르네', 'Dynamite'])])"
      ]
     },
     "execution_count": 69,
     "metadata": {},
     "output_type": "execute_result"
    }
   ],
   "source": [
    "singer.items()"
   ]
  },
  {
   "cell_type": "code",
   "execution_count": 70,
   "metadata": {
    "id": "3I6u6Asi_PwN"
   },
   "outputs": [
    {
     "data": {
      "text/plain": [
       "[('name', 'BTS'),\n",
       " ('member', 7),\n",
       " ('데뷔곡', '데인저'),\n",
       " ('대표곡', ['IDOL', '봄날', '불타오르네', 'Dynamite'])]"
      ]
     },
     "execution_count": 70,
     "metadata": {},
     "output_type": "execute_result"
    }
   ],
   "source": [
    "list(singer.items())\n"
   ]
  },
  {
   "cell_type": "markdown",
   "metadata": {
    "id": "wvjLKKNW_PwN"
   },
   "source": [
    "### 2.2.4 dictionary의 원소 가져오기 get() : key로 value 구하기"
   ]
  },
  {
   "cell_type": "code",
   "execution_count": 4,
   "metadata": {
    "id": "FtzE6LqH_PwN",
    "outputId": "73e102c6-5dcc-4a49-a86d-37adc0c29aec"
   },
   "outputs": [
    {
     "name": "stdout",
     "output_type": "stream",
     "text": [
      "{'name': 'BTS', 'member': 7, '데뷔곡': '데인저', '대표곡': ['IDOL', '봄날', '불타오르네', 'Dynamite'], 'company': '하이브'}\n",
      "RM\n",
      "None\n"
     ]
    },
    {
     "data": {
      "text/plain": [
       "{'name': 'BTS',\n",
       " 'member': 7,\n",
       " '데뷔곡': '데인저',\n",
       " '대표곡': ['IDOL', '봄날', '불타오르네', 'Dynamite'],\n",
       " 'company': '하이브'}"
      ]
     },
     "execution_count": 4,
     "metadata": {},
     "output_type": "execute_result"
    }
   ],
   "source": [
    "singer = {\n",
    "    'name' : 'BTS',\n",
    "    'member' : 7,\n",
    "    '데뷔곡' : '데인저',\n",
    "    '대표곡' : ['IDOL','봄날','불타오르네','Dynamite']\n",
    "    \n",
    "}\n",
    "\n",
    "# 원소 가져오는 두 가지 방법\n",
    "singer.get('name')\n",
    "singer['name']\n",
    "\n",
    "singer['company'] = '하이브'\n",
    "print(singer)\n",
    "\n",
    "# singer['Reader']\n",
    "\n",
    "#############\n",
    "\n",
    "singer.get('company','SM')  # company에 값이 있으면 출력, 없으면 SM 출력\n",
    "b = singer.get('Reader','RM')\n",
    "print(b)\n",
    "c = singer.get('Reader')\n",
    "print(c)\n",
    "singer\n",
    "\n",
    "# get은 원래 dictionary를 변형시키지 X , 값만 가져옴"
   ]
  },
  {
   "cell_type": "markdown",
   "metadata": {
    "id": "gYdJTqsl_PwO"
   },
   "source": [
    "### 2.2.5 dictionary에 해당 key값이 존재하는지 확인하기 in\n",
    "\n",
    "\n",
    "- in이라는 operator는 dictionary뿐만 아니라 모든 연속형 데이터 타입에 사용할 수 있다.\n",
    "\n",
    "\n",
    "- dictionary의 경우에는 key를 대상으로 하고, 리스트, 튜플, 집합, 문자열에 대해서는 해당 원소가 존재하는지 찾아서 True / False 를 알려준다."
   ]
  },
  {
   "cell_type": "code",
   "execution_count": 75,
   "metadata": {},
   "outputs": [
    {
     "data": {
      "text/plain": [
       "True"
      ]
     },
     "execution_count": 75,
     "metadata": {},
     "output_type": "execute_result"
    }
   ],
   "source": [
    "'name' in singer"
   ]
  },
  {
   "cell_type": "code",
   "execution_count": 76,
   "metadata": {},
   "outputs": [
    {
     "data": {
      "text/plain": [
       "False"
      ]
     },
     "execution_count": 76,
     "metadata": {},
     "output_type": "execute_result"
    }
   ],
   "source": [
    "'소속사' in singer"
   ]
  }
 ],
 "metadata": {
  "colab": {
   "name": "006. 데이터 타입(set, dict)_before.ipynb",
   "provenance": []
  },
  "kernelspec": {
   "display_name": "Python 3",
   "language": "python",
   "name": "python3"
  },
  "language_info": {
   "codemirror_mode": {
    "name": "ipython",
    "version": 3
   },
   "file_extension": ".py",
   "mimetype": "text/x-python",
   "name": "python",
   "nbconvert_exporter": "python",
   "pygments_lexer": "ipython3",
   "version": "3.8.8"
  },
  "toc": {
   "base_numbering": 1,
   "nav_menu": {},
   "number_sections": false,
   "sideBar": true,
   "skip_h1_title": false,
   "title_cell": "Table of Contents",
   "title_sidebar": "Contents",
   "toc_cell": false,
   "toc_position": {
    "height": "calc(100% - 180px)",
    "left": "10px",
    "top": "150px",
    "width": "304.475px"
   },
   "toc_section_display": true,
   "toc_window_display": false
  }
 },
 "nbformat": 4,
 "nbformat_minor": 1
}
