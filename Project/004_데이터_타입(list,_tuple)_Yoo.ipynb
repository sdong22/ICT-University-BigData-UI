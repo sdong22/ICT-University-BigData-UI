{
 "cells": [
  {
   "cell_type": "markdown",
   "metadata": {
    "id": "fVhokbBrmM-9"
   },
   "source": [
    "# 연속형 데이터 (Sequential Data Types)"
   ]
  },
  {
   "cell_type": "markdown",
   "metadata": {
    "id": "iWpDgJrpmM_D"
   },
   "source": [
    "**Q. 숫자 100개를 한번에 다루려고 한다. <=> 하나의 변수에 숫자 100개를 저장하고 싶다. 어떻게 해야할까?**\n",
    "\n",
    "*A. 연속형 데이터 타입을 사용하자!*"
   ]
  },
  {
   "cell_type": "markdown",
   "metadata": {
    "id": "7ej5csX_mM_E"
   },
   "source": [
    " "
   ]
  },
  {
   "cell_type": "markdown",
   "metadata": {
    "id": "QCa-Exm0mM_F"
   },
   "source": [
    "* 연속형 데이터란, 하나의 변수가 하나의 데이터를 가지고 있던 숫자형 데이터와 달리, 여러개의 데이터를 하나의 변수에 가지고 있는 데이터 타입이다.\n",
    "\n",
    "\n",
    "* 연속형 데이터 타입에는 list, tuple, set, dict(dictionary), str(string)이 있다. (문자열을 문자들의 나열로 인식하기 때문에, 연속형 데이터이다.)\n",
    "\n",
    "\n",
    "* 연속형 데이터의 크기 제한은 없다. 하지만, 사용하는 컴퓨터의 가용 메모리 용량을 인지하며 사용해야 한다.\n",
    "\n",
    "\n",
    "* 각 연속형 데이터 타입마다 특징이 다르다. 그 특징을 파악하여 용도에 맞는 데이터 타입을 사용하는 것이 중요하다."
   ]
  },
  {
   "cell_type": "markdown",
   "metadata": {
    "id": "lkvSMntxmM_F"
   },
   "source": [
    "# 1. 리스트(list)\n",
    "\n",
    "\n",
    "* 가장 많이 사용되는 연속형 데이터 타입이자, 굉장히 유연한 구조를 가지고 있어 대부분의 데이터를 편하게 다룰 수 있다.\n",
    "\n",
    "\n",
    "* 파이썬에서 <kbd>[</kbd> 와 <kbd>]</kbd>를 이용하여 표현한다. a = [1, 2, 3]\n",
    "\n",
    "\n",
    "* 리스트의 원소는 쉼표로 구분되며, 리스트의 원소(요소, 값..)는 아무 데이터 타입이나 가능하다. 리스트조차 가능하다.\n",
    "\n",
    "\n",
    "* 리스트를 이용하면 파이썬에서 다루는 대부분의 데이터는 아무 무리없이 다룰 수 있다. 하지만 수정이 자유롭기 때문에 수정을 하면 안되는 경우에는 사용하면 안된다."
   ]
  },
  {
   "cell_type": "markdown",
   "metadata": {
    "id": "745buHsBmM_G"
   },
   "source": [
    "## 1.1 리스트를 만드는 방법"
   ]
  },
  {
   "cell_type": "code",
   "execution_count": 4,
   "metadata": {
    "id": "hATM0incmM_G"
   },
   "outputs": [
    {
     "data": {
      "text/plain": [
       "[]"
      ]
     },
     "execution_count": 4,
     "metadata": {},
     "output_type": "execute_result"
    }
   ],
   "source": [
    "list_a = [10, 20, 30, 40, 50]\n",
    "list_a\n",
    "\n",
    "# 빈 리스트 _ver1\n",
    "list_b = []  \n",
    "list_b\n",
    "type(list_b)\n",
    "\n",
    "# 빈 리스트_ ver2\n",
    "list_c = list()\n",
    "list_c"
   ]
  },
  {
   "cell_type": "code",
   "execution_count": 7,
   "metadata": {},
   "outputs": [
    {
     "data": {
      "text/plain": [
       "[[1, 2], [3, 4]]"
      ]
     },
     "execution_count": 7,
     "metadata": {},
     "output_type": "execute_result"
    }
   ],
   "source": [
    "# 리스트에는 다양한 타입의 원소를 포함할 수 있다.\n",
    "list_d = [1, 2, 'Hello', 3.14, [10, 20, 30]]\n",
    "list_d\n",
    "\n",
    "list_e = [[1,2],\n",
    "         [3,4]]\n",
    "list_e"
   ]
  },
  {
   "cell_type": "markdown",
   "metadata": {
    "id": "xA37ZUUkmM_H"
   },
   "source": [
    "### 1.1.1  Indexing (**) "
   ]
  },
  {
   "cell_type": "markdown",
   "metadata": {
    "id": "wQKlPuM8mM_H"
   },
   "source": [
    "- 연속형 데이터들은 하나의 변수에 여러가지 데이터를 가지기 때문에 여러 데이터를 접근하는 방법이 필요하다.\n",
    "\n",
    "\n",
    "- 이를 위해 indexing이라는 기법이 있다. 말그대로 index를 통해 접근(access)하는 방법이다.\n",
    "\n",
    "\n",
    "- 리스트의 index는 맨 앞부터 0으로 시작하며, 1씩 증가하는 정수 index를 사용한다.\n",
    "\n",
    "\n",
    "- list_a = [ 10, 20, 30, 40, 50 ] 이면 첫번째 원소는 index가 0이고, 두번째 원소는 index가 1이다.\n",
    "\n",
    " \n",
    "- 파이썬에서는 음수 index도 제공하는데, 이는 뒤쪽부터 접근할 수 있는 방법이다. \n",
    "\n",
    "\n",
    "- 뒤에서 첫번째(맨 마지막)원소는 index가 -1이고, 뒤에서 두번째 원소는 index가 -2이다.\n",
    "\n",
    "\n",
    "- index를 통해 접근하는 방법은 해당 변수이름에 []를 사용하며, []안에 index를 넣어서 접근할 수 있다.\n",
    "\n",
    "\n",
    "| 10 | 20 | 30 | 40 | 50 | \n",
    "| ---- | ---- | ---- | ---- | ---- |\n",
    "|  [0] |  [1] |  [2] |  [3] |  [4] | \n",
    "|  [-5] |  [-4] |  [-3] |  [-2] |  [-1] | "
   ]
  },
  {
   "cell_type": "code",
   "execution_count": 14,
   "metadata": {
    "id": "nM7PjNZumM_H"
   },
   "outputs": [
    {
     "name": "stdout",
     "output_type": "stream",
     "text": [
      "10\n",
      "50\n",
      "50\n",
      "50\n",
      "50\n"
     ]
    }
   ],
   "source": [
    "list_a = [10, 20, 30, 40, 50]\n",
    "list_a\n",
    "\n",
    "#첫번째 원소\n",
    "print(list_a[0])\n",
    "\n",
    "#다섯번째 원소\n",
    "print(list_a[4])\n",
    "print(list_a[-1])\n",
    "\n",
    "#리스트의 마지막원소\n",
    "print(list_a[-1])\n",
    "print(list_a[len(list_a)-1])"
   ]
  },
  {
   "cell_type": "code",
   "execution_count": 16,
   "metadata": {},
   "outputs": [
    {
     "data": {
      "text/plain": [
       "40"
      ]
     },
     "execution_count": 16,
     "metadata": {},
     "output_type": "execute_result"
    }
   ],
   "source": [
    "# 연산\n",
    "list_a[0]+list_a[2]"
   ]
  },
  {
   "cell_type": "code",
   "execution_count": 20,
   "metadata": {},
   "outputs": [
    {
     "data": {
      "text/plain": [
       "8"
      ]
     },
     "execution_count": 20,
     "metadata": {},
     "output_type": "execute_result"
    }
   ],
   "source": [
    "list_b = [1, 2, [3, 4], 5, [6, 7, 8]]\n",
    "list_b\n",
    "\n",
    "# 3 indexing\n",
    "list_b[2][0]\n",
    "\n",
    "# 8 \n",
    "list_b[len(list_b)-1][2]\n",
    "list_b[4][2]"
   ]
  },
  {
   "cell_type": "markdown",
   "metadata": {
    "id": "1vzSYu7amM_I"
   },
   "source": [
    "### 1.1.2 Slicing (**) "
   ]
  },
  {
   "cell_type": "markdown",
   "metadata": {
    "id": "912JAn_umM_I"
   },
   "source": [
    "**슬라이싱은 리스트에서 뿐만 아니라, 리스트와 비슷한 구조인 numpy array와 pandas series, dataframe에서도 많이 이용되니 꼭 알아두어야 한다.**\n",
    "\n",
    "- 슬라이싱은 리스트의 일부분만 잘라낸다는 의미이다. (말그대로 슬라이싱)\n",
    "\n",
    "\n",
    "- 리스트의 일부만 사용하고 싶을 때 쓰는 기법이며, indexing을 범위로 하는 느낌이다.\n",
    "\n",
    "\n",
    "- 리스트의 index와 <kbd>:</kbd>를 사용하여 슬라이싱을 할 수 있다.\n",
    "\n",
    "\n",
    "- 리스트[시작인덱스 : 끝인덱스+1 : 증가값)\n",
    "\n",
    "\n",
    "- list_a = [10, 20, 30, 40]일때list_a[0:2:1]는 [10, 20]이다."
   ]
  },
  {
   "cell_type": "code",
   "execution_count": 28,
   "metadata": {
    "id": "Jw4NwPLnmM_I"
   },
   "outputs": [
    {
     "name": "stdout",
     "output_type": "stream",
     "text": [
      "[10, 20]\n",
      "[10, 20]\n",
      "[10, 20]\n"
     ]
    }
   ],
   "source": [
    "list_a = [10, 20, 30, 40, 50]\n",
    "list_a\n",
    "\n",
    "# 0 부터 1 까지 출력\n",
    "print(list_a[0:2:1])\n",
    "print(list_a[0:2])\n",
    "print(list_a[:2])"
   ]
  },
  {
   "cell_type": "code",
   "execution_count": 29,
   "metadata": {},
   "outputs": [
    {
     "name": "stdout",
     "output_type": "stream",
     "text": [
      "[30, 40, 50]\n",
      "[30, 40, 50]\n",
      "[30, 40, 50]\n"
     ]
    }
   ],
   "source": [
    "# 2부터 끝까지\n",
    "print(list_a[2:len(list_a):1])\n",
    "print(list_a[2:len(list_a)])\n",
    "print(list_a[2:])"
   ]
  },
  {
   "cell_type": "code",
   "execution_count": 35,
   "metadata": {},
   "outputs": [
    {
     "name": "stdout",
     "output_type": "stream",
     "text": [
      "[1, 2, 3, 4, 5, 6, 7, 8, 9]\n",
      "[1, 3, 5, 7, 9]\n",
      "[1, 3, 5, 7, 9]\n",
      "[2, 4, 6, 8]\n"
     ]
    }
   ],
   "source": [
    "list_b = [1, 2, 3, 4, 5, 6, 7, 8, 9]\n",
    "print(list_b)\n",
    "\n",
    "# 홀수만\n",
    "print(list_b[0:len(list_b):2])\n",
    "print(list_b[::2])              # >> 생략 가능\n",
    "# 짝수만\n",
    "print(list_b[1::2])"
   ]
  },
  {
   "cell_type": "markdown",
   "metadata": {
    "id": "rf2yWbl7mM_I"
   },
   "source": [
    "## 1.2 리스트 연산하기 "
   ]
  },
  {
   "cell_type": "markdown",
   "metadata": {
    "id": "SaHkUs0smM_I"
   },
   "source": [
    "> 문자열때와 마찬가지로, 리스트도 더하기, 곱하기 연산이 존재한다. 어떤 의미일지 생각해보자."
   ]
  },
  {
   "cell_type": "markdown",
   "metadata": {
    "id": "M7JsZVxImM_J"
   },
   "source": [
    "### 1.2.1 리스트 더하기  -> 연결"
   ]
  },
  {
   "cell_type": "code",
   "execution_count": 37,
   "metadata": {
    "id": "GR65qzoKmM_J"
   },
   "outputs": [
    {
     "data": {
      "text/plain": [
       "[10, 20, 30, 40, 50, 60]"
      ]
     },
     "execution_count": 37,
     "metadata": {},
     "output_type": "execute_result"
    }
   ],
   "source": [
    "list_a = [10, 20, 30]\n",
    "list_b = [40, 50, 60]  \n",
    "list_a + list_b       # >> list 의 값이 변하는건 아님"
   ]
  },
  {
   "cell_type": "markdown",
   "metadata": {
    "id": "IUBVI5tImM_J"
   },
   "source": [
    "- 리스트명.extend(추가할 리스트)"
   ]
  },
  {
   "cell_type": "code",
   "execution_count": 38,
   "metadata": {
    "id": "m5eGwx6QmM_J"
   },
   "outputs": [
    {
     "name": "stdout",
     "output_type": "stream",
     "text": [
      "[10, 20, 30]\n",
      "[10, 20, 30, 60, 70]\n"
     ]
    }
   ],
   "source": [
    "list_a = [10, 20, 30]\n",
    "print(list_a)\n",
    "\n",
    "list_a.extend([60, 70])   # >> list_a의 값이 변함\n",
    "print(list_a)"
   ]
  },
  {
   "cell_type": "markdown",
   "metadata": {
    "id": "VYqH_ALymM_J"
   },
   "source": [
    "### 1.2.2 리스트 곱하기 -> 반복"
   ]
  },
  {
   "cell_type": "code",
   "execution_count": 39,
   "metadata": {
    "id": "dwROJEFWmM_K"
   },
   "outputs": [
    {
     "data": {
      "text/plain": [
       "[10, 20, 30, 60, 70, 10, 20, 30, 60, 70, 10, 20, 30, 60, 70]"
      ]
     },
     "execution_count": 39,
     "metadata": {},
     "output_type": "execute_result"
    }
   ],
   "source": [
    "list_a*3"
   ]
  },
  {
   "cell_type": "markdown",
   "metadata": {
    "id": "Tnq2ZTZbmM_K"
   },
   "source": [
    "### 1.2.3 리스트 수정하기 "
   ]
  },
  {
   "cell_type": "code",
   "execution_count": 41,
   "metadata": {
    "id": "Aqoa4Go7mM_K"
   },
   "outputs": [
    {
     "data": {
      "text/plain": [
       "[1000, 20, 30, 60, 70]"
      ]
     },
     "execution_count": 41,
     "metadata": {},
     "output_type": "execute_result"
    }
   ],
   "source": [
    "list_a[0] = 1000\n",
    "list_a\n",
    "\n",
    "# 리스트는 수정가능\n",
    "# 수정이 안되는 함수들도 있음"
   ]
  },
  {
   "cell_type": "markdown",
   "metadata": {
    "id": "Q9UhnlgYmM_K"
   },
   "source": [
    "## 1.3 리스트 관련 함수"
   ]
  },
  {
   "cell_type": "markdown",
   "metadata": {
    "id": "lFRXQ5VHmM_K"
   },
   "source": [
    "### 1.3.1 리스트에 원소 추가하기 : \n",
    "- 리스트명.append(값)\n",
    "- 리스트명.insert(인덱스, 값)"
   ]
  },
  {
   "cell_type": "code",
   "execution_count": 42,
   "metadata": {
    "id": "iLSmgSZ-mM_K"
   },
   "outputs": [
    {
     "data": {
      "text/plain": [
       "[10, 20, 30, 40, 50]"
      ]
     },
     "execution_count": 42,
     "metadata": {},
     "output_type": "execute_result"
    }
   ],
   "source": [
    "list_a = []\n",
    "list_a.append(10)\n",
    "list_a.append(20)\n",
    "list_a.append(30)\n",
    "list_a.append(40)\n",
    "list_a.append(50)\n",
    "list_a"
   ]
  },
  {
   "cell_type": "code",
   "execution_count": 44,
   "metadata": {},
   "outputs": [
    {
     "data": {
      "text/plain": [
       "[10, 20, 30, 100, 40, 50]"
      ]
     },
     "execution_count": 44,
     "metadata": {},
     "output_type": "execute_result"
    }
   ],
   "source": [
    "list_a = [10, 20, 30, 40, 50]\n",
    "list_a.insert(3, 100)    # insert(a,b) : 삽입 _ index[a] 자리에 b를 삽입\n",
    "list_a"
   ]
  },
  {
   "cell_type": "code",
   "execution_count": 48,
   "metadata": {},
   "outputs": [
    {
     "data": {
      "text/plain": [
       "[10, 20, 30, 100, 100, 100, 100, 100, 40, 50]"
      ]
     },
     "execution_count": 48,
     "metadata": {},
     "output_type": "execute_result"
    }
   ],
   "source": [
    "list_a.insert(3, 100)\n",
    "list_a"
   ]
  },
  {
   "cell_type": "markdown",
   "metadata": {
    "id": "PLnnyLRomM_L"
   },
   "source": [
    "### 1.3.2 리스트에 원소 삭제하기 \n",
    "\n",
    "- 리스트명.remove(값)\n",
    "- del(리스트명[인덱스])\n",
    "- 리스트명.pop(인덱스), 리스트명.pop()\n",
    "- 리스트.clear() : 모두 제거"
   ]
  },
  {
   "cell_type": "code",
   "execution_count": 54,
   "metadata": {
    "id": "npIwXG_qmM_L"
   },
   "outputs": [
    {
     "name": "stdout",
     "output_type": "stream",
     "text": [
      "[10, 20, 30, 50, 60, 70, 80, 90]\n",
      "[20, 30, 50, 60, 70, 80, 90]\n",
      "[20, 30, 60, 70, 80, 90]\n",
      "[20, 30, 60, 70, 80]\n",
      "[]\n"
     ]
    }
   ],
   "source": [
    "list_c = [10, 20, 30, 40, 50, 60, 70, 80, 90]  # >> 직접 다 안 치고 for문, append 돌려서 만들 수 있음\n",
    "\n",
    "# 값을 알고 있을 경우\n",
    "list_c.remove(40)\n",
    "print(list_c)\n",
    "\n",
    "# index를 알고 있을 경우 > 더 많이 쓰임\n",
    "del(list_c[0])\n",
    "print(list_c)\n",
    "\n",
    "list_c.pop(2)\n",
    "print(list_c)\n",
    "\n",
    "list_c.pop()   # >> .pop() : 맨 끝값 삭제\n",
    "print(list_c)\n",
    "\n",
    "list_c.clear()  # >> .clear() : 안의 값들을 전부 비워줌\n",
    "print(list_c)"
   ]
  },
  {
   "cell_type": "code",
   "execution_count": 74,
   "metadata": {},
   "outputs": [
    {
     "name": "stdout",
     "output_type": "stream",
     "text": [
      "[10, 20, 30, 40, 50, 60, 70, 80, 90]\n"
     ]
    }
   ],
   "source": [
    "# 리스트 만들기\n",
    "# >> 직접 다 안 치고 for문, append 돌려서 만들 수 있음\n",
    "\n",
    "list_c = []\n",
    "\n",
    "for i in range(10,100,10) :\n",
    "    list_c.append(i)\n",
    "print(list_c)"
   ]
  },
  {
   "cell_type": "markdown",
   "metadata": {
    "id": "c3-Eh8nYmM_L"
   },
   "source": [
    "### 1.3.3 리스트 원소 정렬하기 : 리스트명.sort() "
   ]
  },
  {
   "cell_type": "code",
   "execution_count": 37,
   "metadata": {
    "id": "EO8scuC4mM_L"
   },
   "outputs": [
    {
     "name": "stdout",
     "output_type": "stream",
     "text": [
      "[10, 50, 40, 70, 20]\n",
      "[10, 20, 40, 50, 70]\n",
      "[70, 50, 40, 20, 10]\n"
     ]
    }
   ],
   "source": [
    "list_d = [10, 50, 40, 70, 20]\n",
    "print(list_d)\n",
    "\n",
    "# 오름차순 정렬 (작은 수 부터)\n",
    "list_d.sort()\n",
    "print(list_d)\n",
    "\n",
    "# 내림차순 정렬 (큰 수 부터)\n",
    "list_d = [10, 50, 40, 70, 20]\n",
    "list_d.sort(reverse=True)      # 기본값은 reverse = False :오름차순\n",
    "print(list_d)\n",
    "\n",
    "\n",
    "list_d.sort(reverse=True)"
   ]
  },
  {
   "cell_type": "code",
   "execution_count": 69,
   "metadata": {},
   "outputs": [
    {
     "name": "stdout",
     "output_type": "stream",
     "text": [
      "1번째 수 : 36\n",
      "2번째 수 : 234\n",
      "3번째 수 : 54\n",
      "4번째 수 : 3\n",
      "5번째 수 : 6\n",
      "입력받은 데이터 :  [36, 234, 54, 3, 6]\n",
      "정렬결과 :  [3, 6, 36, 54, 234]\n"
     ]
    }
   ],
   "source": [
    "# 5개의 숫자를 입력받아서 오름차순으로 정렬하기\n",
    "# ver_1\n",
    "\n",
    "a = []\n",
    "\n",
    "for i in range(1, 6, 1) :\n",
    "    a.append(int(input('{}번째 수 : '.format(i))))\n",
    "\n",
    "print('입력받은 데이터 : ', a)\n",
    "a.sort()\n",
    "print('정렬결과 : ', a)"
   ]
  },
  {
   "cell_type": "code",
   "execution_count": 67,
   "metadata": {},
   "outputs": [
    {
     "name": "stdout",
     "output_type": "stream",
     "text": [
      "8\n",
      "3\n",
      "5\n",
      "4\n",
      "6\n",
      "[3, 4, 5, 6, 8]\n"
     ]
    }
   ],
   "source": [
    "# ver_2\n",
    "\n",
    "a = []\n",
    "\n",
    "for i in range(0, 5, 1) :\n",
    "    a.append(int(input()))\n",
    "\n",
    "a.sort()\n",
    "print(a)"
   ]
  },
  {
   "cell_type": "code",
   "execution_count": 6,
   "metadata": {},
   "outputs": [
    {
     "name": "stdout",
     "output_type": "stream",
     "text": [
      "None [4, 10, 23, 39, 256]\n",
      "[4, 10, 23, 39, 256] [10, 256, 23, 4, 39]\n"
     ]
    }
   ],
   "source": [
    "list_d = [10, 256, 23, 4, 39]\n",
    "\n",
    "a = list_d.sort()              # sort는 원데이터를 바꾸는 함수\n",
    "print(a, list_d)\n",
    "\n",
    "list_d = [10, 256, 23, 4, 39]\n",
    "a = sorted(list_d)             # sorted는 새로운 리스트를 만드는 >> 원본을 유지하고 싶다면 sorted 사용 _ 더 안전 _바뀌면 안되는 값에 이용\n",
    "print(a, list_d)"
   ]
  },
  {
   "cell_type": "markdown",
   "metadata": {
    "id": "hSMkVLdFmM_L"
   },
   "source": [
    "### 1.3.4 리스트 뒤집기(정렬 X) reverse()"
   ]
  },
  {
   "cell_type": "code",
   "execution_count": 8,
   "metadata": {
    "id": "tC2iSW-nmM_L"
   },
   "outputs": [
    {
     "name": "stdout",
     "output_type": "stream",
     "text": [
      "[53, 'hello', 2, 34]\n"
     ]
    }
   ],
   "source": [
    "list_e = [34, 2, 'hello', 53]\n",
    "\n",
    "list_e.reverse()\n",
    "print(list_e)"
   ]
  },
  {
   "cell_type": "markdown",
   "metadata": {
    "id": "YLJ4CNZDmM_M"
   },
   "source": [
    "# 2. 튜플(Tuple)\n",
    "\n",
    "- tuple은 list과 거의 같다.\n",
    "\n",
    "\n",
    "- 거의 같은데, 다른 점이 딱 2가지 있다. 읽기 전용***\n",
    "\n",
    "\n",
    "\n",
    "\n",
    "**1) 리스트는 []를 사용하고, 튜플은 ()을 사용한다.**\n",
    "\n",
    "**2) 리스트는 생성 후에 변경이 가능하고(mutable) 튜플은 생성 후에 변경이 불가능하다.(immutable)**\n",
    "\n",
    " "
   ]
  },
  {
   "cell_type": "code",
   "execution_count": 11,
   "metadata": {
    "id": "p9ASVBxnmM_M"
   },
   "outputs": [
    {
     "data": {
      "text/plain": [
       "tuple"
      ]
     },
     "execution_count": 11,
     "metadata": {},
     "output_type": "execute_result"
    }
   ],
   "source": [
    "my_tuple = (1, 2, 3, 4, 5)\n",
    "type(my_tuple)"
   ]
  },
  {
   "cell_type": "code",
   "execution_count": 12,
   "metadata": {},
   "outputs": [
    {
     "data": {
      "text/plain": [
       "tuple"
      ]
     },
     "execution_count": 12,
     "metadata": {},
     "output_type": "execute_result"
    }
   ],
   "source": [
    "my_tuple = 1, 2, 3, 4, 5       # >> 괄호 생략 가능**\n",
    "type(my_tuple)"
   ]
  },
  {
   "cell_type": "code",
   "execution_count": 14,
   "metadata": {},
   "outputs": [
    {
     "data": {
      "text/plain": [
       "(1, 'Korea', 3.5, 6)"
      ]
     },
     "execution_count": 14,
     "metadata": {},
     "output_type": "execute_result"
    }
   ],
   "source": [
    "a =(1, 'Korea', 3.5, 6)\n",
    "a"
   ]
  },
  {
   "cell_type": "code",
   "execution_count": 15,
   "metadata": {},
   "outputs": [
    {
     "data": {
      "text/plain": [
       "(1, 'Korea', 3.5, (4, 5))"
      ]
     },
     "execution_count": 15,
     "metadata": {},
     "output_type": "execute_result"
    }
   ],
   "source": [
    "a =(1, 'Korea', 3.5, (4, 5))\n",
    "a"
   ]
  },
  {
   "cell_type": "code",
   "execution_count": 16,
   "metadata": {},
   "outputs": [
    {
     "data": {
      "text/plain": [
       "list"
      ]
     },
     "execution_count": 16,
     "metadata": {},
     "output_type": "execute_result"
    }
   ],
   "source": [
    "b = [3]\n",
    "type(b)"
   ]
  },
  {
   "cell_type": "code",
   "execution_count": 3,
   "metadata": {},
   "outputs": [
    {
     "name": "stdout",
     "output_type": "stream",
     "text": [
      "<class 'int'>\n",
      "<class 'tuple'>\n",
      "(3,)\n"
     ]
    }
   ],
   "source": [
    "b = (3)\n",
    "print(type(b))\n",
    "\n",
    "b = (3, )   # >> 요소 하나인 튜플 생성 방법\n",
    "print(type(b))\n",
    "print(b)"
   ]
  },
  {
   "cell_type": "code",
   "execution_count": 19,
   "metadata": {},
   "outputs": [
    {
     "data": {
      "text/plain": [
       "10"
      ]
     },
     "execution_count": 19,
     "metadata": {},
     "output_type": "execute_result"
    }
   ],
   "source": [
    "my_tuple = 1,4,5,10\n",
    "\n",
    "my_tuple[-1]      # >> 인덱스로 접근 가능"
   ]
  },
  {
   "cell_type": "code",
   "execution_count": 20,
   "metadata": {},
   "outputs": [
    {
     "ename": "TypeError",
     "evalue": "'tuple' object does not support item assignment",
     "output_type": "error",
     "traceback": [
      "\u001b[1;31m---------------------------------------------------------------------------\u001b[0m",
      "\u001b[1;31mTypeError\u001b[0m                                 Traceback (most recent call last)",
      "\u001b[1;32m<ipython-input-20-a4676a524503>\u001b[0m in \u001b[0;36m<module>\u001b[1;34m\u001b[0m\n\u001b[1;32m----> 1\u001b[1;33m \u001b[0mmy_tuple\u001b[0m\u001b[1;33m[\u001b[0m\u001b[1;36m0\u001b[0m\u001b[1;33m]\u001b[0m \u001b[1;33m=\u001b[0m \u001b[1;36m100\u001b[0m\u001b[1;33m\u001b[0m\u001b[1;33m\u001b[0m\u001b[0m\n\u001b[0m",
      "\u001b[1;31mTypeError\u001b[0m: 'tuple' object does not support item assignment"
     ]
    }
   ],
   "source": [
    "my_tuple[0] = 100   # >> 변경 불가능"
   ]
  },
  {
   "cell_type": "code",
   "execution_count": 21,
   "metadata": {},
   "outputs": [
    {
     "ename": "AttributeError",
     "evalue": "'tuple' object has no attribute 'append'",
     "output_type": "error",
     "traceback": [
      "\u001b[1;31m---------------------------------------------------------------------------\u001b[0m",
      "\u001b[1;31mAttributeError\u001b[0m                            Traceback (most recent call last)",
      "\u001b[1;32m<ipython-input-21-3821f70f7de3>\u001b[0m in \u001b[0;36m<module>\u001b[1;34m\u001b[0m\n\u001b[1;32m----> 1\u001b[1;33m \u001b[0mmy_tuple\u001b[0m\u001b[1;33m.\u001b[0m\u001b[0mappend\u001b[0m\u001b[1;33m(\u001b[0m\u001b[1;36m1\u001b[0m\u001b[1;33m)\u001b[0m\u001b[1;33m\u001b[0m\u001b[1;33m\u001b[0m\u001b[0m\n\u001b[0m",
      "\u001b[1;31mAttributeError\u001b[0m: 'tuple' object has no attribute 'append'"
     ]
    }
   ],
   "source": [
    "my_tuple.append(1)"
   ]
  },
  {
   "cell_type": "code",
   "execution_count": 22,
   "metadata": {},
   "outputs": [
    {
     "ename": "AttributeError",
     "evalue": "'tuple' object has no attribute 'remove'",
     "output_type": "error",
     "traceback": [
      "\u001b[1;31m---------------------------------------------------------------------------\u001b[0m",
      "\u001b[1;31mAttributeError\u001b[0m                            Traceback (most recent call last)",
      "\u001b[1;32m<ipython-input-22-a758ee8a403e>\u001b[0m in \u001b[0;36m<module>\u001b[1;34m\u001b[0m\n\u001b[1;32m----> 1\u001b[1;33m \u001b[0mmy_tuple\u001b[0m\u001b[1;33m.\u001b[0m\u001b[0mremove\u001b[0m\u001b[1;33m(\u001b[0m\u001b[1;36m1\u001b[0m\u001b[1;33m)\u001b[0m\u001b[1;33m\u001b[0m\u001b[1;33m\u001b[0m\u001b[0m\n\u001b[0m",
      "\u001b[1;31mAttributeError\u001b[0m: 'tuple' object has no attribute 'remove'"
     ]
    }
   ],
   "source": [
    "my_tuple.remove(1)"
   ]
  },
  {
   "cell_type": "code",
   "execution_count": 30,
   "metadata": {},
   "outputs": [
    {
     "name": "stdout",
     "output_type": "stream",
     "text": [
      "('a', 'b') 2051578699264\n",
      "Hello 2051575208560\n"
     ]
    }
   ],
   "source": [
    "my_tuple = ('a', 'b')\n",
    "print(my_tuple, id(my_tuple))\n",
    "\n",
    "my_tuple = 'A', 'B'\n",
    "my_tuple = 'Hello'\n",
    "print(my_tuple, id(my_tuple))"
   ]
  },
  {
   "cell_type": "code",
   "execution_count": 5,
   "metadata": {},
   "outputs": [
    {
     "name": "stdout",
     "output_type": "stream",
     "text": [
      "100 200 hello\n",
      "100\n"
     ]
    },
    {
     "data": {
      "text/plain": [
       "int"
      ]
     },
     "execution_count": 5,
     "metadata": {},
     "output_type": "execute_result"
    }
   ],
   "source": [
    "# tuple unpacking\n",
    "a, b, c = (100, 200, 'hello')   # 괄호 없어도 됨\n",
    "print(a, b, c)\n",
    "print(a)\n",
    "\n",
    "type(a)"
   ]
  }
 ],
 "metadata": {
  "colab": {
   "name": "004. 데이터 타입(list, tuple)_before.ipynb",
   "provenance": []
  },
  "kernelspec": {
   "display_name": "Python 3",
   "language": "python",
   "name": "python3"
  },
  "language_info": {
   "codemirror_mode": {
    "name": "ipython",
    "version": 3
   },
   "file_extension": ".py",
   "mimetype": "text/x-python",
   "name": "python",
   "nbconvert_exporter": "python",
   "pygments_lexer": "ipython3",
   "version": "3.8.8"
  },
  "toc": {
   "base_numbering": 1,
   "nav_menu": {},
   "number_sections": false,
   "sideBar": true,
   "skip_h1_title": false,
   "title_cell": "Table of Contents",
   "title_sidebar": "Contents",
   "toc_cell": false,
   "toc_position": {
    "height": "calc(100% - 180px)",
    "left": "10px",
    "top": "150px",
    "width": "203px"
   },
   "toc_section_display": true,
   "toc_window_display": false
  }
 },
 "nbformat": 4,
 "nbformat_minor": 1
}
